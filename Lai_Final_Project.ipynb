{
 "cells": [
  {
   "cell_type": "markdown",
   "metadata": {},
   "source": [
    "## The Three Point Line: Adapt to the new style of play or fall behind"
   ]
  },
  {
   "cell_type": "markdown",
   "metadata": {},
   "source": [
    "We see the success of the three-point line in the recent years with the uprising of NBA teams like the Golden State Warriors, Houston Rockets, even LeBron James had the Cleveland Cavaliers roster completely revamped halfway during the season to include multiple deadly three point shooters. Not only has the three-point line assisted these teams, but we see crazy records being broken, like Stephen Curry's 402 threes in the 2015-2016 season, the same season he held the title of unanimous MVP for the first time in NBA history. Stephen Curry isn't the only player to be recognized for his amazing shooting, other players like James Harden, Klay Thompson, Kevin Durant, and many others are all in talks about their shooting revolutionizing the game of basketball as we know it. Even players that are known for their athleticism, seem to be shying away from taking the ball all the way to the rack, and instead looking to find ways to extend their range, and shooting the three ball.It seems like nowadays the game of basketball is centered around the three-point line. What I want to tackle in this project, is how exactly has the three-point line changed the game of basketball. Is the team that makes the most threes the one that eventually ends up winning? Are teams being forced to adapt to this playstyle? Does shooting threes allow for an increase in other stats, like rebounds and assists? Does the ability to make threes make you a more valuable player to your team? All these questions I hope to answer with the figures and datasets that I choose to present. "
   ]
  },
  {
   "cell_type": "code",
   "execution_count": 2,
   "metadata": {
    "collapsed": true
   },
   "outputs": [],
   "source": [
    "import pandas as pd\n",
    "import matplotlib.pyplot as plt\n",
    "import numpy as np"
   ]
  },
  {
   "cell_type": "code",
   "execution_count": 3,
   "metadata": {
    "collapsed": true
   },
   "outputs": [],
   "source": [
    "nba = pd.read_csv('Seasons_Stats.csv')"
   ]
  },
  {
   "cell_type": "code",
   "execution_count": 4,
   "metadata": {
    "collapsed": true
   },
   "outputs": [],
   "source": [
    "nba_sorted = nba[[\"Year\",\"Player\",\"Age\",\"G\",\"PTS\",\"FG\",\"FGA\",\"3P\",\"3PA\",\"2P\",\"2PA\",\"FT\",\"FTA\",\"FT%\",\"PER\",\"TS%\",\"3PAr\",\"FTr\",\"ORB\",\"DRB\",\"TRB\",\"AST\",\"WS\",\"STL\",\"BLK\",\"TOV\"]]"
   ]
  },
  {
   "cell_type": "code",
   "execution_count": 5,
   "metadata": {
    "collapsed": true
   },
   "outputs": [],
   "source": [
    "nba_sorted = nba_sorted.set_index([\"Player\"])"
   ]
  },
  {
   "cell_type": "markdown",
   "metadata": {},
   "source": [
    "At first, I wanted to do analyze these stats with only player's efficiencies, but I realized that stats mean absolutely nothing to organizations and players(unless you're Russell Westbrook), and what these teams and players want the most are wins. In the initial csv, there lacked the data that I wanted so I decided to turn to data that provided me with the stats that the teams come up with alongside the number of wins they get per season. This would be the best way to be able to compare the utilization of the 3 point line and how successful it makes a team."
   ]
  },
  {
   "cell_type": "code",
   "execution_count": 6,
   "metadata": {
    "collapsed": true
   },
   "outputs": [],
   "source": [
    "teams = [\"ATL\",\"NJN\",\"BOS\",\"CHA\",\"CHI\",\"CLE\",\"DAL\",\"DEN\", \"DET\",\"GSW\", \"HOU\",\"IND\",\"LAC\",\"LAL\",\"MEM\",\"MIA\",\"MIL\",\"MIN\",\"NOH\",\"NYK\",\"OKC\",\"ORL\",\"PHI\",\"PHO\",\"POR\",\"SAC\",\"SAS\",\"TOR\",\"UTA\",\"WAS\"]\n",
    "\n",
    "urls = []\n",
    "\n",
    "for team in teams:\n",
    "    urls.append(\"http://www.basketball-reference.com/teams/\" + team + \"/stats_basic_totals.html\")"
   ]
  },
  {
   "cell_type": "code",
   "execution_count": 10,
   "metadata": {
    "collapsed": true,
    "scrolled": true
   },
   "outputs": [],
   "source": [
    "from bs4 import BeautifulSoup\n",
    "from requests import get\n",
    "dfs = []\n",
    "for url in urls:\n",
    "    team_data = get(url)\n",
    "    soup = BeautifulSoup(team_data.content, 'html.parser')\n",
    "    table = soup.findAll('table')[0]\n",
    "\n",
    "    columns = table.findAll('thead')[0].findAll('th')\n",
    "    headers = []\n",
    "    for column in columns:\n",
    "        header = column.getText().strip()\n",
    "        if (len(header) > 0):\n",
    "            headers.append(header)\n",
    "    rows = table.findAll('tbody')[0].findAll('tr')\n",
    "    team = []\n",
    "    for row in rows[0:6]:\n",
    "        season = row.findAll('th')[0].getText()\n",
    "        cells = row.findAll('td')\n",
    "        data = [season]\n",
    "        for cell in cells:\n",
    "            c = cell.getText().strip()\n",
    "            if (len(c) > 0):\n",
    "                data.append(c)\n",
    "        \n",
    "        team.append(data)\n",
    "    \n",
    "    df = pd.DataFrame(columns=headers, data=team)\n",
    "    dfs.append(df)"
   ]
  },
  {
   "cell_type": "code",
   "execution_count": 61,
   "metadata": {},
   "outputs": [
    {
     "name": "stderr",
     "output_type": "stream",
     "text": [
      "/Users/ryanlai/anaconda3/lib/python3.6/site-packages/ipykernel_launcher.py:5: SettingWithCopyWarning:\n",
      "\n",
      "\n",
      "A value is trying to be set on a copy of a slice from a DataFrame.\n",
      "Try using .loc[row_indexer,col_indexer] = value instead\n",
      "\n",
      "See the caveats in the documentation: http://pandas.pydata.org/pandas-docs/stable/indexing.html#indexing-view-versus-copy\n",
      "\n",
      "/Users/ryanlai/anaconda3/lib/python3.6/site-packages/ipykernel_launcher.py:6: SettingWithCopyWarning:\n",
      "\n",
      "\n",
      "A value is trying to be set on a copy of a slice from a DataFrame.\n",
      "Try using .loc[row_indexer,col_indexer] = value instead\n",
      "\n",
      "See the caveats in the documentation: http://pandas.pydata.org/pandas-docs/stable/indexing.html#indexing-view-versus-copy\n",
      "\n",
      "/Users/ryanlai/anaconda3/lib/python3.6/site-packages/ipykernel_launcher.py:7: SettingWithCopyWarning:\n",
      "\n",
      "\n",
      "A value is trying to be set on a copy of a slice from a DataFrame.\n",
      "Try using .loc[row_indexer,col_indexer] = value instead\n",
      "\n",
      "See the caveats in the documentation: http://pandas.pydata.org/pandas-docs/stable/indexing.html#indexing-view-versus-copy\n",
      "\n",
      "/Users/ryanlai/anaconda3/lib/python3.6/site-packages/ipykernel_launcher.py:8: SettingWithCopyWarning:\n",
      "\n",
      "\n",
      "A value is trying to be set on a copy of a slice from a DataFrame.\n",
      "Try using .loc[row_indexer,col_indexer] = value instead\n",
      "\n",
      "See the caveats in the documentation: http://pandas.pydata.org/pandas-docs/stable/indexing.html#indexing-view-versus-copy\n",
      "\n"
     ]
    },
    {
     "name": "stdout",
     "output_type": "stream",
     "text": [
      "  Season   Tm   W   L   3PA   3P%   FGA   Win/Loss       3PA%\n",
      "0   2017  ATL  24  58  2544  36.0  7014  29.268293  36.270317\n",
      "1   2016  ATL  43  39  2137  34.1  6918  52.439024  30.890431\n",
      "2   2015  ATL  48  34  2326  35.0  6923  58.536585  33.598151\n",
      "3   2014  ATL  60  22  2152  38.0  6699  73.170732  32.124198\n",
      "4   2013  ATL  38  44  2116  36.3  6688  46.341463  31.638756\n",
      "5   2012  ATL  44  38  1901  37.1  6644  53.658537  28.612282\n",
      "  Season   Tm   W   L   3PA   3P%   FGA   Win/Loss       3PA%\n",
      "0   2017  BRK  28  54  2924  35.6  7114  34.146341  41.102052\n",
      "1   2016  BRK  20  62  2591  33.8  6987  24.390244  37.083154\n",
      "2   2015  BRK  21  61  1508  35.2  6920  25.609756  21.791908\n",
      "3   2014  BRK  38  44  1633  33.1  6804  46.341463  24.000588\n",
      "4   2013  BRK  44  38  1922  36.9  6391  53.658537  30.073541\n",
      "5   2012  BRK  49  33  1760  35.7  6544  59.756098  26.894866\n",
      "  Season   Tm   W   L   3PA   3P%   FGA   Win/Loss       3PA%\n",
      "0   2017  BOS  55  27  2492  37.7  6975  67.073171  35.727599\n",
      "1   2016  BOS  53  29  2742  35.9  6978  64.634146  39.294927\n",
      "2   2015  BOS  48  34  2142  33.5  7318  58.536585  29.270292\n",
      "3   2014  BOS  40  42  2021  32.7  7211  48.780488  28.026626\n",
      "4   2013  BOS  25  57  1729  33.3  6883  30.487805  25.119861\n",
      "5   2012  BOS  41  40  1390  35.8  6459  50.617284  21.520359\n",
      "  Season   Tm   W   L   3PA   3P%   FGA   Win/Loss       3PA%\n",
      "0   2017  CHO  36  46  2233  36.9  7106  43.902439  31.424149\n",
      "1   2016  CHO  36  46  2347  35.1  7000  43.902439  33.528571\n",
      "2   2015  CHO  48  34  2410  36.2  6922  58.536585  34.816527\n",
      "3   2014  CHO  33  49  1566  31.8  6932  40.243902  22.590883\n",
      "4   2013  CHA  43  39  1471  35.1  6730  52.439024  21.857355\n",
      "5   2012  CHA  21  61  1399  33.5  6649  25.609756  21.040758\n",
      "  Season   Tm   W   L   3PA   3P%   FGA   Win/Loss       3PA%\n",
      "0   2017  CHI  27  55  2550  35.5  7286  32.926829  34.998628\n",
      "1   2016  CHI  41  41  1831  34.0  7141  50.000000  25.640667\n",
      "2   2015  CHI  42  40  1753  37.1  7170  51.219512  24.449093\n",
      "3   2014  CHI  50  32  1825  35.3  6797  60.975610  26.850081\n",
      "4   2013  CHI  48  34  1459  34.8  6577  58.536585  22.183366\n",
      "5   2012  CHI  45  37  1265  35.3  6698  54.878049  18.886235\n",
      "  Season   Tm   W   L   3PA   3P%   FGA   Win/Loss       3PA%\n",
      "0   2017  CLE  50  32  2636  37.2  6950  60.975610  37.928058\n",
      "1   2016  CLE  51  31  2779  38.4  6963  62.195122  39.910958\n",
      "2   2015  CLE  57  25  2428  36.2  6888  69.512195  35.249710\n",
      "3   2014  CLE  53  29  2253  36.7  6739  64.634146  33.432260\n",
      "4   2013  CLE  33  49  1640  35.6  6955  40.243902  23.580158\n",
      "5   2012  CLE  24  58  1581  34.6  6901  29.268293  22.909723\n",
      "  Season   Tm   W   L   3PA   3P%   FGA   Win/Loss       3PA%\n",
      "0   2017  DAL  24  58  2688  36.0  7041  29.268293  38.176395\n",
      "1   2016  DAL  33  49  2473  35.5  6750  40.243902  36.637037\n",
      "2   2015  DAL  42  40  2342  34.4  6900  51.219512  33.942029\n",
      "3   2014  DAL  50  32  2082  35.2  7036  60.975610  29.590677\n",
      "4   2013  DAL  49  33  1877  38.4  6858  59.756098  27.369495\n",
      "5   2012  DAL  41  41  1628  37.2  6892  50.000000  23.621590\n",
      "  Season   Tm   W   L   3PA   3P%   FGA   Win/Loss       3PA%\n",
      "0   2017  DEN  46  36  2536  37.1  7102  56.097561  35.708251\n",
      "1   2016  DEN  40  42  2365  36.8  7194  48.780488  32.874618\n",
      "2   2015  DEN  33  49  1943  33.8  7003  40.243902  27.745252\n",
      "3   2014  DEN  30  52  2032  32.5  7158  36.585366  28.387818\n",
      "4   2013  DEN  36  46  1959  35.8  7042  43.902439  27.818801\n",
      "5   2012  DEN  57  25  1518  34.3  6983  69.512195  21.738508\n",
      "  Season   Tm   W   L   3PA   3P%   FGA   Win/Loss       3PA%\n",
      "0   2017  DET  39  43  2373  37.3  7129  47.560976  33.286576\n",
      "1   2016  DET  37  45  1915  33.0  7282  45.121951  26.297720\n",
      "2   2015  DET  44  38  2148  34.5  7087  53.658537  30.309017\n",
      "3   2014  DET  32  50  2043  34.4  7038  39.024390  29.028133\n",
      "4   2013  DET  29  53  1580  32.1  7124  35.365854  22.178551\n",
      "5   2012  DET  29  53  1440  35.6  6638  35.365854  21.693281\n",
      "  Season   Tm   W   L   3PA   3P%   FGA   Win/Loss       3PA%\n",
      "0   2017  GSW  58  24  2369  39.1  6980  70.731707  33.939828\n",
      "1   2016  GSW  67  15  2562  38.3  7140  81.707317  35.882353\n",
      "2   2015  GSW  73   9  2592  41.6  7159  89.024390  36.206174\n",
      "3   2014  GSW  67  15  2217  39.8  7137  81.707317  31.063472\n",
      "4   2013  GSW  51  31  2037  38.0  7005  62.195122  29.079229\n",
      "5   2012  GSW  47  35  1632  40.3  6840  57.317073  23.859649\n",
      "  Season   Tm   W   L   3PA   3P%   FGA   Win/Loss       3PA%\n",
      "0   2017  HOU  65  17  3470  36.2  6906  79.268293  50.246163\n",
      "1   2016  HOU  55  27  3306  35.7  7152  67.073171  46.224832\n",
      "2   2015  HOU  41  41  2533  34.7  6847  50.000000  36.994304\n",
      "3   2014  HOU  56  26  2680  34.8  6832  68.292683  39.227166\n",
      "4   2013  HOU  54  28  2179  35.8  6603  65.853659  33.000151\n",
      "5   2012  HOU  45  37  2369  36.6  6782  54.878049  34.930699\n",
      "  Season   Tm   W   L   3PA   3P%   FGA   Win/Loss       3PA%\n",
      "0   2017  IND  48  34  2010  36.9  7083  58.536585  28.377806\n",
      "1   2016  IND  42  40  1885  37.6  6931  51.219512  27.196653\n",
      "2   2015  IND  45  37  1889  35.1  6985  54.878049  27.043665\n",
      "3   2014  IND  38  44  1740  35.2  6824  46.341463  25.498242\n",
      "4   2013  IND  56  26  1542  35.7  6573  68.292683  23.459607\n",
      "5   2012  IND  49  32  1599  34.7  6525  60.493827  24.505747\n",
      "  Season   Tm   W   L   3PA   3P%   FGA   Win/Loss       3PA%\n",
      "0   2017  LAC  42  40  2196  35.4  7004  51.219512  31.353512\n",
      "1   2016  LAC  51  31  2245  37.5  6820  62.195122  32.917889\n",
      "2   2015  LAC  53  29  2190  36.4  6759  64.634146  32.401243\n",
      "3   2014  LAC  56  26  2202  37.6  6830  68.292683  32.240117\n",
      "4   2013  LAC  57  25  1966  35.2  6761  69.512195  29.078539\n",
      "5   2012  LAC  56  26  1752  35.8  6608  68.292683  26.513317\n",
      "  Season   Tm   W   L   3PA   3P%   FGA   Win/Loss       3PA%\n",
      "0   2017  LAL  35  47  2384  34.5  7248  42.682927  32.891832\n",
      "1   2016  LAL  26  56  2110  34.6  7164  31.707317  29.452820\n",
      "2   2015  LAL  17  65  2016  31.7  6956  20.731707  28.982174\n",
      "3   2014  LAL  21  61  1546  34.4  7020  25.609756  22.022792\n",
      "4   2013  LAL  27  55  2032  38.1  6980  32.926829  29.111748\n",
      "5   2012  LAL  45  37  2015  35.5  6640  54.878049  30.346386\n",
      "  Season   Tm   W   L   3PA   3P%   FGA   Win/Loss       3PA%\n",
      "0   2017  MEM  22  60  2152  35.2  6788  26.829268  31.703005\n",
      "1   2016  MEM  43  39  2169  35.4  6854  52.439024  31.645754\n",
      "2   2015  MEM  42  40  1521  33.1  6859  51.219512  22.175244\n",
      "3   2014  MEM  55  27  1246  33.9  6763  67.073171  18.423776\n",
      "4   2013  MEM  50  32  1147  35.3  6723  60.975610  17.060836\n",
      "5   2012  MEM  56  26  1107  34.5  6679  68.292683  16.574337\n",
      "  Season   Tm   W   L   3PA   3P%   FGA   Win/Loss       3PA%\n",
      "0   2017  MIA  44  38  2506  36.0  6997  53.658537  35.815349\n",
      "1   2016  MIA  41  41  2213  36.5  7037  50.000000  31.448060\n",
      "2   2015  MIA  48  34  1480  33.6  6697  58.536585  22.099448\n",
      "3   2014  MIA  37  45  1659  33.5  6330  45.121951  26.208531\n",
      "4   2013  MIA  54  28  1829  36.4  6272  65.853659  29.161352\n",
      "5   2012  MIA  66  16  1809  39.6  6348  80.487805  28.497164\n",
      "  Season   Tm   W   L   3PA   3P%   FGA   Win/Loss       3PA%\n",
      "0   2017  MIL  44  38  2024  35.5  6807  53.658537  29.734097\n",
      "1   2016  MIL  42  40  1946  37.0  6715  51.219512  28.979896\n",
      "2   2015  MIL  33  49  1277  34.5  6740  40.243902  18.946588\n",
      "3   2014  MIL  41  41  1500  36.3  6722  50.000000  22.314787\n",
      "4   2013  MIL  15  67  1553  35.3  6737  18.292683  23.051803\n",
      "5   2012  MIL  38  44  1670  36.0  7197  46.341463  23.204113\n",
      "  Season   Tm   W   L   3PA   3P%   FGA   Win/Loss       3PA%\n",
      "0   2017  MIN  47  35  1845  35.7  7063  57.317073  26.122044\n",
      "1   2016  MIN  31  51  1723  34.9  6922  37.804878  24.891650\n",
      "2   2015  MIN  29  53  1347  33.8  6668  35.365854  20.200960\n",
      "3   2014  MIN  16  66  1223  33.2  6820  19.512195  17.932551\n",
      "4   2013  MIN  40  42  1757  34.1  7175  48.780488  24.487805\n",
      "5   2012  MIN  31  51  1475  30.5  6702  37.804878  22.008356\n",
      "  Season   Tm   W   L   3PA   3P%   FGA   Win/Loss       3PA%\n",
      "0   2017  NOP  48  34  2312  36.2  7241  58.536585  31.929292\n",
      "1   2016  NOP  34  48  2196  35.0  7130  41.463415  30.799439\n",
      "2   2015  NOP  30  52  1951  36.0  7040  36.585366  27.713068\n",
      "3   2014  NOP  45  37  1583  37.0  6795  54.878049  23.296542\n",
      "4   2013  NOP  34  48  1303  37.3  6761  41.463415  19.272297\n",
      "5   2012  NOH  27  55  1474  36.3  6589  32.926829  22.370618\n",
      "  Season   Tm   W   L   3PA   3P%   FGA   Win/Loss       3PA%\n",
      "0   2017  NYK  29  53  1914  35.2  7194  35.365854  26.605505\n",
      "1   2016  NYK  31  51  2022  34.8  7256  37.804878  27.866593\n",
      "2   2015  NYK  32  50  1762  34.6  6886  39.024390  25.588150\n",
      "3   2014  NYK  17  65  1614  34.7  6726  20.731707  23.996432\n",
      "4   2013  NYK  37  45  2038  37.2  6739  45.121951  30.241876\n"
     ]
    },
    {
     "name": "stdout",
     "output_type": "stream",
     "text": [
      "5   2012  NYK  54  28  2371  37.6  6689  65.853659  35.446255\n",
      "  Season   Tm   W   L   3PA   3P%   FGA   Win/Loss       3PA%\n",
      "0   2017  OKC  48  34  2490  35.4  7220  58.536585  34.487535\n",
      "1   2016  OKC  47  35  2116  32.7  7169  57.317073  29.515972\n",
      "2   2015  OKC  55  27  1945  34.9  7082  67.073171  27.463993\n",
      "3   2014  OKC  45  37  1864  33.9  7119  54.878049  26.183453\n",
      "4   2013  OKC  59  23  1839  36.1  6782  71.951220  27.115895\n",
      "5   2012  OKC  60  22  1588  37.7  6504  73.170732  24.415744\n",
      "  Season   Tm   W   L   3PA   3P%   FGA   Win/Loss       3PA%\n",
      "0   2017  ORL  25  57  2405  35.1  7042  30.487805  34.152229\n",
      "1   2016  ORL  29  53  2139  32.8  7133  35.365854  29.987383\n",
      "2   2015  ORL  35  47  1818  35.0  7120  42.682927  25.533708\n",
      "3   2014  ORL  25  57  1598  34.7  6792  30.487805  23.527680\n",
      "4   2013  ORL  23  59  1596  35.3  6784  28.048780  23.525943\n",
      "5   2012  ORL  20  62  1537  32.9  6904  24.390244  22.262457\n",
      "  Season   Tm   W   L   3PA   3P%   FGA   Win/Loss       3PA%\n",
      "0   2017  PHI  52  30  2445  36.9  7098  63.414634  34.446323\n",
      "1   2016  PHI  28  54  2443  34.0  6992  34.146341  34.939931\n",
      "2   2015  PHI  10  72  2255  33.9  6887  12.195122  32.742849\n",
      "3   2014  PHI  18  64  2160  32.0  6777  21.951220  31.872510\n",
      "4   2013  PHI  19  63  1847  31.2  7150  23.170732  25.832168\n",
      "5   2012  PHI  34  48  1438  36.0  6895  41.463415  20.855693\n",
      "  Season   Tm   W   L   3PA   3P%   FGA   Win/Loss       3PA%\n",
      "0   2017  PHO  21  61  2286  33.4  7141  25.609756  32.012323\n",
      "1   2016  PHO  24  58  1854  33.2  7260  29.268293  25.537190\n",
      "2   2015  PHO  23  59  2118  34.8  7018  28.048780  30.179538\n",
      "3   2014  PHO  39  43  2048  34.1  7038  47.560976  29.099176\n",
      "4   2013  PHO  48  34  2055  37.2  6845  58.536585  30.021914\n",
      "5   2012  PHO  25  57  1455  33.0  6917  30.487805  21.035131\n",
      "  Season   Tm   W   L   3PA   3P%   FGA   Win/Loss       3PA%\n",
      "0   2017  POR  49  33  2308  36.6  7132  59.756098  32.361189\n",
      "1   2016  POR  41  41  2272  37.5  7059  50.000000  32.185862\n",
      "2   2015  POR  44  38  2336  37.0  7040  53.658537  33.181818\n",
      "3   2014  POR  51  31  2231  36.2  7049  62.195122  31.649879\n",
      "4   2013  POR  54  28  2071  37.2  7134  65.853659  29.029997\n",
      "5   2012  POR  33  49  1904  35.3  6715  40.243902  28.354430\n",
      "  Season   Tm   W   L   3PA   3P%   FGA   Win/Loss       3PA%\n",
      "0   2017  SAC  27  55  1967  37.5  7063  32.926829  27.849356\n",
      "1   2016  SAC  32  50  1960  37.6  6734  39.024390  29.106029\n",
      "2   2015  SAC  33  49  1839  35.9  7083  40.243902  25.963575\n",
      "3   2014  SAC  29  53  1350  34.1  6617  35.365854  20.401995\n",
      "4   2013  SAC  28  54  1475  33.3  6766  34.146341  21.800177\n",
      "5   2012  SAC  28  54  1681  36.3  6904  34.146341  24.348204\n",
      "  Season   Tm   W   L   3PA   3P%   FGA   Win/Loss       3PA%\n",
      "0   2017  SAS  47  35  1977  35.2  6999  57.317073  28.246892\n",
      "1   2016  SAS  61  21  1927  39.1  6864  74.390244  28.074009\n",
      "2   2015  SAS  67  15  1518  37.5  6797  81.707317  22.333382\n",
      "3   2014  SAS  55  27  1847  36.7  6854  67.073171  26.947768\n",
      "4   2013  SAS  62  20  1757  39.7  6844  75.609756  25.672122\n",
      "5   2012  SAS  58  24  1764  37.6  6675  70.731707  26.426966\n",
      "  Season   Tm   W   L   3PA   3P%   FGA   Win/Loss       3PA%\n",
      "0   2017  TOR  59  23  2703  35.8  7169  71.951220  37.704003\n",
      "1   2016  TOR  51  31  1996  36.3  6918  62.195122  28.852269\n",
      "2   2015  TOR  56  26  1915  37.0  6669  68.292683  28.714950\n",
      "3   2014  TOR  49  33  2060  35.2  6829  59.756098  30.165471\n",
      "4   2013  TOR  48  34  1917  37.2  6718  58.536585  28.535278\n",
      "5   2012  TOR  34  48  1665  34.3  6685  41.463415  24.906507\n",
      "  Season   Tm   W   L   3PA   3P%   FGA   Win/Loss       3PA%\n",
      "0   2017  UTA  48  34  2425  36.6  6797  58.536585  35.677505\n",
      "1   2016  UTA  51  31  2128  37.2  6515  62.195122  32.663085\n",
      "2   2015  UTA  40  42  1956  35.5  6593  48.780488  29.667830\n",
      "3   2014  UTA  38  44  1781  34.3  6492  46.341463  27.433765\n",
      "4   2013  UTA  25  57  1577  34.4  6652  30.487805  23.707156\n",
      "5   2012  UTA  43  39  1385  36.6  6710  52.439024  20.640835\n",
      "  Season   Tm   W   L   3PA   3P%   FGA   Win/Loss       3PA%\n",
      "0   2017  WAS  43  39  2173  37.5  7018  52.439024  30.963237\n",
      "1   2016  WAS  49  33  2030  37.2  7137  59.756098  28.443324\n",
      "2   2015  WAS  41  41  1983  35.8  7033  50.000000  28.195649\n",
      "3   2014  WAS  46  36  1381  36.0  6790  56.097561  20.338733\n",
      "4   2013  WAS  44  38  1704  38.0  6920  53.658537  24.624277\n",
      "5   2012  WAS  29  53  1495  36.5  6693  35.365854  22.336770\n"
     ]
    }
   ],
   "source": [
    "teamstats = []\n",
    "\n",
    "for df in dfs:\n",
    "    df = df[['Season', 'Tm', 'W', 'L', '3PA', '3P%',\"FGA\"]]\n",
    "    df['Season'] = df['Season'].str[:4]\n",
    "    df['Win/Loss'] = (df['W'].astype(float) / (df['W'].astype(float) + df['L'].astype(float))) * 100\n",
    "    df['3P%'] = df['3P%'].astype(float) * 100\n",
    "    df['3PA%'] = (df['3PA'].astype(float) / df[\"FGA\"].astype(float)) * 100\n",
    "    print(df)\n",
    "    teamstats.append(df)"
   ]
  },
  {
   "cell_type": "code",
   "execution_count": 35,
   "metadata": {},
   "outputs": [
    {
     "data": {
      "text/plain": [
       "[  Season   Tm   W   L   3PA   3P%   Win/Loss\n",
       " 0   2017  ATL  24  58  2544  36.0  29.268293\n",
       " 1   2016  ATL  43  39  2137  34.1  52.439024\n",
       " 2   2015  ATL  48  34  2326  35.0  58.536585\n",
       " 3   2014  ATL  60  22  2152  38.0  73.170732\n",
       " 4   2013  ATL  38  44  2116  36.3  46.341463\n",
       " 5   2012  ATL  44  38  1901  37.1  53.658537,\n",
       "   Season   Tm   W   L   3PA   3P%   Win/Loss\n",
       " 0   2017  BRK  28  54  2924  35.6  34.146341\n",
       " 1   2016  BRK  20  62  2591  33.8  24.390244\n",
       " 2   2015  BRK  21  61  1508  35.2  25.609756\n",
       " 3   2014  BRK  38  44  1633  33.1  46.341463\n",
       " 4   2013  BRK  44  38  1922  36.9  53.658537\n",
       " 5   2012  BRK  49  33  1760  35.7  59.756098,\n",
       "   Season   Tm   W   L   3PA   3P%   Win/Loss\n",
       " 0   2017  BOS  55  27  2492  37.7  67.073171\n",
       " 1   2016  BOS  53  29  2742  35.9  64.634146\n",
       " 2   2015  BOS  48  34  2142  33.5  58.536585\n",
       " 3   2014  BOS  40  42  2021  32.7  48.780488\n",
       " 4   2013  BOS  25  57  1729  33.3  30.487805\n",
       " 5   2012  BOS  41  40  1390  35.8  50.617284,\n",
       "   Season   Tm   W   L   3PA   3P%   Win/Loss\n",
       " 0   2017  CHO  36  46  2233  36.9  43.902439\n",
       " 1   2016  CHO  36  46  2347  35.1  43.902439\n",
       " 2   2015  CHO  48  34  2410  36.2  58.536585\n",
       " 3   2014  CHO  33  49  1566  31.8  40.243902\n",
       " 4   2013  CHA  43  39  1471  35.1  52.439024\n",
       " 5   2012  CHA  21  61  1399  33.5  25.609756,\n",
       "   Season   Tm   W   L   3PA   3P%   Win/Loss\n",
       " 0   2017  CHI  27  55  2550  35.5  32.926829\n",
       " 1   2016  CHI  41  41  1831  34.0  50.000000\n",
       " 2   2015  CHI  42  40  1753  37.1  51.219512\n",
       " 3   2014  CHI  50  32  1825  35.3  60.975610\n",
       " 4   2013  CHI  48  34  1459  34.8  58.536585\n",
       " 5   2012  CHI  45  37  1265  35.3  54.878049,\n",
       "   Season   Tm   W   L   3PA   3P%   Win/Loss\n",
       " 0   2017  CLE  50  32  2636  37.2  60.975610\n",
       " 1   2016  CLE  51  31  2779  38.4  62.195122\n",
       " 2   2015  CLE  57  25  2428  36.2  69.512195\n",
       " 3   2014  CLE  53  29  2253  36.7  64.634146\n",
       " 4   2013  CLE  33  49  1640  35.6  40.243902\n",
       " 5   2012  CLE  24  58  1581  34.6  29.268293,\n",
       "   Season   Tm   W   L   3PA   3P%   Win/Loss\n",
       " 0   2017  DAL  24  58  2688  36.0  29.268293\n",
       " 1   2016  DAL  33  49  2473  35.5  40.243902\n",
       " 2   2015  DAL  42  40  2342  34.4  51.219512\n",
       " 3   2014  DAL  50  32  2082  35.2  60.975610\n",
       " 4   2013  DAL  49  33  1877  38.4  59.756098\n",
       " 5   2012  DAL  41  41  1628  37.2  50.000000,\n",
       "   Season   Tm   W   L   3PA   3P%   Win/Loss\n",
       " 0   2017  DEN  46  36  2536  37.1  56.097561\n",
       " 1   2016  DEN  40  42  2365  36.8  48.780488\n",
       " 2   2015  DEN  33  49  1943  33.8  40.243902\n",
       " 3   2014  DEN  30  52  2032  32.5  36.585366\n",
       " 4   2013  DEN  36  46  1959  35.8  43.902439\n",
       " 5   2012  DEN  57  25  1518  34.3  69.512195,\n",
       "   Season   Tm   W   L   3PA   3P%   Win/Loss\n",
       " 0   2017  DET  39  43  2373  37.3  47.560976\n",
       " 1   2016  DET  37  45  1915  33.0  45.121951\n",
       " 2   2015  DET  44  38  2148  34.5  53.658537\n",
       " 3   2014  DET  32  50  2043  34.4  39.024390\n",
       " 4   2013  DET  29  53  1580  32.1  35.365854\n",
       " 5   2012  DET  29  53  1440  35.6  35.365854,\n",
       "   Season   Tm   W   L   3PA   3P%   Win/Loss\n",
       " 0   2017  GSW  58  24  2369  39.1  70.731707\n",
       " 1   2016  GSW  67  15  2562  38.3  81.707317\n",
       " 2   2015  GSW  73   9  2592  41.6  89.024390\n",
       " 3   2014  GSW  67  15  2217  39.8  81.707317\n",
       " 4   2013  GSW  51  31  2037  38.0  62.195122\n",
       " 5   2012  GSW  47  35  1632  40.3  57.317073,\n",
       "   Season   Tm   W   L   3PA   3P%   Win/Loss\n",
       " 0   2017  HOU  65  17  3470  36.2  79.268293\n",
       " 1   2016  HOU  55  27  3306  35.7  67.073171\n",
       " 2   2015  HOU  41  41  2533  34.7  50.000000\n",
       " 3   2014  HOU  56  26  2680  34.8  68.292683\n",
       " 4   2013  HOU  54  28  2179  35.8  65.853659\n",
       " 5   2012  HOU  45  37  2369  36.6  54.878049,\n",
       "   Season   Tm   W   L   3PA   3P%   Win/Loss\n",
       " 0   2017  IND  48  34  2010  36.9  58.536585\n",
       " 1   2016  IND  42  40  1885  37.6  51.219512\n",
       " 2   2015  IND  45  37  1889  35.1  54.878049\n",
       " 3   2014  IND  38  44  1740  35.2  46.341463\n",
       " 4   2013  IND  56  26  1542  35.7  68.292683\n",
       " 5   2012  IND  49  32  1599  34.7  60.493827,\n",
       "   Season   Tm   W   L   3PA   3P%   Win/Loss\n",
       " 0   2017  LAC  42  40  2196  35.4  51.219512\n",
       " 1   2016  LAC  51  31  2245  37.5  62.195122\n",
       " 2   2015  LAC  53  29  2190  36.4  64.634146\n",
       " 3   2014  LAC  56  26  2202  37.6  68.292683\n",
       " 4   2013  LAC  57  25  1966  35.2  69.512195\n",
       " 5   2012  LAC  56  26  1752  35.8  68.292683,\n",
       "   Season   Tm   W   L   3PA   3P%   Win/Loss\n",
       " 0   2017  LAL  35  47  2384  34.5  42.682927\n",
       " 1   2016  LAL  26  56  2110  34.6  31.707317\n",
       " 2   2015  LAL  17  65  2016  31.7  20.731707\n",
       " 3   2014  LAL  21  61  1546  34.4  25.609756\n",
       " 4   2013  LAL  27  55  2032  38.1  32.926829\n",
       " 5   2012  LAL  45  37  2015  35.5  54.878049,\n",
       "   Season   Tm   W   L   3PA   3P%   Win/Loss\n",
       " 0   2017  MEM  22  60  2152  35.2  26.829268\n",
       " 1   2016  MEM  43  39  2169  35.4  52.439024\n",
       " 2   2015  MEM  42  40  1521  33.1  51.219512\n",
       " 3   2014  MEM  55  27  1246  33.9  67.073171\n",
       " 4   2013  MEM  50  32  1147  35.3  60.975610\n",
       " 5   2012  MEM  56  26  1107  34.5  68.292683,\n",
       "   Season   Tm   W   L   3PA   3P%   Win/Loss\n",
       " 0   2017  MIA  44  38  2506  36.0  53.658537\n",
       " 1   2016  MIA  41  41  2213  36.5  50.000000\n",
       " 2   2015  MIA  48  34  1480  33.6  58.536585\n",
       " 3   2014  MIA  37  45  1659  33.5  45.121951\n",
       " 4   2013  MIA  54  28  1829  36.4  65.853659\n",
       " 5   2012  MIA  66  16  1809  39.6  80.487805,\n",
       "   Season   Tm   W   L   3PA   3P%   Win/Loss\n",
       " 0   2017  MIL  44  38  2024  35.5  53.658537\n",
       " 1   2016  MIL  42  40  1946  37.0  51.219512\n",
       " 2   2015  MIL  33  49  1277  34.5  40.243902\n",
       " 3   2014  MIL  41  41  1500  36.3  50.000000\n",
       " 4   2013  MIL  15  67  1553  35.3  18.292683\n",
       " 5   2012  MIL  38  44  1670  36.0  46.341463,\n",
       "   Season   Tm   W   L   3PA   3P%   Win/Loss\n",
       " 0   2017  MIN  47  35  1845  35.7  57.317073\n",
       " 1   2016  MIN  31  51  1723  34.9  37.804878\n",
       " 2   2015  MIN  29  53  1347  33.8  35.365854\n",
       " 3   2014  MIN  16  66  1223  33.2  19.512195\n",
       " 4   2013  MIN  40  42  1757  34.1  48.780488\n",
       " 5   2012  MIN  31  51  1475  30.5  37.804878,\n",
       "   Season   Tm   W   L   3PA   3P%   Win/Loss\n",
       " 0   2017  NOP  48  34  2312  36.2  58.536585\n",
       " 1   2016  NOP  34  48  2196  35.0  41.463415\n",
       " 2   2015  NOP  30  52  1951  36.0  36.585366\n",
       " 3   2014  NOP  45  37  1583  37.0  54.878049\n",
       " 4   2013  NOP  34  48  1303  37.3  41.463415\n",
       " 5   2012  NOH  27  55  1474  36.3  32.926829,\n",
       "   Season   Tm   W   L   3PA   3P%   Win/Loss\n",
       " 0   2017  NYK  29  53  1914  35.2  35.365854\n",
       " 1   2016  NYK  31  51  2022  34.8  37.804878\n",
       " 2   2015  NYK  32  50  1762  34.6  39.024390\n",
       " 3   2014  NYK  17  65  1614  34.7  20.731707\n",
       " 4   2013  NYK  37  45  2038  37.2  45.121951\n",
       " 5   2012  NYK  54  28  2371  37.6  65.853659,\n",
       "   Season   Tm   W   L   3PA   3P%   Win/Loss\n",
       " 0   2017  OKC  48  34  2490  35.4  58.536585\n",
       " 1   2016  OKC  47  35  2116  32.7  57.317073\n",
       " 2   2015  OKC  55  27  1945  34.9  67.073171\n",
       " 3   2014  OKC  45  37  1864  33.9  54.878049\n",
       " 4   2013  OKC  59  23  1839  36.1  71.951220\n",
       " 5   2012  OKC  60  22  1588  37.7  73.170732,\n",
       "   Season   Tm   W   L   3PA   3P%   Win/Loss\n",
       " 0   2017  ORL  25  57  2405  35.1  30.487805\n",
       " 1   2016  ORL  29  53  2139  32.8  35.365854\n",
       " 2   2015  ORL  35  47  1818  35.0  42.682927\n",
       " 3   2014  ORL  25  57  1598  34.7  30.487805\n",
       " 4   2013  ORL  23  59  1596  35.3  28.048780\n",
       " 5   2012  ORL  20  62  1537  32.9  24.390244,\n",
       "   Season   Tm   W   L   3PA   3P%   Win/Loss\n",
       " 0   2017  PHI  52  30  2445  36.9  63.414634\n",
       " 1   2016  PHI  28  54  2443  34.0  34.146341\n",
       " 2   2015  PHI  10  72  2255  33.9  12.195122\n",
       " 3   2014  PHI  18  64  2160  32.0  21.951220\n",
       " 4   2013  PHI  19  63  1847  31.2  23.170732\n",
       " 5   2012  PHI  34  48  1438  36.0  41.463415,\n",
       "   Season   Tm   W   L   3PA   3P%   Win/Loss\n",
       " 0   2017  PHO  21  61  2286  33.4  25.609756\n",
       " 1   2016  PHO  24  58  1854  33.2  29.268293\n",
       " 2   2015  PHO  23  59  2118  34.8  28.048780\n",
       " 3   2014  PHO  39  43  2048  34.1  47.560976\n",
       " 4   2013  PHO  48  34  2055  37.2  58.536585\n",
       " 5   2012  PHO  25  57  1455  33.0  30.487805,\n",
       "   Season   Tm   W   L   3PA   3P%   Win/Loss\n",
       " 0   2017  POR  49  33  2308  36.6  59.756098\n",
       " 1   2016  POR  41  41  2272  37.5  50.000000\n",
       " 2   2015  POR  44  38  2336  37.0  53.658537\n",
       " 3   2014  POR  51  31  2231  36.2  62.195122\n",
       " 4   2013  POR  54  28  2071  37.2  65.853659\n",
       " 5   2012  POR  33  49  1904  35.3  40.243902,\n",
       "   Season   Tm   W   L   3PA   3P%   Win/Loss\n",
       " 0   2017  SAC  27  55  1967  37.5  32.926829\n",
       " 1   2016  SAC  32  50  1960  37.6  39.024390\n",
       " 2   2015  SAC  33  49  1839  35.9  40.243902\n",
       " 3   2014  SAC  29  53  1350  34.1  35.365854\n",
       " 4   2013  SAC  28  54  1475  33.3  34.146341\n",
       " 5   2012  SAC  28  54  1681  36.3  34.146341,\n",
       "   Season   Tm   W   L   3PA   3P%   Win/Loss\n",
       " 0   2017  SAS  47  35  1977  35.2  57.317073\n",
       " 1   2016  SAS  61  21  1927  39.1  74.390244\n",
       " 2   2015  SAS  67  15  1518  37.5  81.707317\n",
       " 3   2014  SAS  55  27  1847  36.7  67.073171\n",
       " 4   2013  SAS  62  20  1757  39.7  75.609756\n",
       " 5   2012  SAS  58  24  1764  37.6  70.731707,\n",
       "   Season   Tm   W   L   3PA   3P%   Win/Loss\n",
       " 0   2017  TOR  59  23  2703  35.8  71.951220\n",
       " 1   2016  TOR  51  31  1996  36.3  62.195122\n",
       " 2   2015  TOR  56  26  1915  37.0  68.292683\n",
       " 3   2014  TOR  49  33  2060  35.2  59.756098\n",
       " 4   2013  TOR  48  34  1917  37.2  58.536585\n",
       " 5   2012  TOR  34  48  1665  34.3  41.463415,\n",
       "   Season   Tm   W   L   3PA   3P%   Win/Loss\n",
       " 0   2017  UTA  48  34  2425  36.6  58.536585\n",
       " 1   2016  UTA  51  31  2128  37.2  62.195122\n",
       " 2   2015  UTA  40  42  1956  35.5  48.780488\n",
       " 3   2014  UTA  38  44  1781  34.3  46.341463\n",
       " 4   2013  UTA  25  57  1577  34.4  30.487805\n",
       " 5   2012  UTA  43  39  1385  36.6  52.439024,\n",
       "   Season   Tm   W   L   3PA   3P%   Win/Loss\n",
       " 0   2017  WAS  43  39  2173  37.5  52.439024\n",
       " 1   2016  WAS  49  33  2030  37.2  59.756098\n",
       " 2   2015  WAS  41  41  1983  35.8  50.000000\n",
       " 3   2014  WAS  46  36  1381  36.0  56.097561\n",
       " 4   2013  WAS  44  38  1704  38.0  53.658537\n",
       " 5   2012  WAS  29  53  1495  36.5  35.365854]"
      ]
     },
     "execution_count": 35,
     "metadata": {},
     "output_type": "execute_result"
    }
   ],
   "source": [
    "teamstats"
   ]
  },
  {
   "cell_type": "markdown",
   "metadata": {},
   "source": [
    "This dataset provides us with all the stats that we need to compare how much a team is using the three point line and how many wins they are getting a season. I only chose to use the last 5 seasons in the NBA, because this is when we are seeing the uprising of the three point line. In the 2012-2013 season, we saw Stephen Curry break the record for most threes in a single NBA season, and we only saw this number increasing every season. After Stephen Curry led the Golden State Warriors to their first championship in 2014-2015 season, teams were questioning whether or not the success at the three was the secret. In the 2015-2016 season, the Golden State Warriors broke the record for the most wins in a season, and teams were convinced that hte three point line was the secret."
   ]
  },
  {
   "cell_type": "code",
   "execution_count": 13,
   "metadata": {},
   "outputs": [
    {
     "name": "stderr",
     "output_type": "stream",
     "text": [
      "IOPub data rate exceeded.\n",
      "The notebook server will temporarily stop sending output\n",
      "to the client in order to avoid crashing it.\n",
      "To change this limit, set the config variable\n",
      "`--NotebookApp.iopub_data_rate_limit`.\n"
     ]
    },
    {
     "data": {
      "text/html": [
       "<script>requirejs.config({paths: { 'plotly': ['https://cdn.plot.ly/plotly-latest.min']},});if(!window.Plotly) {{require(['plotly'],function(plotly) {window.Plotly=plotly;});}}</script>"
      ],
      "text/vnd.plotly.v1+html": [
       "<script>requirejs.config({paths: { 'plotly': ['https://cdn.plot.ly/plotly-latest.min']},});if(!window.Plotly) {{require(['plotly'],function(plotly) {window.Plotly=plotly;});}}</script>"
      ]
     },
     "metadata": {},
     "output_type": "display_data"
    }
   ],
   "source": [
    "import sys                             \n",
    "import pandas as pd                    \n",
    "import matplotlib.pyplot as plt        \n",
    "import datetime as dt                  \n",
    "import numpy as np                     \n",
    "import seaborn.apionly as sns         \n",
    "from pandas_datareader import wb, data as web  \n",
    "\n",
    "from plotly.offline import iplot, iplot_mpl  \n",
    "import plotly.graph_objs as go               \n",
    "import plotly                                \n",
    "import cufflinks as cf                      \n",
    "cf.set_config_file(offline=True, offline_show_link=False)\n",
    "\n",
    "%matplotlib inline             \n",
    "plotly.offline.init_notebook_mode(connected=True)"
   ]
  },
  {
   "cell_type": "code",
   "execution_count": 285,
   "metadata": {
    "scrolled": false
   },
   "outputs": [
    {
     "data": {
      "application/vnd.plotly.v1+json": {
       "data": [
        {
         "marker": {
          "color": "rgb(green)"
         },
         "name": "Win Loss Percentage",
         "type": "bar",
         "x": [
          "2017",
          "2016",
          "2015",
          "2014",
          "2013",
          "2012"
         ],
         "y": [
          29.268292682926827,
          52.4390243902439,
          58.536585365853654,
          73.17073170731707,
          46.34146341463415,
          53.65853658536586
         ]
        },
        {
         "marker": {
          "color": "rgb(55,83,109)"
         },
         "name": "3 Point Attempt %",
         "type": "bar",
         "x": [
          "2017",
          "2016",
          "2015",
          "2014",
          "2013",
          "2012"
         ],
         "y": [
          36.27031650983747,
          30.89043076033536,
          33.598151090567676,
          32.124197641439025,
          31.638755980861244,
          28.612281757977122
         ]
        }
       ],
       "layout": {
        "title": "Win/Loss VS 3 Point Attempt % For ATL",
        "xaxis": {
         "title": "Season"
        }
       }
      },
      "text/html": [
       "<div id=\"08eb8d8a-9002-442e-9052-32734c4a6ab2\" style=\"height: 525px; width: 100%;\" class=\"plotly-graph-div\"></div><script type=\"text/javascript\">require([\"plotly\"], function(Plotly) { window.PLOTLYENV=window.PLOTLYENV || {};window.PLOTLYENV.BASE_URL=\"https://plot.ly\";Plotly.newPlot(\"08eb8d8a-9002-442e-9052-32734c4a6ab2\", [{\"type\": \"bar\", \"x\": [\"2017\", \"2016\", \"2015\", \"2014\", \"2013\", \"2012\"], \"y\": [29.268292682926827, 52.4390243902439, 58.536585365853654, 73.17073170731707, 46.34146341463415, 53.65853658536586], \"name\": \"Win Loss Percentage\", \"marker\": {\"color\": \"rgb(green)\"}}, {\"type\": \"bar\", \"x\": [\"2017\", \"2016\", \"2015\", \"2014\", \"2013\", \"2012\"], \"y\": [36.27031650983747, 30.89043076033536, 33.598151090567676, 32.124197641439025, 31.638755980861244, 28.612281757977122], \"name\": \"3 Point Attempt %\", \"marker\": {\"color\": \"rgb(55,83,109)\"}}], {\"title\": \"Win/Loss VS 3 Point Attempt % For ATL\", \"xaxis\": {\"title\": \"Season\"}}, {\"showLink\": true, \"linkText\": \"Export to plot.ly\"})});</script>"
      ],
      "text/vnd.plotly.v1+html": [
       "<div id=\"08eb8d8a-9002-442e-9052-32734c4a6ab2\" style=\"height: 525px; width: 100%;\" class=\"plotly-graph-div\"></div><script type=\"text/javascript\">require([\"plotly\"], function(Plotly) { window.PLOTLYENV=window.PLOTLYENV || {};window.PLOTLYENV.BASE_URL=\"https://plot.ly\";Plotly.newPlot(\"08eb8d8a-9002-442e-9052-32734c4a6ab2\", [{\"type\": \"bar\", \"x\": [\"2017\", \"2016\", \"2015\", \"2014\", \"2013\", \"2012\"], \"y\": [29.268292682926827, 52.4390243902439, 58.536585365853654, 73.17073170731707, 46.34146341463415, 53.65853658536586], \"name\": \"Win Loss Percentage\", \"marker\": {\"color\": \"rgb(green)\"}}, {\"type\": \"bar\", \"x\": [\"2017\", \"2016\", \"2015\", \"2014\", \"2013\", \"2012\"], \"y\": [36.27031650983747, 30.89043076033536, 33.598151090567676, 32.124197641439025, 31.638755980861244, 28.612281757977122], \"name\": \"3 Point Attempt %\", \"marker\": {\"color\": \"rgb(55,83,109)\"}}], {\"title\": \"Win/Loss VS 3 Point Attempt % For ATL\", \"xaxis\": {\"title\": \"Season\"}}, {\"showLink\": true, \"linkText\": \"Export to plot.ly\"})});</script>"
      ]
     },
     "metadata": {},
     "output_type": "display_data"
    },
    {
     "data": {
      "application/vnd.plotly.v1+json": {
       "data": [
        {
         "marker": {
          "color": "rgb(green)"
         },
         "name": "Win Loss Percentage",
         "type": "bar",
         "x": [
          "2017",
          "2016",
          "2015",
          "2014",
          "2013",
          "2012"
         ],
         "y": [
          34.146341463414636,
          24.390243902439025,
          25.609756097560975,
          46.34146341463415,
          53.65853658536586,
          59.756097560975604
         ]
        },
        {
         "marker": {
          "color": "rgb(55,83,109)"
         },
         "name": "3 Point Attempt %",
         "type": "bar",
         "x": [
          "2017",
          "2016",
          "2015",
          "2014",
          "2013",
          "2012"
         ],
         "y": [
          41.102052291256676,
          37.083154429655075,
          21.791907514450866,
          24.00058788947678,
          30.07354091691441,
          26.894865525672373
         ]
        }
       ],
       "layout": {
        "title": "Win/Loss VS 3 Point Attempt % For BRK",
        "xaxis": {
         "title": "Season"
        }
       }
      },
      "text/html": [
       "<div id=\"31359889-72c1-4997-b666-3ac2d32c062d\" style=\"height: 525px; width: 100%;\" class=\"plotly-graph-div\"></div><script type=\"text/javascript\">require([\"plotly\"], function(Plotly) { window.PLOTLYENV=window.PLOTLYENV || {};window.PLOTLYENV.BASE_URL=\"https://plot.ly\";Plotly.newPlot(\"31359889-72c1-4997-b666-3ac2d32c062d\", [{\"type\": \"bar\", \"x\": [\"2017\", \"2016\", \"2015\", \"2014\", \"2013\", \"2012\"], \"y\": [34.146341463414636, 24.390243902439025, 25.609756097560975, 46.34146341463415, 53.65853658536586, 59.756097560975604], \"name\": \"Win Loss Percentage\", \"marker\": {\"color\": \"rgb(green)\"}}, {\"type\": \"bar\", \"x\": [\"2017\", \"2016\", \"2015\", \"2014\", \"2013\", \"2012\"], \"y\": [41.102052291256676, 37.083154429655075, 21.791907514450866, 24.00058788947678, 30.07354091691441, 26.894865525672373], \"name\": \"3 Point Attempt %\", \"marker\": {\"color\": \"rgb(55,83,109)\"}}], {\"title\": \"Win/Loss VS 3 Point Attempt % For BRK\", \"xaxis\": {\"title\": \"Season\"}}, {\"showLink\": true, \"linkText\": \"Export to plot.ly\"})});</script>"
      ],
      "text/vnd.plotly.v1+html": [
       "<div id=\"31359889-72c1-4997-b666-3ac2d32c062d\" style=\"height: 525px; width: 100%;\" class=\"plotly-graph-div\"></div><script type=\"text/javascript\">require([\"plotly\"], function(Plotly) { window.PLOTLYENV=window.PLOTLYENV || {};window.PLOTLYENV.BASE_URL=\"https://plot.ly\";Plotly.newPlot(\"31359889-72c1-4997-b666-3ac2d32c062d\", [{\"type\": \"bar\", \"x\": [\"2017\", \"2016\", \"2015\", \"2014\", \"2013\", \"2012\"], \"y\": [34.146341463414636, 24.390243902439025, 25.609756097560975, 46.34146341463415, 53.65853658536586, 59.756097560975604], \"name\": \"Win Loss Percentage\", \"marker\": {\"color\": \"rgb(green)\"}}, {\"type\": \"bar\", \"x\": [\"2017\", \"2016\", \"2015\", \"2014\", \"2013\", \"2012\"], \"y\": [41.102052291256676, 37.083154429655075, 21.791907514450866, 24.00058788947678, 30.07354091691441, 26.894865525672373], \"name\": \"3 Point Attempt %\", \"marker\": {\"color\": \"rgb(55,83,109)\"}}], {\"title\": \"Win/Loss VS 3 Point Attempt % For BRK\", \"xaxis\": {\"title\": \"Season\"}}, {\"showLink\": true, \"linkText\": \"Export to plot.ly\"})});</script>"
      ]
     },
     "metadata": {},
     "output_type": "display_data"
    },
    {
     "data": {
      "application/vnd.plotly.v1+json": {
       "data": [
        {
         "marker": {
          "color": "rgb(green)"
         },
         "name": "Win Loss Percentage",
         "type": "bar",
         "x": [
          "2017",
          "2016",
          "2015",
          "2014",
          "2013",
          "2012"
         ],
         "y": [
          67.07317073170732,
          64.63414634146342,
          58.536585365853654,
          48.78048780487805,
          30.48780487804878,
          50.617283950617285
         ]
        },
        {
         "marker": {
          "color": "rgb(55,83,109)"
         },
         "name": "3 Point Attempt %",
         "type": "bar",
         "x": [
          "2017",
          "2016",
          "2015",
          "2014",
          "2013",
          "2012"
         ],
         "y": [
          35.727598566308245,
          39.29492691315563,
          29.270292429625584,
          28.02662598807378,
          25.119860525933458,
          21.520359188728904
         ]
        }
       ],
       "layout": {
        "title": "Win/Loss VS 3 Point Attempt % For BOS",
        "xaxis": {
         "title": "Season"
        }
       }
      },
      "text/html": [
       "<div id=\"27673028-c2dc-4471-a2e9-f604d9840ec4\" style=\"height: 525px; width: 100%;\" class=\"plotly-graph-div\"></div><script type=\"text/javascript\">require([\"plotly\"], function(Plotly) { window.PLOTLYENV=window.PLOTLYENV || {};window.PLOTLYENV.BASE_URL=\"https://plot.ly\";Plotly.newPlot(\"27673028-c2dc-4471-a2e9-f604d9840ec4\", [{\"type\": \"bar\", \"x\": [\"2017\", \"2016\", \"2015\", \"2014\", \"2013\", \"2012\"], \"y\": [67.07317073170732, 64.63414634146342, 58.536585365853654, 48.78048780487805, 30.48780487804878, 50.617283950617285], \"name\": \"Win Loss Percentage\", \"marker\": {\"color\": \"rgb(green)\"}}, {\"type\": \"bar\", \"x\": [\"2017\", \"2016\", \"2015\", \"2014\", \"2013\", \"2012\"], \"y\": [35.727598566308245, 39.29492691315563, 29.270292429625584, 28.02662598807378, 25.119860525933458, 21.520359188728904], \"name\": \"3 Point Attempt %\", \"marker\": {\"color\": \"rgb(55,83,109)\"}}], {\"title\": \"Win/Loss VS 3 Point Attempt % For BOS\", \"xaxis\": {\"title\": \"Season\"}}, {\"showLink\": true, \"linkText\": \"Export to plot.ly\"})});</script>"
      ],
      "text/vnd.plotly.v1+html": [
       "<div id=\"27673028-c2dc-4471-a2e9-f604d9840ec4\" style=\"height: 525px; width: 100%;\" class=\"plotly-graph-div\"></div><script type=\"text/javascript\">require([\"plotly\"], function(Plotly) { window.PLOTLYENV=window.PLOTLYENV || {};window.PLOTLYENV.BASE_URL=\"https://plot.ly\";Plotly.newPlot(\"27673028-c2dc-4471-a2e9-f604d9840ec4\", [{\"type\": \"bar\", \"x\": [\"2017\", \"2016\", \"2015\", \"2014\", \"2013\", \"2012\"], \"y\": [67.07317073170732, 64.63414634146342, 58.536585365853654, 48.78048780487805, 30.48780487804878, 50.617283950617285], \"name\": \"Win Loss Percentage\", \"marker\": {\"color\": \"rgb(green)\"}}, {\"type\": \"bar\", \"x\": [\"2017\", \"2016\", \"2015\", \"2014\", \"2013\", \"2012\"], \"y\": [35.727598566308245, 39.29492691315563, 29.270292429625584, 28.02662598807378, 25.119860525933458, 21.520359188728904], \"name\": \"3 Point Attempt %\", \"marker\": {\"color\": \"rgb(55,83,109)\"}}], {\"title\": \"Win/Loss VS 3 Point Attempt % For BOS\", \"xaxis\": {\"title\": \"Season\"}}, {\"showLink\": true, \"linkText\": \"Export to plot.ly\"})});</script>"
      ]
     },
     "metadata": {},
     "output_type": "display_data"
    },
    {
     "data": {
      "application/vnd.plotly.v1+json": {
       "data": [
        {
         "marker": {
          "color": "rgb(green)"
         },
         "name": "Win Loss Percentage",
         "type": "bar",
         "x": [
          "2017",
          "2016",
          "2015",
          "2014",
          "2013",
          "2012"
         ],
         "y": [
          43.90243902439025,
          43.90243902439025,
          58.536585365853654,
          40.243902439024396,
          52.4390243902439,
          25.609756097560975
         ]
        },
        {
         "marker": {
          "color": "rgb(55,83,109)"
         },
         "name": "3 Point Attempt %",
         "type": "bar",
         "x": [
          "2017",
          "2016",
          "2015",
          "2014",
          "2013",
          "2012"
         ],
         "y": [
          31.424148606811148,
          33.52857142857143,
          34.81652701531349,
          22.59088286208886,
          21.85735512630015,
          21.040758008723117
         ]
        }
       ],
       "layout": {
        "title": "Win/Loss VS 3 Point Attempt % For CHO",
        "xaxis": {
         "title": "Season"
        }
       }
      },
      "text/html": [
       "<div id=\"a0524f99-f2e1-44cb-96ec-8d180fcf5047\" style=\"height: 525px; width: 100%;\" class=\"plotly-graph-div\"></div><script type=\"text/javascript\">require([\"plotly\"], function(Plotly) { window.PLOTLYENV=window.PLOTLYENV || {};window.PLOTLYENV.BASE_URL=\"https://plot.ly\";Plotly.newPlot(\"a0524f99-f2e1-44cb-96ec-8d180fcf5047\", [{\"type\": \"bar\", \"x\": [\"2017\", \"2016\", \"2015\", \"2014\", \"2013\", \"2012\"], \"y\": [43.90243902439025, 43.90243902439025, 58.536585365853654, 40.243902439024396, 52.4390243902439, 25.609756097560975], \"name\": \"Win Loss Percentage\", \"marker\": {\"color\": \"rgb(green)\"}}, {\"type\": \"bar\", \"x\": [\"2017\", \"2016\", \"2015\", \"2014\", \"2013\", \"2012\"], \"y\": [31.424148606811148, 33.52857142857143, 34.81652701531349, 22.59088286208886, 21.85735512630015, 21.040758008723117], \"name\": \"3 Point Attempt %\", \"marker\": {\"color\": \"rgb(55,83,109)\"}}], {\"title\": \"Win/Loss VS 3 Point Attempt % For CHO\", \"xaxis\": {\"title\": \"Season\"}}, {\"showLink\": true, \"linkText\": \"Export to plot.ly\"})});</script>"
      ],
      "text/vnd.plotly.v1+html": [
       "<div id=\"a0524f99-f2e1-44cb-96ec-8d180fcf5047\" style=\"height: 525px; width: 100%;\" class=\"plotly-graph-div\"></div><script type=\"text/javascript\">require([\"plotly\"], function(Plotly) { window.PLOTLYENV=window.PLOTLYENV || {};window.PLOTLYENV.BASE_URL=\"https://plot.ly\";Plotly.newPlot(\"a0524f99-f2e1-44cb-96ec-8d180fcf5047\", [{\"type\": \"bar\", \"x\": [\"2017\", \"2016\", \"2015\", \"2014\", \"2013\", \"2012\"], \"y\": [43.90243902439025, 43.90243902439025, 58.536585365853654, 40.243902439024396, 52.4390243902439, 25.609756097560975], \"name\": \"Win Loss Percentage\", \"marker\": {\"color\": \"rgb(green)\"}}, {\"type\": \"bar\", \"x\": [\"2017\", \"2016\", \"2015\", \"2014\", \"2013\", \"2012\"], \"y\": [31.424148606811148, 33.52857142857143, 34.81652701531349, 22.59088286208886, 21.85735512630015, 21.040758008723117], \"name\": \"3 Point Attempt %\", \"marker\": {\"color\": \"rgb(55,83,109)\"}}], {\"title\": \"Win/Loss VS 3 Point Attempt % For CHO\", \"xaxis\": {\"title\": \"Season\"}}, {\"showLink\": true, \"linkText\": \"Export to plot.ly\"})});</script>"
      ]
     },
     "metadata": {},
     "output_type": "display_data"
    },
    {
     "data": {
      "application/vnd.plotly.v1+json": {
       "data": [
        {
         "marker": {
          "color": "rgb(green)"
         },
         "name": "Win Loss Percentage",
         "type": "bar",
         "x": [
          "2017",
          "2016",
          "2015",
          "2014",
          "2013",
          "2012"
         ],
         "y": [
          32.926829268292686,
          50,
          51.21951219512195,
          60.97560975609756,
          58.536585365853654,
          54.87804878048781
         ]
        },
        {
         "marker": {
          "color": "rgb(55,83,109)"
         },
         "name": "3 Point Attempt %",
         "type": "bar",
         "x": [
          "2017",
          "2016",
          "2015",
          "2014",
          "2013",
          "2012"
         ],
         "y": [
          34.99862750480373,
          25.640666573309062,
          24.449093444909344,
          26.850080918052083,
          22.18336627641782,
          18.886234696924458
         ]
        }
       ],
       "layout": {
        "title": "Win/Loss VS 3 Point Attempt % For CHI",
        "xaxis": {
         "title": "Season"
        }
       }
      },
      "text/html": [
       "<div id=\"64c11099-21a9-44c9-a5e7-942fd1220978\" style=\"height: 525px; width: 100%;\" class=\"plotly-graph-div\"></div><script type=\"text/javascript\">require([\"plotly\"], function(Plotly) { window.PLOTLYENV=window.PLOTLYENV || {};window.PLOTLYENV.BASE_URL=\"https://plot.ly\";Plotly.newPlot(\"64c11099-21a9-44c9-a5e7-942fd1220978\", [{\"type\": \"bar\", \"x\": [\"2017\", \"2016\", \"2015\", \"2014\", \"2013\", \"2012\"], \"y\": [32.926829268292686, 50.0, 51.21951219512195, 60.97560975609756, 58.536585365853654, 54.87804878048781], \"name\": \"Win Loss Percentage\", \"marker\": {\"color\": \"rgb(green)\"}}, {\"type\": \"bar\", \"x\": [\"2017\", \"2016\", \"2015\", \"2014\", \"2013\", \"2012\"], \"y\": [34.99862750480373, 25.640666573309062, 24.449093444909344, 26.850080918052083, 22.18336627641782, 18.886234696924458], \"name\": \"3 Point Attempt %\", \"marker\": {\"color\": \"rgb(55,83,109)\"}}], {\"title\": \"Win/Loss VS 3 Point Attempt % For CHI\", \"xaxis\": {\"title\": \"Season\"}}, {\"showLink\": true, \"linkText\": \"Export to plot.ly\"})});</script>"
      ],
      "text/vnd.plotly.v1+html": [
       "<div id=\"64c11099-21a9-44c9-a5e7-942fd1220978\" style=\"height: 525px; width: 100%;\" class=\"plotly-graph-div\"></div><script type=\"text/javascript\">require([\"plotly\"], function(Plotly) { window.PLOTLYENV=window.PLOTLYENV || {};window.PLOTLYENV.BASE_URL=\"https://plot.ly\";Plotly.newPlot(\"64c11099-21a9-44c9-a5e7-942fd1220978\", [{\"type\": \"bar\", \"x\": [\"2017\", \"2016\", \"2015\", \"2014\", \"2013\", \"2012\"], \"y\": [32.926829268292686, 50.0, 51.21951219512195, 60.97560975609756, 58.536585365853654, 54.87804878048781], \"name\": \"Win Loss Percentage\", \"marker\": {\"color\": \"rgb(green)\"}}, {\"type\": \"bar\", \"x\": [\"2017\", \"2016\", \"2015\", \"2014\", \"2013\", \"2012\"], \"y\": [34.99862750480373, 25.640666573309062, 24.449093444909344, 26.850080918052083, 22.18336627641782, 18.886234696924458], \"name\": \"3 Point Attempt %\", \"marker\": {\"color\": \"rgb(55,83,109)\"}}], {\"title\": \"Win/Loss VS 3 Point Attempt % For CHI\", \"xaxis\": {\"title\": \"Season\"}}, {\"showLink\": true, \"linkText\": \"Export to plot.ly\"})});</script>"
      ]
     },
     "metadata": {},
     "output_type": "display_data"
    },
    {
     "data": {
      "application/vnd.plotly.v1+json": {
       "data": [
        {
         "marker": {
          "color": "rgb(green)"
         },
         "name": "Win Loss Percentage",
         "type": "bar",
         "x": [
          "2017",
          "2016",
          "2015",
          "2014",
          "2013",
          "2012"
         ],
         "y": [
          60.97560975609756,
          62.19512195121951,
          69.51219512195121,
          64.63414634146342,
          40.243902439024396,
          29.268292682926827
         ]
        },
        {
         "marker": {
          "color": "rgb(55,83,109)"
         },
         "name": "3 Point Attempt %",
         "type": "bar",
         "x": [
          "2017",
          "2016",
          "2015",
          "2014",
          "2013",
          "2012"
         ],
         "y": [
          37.92805755395683,
          39.910957920436594,
          35.249709639953544,
          33.43225997922541,
          23.58015815959741,
          22.909723228517606
         ]
        }
       ],
       "layout": {
        "title": "Win/Loss VS 3 Point Attempt % For CLE",
        "xaxis": {
         "title": "Season"
        }
       }
      },
      "text/html": [
       "<div id=\"dbdfeb44-0642-4b4a-a2f4-0f3b69ea7734\" style=\"height: 525px; width: 100%;\" class=\"plotly-graph-div\"></div><script type=\"text/javascript\">require([\"plotly\"], function(Plotly) { window.PLOTLYENV=window.PLOTLYENV || {};window.PLOTLYENV.BASE_URL=\"https://plot.ly\";Plotly.newPlot(\"dbdfeb44-0642-4b4a-a2f4-0f3b69ea7734\", [{\"type\": \"bar\", \"x\": [\"2017\", \"2016\", \"2015\", \"2014\", \"2013\", \"2012\"], \"y\": [60.97560975609756, 62.19512195121951, 69.51219512195121, 64.63414634146342, 40.243902439024396, 29.268292682926827], \"name\": \"Win Loss Percentage\", \"marker\": {\"color\": \"rgb(green)\"}}, {\"type\": \"bar\", \"x\": [\"2017\", \"2016\", \"2015\", \"2014\", \"2013\", \"2012\"], \"y\": [37.92805755395683, 39.910957920436594, 35.249709639953544, 33.43225997922541, 23.58015815959741, 22.909723228517606], \"name\": \"3 Point Attempt %\", \"marker\": {\"color\": \"rgb(55,83,109)\"}}], {\"title\": \"Win/Loss VS 3 Point Attempt % For CLE\", \"xaxis\": {\"title\": \"Season\"}}, {\"showLink\": true, \"linkText\": \"Export to plot.ly\"})});</script>"
      ],
      "text/vnd.plotly.v1+html": [
       "<div id=\"dbdfeb44-0642-4b4a-a2f4-0f3b69ea7734\" style=\"height: 525px; width: 100%;\" class=\"plotly-graph-div\"></div><script type=\"text/javascript\">require([\"plotly\"], function(Plotly) { window.PLOTLYENV=window.PLOTLYENV || {};window.PLOTLYENV.BASE_URL=\"https://plot.ly\";Plotly.newPlot(\"dbdfeb44-0642-4b4a-a2f4-0f3b69ea7734\", [{\"type\": \"bar\", \"x\": [\"2017\", \"2016\", \"2015\", \"2014\", \"2013\", \"2012\"], \"y\": [60.97560975609756, 62.19512195121951, 69.51219512195121, 64.63414634146342, 40.243902439024396, 29.268292682926827], \"name\": \"Win Loss Percentage\", \"marker\": {\"color\": \"rgb(green)\"}}, {\"type\": \"bar\", \"x\": [\"2017\", \"2016\", \"2015\", \"2014\", \"2013\", \"2012\"], \"y\": [37.92805755395683, 39.910957920436594, 35.249709639953544, 33.43225997922541, 23.58015815959741, 22.909723228517606], \"name\": \"3 Point Attempt %\", \"marker\": {\"color\": \"rgb(55,83,109)\"}}], {\"title\": \"Win/Loss VS 3 Point Attempt % For CLE\", \"xaxis\": {\"title\": \"Season\"}}, {\"showLink\": true, \"linkText\": \"Export to plot.ly\"})});</script>"
      ]
     },
     "metadata": {},
     "output_type": "display_data"
    },
    {
     "data": {
      "application/vnd.plotly.v1+json": {
       "data": [
        {
         "marker": {
          "color": "rgb(green)"
         },
         "name": "Win Loss Percentage",
         "type": "bar",
         "x": [
          "2017",
          "2016",
          "2015",
          "2014",
          "2013",
          "2012"
         ],
         "y": [
          29.268292682926827,
          40.243902439024396,
          51.21951219512195,
          60.97560975609756,
          59.756097560975604,
          50
         ]
        },
        {
         "marker": {
          "color": "rgb(55,83,109)"
         },
         "name": "3 Point Attempt %",
         "type": "bar",
         "x": [
          "2017",
          "2016",
          "2015",
          "2014",
          "2013",
          "2012"
         ],
         "y": [
          38.17639539838091,
          36.63703703703703,
          33.94202898550724,
          29.590676520750424,
          27.369495479731697,
          23.621590249564715
         ]
        }
       ],
       "layout": {
        "title": "Win/Loss VS 3 Point Attempt % For DAL",
        "xaxis": {
         "title": "Season"
        }
       }
      },
      "text/html": [
       "<div id=\"f09963f6-9dec-4845-b810-7d1ff187f98b\" style=\"height: 525px; width: 100%;\" class=\"plotly-graph-div\"></div><script type=\"text/javascript\">require([\"plotly\"], function(Plotly) { window.PLOTLYENV=window.PLOTLYENV || {};window.PLOTLYENV.BASE_URL=\"https://plot.ly\";Plotly.newPlot(\"f09963f6-9dec-4845-b810-7d1ff187f98b\", [{\"type\": \"bar\", \"x\": [\"2017\", \"2016\", \"2015\", \"2014\", \"2013\", \"2012\"], \"y\": [29.268292682926827, 40.243902439024396, 51.21951219512195, 60.97560975609756, 59.756097560975604, 50.0], \"name\": \"Win Loss Percentage\", \"marker\": {\"color\": \"rgb(green)\"}}, {\"type\": \"bar\", \"x\": [\"2017\", \"2016\", \"2015\", \"2014\", \"2013\", \"2012\"], \"y\": [38.17639539838091, 36.63703703703703, 33.94202898550724, 29.590676520750424, 27.369495479731697, 23.621590249564715], \"name\": \"3 Point Attempt %\", \"marker\": {\"color\": \"rgb(55,83,109)\"}}], {\"title\": \"Win/Loss VS 3 Point Attempt % For DAL\", \"xaxis\": {\"title\": \"Season\"}}, {\"showLink\": true, \"linkText\": \"Export to plot.ly\"})});</script>"
      ],
      "text/vnd.plotly.v1+html": [
       "<div id=\"f09963f6-9dec-4845-b810-7d1ff187f98b\" style=\"height: 525px; width: 100%;\" class=\"plotly-graph-div\"></div><script type=\"text/javascript\">require([\"plotly\"], function(Plotly) { window.PLOTLYENV=window.PLOTLYENV || {};window.PLOTLYENV.BASE_URL=\"https://plot.ly\";Plotly.newPlot(\"f09963f6-9dec-4845-b810-7d1ff187f98b\", [{\"type\": \"bar\", \"x\": [\"2017\", \"2016\", \"2015\", \"2014\", \"2013\", \"2012\"], \"y\": [29.268292682926827, 40.243902439024396, 51.21951219512195, 60.97560975609756, 59.756097560975604, 50.0], \"name\": \"Win Loss Percentage\", \"marker\": {\"color\": \"rgb(green)\"}}, {\"type\": \"bar\", \"x\": [\"2017\", \"2016\", \"2015\", \"2014\", \"2013\", \"2012\"], \"y\": [38.17639539838091, 36.63703703703703, 33.94202898550724, 29.590676520750424, 27.369495479731697, 23.621590249564715], \"name\": \"3 Point Attempt %\", \"marker\": {\"color\": \"rgb(55,83,109)\"}}], {\"title\": \"Win/Loss VS 3 Point Attempt % For DAL\", \"xaxis\": {\"title\": \"Season\"}}, {\"showLink\": true, \"linkText\": \"Export to plot.ly\"})});</script>"
      ]
     },
     "metadata": {},
     "output_type": "display_data"
    },
    {
     "data": {
      "application/vnd.plotly.v1+json": {
       "data": [
        {
         "marker": {
          "color": "rgb(green)"
         },
         "name": "Win Loss Percentage",
         "type": "bar",
         "x": [
          "2017",
          "2016",
          "2015",
          "2014",
          "2013",
          "2012"
         ],
         "y": [
          56.09756097560976,
          48.78048780487805,
          40.243902439024396,
          36.58536585365854,
          43.90243902439025,
          69.51219512195121
         ]
        },
        {
         "marker": {
          "color": "rgb(55,83,109)"
         },
         "name": "3 Point Attempt %",
         "type": "bar",
         "x": [
          "2017",
          "2016",
          "2015",
          "2014",
          "2013",
          "2012"
         ],
         "y": [
          35.70825119684596,
          32.87461773700306,
          27.74525203484221,
          28.38781782620844,
          27.818801476853167,
          21.73850780466848
         ]
        }
       ],
       "layout": {
        "title": "Win/Loss VS 3 Point Attempt % For DEN",
        "xaxis": {
         "title": "Season"
        }
       }
      },
      "text/html": [
       "<div id=\"dd5ab764-48d1-44ab-b1e8-421ea958fc49\" style=\"height: 525px; width: 100%;\" class=\"plotly-graph-div\"></div><script type=\"text/javascript\">require([\"plotly\"], function(Plotly) { window.PLOTLYENV=window.PLOTLYENV || {};window.PLOTLYENV.BASE_URL=\"https://plot.ly\";Plotly.newPlot(\"dd5ab764-48d1-44ab-b1e8-421ea958fc49\", [{\"type\": \"bar\", \"x\": [\"2017\", \"2016\", \"2015\", \"2014\", \"2013\", \"2012\"], \"y\": [56.09756097560976, 48.78048780487805, 40.243902439024396, 36.58536585365854, 43.90243902439025, 69.51219512195121], \"name\": \"Win Loss Percentage\", \"marker\": {\"color\": \"rgb(green)\"}}, {\"type\": \"bar\", \"x\": [\"2017\", \"2016\", \"2015\", \"2014\", \"2013\", \"2012\"], \"y\": [35.70825119684596, 32.87461773700306, 27.74525203484221, 28.38781782620844, 27.818801476853167, 21.73850780466848], \"name\": \"3 Point Attempt %\", \"marker\": {\"color\": \"rgb(55,83,109)\"}}], {\"title\": \"Win/Loss VS 3 Point Attempt % For DEN\", \"xaxis\": {\"title\": \"Season\"}}, {\"showLink\": true, \"linkText\": \"Export to plot.ly\"})});</script>"
      ],
      "text/vnd.plotly.v1+html": [
       "<div id=\"dd5ab764-48d1-44ab-b1e8-421ea958fc49\" style=\"height: 525px; width: 100%;\" class=\"plotly-graph-div\"></div><script type=\"text/javascript\">require([\"plotly\"], function(Plotly) { window.PLOTLYENV=window.PLOTLYENV || {};window.PLOTLYENV.BASE_URL=\"https://plot.ly\";Plotly.newPlot(\"dd5ab764-48d1-44ab-b1e8-421ea958fc49\", [{\"type\": \"bar\", \"x\": [\"2017\", \"2016\", \"2015\", \"2014\", \"2013\", \"2012\"], \"y\": [56.09756097560976, 48.78048780487805, 40.243902439024396, 36.58536585365854, 43.90243902439025, 69.51219512195121], \"name\": \"Win Loss Percentage\", \"marker\": {\"color\": \"rgb(green)\"}}, {\"type\": \"bar\", \"x\": [\"2017\", \"2016\", \"2015\", \"2014\", \"2013\", \"2012\"], \"y\": [35.70825119684596, 32.87461773700306, 27.74525203484221, 28.38781782620844, 27.818801476853167, 21.73850780466848], \"name\": \"3 Point Attempt %\", \"marker\": {\"color\": \"rgb(55,83,109)\"}}], {\"title\": \"Win/Loss VS 3 Point Attempt % For DEN\", \"xaxis\": {\"title\": \"Season\"}}, {\"showLink\": true, \"linkText\": \"Export to plot.ly\"})});</script>"
      ]
     },
     "metadata": {},
     "output_type": "display_data"
    },
    {
     "data": {
      "application/vnd.plotly.v1+json": {
       "data": [
        {
         "marker": {
          "color": "rgb(green)"
         },
         "name": "Win Loss Percentage",
         "type": "bar",
         "x": [
          "2017",
          "2016",
          "2015",
          "2014",
          "2013",
          "2012"
         ],
         "y": [
          47.5609756097561,
          45.1219512195122,
          53.65853658536586,
          39.02439024390244,
          35.36585365853659,
          35.36585365853659
         ]
        },
        {
         "marker": {
          "color": "rgb(55,83,109)"
         },
         "name": "3 Point Attempt %",
         "type": "bar",
         "x": [
          "2017",
          "2016",
          "2015",
          "2014",
          "2013",
          "2012"
         ],
         "y": [
          33.28657595735727,
          26.297720406481734,
          30.309016509101173,
          29.028132992327365,
          22.178551375631667,
          21.6932811087677
         ]
        }
       ],
       "layout": {
        "title": "Win/Loss VS 3 Point Attempt % For DET",
        "xaxis": {
         "title": "Season"
        }
       }
      },
      "text/html": [
       "<div id=\"cb7cd522-890e-4d3f-a5a5-3440d142b16a\" style=\"height: 525px; width: 100%;\" class=\"plotly-graph-div\"></div><script type=\"text/javascript\">require([\"plotly\"], function(Plotly) { window.PLOTLYENV=window.PLOTLYENV || {};window.PLOTLYENV.BASE_URL=\"https://plot.ly\";Plotly.newPlot(\"cb7cd522-890e-4d3f-a5a5-3440d142b16a\", [{\"type\": \"bar\", \"x\": [\"2017\", \"2016\", \"2015\", \"2014\", \"2013\", \"2012\"], \"y\": [47.5609756097561, 45.1219512195122, 53.65853658536586, 39.02439024390244, 35.36585365853659, 35.36585365853659], \"name\": \"Win Loss Percentage\", \"marker\": {\"color\": \"rgb(green)\"}}, {\"type\": \"bar\", \"x\": [\"2017\", \"2016\", \"2015\", \"2014\", \"2013\", \"2012\"], \"y\": [33.28657595735727, 26.297720406481734, 30.309016509101173, 29.028132992327365, 22.178551375631667, 21.6932811087677], \"name\": \"3 Point Attempt %\", \"marker\": {\"color\": \"rgb(55,83,109)\"}}], {\"title\": \"Win/Loss VS 3 Point Attempt % For DET\", \"xaxis\": {\"title\": \"Season\"}}, {\"showLink\": true, \"linkText\": \"Export to plot.ly\"})});</script>"
      ],
      "text/vnd.plotly.v1+html": [
       "<div id=\"cb7cd522-890e-4d3f-a5a5-3440d142b16a\" style=\"height: 525px; width: 100%;\" class=\"plotly-graph-div\"></div><script type=\"text/javascript\">require([\"plotly\"], function(Plotly) { window.PLOTLYENV=window.PLOTLYENV || {};window.PLOTLYENV.BASE_URL=\"https://plot.ly\";Plotly.newPlot(\"cb7cd522-890e-4d3f-a5a5-3440d142b16a\", [{\"type\": \"bar\", \"x\": [\"2017\", \"2016\", \"2015\", \"2014\", \"2013\", \"2012\"], \"y\": [47.5609756097561, 45.1219512195122, 53.65853658536586, 39.02439024390244, 35.36585365853659, 35.36585365853659], \"name\": \"Win Loss Percentage\", \"marker\": {\"color\": \"rgb(green)\"}}, {\"type\": \"bar\", \"x\": [\"2017\", \"2016\", \"2015\", \"2014\", \"2013\", \"2012\"], \"y\": [33.28657595735727, 26.297720406481734, 30.309016509101173, 29.028132992327365, 22.178551375631667, 21.6932811087677], \"name\": \"3 Point Attempt %\", \"marker\": {\"color\": \"rgb(55,83,109)\"}}], {\"title\": \"Win/Loss VS 3 Point Attempt % For DET\", \"xaxis\": {\"title\": \"Season\"}}, {\"showLink\": true, \"linkText\": \"Export to plot.ly\"})});</script>"
      ]
     },
     "metadata": {},
     "output_type": "display_data"
    },
    {
     "data": {
      "application/vnd.plotly.v1+json": {
       "data": [
        {
         "marker": {
          "color": "rgb(green)"
         },
         "name": "Win Loss Percentage",
         "type": "bar",
         "x": [
          "2017",
          "2016",
          "2015",
          "2014",
          "2013",
          "2012"
         ],
         "y": [
          70.73170731707317,
          81.70731707317073,
          89.02439024390245,
          81.70731707317073,
          62.19512195121951,
          57.3170731707317
         ]
        },
        {
         "marker": {
          "color": "rgb(55,83,109)"
         },
         "name": "3 Point Attempt %",
         "type": "bar",
         "x": [
          "2017",
          "2016",
          "2015",
          "2014",
          "2013",
          "2012"
         ],
         "y": [
          33.939828080229226,
          35.88235294117647,
          36.20617404665456,
          31.063472047078605,
          29.079229122055672,
          23.859649122807017
         ]
        }
       ],
       "layout": {
        "title": "Win/Loss VS 3 Point Attempt % For GSW",
        "xaxis": {
         "title": "Season"
        }
       }
      },
      "text/html": [
       "<div id=\"451727f0-3072-4444-a141-eea0fcc0cbe3\" style=\"height: 525px; width: 100%;\" class=\"plotly-graph-div\"></div><script type=\"text/javascript\">require([\"plotly\"], function(Plotly) { window.PLOTLYENV=window.PLOTLYENV || {};window.PLOTLYENV.BASE_URL=\"https://plot.ly\";Plotly.newPlot(\"451727f0-3072-4444-a141-eea0fcc0cbe3\", [{\"type\": \"bar\", \"x\": [\"2017\", \"2016\", \"2015\", \"2014\", \"2013\", \"2012\"], \"y\": [70.73170731707317, 81.70731707317073, 89.02439024390245, 81.70731707317073, 62.19512195121951, 57.3170731707317], \"name\": \"Win Loss Percentage\", \"marker\": {\"color\": \"rgb(green)\"}}, {\"type\": \"bar\", \"x\": [\"2017\", \"2016\", \"2015\", \"2014\", \"2013\", \"2012\"], \"y\": [33.939828080229226, 35.88235294117647, 36.20617404665456, 31.063472047078605, 29.079229122055672, 23.859649122807017], \"name\": \"3 Point Attempt %\", \"marker\": {\"color\": \"rgb(55,83,109)\"}}], {\"title\": \"Win/Loss VS 3 Point Attempt % For GSW\", \"xaxis\": {\"title\": \"Season\"}}, {\"showLink\": true, \"linkText\": \"Export to plot.ly\"})});</script>"
      ],
      "text/vnd.plotly.v1+html": [
       "<div id=\"451727f0-3072-4444-a141-eea0fcc0cbe3\" style=\"height: 525px; width: 100%;\" class=\"plotly-graph-div\"></div><script type=\"text/javascript\">require([\"plotly\"], function(Plotly) { window.PLOTLYENV=window.PLOTLYENV || {};window.PLOTLYENV.BASE_URL=\"https://plot.ly\";Plotly.newPlot(\"451727f0-3072-4444-a141-eea0fcc0cbe3\", [{\"type\": \"bar\", \"x\": [\"2017\", \"2016\", \"2015\", \"2014\", \"2013\", \"2012\"], \"y\": [70.73170731707317, 81.70731707317073, 89.02439024390245, 81.70731707317073, 62.19512195121951, 57.3170731707317], \"name\": \"Win Loss Percentage\", \"marker\": {\"color\": \"rgb(green)\"}}, {\"type\": \"bar\", \"x\": [\"2017\", \"2016\", \"2015\", \"2014\", \"2013\", \"2012\"], \"y\": [33.939828080229226, 35.88235294117647, 36.20617404665456, 31.063472047078605, 29.079229122055672, 23.859649122807017], \"name\": \"3 Point Attempt %\", \"marker\": {\"color\": \"rgb(55,83,109)\"}}], {\"title\": \"Win/Loss VS 3 Point Attempt % For GSW\", \"xaxis\": {\"title\": \"Season\"}}, {\"showLink\": true, \"linkText\": \"Export to plot.ly\"})});</script>"
      ]
     },
     "metadata": {},
     "output_type": "display_data"
    },
    {
     "data": {
      "application/vnd.plotly.v1+json": {
       "data": [
        {
         "marker": {
          "color": "rgb(green)"
         },
         "name": "Win Loss Percentage",
         "type": "bar",
         "x": [
          "2017",
          "2016",
          "2015",
          "2014",
          "2013",
          "2012"
         ],
         "y": [
          79.26829268292683,
          67.07317073170732,
          50,
          68.29268292682927,
          65.85365853658537,
          54.87804878048781
         ]
        },
        {
         "marker": {
          "color": "rgb(55,83,109)"
         },
         "name": "3 Point Attempt %",
         "type": "bar",
         "x": [
          "2017",
          "2016",
          "2015",
          "2014",
          "2013",
          "2012"
         ],
         "y": [
          50.24616275702288,
          46.2248322147651,
          36.994304074777276,
          39.2271662763466,
          33.00015144631228,
          34.93069890887644
         ]
        }
       ],
       "layout": {
        "title": "Win/Loss VS 3 Point Attempt % For HOU",
        "xaxis": {
         "title": "Season"
        }
       }
      },
      "text/html": [
       "<div id=\"128cde48-02ea-47e6-98ae-05cdc42f3f78\" style=\"height: 525px; width: 100%;\" class=\"plotly-graph-div\"></div><script type=\"text/javascript\">require([\"plotly\"], function(Plotly) { window.PLOTLYENV=window.PLOTLYENV || {};window.PLOTLYENV.BASE_URL=\"https://plot.ly\";Plotly.newPlot(\"128cde48-02ea-47e6-98ae-05cdc42f3f78\", [{\"type\": \"bar\", \"x\": [\"2017\", \"2016\", \"2015\", \"2014\", \"2013\", \"2012\"], \"y\": [79.26829268292683, 67.07317073170732, 50.0, 68.29268292682927, 65.85365853658537, 54.87804878048781], \"name\": \"Win Loss Percentage\", \"marker\": {\"color\": \"rgb(green)\"}}, {\"type\": \"bar\", \"x\": [\"2017\", \"2016\", \"2015\", \"2014\", \"2013\", \"2012\"], \"y\": [50.24616275702288, 46.2248322147651, 36.994304074777276, 39.2271662763466, 33.00015144631228, 34.93069890887644], \"name\": \"3 Point Attempt %\", \"marker\": {\"color\": \"rgb(55,83,109)\"}}], {\"title\": \"Win/Loss VS 3 Point Attempt % For HOU\", \"xaxis\": {\"title\": \"Season\"}}, {\"showLink\": true, \"linkText\": \"Export to plot.ly\"})});</script>"
      ],
      "text/vnd.plotly.v1+html": [
       "<div id=\"128cde48-02ea-47e6-98ae-05cdc42f3f78\" style=\"height: 525px; width: 100%;\" class=\"plotly-graph-div\"></div><script type=\"text/javascript\">require([\"plotly\"], function(Plotly) { window.PLOTLYENV=window.PLOTLYENV || {};window.PLOTLYENV.BASE_URL=\"https://plot.ly\";Plotly.newPlot(\"128cde48-02ea-47e6-98ae-05cdc42f3f78\", [{\"type\": \"bar\", \"x\": [\"2017\", \"2016\", \"2015\", \"2014\", \"2013\", \"2012\"], \"y\": [79.26829268292683, 67.07317073170732, 50.0, 68.29268292682927, 65.85365853658537, 54.87804878048781], \"name\": \"Win Loss Percentage\", \"marker\": {\"color\": \"rgb(green)\"}}, {\"type\": \"bar\", \"x\": [\"2017\", \"2016\", \"2015\", \"2014\", \"2013\", \"2012\"], \"y\": [50.24616275702288, 46.2248322147651, 36.994304074777276, 39.2271662763466, 33.00015144631228, 34.93069890887644], \"name\": \"3 Point Attempt %\", \"marker\": {\"color\": \"rgb(55,83,109)\"}}], {\"title\": \"Win/Loss VS 3 Point Attempt % For HOU\", \"xaxis\": {\"title\": \"Season\"}}, {\"showLink\": true, \"linkText\": \"Export to plot.ly\"})});</script>"
      ]
     },
     "metadata": {},
     "output_type": "display_data"
    },
    {
     "data": {
      "application/vnd.plotly.v1+json": {
       "data": [
        {
         "marker": {
          "color": "rgb(green)"
         },
         "name": "Win Loss Percentage",
         "type": "bar",
         "x": [
          "2017",
          "2016",
          "2015",
          "2014",
          "2013",
          "2012"
         ],
         "y": [
          58.536585365853654,
          51.21951219512195,
          54.87804878048781,
          46.34146341463415,
          68.29268292682927,
          60.49382716049383
         ]
        },
        {
         "marker": {
          "color": "rgb(55,83,109)"
         },
         "name": "3 Point Attempt %",
         "type": "bar",
         "x": [
          "2017",
          "2016",
          "2015",
          "2014",
          "2013",
          "2012"
         ],
         "y": [
          28.377806014400676,
          27.19665271966527,
          27.0436649964209,
          25.498241500586165,
          23.45960748516659,
          24.50574712643678
         ]
        }
       ],
       "layout": {
        "title": "Win/Loss VS 3 Point Attempt % For IND",
        "xaxis": {
         "title": "Season"
        }
       }
      },
      "text/html": [
       "<div id=\"8d39d256-5b20-492b-a2cd-34ff102259cb\" style=\"height: 525px; width: 100%;\" class=\"plotly-graph-div\"></div><script type=\"text/javascript\">require([\"plotly\"], function(Plotly) { window.PLOTLYENV=window.PLOTLYENV || {};window.PLOTLYENV.BASE_URL=\"https://plot.ly\";Plotly.newPlot(\"8d39d256-5b20-492b-a2cd-34ff102259cb\", [{\"type\": \"bar\", \"x\": [\"2017\", \"2016\", \"2015\", \"2014\", \"2013\", \"2012\"], \"y\": [58.536585365853654, 51.21951219512195, 54.87804878048781, 46.34146341463415, 68.29268292682927, 60.49382716049383], \"name\": \"Win Loss Percentage\", \"marker\": {\"color\": \"rgb(green)\"}}, {\"type\": \"bar\", \"x\": [\"2017\", \"2016\", \"2015\", \"2014\", \"2013\", \"2012\"], \"y\": [28.377806014400676, 27.19665271966527, 27.0436649964209, 25.498241500586165, 23.45960748516659, 24.50574712643678], \"name\": \"3 Point Attempt %\", \"marker\": {\"color\": \"rgb(55,83,109)\"}}], {\"title\": \"Win/Loss VS 3 Point Attempt % For IND\", \"xaxis\": {\"title\": \"Season\"}}, {\"showLink\": true, \"linkText\": \"Export to plot.ly\"})});</script>"
      ],
      "text/vnd.plotly.v1+html": [
       "<div id=\"8d39d256-5b20-492b-a2cd-34ff102259cb\" style=\"height: 525px; width: 100%;\" class=\"plotly-graph-div\"></div><script type=\"text/javascript\">require([\"plotly\"], function(Plotly) { window.PLOTLYENV=window.PLOTLYENV || {};window.PLOTLYENV.BASE_URL=\"https://plot.ly\";Plotly.newPlot(\"8d39d256-5b20-492b-a2cd-34ff102259cb\", [{\"type\": \"bar\", \"x\": [\"2017\", \"2016\", \"2015\", \"2014\", \"2013\", \"2012\"], \"y\": [58.536585365853654, 51.21951219512195, 54.87804878048781, 46.34146341463415, 68.29268292682927, 60.49382716049383], \"name\": \"Win Loss Percentage\", \"marker\": {\"color\": \"rgb(green)\"}}, {\"type\": \"bar\", \"x\": [\"2017\", \"2016\", \"2015\", \"2014\", \"2013\", \"2012\"], \"y\": [28.377806014400676, 27.19665271966527, 27.0436649964209, 25.498241500586165, 23.45960748516659, 24.50574712643678], \"name\": \"3 Point Attempt %\", \"marker\": {\"color\": \"rgb(55,83,109)\"}}], {\"title\": \"Win/Loss VS 3 Point Attempt % For IND\", \"xaxis\": {\"title\": \"Season\"}}, {\"showLink\": true, \"linkText\": \"Export to plot.ly\"})});</script>"
      ]
     },
     "metadata": {},
     "output_type": "display_data"
    },
    {
     "data": {
      "application/vnd.plotly.v1+json": {
       "data": [
        {
         "marker": {
          "color": "rgb(green)"
         },
         "name": "Win Loss Percentage",
         "type": "bar",
         "x": [
          "2017",
          "2016",
          "2015",
          "2014",
          "2013",
          "2012"
         ],
         "y": [
          51.21951219512195,
          62.19512195121951,
          64.63414634146342,
          68.29268292682927,
          69.51219512195121,
          68.29268292682927
         ]
        },
        {
         "marker": {
          "color": "rgb(55,83,109)"
         },
         "name": "3 Point Attempt %",
         "type": "bar",
         "x": [
          "2017",
          "2016",
          "2015",
          "2014",
          "2013",
          "2012"
         ],
         "y": [
          31.353512278697888,
          32.91788856304985,
          32.40124278739459,
          32.24011713030747,
          29.078538677710398,
          26.513317191283292
         ]
        }
       ],
       "layout": {
        "title": "Win/Loss VS 3 Point Attempt % For LAC",
        "xaxis": {
         "title": "Season"
        }
       }
      },
      "text/html": [
       "<div id=\"07d7c39d-13ed-4edf-866c-2b3ce884c3d8\" style=\"height: 525px; width: 100%;\" class=\"plotly-graph-div\"></div><script type=\"text/javascript\">require([\"plotly\"], function(Plotly) { window.PLOTLYENV=window.PLOTLYENV || {};window.PLOTLYENV.BASE_URL=\"https://plot.ly\";Plotly.newPlot(\"07d7c39d-13ed-4edf-866c-2b3ce884c3d8\", [{\"type\": \"bar\", \"x\": [\"2017\", \"2016\", \"2015\", \"2014\", \"2013\", \"2012\"], \"y\": [51.21951219512195, 62.19512195121951, 64.63414634146342, 68.29268292682927, 69.51219512195121, 68.29268292682927], \"name\": \"Win Loss Percentage\", \"marker\": {\"color\": \"rgb(green)\"}}, {\"type\": \"bar\", \"x\": [\"2017\", \"2016\", \"2015\", \"2014\", \"2013\", \"2012\"], \"y\": [31.353512278697888, 32.91788856304985, 32.40124278739459, 32.24011713030747, 29.078538677710398, 26.513317191283292], \"name\": \"3 Point Attempt %\", \"marker\": {\"color\": \"rgb(55,83,109)\"}}], {\"title\": \"Win/Loss VS 3 Point Attempt % For LAC\", \"xaxis\": {\"title\": \"Season\"}}, {\"showLink\": true, \"linkText\": \"Export to plot.ly\"})});</script>"
      ],
      "text/vnd.plotly.v1+html": [
       "<div id=\"07d7c39d-13ed-4edf-866c-2b3ce884c3d8\" style=\"height: 525px; width: 100%;\" class=\"plotly-graph-div\"></div><script type=\"text/javascript\">require([\"plotly\"], function(Plotly) { window.PLOTLYENV=window.PLOTLYENV || {};window.PLOTLYENV.BASE_URL=\"https://plot.ly\";Plotly.newPlot(\"07d7c39d-13ed-4edf-866c-2b3ce884c3d8\", [{\"type\": \"bar\", \"x\": [\"2017\", \"2016\", \"2015\", \"2014\", \"2013\", \"2012\"], \"y\": [51.21951219512195, 62.19512195121951, 64.63414634146342, 68.29268292682927, 69.51219512195121, 68.29268292682927], \"name\": \"Win Loss Percentage\", \"marker\": {\"color\": \"rgb(green)\"}}, {\"type\": \"bar\", \"x\": [\"2017\", \"2016\", \"2015\", \"2014\", \"2013\", \"2012\"], \"y\": [31.353512278697888, 32.91788856304985, 32.40124278739459, 32.24011713030747, 29.078538677710398, 26.513317191283292], \"name\": \"3 Point Attempt %\", \"marker\": {\"color\": \"rgb(55,83,109)\"}}], {\"title\": \"Win/Loss VS 3 Point Attempt % For LAC\", \"xaxis\": {\"title\": \"Season\"}}, {\"showLink\": true, \"linkText\": \"Export to plot.ly\"})});</script>"
      ]
     },
     "metadata": {},
     "output_type": "display_data"
    },
    {
     "data": {
      "application/vnd.plotly.v1+json": {
       "data": [
        {
         "marker": {
          "color": "rgb(green)"
         },
         "name": "Win Loss Percentage",
         "type": "bar",
         "x": [
          "2017",
          "2016",
          "2015",
          "2014",
          "2013",
          "2012"
         ],
         "y": [
          42.68292682926829,
          31.70731707317073,
          20.73170731707317,
          25.609756097560975,
          32.926829268292686,
          54.87804878048781
         ]
        },
        {
         "marker": {
          "color": "rgb(55,83,109)"
         },
         "name": "3 Point Attempt %",
         "type": "bar",
         "x": [
          "2017",
          "2016",
          "2015",
          "2014",
          "2013",
          "2012"
         ],
         "y": [
          32.89183222958057,
          29.45281965382468,
          28.982173663024728,
          22.02279202279202,
          29.111747851002868,
          30.346385542168676
         ]
        }
       ],
       "layout": {
        "title": "Win/Loss VS 3 Point Attempt % For LAL",
        "xaxis": {
         "title": "Season"
        }
       }
      },
      "text/html": [
       "<div id=\"c15be035-c2b3-4d38-ac63-b98f7aee8413\" style=\"height: 525px; width: 100%;\" class=\"plotly-graph-div\"></div><script type=\"text/javascript\">require([\"plotly\"], function(Plotly) { window.PLOTLYENV=window.PLOTLYENV || {};window.PLOTLYENV.BASE_URL=\"https://plot.ly\";Plotly.newPlot(\"c15be035-c2b3-4d38-ac63-b98f7aee8413\", [{\"type\": \"bar\", \"x\": [\"2017\", \"2016\", \"2015\", \"2014\", \"2013\", \"2012\"], \"y\": [42.68292682926829, 31.70731707317073, 20.73170731707317, 25.609756097560975, 32.926829268292686, 54.87804878048781], \"name\": \"Win Loss Percentage\", \"marker\": {\"color\": \"rgb(green)\"}}, {\"type\": \"bar\", \"x\": [\"2017\", \"2016\", \"2015\", \"2014\", \"2013\", \"2012\"], \"y\": [32.89183222958057, 29.45281965382468, 28.982173663024728, 22.02279202279202, 29.111747851002868, 30.346385542168676], \"name\": \"3 Point Attempt %\", \"marker\": {\"color\": \"rgb(55,83,109)\"}}], {\"title\": \"Win/Loss VS 3 Point Attempt % For LAL\", \"xaxis\": {\"title\": \"Season\"}}, {\"showLink\": true, \"linkText\": \"Export to plot.ly\"})});</script>"
      ],
      "text/vnd.plotly.v1+html": [
       "<div id=\"c15be035-c2b3-4d38-ac63-b98f7aee8413\" style=\"height: 525px; width: 100%;\" class=\"plotly-graph-div\"></div><script type=\"text/javascript\">require([\"plotly\"], function(Plotly) { window.PLOTLYENV=window.PLOTLYENV || {};window.PLOTLYENV.BASE_URL=\"https://plot.ly\";Plotly.newPlot(\"c15be035-c2b3-4d38-ac63-b98f7aee8413\", [{\"type\": \"bar\", \"x\": [\"2017\", \"2016\", \"2015\", \"2014\", \"2013\", \"2012\"], \"y\": [42.68292682926829, 31.70731707317073, 20.73170731707317, 25.609756097560975, 32.926829268292686, 54.87804878048781], \"name\": \"Win Loss Percentage\", \"marker\": {\"color\": \"rgb(green)\"}}, {\"type\": \"bar\", \"x\": [\"2017\", \"2016\", \"2015\", \"2014\", \"2013\", \"2012\"], \"y\": [32.89183222958057, 29.45281965382468, 28.982173663024728, 22.02279202279202, 29.111747851002868, 30.346385542168676], \"name\": \"3 Point Attempt %\", \"marker\": {\"color\": \"rgb(55,83,109)\"}}], {\"title\": \"Win/Loss VS 3 Point Attempt % For LAL\", \"xaxis\": {\"title\": \"Season\"}}, {\"showLink\": true, \"linkText\": \"Export to plot.ly\"})});</script>"
      ]
     },
     "metadata": {},
     "output_type": "display_data"
    },
    {
     "data": {
      "application/vnd.plotly.v1+json": {
       "data": [
        {
         "marker": {
          "color": "rgb(green)"
         },
         "name": "Win Loss Percentage",
         "type": "bar",
         "x": [
          "2017",
          "2016",
          "2015",
          "2014",
          "2013",
          "2012"
         ],
         "y": [
          26.82926829268293,
          52.4390243902439,
          51.21951219512195,
          67.07317073170732,
          60.97560975609756,
          68.29268292682927
         ]
        },
        {
         "marker": {
          "color": "rgb(55,83,109)"
         },
         "name": "3 Point Attempt %",
         "type": "bar",
         "x": [
          "2017",
          "2016",
          "2015",
          "2014",
          "2013",
          "2012"
         ],
         "y": [
          31.703005303476722,
          31.645754304056023,
          22.17524420469456,
          18.423776430578144,
          17.060835936337945,
          16.574337475670013
         ]
        }
       ],
       "layout": {
        "title": "Win/Loss VS 3 Point Attempt % For MEM",
        "xaxis": {
         "title": "Season"
        }
       }
      },
      "text/html": [
       "<div id=\"b84dc888-1ba9-4a75-9ebe-0cffe63fb88d\" style=\"height: 525px; width: 100%;\" class=\"plotly-graph-div\"></div><script type=\"text/javascript\">require([\"plotly\"], function(Plotly) { window.PLOTLYENV=window.PLOTLYENV || {};window.PLOTLYENV.BASE_URL=\"https://plot.ly\";Plotly.newPlot(\"b84dc888-1ba9-4a75-9ebe-0cffe63fb88d\", [{\"type\": \"bar\", \"x\": [\"2017\", \"2016\", \"2015\", \"2014\", \"2013\", \"2012\"], \"y\": [26.82926829268293, 52.4390243902439, 51.21951219512195, 67.07317073170732, 60.97560975609756, 68.29268292682927], \"name\": \"Win Loss Percentage\", \"marker\": {\"color\": \"rgb(green)\"}}, {\"type\": \"bar\", \"x\": [\"2017\", \"2016\", \"2015\", \"2014\", \"2013\", \"2012\"], \"y\": [31.703005303476722, 31.645754304056023, 22.17524420469456, 18.423776430578144, 17.060835936337945, 16.574337475670013], \"name\": \"3 Point Attempt %\", \"marker\": {\"color\": \"rgb(55,83,109)\"}}], {\"title\": \"Win/Loss VS 3 Point Attempt % For MEM\", \"xaxis\": {\"title\": \"Season\"}}, {\"showLink\": true, \"linkText\": \"Export to plot.ly\"})});</script>"
      ],
      "text/vnd.plotly.v1+html": [
       "<div id=\"b84dc888-1ba9-4a75-9ebe-0cffe63fb88d\" style=\"height: 525px; width: 100%;\" class=\"plotly-graph-div\"></div><script type=\"text/javascript\">require([\"plotly\"], function(Plotly) { window.PLOTLYENV=window.PLOTLYENV || {};window.PLOTLYENV.BASE_URL=\"https://plot.ly\";Plotly.newPlot(\"b84dc888-1ba9-4a75-9ebe-0cffe63fb88d\", [{\"type\": \"bar\", \"x\": [\"2017\", \"2016\", \"2015\", \"2014\", \"2013\", \"2012\"], \"y\": [26.82926829268293, 52.4390243902439, 51.21951219512195, 67.07317073170732, 60.97560975609756, 68.29268292682927], \"name\": \"Win Loss Percentage\", \"marker\": {\"color\": \"rgb(green)\"}}, {\"type\": \"bar\", \"x\": [\"2017\", \"2016\", \"2015\", \"2014\", \"2013\", \"2012\"], \"y\": [31.703005303476722, 31.645754304056023, 22.17524420469456, 18.423776430578144, 17.060835936337945, 16.574337475670013], \"name\": \"3 Point Attempt %\", \"marker\": {\"color\": \"rgb(55,83,109)\"}}], {\"title\": \"Win/Loss VS 3 Point Attempt % For MEM\", \"xaxis\": {\"title\": \"Season\"}}, {\"showLink\": true, \"linkText\": \"Export to plot.ly\"})});</script>"
      ]
     },
     "metadata": {},
     "output_type": "display_data"
    },
    {
     "data": {
      "application/vnd.plotly.v1+json": {
       "data": [
        {
         "marker": {
          "color": "rgb(green)"
         },
         "name": "Win Loss Percentage",
         "type": "bar",
         "x": [
          "2017",
          "2016",
          "2015",
          "2014",
          "2013",
          "2012"
         ],
         "y": [
          53.65853658536586,
          50,
          58.536585365853654,
          45.1219512195122,
          65.85365853658537,
          80.48780487804879
         ]
        },
        {
         "marker": {
          "color": "rgb(55,83,109)"
         },
         "name": "3 Point Attempt %",
         "type": "bar",
         "x": [
          "2017",
          "2016",
          "2015",
          "2014",
          "2013",
          "2012"
         ],
         "y": [
          35.81534943547234,
          31.4480602529487,
          22.099447513812155,
          26.208530805687204,
          29.161352040816325,
          28.497164461247635
         ]
        }
       ],
       "layout": {
        "title": "Win/Loss VS 3 Point Attempt % For MIA",
        "xaxis": {
         "title": "Season"
        }
       }
      },
      "text/html": [
       "<div id=\"21dd4998-d737-4cb6-af0c-cd359a7b86a8\" style=\"height: 525px; width: 100%;\" class=\"plotly-graph-div\"></div><script type=\"text/javascript\">require([\"plotly\"], function(Plotly) { window.PLOTLYENV=window.PLOTLYENV || {};window.PLOTLYENV.BASE_URL=\"https://plot.ly\";Plotly.newPlot(\"21dd4998-d737-4cb6-af0c-cd359a7b86a8\", [{\"type\": \"bar\", \"x\": [\"2017\", \"2016\", \"2015\", \"2014\", \"2013\", \"2012\"], \"y\": [53.65853658536586, 50.0, 58.536585365853654, 45.1219512195122, 65.85365853658537, 80.48780487804879], \"name\": \"Win Loss Percentage\", \"marker\": {\"color\": \"rgb(green)\"}}, {\"type\": \"bar\", \"x\": [\"2017\", \"2016\", \"2015\", \"2014\", \"2013\", \"2012\"], \"y\": [35.81534943547234, 31.4480602529487, 22.099447513812155, 26.208530805687204, 29.161352040816325, 28.497164461247635], \"name\": \"3 Point Attempt %\", \"marker\": {\"color\": \"rgb(55,83,109)\"}}], {\"title\": \"Win/Loss VS 3 Point Attempt % For MIA\", \"xaxis\": {\"title\": \"Season\"}}, {\"showLink\": true, \"linkText\": \"Export to plot.ly\"})});</script>"
      ],
      "text/vnd.plotly.v1+html": [
       "<div id=\"21dd4998-d737-4cb6-af0c-cd359a7b86a8\" style=\"height: 525px; width: 100%;\" class=\"plotly-graph-div\"></div><script type=\"text/javascript\">require([\"plotly\"], function(Plotly) { window.PLOTLYENV=window.PLOTLYENV || {};window.PLOTLYENV.BASE_URL=\"https://plot.ly\";Plotly.newPlot(\"21dd4998-d737-4cb6-af0c-cd359a7b86a8\", [{\"type\": \"bar\", \"x\": [\"2017\", \"2016\", \"2015\", \"2014\", \"2013\", \"2012\"], \"y\": [53.65853658536586, 50.0, 58.536585365853654, 45.1219512195122, 65.85365853658537, 80.48780487804879], \"name\": \"Win Loss Percentage\", \"marker\": {\"color\": \"rgb(green)\"}}, {\"type\": \"bar\", \"x\": [\"2017\", \"2016\", \"2015\", \"2014\", \"2013\", \"2012\"], \"y\": [35.81534943547234, 31.4480602529487, 22.099447513812155, 26.208530805687204, 29.161352040816325, 28.497164461247635], \"name\": \"3 Point Attempt %\", \"marker\": {\"color\": \"rgb(55,83,109)\"}}], {\"title\": \"Win/Loss VS 3 Point Attempt % For MIA\", \"xaxis\": {\"title\": \"Season\"}}, {\"showLink\": true, \"linkText\": \"Export to plot.ly\"})});</script>"
      ]
     },
     "metadata": {},
     "output_type": "display_data"
    },
    {
     "data": {
      "application/vnd.plotly.v1+json": {
       "data": [
        {
         "marker": {
          "color": "rgb(green)"
         },
         "name": "Win Loss Percentage",
         "type": "bar",
         "x": [
          "2017",
          "2016",
          "2015",
          "2014",
          "2013",
          "2012"
         ],
         "y": [
          53.65853658536586,
          51.21951219512195,
          40.243902439024396,
          50,
          18.29268292682927,
          46.34146341463415
         ]
        },
        {
         "marker": {
          "color": "rgb(55,83,109)"
         },
         "name": "3 Point Attempt %",
         "type": "bar",
         "x": [
          "2017",
          "2016",
          "2015",
          "2014",
          "2013",
          "2012"
         ],
         "y": [
          29.734097252827972,
          28.979895755770663,
          18.94658753709199,
          22.314787265694733,
          23.051803473356095,
          23.204112824788105
         ]
        }
       ],
       "layout": {
        "title": "Win/Loss VS 3 Point Attempt % For MIL",
        "xaxis": {
         "title": "Season"
        }
       }
      },
      "text/html": [
       "<div id=\"1c0c7855-a951-4f16-a4f7-dca6fedb2051\" style=\"height: 525px; width: 100%;\" class=\"plotly-graph-div\"></div><script type=\"text/javascript\">require([\"plotly\"], function(Plotly) { window.PLOTLYENV=window.PLOTLYENV || {};window.PLOTLYENV.BASE_URL=\"https://plot.ly\";Plotly.newPlot(\"1c0c7855-a951-4f16-a4f7-dca6fedb2051\", [{\"type\": \"bar\", \"x\": [\"2017\", \"2016\", \"2015\", \"2014\", \"2013\", \"2012\"], \"y\": [53.65853658536586, 51.21951219512195, 40.243902439024396, 50.0, 18.29268292682927, 46.34146341463415], \"name\": \"Win Loss Percentage\", \"marker\": {\"color\": \"rgb(green)\"}}, {\"type\": \"bar\", \"x\": [\"2017\", \"2016\", \"2015\", \"2014\", \"2013\", \"2012\"], \"y\": [29.734097252827972, 28.979895755770663, 18.94658753709199, 22.314787265694733, 23.051803473356095, 23.204112824788105], \"name\": \"3 Point Attempt %\", \"marker\": {\"color\": \"rgb(55,83,109)\"}}], {\"title\": \"Win/Loss VS 3 Point Attempt % For MIL\", \"xaxis\": {\"title\": \"Season\"}}, {\"showLink\": true, \"linkText\": \"Export to plot.ly\"})});</script>"
      ],
      "text/vnd.plotly.v1+html": [
       "<div id=\"1c0c7855-a951-4f16-a4f7-dca6fedb2051\" style=\"height: 525px; width: 100%;\" class=\"plotly-graph-div\"></div><script type=\"text/javascript\">require([\"plotly\"], function(Plotly) { window.PLOTLYENV=window.PLOTLYENV || {};window.PLOTLYENV.BASE_URL=\"https://plot.ly\";Plotly.newPlot(\"1c0c7855-a951-4f16-a4f7-dca6fedb2051\", [{\"type\": \"bar\", \"x\": [\"2017\", \"2016\", \"2015\", \"2014\", \"2013\", \"2012\"], \"y\": [53.65853658536586, 51.21951219512195, 40.243902439024396, 50.0, 18.29268292682927, 46.34146341463415], \"name\": \"Win Loss Percentage\", \"marker\": {\"color\": \"rgb(green)\"}}, {\"type\": \"bar\", \"x\": [\"2017\", \"2016\", \"2015\", \"2014\", \"2013\", \"2012\"], \"y\": [29.734097252827972, 28.979895755770663, 18.94658753709199, 22.314787265694733, 23.051803473356095, 23.204112824788105], \"name\": \"3 Point Attempt %\", \"marker\": {\"color\": \"rgb(55,83,109)\"}}], {\"title\": \"Win/Loss VS 3 Point Attempt % For MIL\", \"xaxis\": {\"title\": \"Season\"}}, {\"showLink\": true, \"linkText\": \"Export to plot.ly\"})});</script>"
      ]
     },
     "metadata": {},
     "output_type": "display_data"
    },
    {
     "data": {
      "application/vnd.plotly.v1+json": {
       "data": [
        {
         "marker": {
          "color": "rgb(green)"
         },
         "name": "Win Loss Percentage",
         "type": "bar",
         "x": [
          "2017",
          "2016",
          "2015",
          "2014",
          "2013",
          "2012"
         ],
         "y": [
          57.3170731707317,
          37.80487804878049,
          35.36585365853659,
          19.51219512195122,
          48.78048780487805,
          37.80487804878049
         ]
        },
        {
         "marker": {
          "color": "rgb(55,83,109)"
         },
         "name": "3 Point Attempt %",
         "type": "bar",
         "x": [
          "2017",
          "2016",
          "2015",
          "2014",
          "2013",
          "2012"
         ],
         "y": [
          26.12204445702959,
          24.89164981219301,
          20.200959808038395,
          17.932551319648095,
          24.48780487804878,
          22.008355714712028
         ]
        }
       ],
       "layout": {
        "title": "Win/Loss VS 3 Point Attempt % For MIN",
        "xaxis": {
         "title": "Season"
        }
       }
      },
      "text/html": [
       "<div id=\"aeee53c0-d0d1-4ced-b355-3d6e2a42d899\" style=\"height: 525px; width: 100%;\" class=\"plotly-graph-div\"></div><script type=\"text/javascript\">require([\"plotly\"], function(Plotly) { window.PLOTLYENV=window.PLOTLYENV || {};window.PLOTLYENV.BASE_URL=\"https://plot.ly\";Plotly.newPlot(\"aeee53c0-d0d1-4ced-b355-3d6e2a42d899\", [{\"type\": \"bar\", \"x\": [\"2017\", \"2016\", \"2015\", \"2014\", \"2013\", \"2012\"], \"y\": [57.3170731707317, 37.80487804878049, 35.36585365853659, 19.51219512195122, 48.78048780487805, 37.80487804878049], \"name\": \"Win Loss Percentage\", \"marker\": {\"color\": \"rgb(green)\"}}, {\"type\": \"bar\", \"x\": [\"2017\", \"2016\", \"2015\", \"2014\", \"2013\", \"2012\"], \"y\": [26.12204445702959, 24.89164981219301, 20.200959808038395, 17.932551319648095, 24.48780487804878, 22.008355714712028], \"name\": \"3 Point Attempt %\", \"marker\": {\"color\": \"rgb(55,83,109)\"}}], {\"title\": \"Win/Loss VS 3 Point Attempt % For MIN\", \"xaxis\": {\"title\": \"Season\"}}, {\"showLink\": true, \"linkText\": \"Export to plot.ly\"})});</script>"
      ],
      "text/vnd.plotly.v1+html": [
       "<div id=\"aeee53c0-d0d1-4ced-b355-3d6e2a42d899\" style=\"height: 525px; width: 100%;\" class=\"plotly-graph-div\"></div><script type=\"text/javascript\">require([\"plotly\"], function(Plotly) { window.PLOTLYENV=window.PLOTLYENV || {};window.PLOTLYENV.BASE_URL=\"https://plot.ly\";Plotly.newPlot(\"aeee53c0-d0d1-4ced-b355-3d6e2a42d899\", [{\"type\": \"bar\", \"x\": [\"2017\", \"2016\", \"2015\", \"2014\", \"2013\", \"2012\"], \"y\": [57.3170731707317, 37.80487804878049, 35.36585365853659, 19.51219512195122, 48.78048780487805, 37.80487804878049], \"name\": \"Win Loss Percentage\", \"marker\": {\"color\": \"rgb(green)\"}}, {\"type\": \"bar\", \"x\": [\"2017\", \"2016\", \"2015\", \"2014\", \"2013\", \"2012\"], \"y\": [26.12204445702959, 24.89164981219301, 20.200959808038395, 17.932551319648095, 24.48780487804878, 22.008355714712028], \"name\": \"3 Point Attempt %\", \"marker\": {\"color\": \"rgb(55,83,109)\"}}], {\"title\": \"Win/Loss VS 3 Point Attempt % For MIN\", \"xaxis\": {\"title\": \"Season\"}}, {\"showLink\": true, \"linkText\": \"Export to plot.ly\"})});</script>"
      ]
     },
     "metadata": {},
     "output_type": "display_data"
    },
    {
     "data": {
      "application/vnd.plotly.v1+json": {
       "data": [
        {
         "marker": {
          "color": "rgb(green)"
         },
         "name": "Win Loss Percentage",
         "type": "bar",
         "x": [
          "2017",
          "2016",
          "2015",
          "2014",
          "2013",
          "2012"
         ],
         "y": [
          58.536585365853654,
          41.46341463414634,
          36.58536585365854,
          54.87804878048781,
          41.46341463414634,
          32.926829268292686
         ]
        },
        {
         "marker": {
          "color": "rgb(55,83,109)"
         },
         "name": "3 Point Attempt %",
         "type": "bar",
         "x": [
          "2017",
          "2016",
          "2015",
          "2014",
          "2013",
          "2012"
         ],
         "y": [
          31.929291534318466,
          30.799438990182328,
          27.713068181818183,
          23.29654157468727,
          19.27229699748558,
          22.370617696160267
         ]
        }
       ],
       "layout": {
        "title": "Win/Loss VS 3 Point Attempt % For NOP",
        "xaxis": {
         "title": "Season"
        }
       }
      },
      "text/html": [
       "<div id=\"96b9c08d-be15-4655-98fa-50d713b97ae1\" style=\"height: 525px; width: 100%;\" class=\"plotly-graph-div\"></div><script type=\"text/javascript\">require([\"plotly\"], function(Plotly) { window.PLOTLYENV=window.PLOTLYENV || {};window.PLOTLYENV.BASE_URL=\"https://plot.ly\";Plotly.newPlot(\"96b9c08d-be15-4655-98fa-50d713b97ae1\", [{\"type\": \"bar\", \"x\": [\"2017\", \"2016\", \"2015\", \"2014\", \"2013\", \"2012\"], \"y\": [58.536585365853654, 41.46341463414634, 36.58536585365854, 54.87804878048781, 41.46341463414634, 32.926829268292686], \"name\": \"Win Loss Percentage\", \"marker\": {\"color\": \"rgb(green)\"}}, {\"type\": \"bar\", \"x\": [\"2017\", \"2016\", \"2015\", \"2014\", \"2013\", \"2012\"], \"y\": [31.929291534318466, 30.799438990182328, 27.713068181818183, 23.29654157468727, 19.27229699748558, 22.370617696160267], \"name\": \"3 Point Attempt %\", \"marker\": {\"color\": \"rgb(55,83,109)\"}}], {\"title\": \"Win/Loss VS 3 Point Attempt % For NOP\", \"xaxis\": {\"title\": \"Season\"}}, {\"showLink\": true, \"linkText\": \"Export to plot.ly\"})});</script>"
      ],
      "text/vnd.plotly.v1+html": [
       "<div id=\"96b9c08d-be15-4655-98fa-50d713b97ae1\" style=\"height: 525px; width: 100%;\" class=\"plotly-graph-div\"></div><script type=\"text/javascript\">require([\"plotly\"], function(Plotly) { window.PLOTLYENV=window.PLOTLYENV || {};window.PLOTLYENV.BASE_URL=\"https://plot.ly\";Plotly.newPlot(\"96b9c08d-be15-4655-98fa-50d713b97ae1\", [{\"type\": \"bar\", \"x\": [\"2017\", \"2016\", \"2015\", \"2014\", \"2013\", \"2012\"], \"y\": [58.536585365853654, 41.46341463414634, 36.58536585365854, 54.87804878048781, 41.46341463414634, 32.926829268292686], \"name\": \"Win Loss Percentage\", \"marker\": {\"color\": \"rgb(green)\"}}, {\"type\": \"bar\", \"x\": [\"2017\", \"2016\", \"2015\", \"2014\", \"2013\", \"2012\"], \"y\": [31.929291534318466, 30.799438990182328, 27.713068181818183, 23.29654157468727, 19.27229699748558, 22.370617696160267], \"name\": \"3 Point Attempt %\", \"marker\": {\"color\": \"rgb(55,83,109)\"}}], {\"title\": \"Win/Loss VS 3 Point Attempt % For NOP\", \"xaxis\": {\"title\": \"Season\"}}, {\"showLink\": true, \"linkText\": \"Export to plot.ly\"})});</script>"
      ]
     },
     "metadata": {},
     "output_type": "display_data"
    },
    {
     "data": {
      "application/vnd.plotly.v1+json": {
       "data": [
        {
         "marker": {
          "color": "rgb(green)"
         },
         "name": "Win Loss Percentage",
         "type": "bar",
         "x": [
          "2017",
          "2016",
          "2015",
          "2014",
          "2013",
          "2012"
         ],
         "y": [
          35.36585365853659,
          37.80487804878049,
          39.02439024390244,
          20.73170731707317,
          45.1219512195122,
          65.85365853658537
         ]
        },
        {
         "marker": {
          "color": "rgb(55,83,109)"
         },
         "name": "3 Point Attempt %",
         "type": "bar",
         "x": [
          "2017",
          "2016",
          "2015",
          "2014",
          "2013",
          "2012"
         ],
         "y": [
          26.605504587155966,
          27.866593164277838,
          25.588149869300032,
          23.996431757359503,
          30.24187564920611,
          35.44625504559725
         ]
        }
       ],
       "layout": {
        "title": "Win/Loss VS 3 Point Attempt % For NYK",
        "xaxis": {
         "title": "Season"
        }
       }
      },
      "text/html": [
       "<div id=\"62a35c70-0627-4465-8ccb-2e4cfbb8f506\" style=\"height: 525px; width: 100%;\" class=\"plotly-graph-div\"></div><script type=\"text/javascript\">require([\"plotly\"], function(Plotly) { window.PLOTLYENV=window.PLOTLYENV || {};window.PLOTLYENV.BASE_URL=\"https://plot.ly\";Plotly.newPlot(\"62a35c70-0627-4465-8ccb-2e4cfbb8f506\", [{\"type\": \"bar\", \"x\": [\"2017\", \"2016\", \"2015\", \"2014\", \"2013\", \"2012\"], \"y\": [35.36585365853659, 37.80487804878049, 39.02439024390244, 20.73170731707317, 45.1219512195122, 65.85365853658537], \"name\": \"Win Loss Percentage\", \"marker\": {\"color\": \"rgb(green)\"}}, {\"type\": \"bar\", \"x\": [\"2017\", \"2016\", \"2015\", \"2014\", \"2013\", \"2012\"], \"y\": [26.605504587155966, 27.866593164277838, 25.588149869300032, 23.996431757359503, 30.24187564920611, 35.44625504559725], \"name\": \"3 Point Attempt %\", \"marker\": {\"color\": \"rgb(55,83,109)\"}}], {\"title\": \"Win/Loss VS 3 Point Attempt % For NYK\", \"xaxis\": {\"title\": \"Season\"}}, {\"showLink\": true, \"linkText\": \"Export to plot.ly\"})});</script>"
      ],
      "text/vnd.plotly.v1+html": [
       "<div id=\"62a35c70-0627-4465-8ccb-2e4cfbb8f506\" style=\"height: 525px; width: 100%;\" class=\"plotly-graph-div\"></div><script type=\"text/javascript\">require([\"plotly\"], function(Plotly) { window.PLOTLYENV=window.PLOTLYENV || {};window.PLOTLYENV.BASE_URL=\"https://plot.ly\";Plotly.newPlot(\"62a35c70-0627-4465-8ccb-2e4cfbb8f506\", [{\"type\": \"bar\", \"x\": [\"2017\", \"2016\", \"2015\", \"2014\", \"2013\", \"2012\"], \"y\": [35.36585365853659, 37.80487804878049, 39.02439024390244, 20.73170731707317, 45.1219512195122, 65.85365853658537], \"name\": \"Win Loss Percentage\", \"marker\": {\"color\": \"rgb(green)\"}}, {\"type\": \"bar\", \"x\": [\"2017\", \"2016\", \"2015\", \"2014\", \"2013\", \"2012\"], \"y\": [26.605504587155966, 27.866593164277838, 25.588149869300032, 23.996431757359503, 30.24187564920611, 35.44625504559725], \"name\": \"3 Point Attempt %\", \"marker\": {\"color\": \"rgb(55,83,109)\"}}], {\"title\": \"Win/Loss VS 3 Point Attempt % For NYK\", \"xaxis\": {\"title\": \"Season\"}}, {\"showLink\": true, \"linkText\": \"Export to plot.ly\"})});</script>"
      ]
     },
     "metadata": {},
     "output_type": "display_data"
    },
    {
     "data": {
      "application/vnd.plotly.v1+json": {
       "data": [
        {
         "marker": {
          "color": "rgb(green)"
         },
         "name": "Win Loss Percentage",
         "type": "bar",
         "x": [
          "2017",
          "2016",
          "2015",
          "2014",
          "2013",
          "2012"
         ],
         "y": [
          58.536585365853654,
          57.3170731707317,
          67.07317073170732,
          54.87804878048781,
          71.95121951219512,
          73.17073170731707
         ]
        },
        {
         "marker": {
          "color": "rgb(55,83,109)"
         },
         "name": "3 Point Attempt %",
         "type": "bar",
         "x": [
          "2017",
          "2016",
          "2015",
          "2014",
          "2013",
          "2012"
         ],
         "y": [
          34.48753462603878,
          29.515971544148417,
          27.463993222253603,
          26.1834527321253,
          27.115895016219405,
          24.415744157441573
         ]
        }
       ],
       "layout": {
        "title": "Win/Loss VS 3 Point Attempt % For OKC",
        "xaxis": {
         "title": "Season"
        }
       }
      },
      "text/html": [
       "<div id=\"73575f32-29ed-4977-8fa7-c2f58a731944\" style=\"height: 525px; width: 100%;\" class=\"plotly-graph-div\"></div><script type=\"text/javascript\">require([\"plotly\"], function(Plotly) { window.PLOTLYENV=window.PLOTLYENV || {};window.PLOTLYENV.BASE_URL=\"https://plot.ly\";Plotly.newPlot(\"73575f32-29ed-4977-8fa7-c2f58a731944\", [{\"type\": \"bar\", \"x\": [\"2017\", \"2016\", \"2015\", \"2014\", \"2013\", \"2012\"], \"y\": [58.536585365853654, 57.3170731707317, 67.07317073170732, 54.87804878048781, 71.95121951219512, 73.17073170731707], \"name\": \"Win Loss Percentage\", \"marker\": {\"color\": \"rgb(green)\"}}, {\"type\": \"bar\", \"x\": [\"2017\", \"2016\", \"2015\", \"2014\", \"2013\", \"2012\"], \"y\": [34.48753462603878, 29.515971544148417, 27.463993222253603, 26.1834527321253, 27.115895016219405, 24.415744157441573], \"name\": \"3 Point Attempt %\", \"marker\": {\"color\": \"rgb(55,83,109)\"}}], {\"title\": \"Win/Loss VS 3 Point Attempt % For OKC\", \"xaxis\": {\"title\": \"Season\"}}, {\"showLink\": true, \"linkText\": \"Export to plot.ly\"})});</script>"
      ],
      "text/vnd.plotly.v1+html": [
       "<div id=\"73575f32-29ed-4977-8fa7-c2f58a731944\" style=\"height: 525px; width: 100%;\" class=\"plotly-graph-div\"></div><script type=\"text/javascript\">require([\"plotly\"], function(Plotly) { window.PLOTLYENV=window.PLOTLYENV || {};window.PLOTLYENV.BASE_URL=\"https://plot.ly\";Plotly.newPlot(\"73575f32-29ed-4977-8fa7-c2f58a731944\", [{\"type\": \"bar\", \"x\": [\"2017\", \"2016\", \"2015\", \"2014\", \"2013\", \"2012\"], \"y\": [58.536585365853654, 57.3170731707317, 67.07317073170732, 54.87804878048781, 71.95121951219512, 73.17073170731707], \"name\": \"Win Loss Percentage\", \"marker\": {\"color\": \"rgb(green)\"}}, {\"type\": \"bar\", \"x\": [\"2017\", \"2016\", \"2015\", \"2014\", \"2013\", \"2012\"], \"y\": [34.48753462603878, 29.515971544148417, 27.463993222253603, 26.1834527321253, 27.115895016219405, 24.415744157441573], \"name\": \"3 Point Attempt %\", \"marker\": {\"color\": \"rgb(55,83,109)\"}}], {\"title\": \"Win/Loss VS 3 Point Attempt % For OKC\", \"xaxis\": {\"title\": \"Season\"}}, {\"showLink\": true, \"linkText\": \"Export to plot.ly\"})});</script>"
      ]
     },
     "metadata": {},
     "output_type": "display_data"
    },
    {
     "data": {
      "application/vnd.plotly.v1+json": {
       "data": [
        {
         "marker": {
          "color": "rgb(green)"
         },
         "name": "Win Loss Percentage",
         "type": "bar",
         "x": [
          "2017",
          "2016",
          "2015",
          "2014",
          "2013",
          "2012"
         ],
         "y": [
          30.48780487804878,
          35.36585365853659,
          42.68292682926829,
          30.48780487804878,
          28.04878048780488,
          24.390243902439025
         ]
        },
        {
         "marker": {
          "color": "rgb(55,83,109)"
         },
         "name": "3 Point Attempt %",
         "type": "bar",
         "x": [
          "2017",
          "2016",
          "2015",
          "2014",
          "2013",
          "2012"
         ],
         "y": [
          34.15222948026128,
          29.9873825879714,
          25.533707865168537,
          23.527679623085984,
          23.525943396226413,
          22.262456546929315
         ]
        }
       ],
       "layout": {
        "title": "Win/Loss VS 3 Point Attempt % For ORL",
        "xaxis": {
         "title": "Season"
        }
       }
      },
      "text/html": [
       "<div id=\"3b14ec5e-843f-4c15-88ba-0dfac7ab022c\" style=\"height: 525px; width: 100%;\" class=\"plotly-graph-div\"></div><script type=\"text/javascript\">require([\"plotly\"], function(Plotly) { window.PLOTLYENV=window.PLOTLYENV || {};window.PLOTLYENV.BASE_URL=\"https://plot.ly\";Plotly.newPlot(\"3b14ec5e-843f-4c15-88ba-0dfac7ab022c\", [{\"type\": \"bar\", \"x\": [\"2017\", \"2016\", \"2015\", \"2014\", \"2013\", \"2012\"], \"y\": [30.48780487804878, 35.36585365853659, 42.68292682926829, 30.48780487804878, 28.04878048780488, 24.390243902439025], \"name\": \"Win Loss Percentage\", \"marker\": {\"color\": \"rgb(green)\"}}, {\"type\": \"bar\", \"x\": [\"2017\", \"2016\", \"2015\", \"2014\", \"2013\", \"2012\"], \"y\": [34.15222948026128, 29.9873825879714, 25.533707865168537, 23.527679623085984, 23.525943396226413, 22.262456546929315], \"name\": \"3 Point Attempt %\", \"marker\": {\"color\": \"rgb(55,83,109)\"}}], {\"title\": \"Win/Loss VS 3 Point Attempt % For ORL\", \"xaxis\": {\"title\": \"Season\"}}, {\"showLink\": true, \"linkText\": \"Export to plot.ly\"})});</script>"
      ],
      "text/vnd.plotly.v1+html": [
       "<div id=\"3b14ec5e-843f-4c15-88ba-0dfac7ab022c\" style=\"height: 525px; width: 100%;\" class=\"plotly-graph-div\"></div><script type=\"text/javascript\">require([\"plotly\"], function(Plotly) { window.PLOTLYENV=window.PLOTLYENV || {};window.PLOTLYENV.BASE_URL=\"https://plot.ly\";Plotly.newPlot(\"3b14ec5e-843f-4c15-88ba-0dfac7ab022c\", [{\"type\": \"bar\", \"x\": [\"2017\", \"2016\", \"2015\", \"2014\", \"2013\", \"2012\"], \"y\": [30.48780487804878, 35.36585365853659, 42.68292682926829, 30.48780487804878, 28.04878048780488, 24.390243902439025], \"name\": \"Win Loss Percentage\", \"marker\": {\"color\": \"rgb(green)\"}}, {\"type\": \"bar\", \"x\": [\"2017\", \"2016\", \"2015\", \"2014\", \"2013\", \"2012\"], \"y\": [34.15222948026128, 29.9873825879714, 25.533707865168537, 23.527679623085984, 23.525943396226413, 22.262456546929315], \"name\": \"3 Point Attempt %\", \"marker\": {\"color\": \"rgb(55,83,109)\"}}], {\"title\": \"Win/Loss VS 3 Point Attempt % For ORL\", \"xaxis\": {\"title\": \"Season\"}}, {\"showLink\": true, \"linkText\": \"Export to plot.ly\"})});</script>"
      ]
     },
     "metadata": {},
     "output_type": "display_data"
    },
    {
     "data": {
      "application/vnd.plotly.v1+json": {
       "data": [
        {
         "marker": {
          "color": "rgb(green)"
         },
         "name": "Win Loss Percentage",
         "type": "bar",
         "x": [
          "2017",
          "2016",
          "2015",
          "2014",
          "2013",
          "2012"
         ],
         "y": [
          63.41463414634146,
          34.146341463414636,
          12.195121951219512,
          21.951219512195124,
          23.170731707317074,
          41.46341463414634
         ]
        },
        {
         "marker": {
          "color": "rgb(55,83,109)"
         },
         "name": "3 Point Attempt %",
         "type": "bar",
         "x": [
          "2017",
          "2016",
          "2015",
          "2014",
          "2013",
          "2012"
         ],
         "y": [
          34.44632290786137,
          34.93993135011442,
          32.74284884565123,
          31.872509960159363,
          25.83216783216783,
          20.855692530819432
         ]
        }
       ],
       "layout": {
        "title": "Win/Loss VS 3 Point Attempt % For PHI",
        "xaxis": {
         "title": "Season"
        }
       }
      },
      "text/html": [
       "<div id=\"9439e1fb-d726-4d03-86de-ee954ce9f831\" style=\"height: 525px; width: 100%;\" class=\"plotly-graph-div\"></div><script type=\"text/javascript\">require([\"plotly\"], function(Plotly) { window.PLOTLYENV=window.PLOTLYENV || {};window.PLOTLYENV.BASE_URL=\"https://plot.ly\";Plotly.newPlot(\"9439e1fb-d726-4d03-86de-ee954ce9f831\", [{\"type\": \"bar\", \"x\": [\"2017\", \"2016\", \"2015\", \"2014\", \"2013\", \"2012\"], \"y\": [63.41463414634146, 34.146341463414636, 12.195121951219512, 21.951219512195124, 23.170731707317074, 41.46341463414634], \"name\": \"Win Loss Percentage\", \"marker\": {\"color\": \"rgb(green)\"}}, {\"type\": \"bar\", \"x\": [\"2017\", \"2016\", \"2015\", \"2014\", \"2013\", \"2012\"], \"y\": [34.44632290786137, 34.93993135011442, 32.74284884565123, 31.872509960159363, 25.83216783216783, 20.855692530819432], \"name\": \"3 Point Attempt %\", \"marker\": {\"color\": \"rgb(55,83,109)\"}}], {\"title\": \"Win/Loss VS 3 Point Attempt % For PHI\", \"xaxis\": {\"title\": \"Season\"}}, {\"showLink\": true, \"linkText\": \"Export to plot.ly\"})});</script>"
      ],
      "text/vnd.plotly.v1+html": [
       "<div id=\"9439e1fb-d726-4d03-86de-ee954ce9f831\" style=\"height: 525px; width: 100%;\" class=\"plotly-graph-div\"></div><script type=\"text/javascript\">require([\"plotly\"], function(Plotly) { window.PLOTLYENV=window.PLOTLYENV || {};window.PLOTLYENV.BASE_URL=\"https://plot.ly\";Plotly.newPlot(\"9439e1fb-d726-4d03-86de-ee954ce9f831\", [{\"type\": \"bar\", \"x\": [\"2017\", \"2016\", \"2015\", \"2014\", \"2013\", \"2012\"], \"y\": [63.41463414634146, 34.146341463414636, 12.195121951219512, 21.951219512195124, 23.170731707317074, 41.46341463414634], \"name\": \"Win Loss Percentage\", \"marker\": {\"color\": \"rgb(green)\"}}, {\"type\": \"bar\", \"x\": [\"2017\", \"2016\", \"2015\", \"2014\", \"2013\", \"2012\"], \"y\": [34.44632290786137, 34.93993135011442, 32.74284884565123, 31.872509960159363, 25.83216783216783, 20.855692530819432], \"name\": \"3 Point Attempt %\", \"marker\": {\"color\": \"rgb(55,83,109)\"}}], {\"title\": \"Win/Loss VS 3 Point Attempt % For PHI\", \"xaxis\": {\"title\": \"Season\"}}, {\"showLink\": true, \"linkText\": \"Export to plot.ly\"})});</script>"
      ]
     },
     "metadata": {},
     "output_type": "display_data"
    },
    {
     "data": {
      "application/vnd.plotly.v1+json": {
       "data": [
        {
         "marker": {
          "color": "rgb(green)"
         },
         "name": "Win Loss Percentage",
         "type": "bar",
         "x": [
          "2017",
          "2016",
          "2015",
          "2014",
          "2013",
          "2012"
         ],
         "y": [
          25.609756097560975,
          29.268292682926827,
          28.04878048780488,
          47.5609756097561,
          58.536585365853654,
          30.48780487804878
         ]
        },
        {
         "marker": {
          "color": "rgb(55,83,109)"
         },
         "name": "3 Point Attempt %",
         "type": "bar",
         "x": [
          "2017",
          "2016",
          "2015",
          "2014",
          "2013",
          "2012"
         ],
         "y": [
          32.01232320403305,
          25.537190082644628,
          30.179538330008548,
          29.099175902244955,
          30.021913805697594,
          21.035130837068092
         ]
        }
       ],
       "layout": {
        "title": "Win/Loss VS 3 Point Attempt % For PHO",
        "xaxis": {
         "title": "Season"
        }
       }
      },
      "text/html": [
       "<div id=\"ef4c73d1-6d2b-47a0-934b-124ab588bc53\" style=\"height: 525px; width: 100%;\" class=\"plotly-graph-div\"></div><script type=\"text/javascript\">require([\"plotly\"], function(Plotly) { window.PLOTLYENV=window.PLOTLYENV || {};window.PLOTLYENV.BASE_URL=\"https://plot.ly\";Plotly.newPlot(\"ef4c73d1-6d2b-47a0-934b-124ab588bc53\", [{\"type\": \"bar\", \"x\": [\"2017\", \"2016\", \"2015\", \"2014\", \"2013\", \"2012\"], \"y\": [25.609756097560975, 29.268292682926827, 28.04878048780488, 47.5609756097561, 58.536585365853654, 30.48780487804878], \"name\": \"Win Loss Percentage\", \"marker\": {\"color\": \"rgb(green)\"}}, {\"type\": \"bar\", \"x\": [\"2017\", \"2016\", \"2015\", \"2014\", \"2013\", \"2012\"], \"y\": [32.01232320403305, 25.537190082644628, 30.179538330008548, 29.099175902244955, 30.021913805697594, 21.035130837068092], \"name\": \"3 Point Attempt %\", \"marker\": {\"color\": \"rgb(55,83,109)\"}}], {\"title\": \"Win/Loss VS 3 Point Attempt % For PHO\", \"xaxis\": {\"title\": \"Season\"}}, {\"showLink\": true, \"linkText\": \"Export to plot.ly\"})});</script>"
      ],
      "text/vnd.plotly.v1+html": [
       "<div id=\"ef4c73d1-6d2b-47a0-934b-124ab588bc53\" style=\"height: 525px; width: 100%;\" class=\"plotly-graph-div\"></div><script type=\"text/javascript\">require([\"plotly\"], function(Plotly) { window.PLOTLYENV=window.PLOTLYENV || {};window.PLOTLYENV.BASE_URL=\"https://plot.ly\";Plotly.newPlot(\"ef4c73d1-6d2b-47a0-934b-124ab588bc53\", [{\"type\": \"bar\", \"x\": [\"2017\", \"2016\", \"2015\", \"2014\", \"2013\", \"2012\"], \"y\": [25.609756097560975, 29.268292682926827, 28.04878048780488, 47.5609756097561, 58.536585365853654, 30.48780487804878], \"name\": \"Win Loss Percentage\", \"marker\": {\"color\": \"rgb(green)\"}}, {\"type\": \"bar\", \"x\": [\"2017\", \"2016\", \"2015\", \"2014\", \"2013\", \"2012\"], \"y\": [32.01232320403305, 25.537190082644628, 30.179538330008548, 29.099175902244955, 30.021913805697594, 21.035130837068092], \"name\": \"3 Point Attempt %\", \"marker\": {\"color\": \"rgb(55,83,109)\"}}], {\"title\": \"Win/Loss VS 3 Point Attempt % For PHO\", \"xaxis\": {\"title\": \"Season\"}}, {\"showLink\": true, \"linkText\": \"Export to plot.ly\"})});</script>"
      ]
     },
     "metadata": {},
     "output_type": "display_data"
    },
    {
     "data": {
      "application/vnd.plotly.v1+json": {
       "data": [
        {
         "marker": {
          "color": "rgb(green)"
         },
         "name": "Win Loss Percentage",
         "type": "bar",
         "x": [
          "2017",
          "2016",
          "2015",
          "2014",
          "2013",
          "2012"
         ],
         "y": [
          59.756097560975604,
          50,
          53.65853658536586,
          62.19512195121951,
          65.85365853658537,
          40.243902439024396
         ]
        },
        {
         "marker": {
          "color": "rgb(55,83,109)"
         },
         "name": "3 Point Attempt %",
         "type": "bar",
         "x": [
          "2017",
          "2016",
          "2015",
          "2014",
          "2013",
          "2012"
         ],
         "y": [
          32.36118900729108,
          32.18586202011616,
          33.18181818181819,
          31.649879415519933,
          29.029997196523688,
          28.354430379746837
         ]
        }
       ],
       "layout": {
        "title": "Win/Loss VS 3 Point Attempt % For POR",
        "xaxis": {
         "title": "Season"
        }
       }
      },
      "text/html": [
       "<div id=\"295c45af-931c-498f-8479-9d70c5dd53a7\" style=\"height: 525px; width: 100%;\" class=\"plotly-graph-div\"></div><script type=\"text/javascript\">require([\"plotly\"], function(Plotly) { window.PLOTLYENV=window.PLOTLYENV || {};window.PLOTLYENV.BASE_URL=\"https://plot.ly\";Plotly.newPlot(\"295c45af-931c-498f-8479-9d70c5dd53a7\", [{\"type\": \"bar\", \"x\": [\"2017\", \"2016\", \"2015\", \"2014\", \"2013\", \"2012\"], \"y\": [59.756097560975604, 50.0, 53.65853658536586, 62.19512195121951, 65.85365853658537, 40.243902439024396], \"name\": \"Win Loss Percentage\", \"marker\": {\"color\": \"rgb(green)\"}}, {\"type\": \"bar\", \"x\": [\"2017\", \"2016\", \"2015\", \"2014\", \"2013\", \"2012\"], \"y\": [32.36118900729108, 32.18586202011616, 33.18181818181819, 31.649879415519933, 29.029997196523688, 28.354430379746837], \"name\": \"3 Point Attempt %\", \"marker\": {\"color\": \"rgb(55,83,109)\"}}], {\"title\": \"Win/Loss VS 3 Point Attempt % For POR\", \"xaxis\": {\"title\": \"Season\"}}, {\"showLink\": true, \"linkText\": \"Export to plot.ly\"})});</script>"
      ],
      "text/vnd.plotly.v1+html": [
       "<div id=\"295c45af-931c-498f-8479-9d70c5dd53a7\" style=\"height: 525px; width: 100%;\" class=\"plotly-graph-div\"></div><script type=\"text/javascript\">require([\"plotly\"], function(Plotly) { window.PLOTLYENV=window.PLOTLYENV || {};window.PLOTLYENV.BASE_URL=\"https://plot.ly\";Plotly.newPlot(\"295c45af-931c-498f-8479-9d70c5dd53a7\", [{\"type\": \"bar\", \"x\": [\"2017\", \"2016\", \"2015\", \"2014\", \"2013\", \"2012\"], \"y\": [59.756097560975604, 50.0, 53.65853658536586, 62.19512195121951, 65.85365853658537, 40.243902439024396], \"name\": \"Win Loss Percentage\", \"marker\": {\"color\": \"rgb(green)\"}}, {\"type\": \"bar\", \"x\": [\"2017\", \"2016\", \"2015\", \"2014\", \"2013\", \"2012\"], \"y\": [32.36118900729108, 32.18586202011616, 33.18181818181819, 31.649879415519933, 29.029997196523688, 28.354430379746837], \"name\": \"3 Point Attempt %\", \"marker\": {\"color\": \"rgb(55,83,109)\"}}], {\"title\": \"Win/Loss VS 3 Point Attempt % For POR\", \"xaxis\": {\"title\": \"Season\"}}, {\"showLink\": true, \"linkText\": \"Export to plot.ly\"})});</script>"
      ]
     },
     "metadata": {},
     "output_type": "display_data"
    },
    {
     "data": {
      "application/vnd.plotly.v1+json": {
       "data": [
        {
         "marker": {
          "color": "rgb(green)"
         },
         "name": "Win Loss Percentage",
         "type": "bar",
         "x": [
          "2017",
          "2016",
          "2015",
          "2014",
          "2013",
          "2012"
         ],
         "y": [
          32.926829268292686,
          39.02439024390244,
          40.243902439024396,
          35.36585365853659,
          34.146341463414636,
          34.146341463414636
         ]
        },
        {
         "marker": {
          "color": "rgb(55,83,109)"
         },
         "name": "3 Point Attempt %",
         "type": "bar",
         "x": [
          "2017",
          "2016",
          "2015",
          "2014",
          "2013",
          "2012"
         ],
         "y": [
          27.849355797819626,
          29.10602910602911,
          25.963574756459128,
          20.401994861719814,
          21.800177357375112,
          24.348203939745076
         ]
        }
       ],
       "layout": {
        "title": "Win/Loss VS 3 Point Attempt % For SAC",
        "xaxis": {
         "title": "Season"
        }
       }
      },
      "text/html": [
       "<div id=\"2e8e0276-f383-4711-801d-a8a5c12da615\" style=\"height: 525px; width: 100%;\" class=\"plotly-graph-div\"></div><script type=\"text/javascript\">require([\"plotly\"], function(Plotly) { window.PLOTLYENV=window.PLOTLYENV || {};window.PLOTLYENV.BASE_URL=\"https://plot.ly\";Plotly.newPlot(\"2e8e0276-f383-4711-801d-a8a5c12da615\", [{\"type\": \"bar\", \"x\": [\"2017\", \"2016\", \"2015\", \"2014\", \"2013\", \"2012\"], \"y\": [32.926829268292686, 39.02439024390244, 40.243902439024396, 35.36585365853659, 34.146341463414636, 34.146341463414636], \"name\": \"Win Loss Percentage\", \"marker\": {\"color\": \"rgb(green)\"}}, {\"type\": \"bar\", \"x\": [\"2017\", \"2016\", \"2015\", \"2014\", \"2013\", \"2012\"], \"y\": [27.849355797819626, 29.10602910602911, 25.963574756459128, 20.401994861719814, 21.800177357375112, 24.348203939745076], \"name\": \"3 Point Attempt %\", \"marker\": {\"color\": \"rgb(55,83,109)\"}}], {\"title\": \"Win/Loss VS 3 Point Attempt % For SAC\", \"xaxis\": {\"title\": \"Season\"}}, {\"showLink\": true, \"linkText\": \"Export to plot.ly\"})});</script>"
      ],
      "text/vnd.plotly.v1+html": [
       "<div id=\"2e8e0276-f383-4711-801d-a8a5c12da615\" style=\"height: 525px; width: 100%;\" class=\"plotly-graph-div\"></div><script type=\"text/javascript\">require([\"plotly\"], function(Plotly) { window.PLOTLYENV=window.PLOTLYENV || {};window.PLOTLYENV.BASE_URL=\"https://plot.ly\";Plotly.newPlot(\"2e8e0276-f383-4711-801d-a8a5c12da615\", [{\"type\": \"bar\", \"x\": [\"2017\", \"2016\", \"2015\", \"2014\", \"2013\", \"2012\"], \"y\": [32.926829268292686, 39.02439024390244, 40.243902439024396, 35.36585365853659, 34.146341463414636, 34.146341463414636], \"name\": \"Win Loss Percentage\", \"marker\": {\"color\": \"rgb(green)\"}}, {\"type\": \"bar\", \"x\": [\"2017\", \"2016\", \"2015\", \"2014\", \"2013\", \"2012\"], \"y\": [27.849355797819626, 29.10602910602911, 25.963574756459128, 20.401994861719814, 21.800177357375112, 24.348203939745076], \"name\": \"3 Point Attempt %\", \"marker\": {\"color\": \"rgb(55,83,109)\"}}], {\"title\": \"Win/Loss VS 3 Point Attempt % For SAC\", \"xaxis\": {\"title\": \"Season\"}}, {\"showLink\": true, \"linkText\": \"Export to plot.ly\"})});</script>"
      ]
     },
     "metadata": {},
     "output_type": "display_data"
    },
    {
     "data": {
      "application/vnd.plotly.v1+json": {
       "data": [
        {
         "marker": {
          "color": "rgb(green)"
         },
         "name": "Win Loss Percentage",
         "type": "bar",
         "x": [
          "2017",
          "2016",
          "2015",
          "2014",
          "2013",
          "2012"
         ],
         "y": [
          57.3170731707317,
          74.39024390243902,
          81.70731707317073,
          67.07317073170732,
          75.60975609756098,
          70.73170731707317
         ]
        },
        {
         "marker": {
          "color": "rgb(55,83,109)"
         },
         "name": "3 Point Attempt %",
         "type": "bar",
         "x": [
          "2017",
          "2016",
          "2015",
          "2014",
          "2013",
          "2012"
         ],
         "y": [
          28.246892413201884,
          28.074009324009324,
          22.333382374577017,
          26.947767726874815,
          25.672121566335477,
          26.42696629213483
         ]
        }
       ],
       "layout": {
        "title": "Win/Loss VS 3 Point Attempt % For SAS",
        "xaxis": {
         "title": "Season"
        }
       }
      },
      "text/html": [
       "<div id=\"99efcd07-fb24-43fa-9249-afa0b9106cf2\" style=\"height: 525px; width: 100%;\" class=\"plotly-graph-div\"></div><script type=\"text/javascript\">require([\"plotly\"], function(Plotly) { window.PLOTLYENV=window.PLOTLYENV || {};window.PLOTLYENV.BASE_URL=\"https://plot.ly\";Plotly.newPlot(\"99efcd07-fb24-43fa-9249-afa0b9106cf2\", [{\"type\": \"bar\", \"x\": [\"2017\", \"2016\", \"2015\", \"2014\", \"2013\", \"2012\"], \"y\": [57.3170731707317, 74.39024390243902, 81.70731707317073, 67.07317073170732, 75.60975609756098, 70.73170731707317], \"name\": \"Win Loss Percentage\", \"marker\": {\"color\": \"rgb(green)\"}}, {\"type\": \"bar\", \"x\": [\"2017\", \"2016\", \"2015\", \"2014\", \"2013\", \"2012\"], \"y\": [28.246892413201884, 28.074009324009324, 22.333382374577017, 26.947767726874815, 25.672121566335477, 26.42696629213483], \"name\": \"3 Point Attempt %\", \"marker\": {\"color\": \"rgb(55,83,109)\"}}], {\"title\": \"Win/Loss VS 3 Point Attempt % For SAS\", \"xaxis\": {\"title\": \"Season\"}}, {\"showLink\": true, \"linkText\": \"Export to plot.ly\"})});</script>"
      ],
      "text/vnd.plotly.v1+html": [
       "<div id=\"99efcd07-fb24-43fa-9249-afa0b9106cf2\" style=\"height: 525px; width: 100%;\" class=\"plotly-graph-div\"></div><script type=\"text/javascript\">require([\"plotly\"], function(Plotly) { window.PLOTLYENV=window.PLOTLYENV || {};window.PLOTLYENV.BASE_URL=\"https://plot.ly\";Plotly.newPlot(\"99efcd07-fb24-43fa-9249-afa0b9106cf2\", [{\"type\": \"bar\", \"x\": [\"2017\", \"2016\", \"2015\", \"2014\", \"2013\", \"2012\"], \"y\": [57.3170731707317, 74.39024390243902, 81.70731707317073, 67.07317073170732, 75.60975609756098, 70.73170731707317], \"name\": \"Win Loss Percentage\", \"marker\": {\"color\": \"rgb(green)\"}}, {\"type\": \"bar\", \"x\": [\"2017\", \"2016\", \"2015\", \"2014\", \"2013\", \"2012\"], \"y\": [28.246892413201884, 28.074009324009324, 22.333382374577017, 26.947767726874815, 25.672121566335477, 26.42696629213483], \"name\": \"3 Point Attempt %\", \"marker\": {\"color\": \"rgb(55,83,109)\"}}], {\"title\": \"Win/Loss VS 3 Point Attempt % For SAS\", \"xaxis\": {\"title\": \"Season\"}}, {\"showLink\": true, \"linkText\": \"Export to plot.ly\"})});</script>"
      ]
     },
     "metadata": {},
     "output_type": "display_data"
    },
    {
     "data": {
      "application/vnd.plotly.v1+json": {
       "data": [
        {
         "marker": {
          "color": "rgb(green)"
         },
         "name": "Win Loss Percentage",
         "type": "bar",
         "x": [
          "2017",
          "2016",
          "2015",
          "2014",
          "2013",
          "2012"
         ],
         "y": [
          71.95121951219512,
          62.19512195121951,
          68.29268292682927,
          59.756097560975604,
          58.536585365853654,
          41.46341463414634
         ]
        },
        {
         "marker": {
          "color": "rgb(55,83,109)"
         },
         "name": "3 Point Attempt %",
         "type": "bar",
         "x": [
          "2017",
          "2016",
          "2015",
          "2014",
          "2013",
          "2012"
         ],
         "y": [
          37.704003347747246,
          28.852269442035272,
          28.71494976758135,
          30.165470786352323,
          28.535278356653766,
          24.906507105459987
         ]
        }
       ],
       "layout": {
        "title": "Win/Loss VS 3 Point Attempt % For TOR",
        "xaxis": {
         "title": "Season"
        }
       }
      },
      "text/html": [
       "<div id=\"b4e149f6-22c8-4bcf-9bd9-7915b76f6d53\" style=\"height: 525px; width: 100%;\" class=\"plotly-graph-div\"></div><script type=\"text/javascript\">require([\"plotly\"], function(Plotly) { window.PLOTLYENV=window.PLOTLYENV || {};window.PLOTLYENV.BASE_URL=\"https://plot.ly\";Plotly.newPlot(\"b4e149f6-22c8-4bcf-9bd9-7915b76f6d53\", [{\"type\": \"bar\", \"x\": [\"2017\", \"2016\", \"2015\", \"2014\", \"2013\", \"2012\"], \"y\": [71.95121951219512, 62.19512195121951, 68.29268292682927, 59.756097560975604, 58.536585365853654, 41.46341463414634], \"name\": \"Win Loss Percentage\", \"marker\": {\"color\": \"rgb(green)\"}}, {\"type\": \"bar\", \"x\": [\"2017\", \"2016\", \"2015\", \"2014\", \"2013\", \"2012\"], \"y\": [37.704003347747246, 28.852269442035272, 28.71494976758135, 30.165470786352323, 28.535278356653766, 24.906507105459987], \"name\": \"3 Point Attempt %\", \"marker\": {\"color\": \"rgb(55,83,109)\"}}], {\"title\": \"Win/Loss VS 3 Point Attempt % For TOR\", \"xaxis\": {\"title\": \"Season\"}}, {\"showLink\": true, \"linkText\": \"Export to plot.ly\"})});</script>"
      ],
      "text/vnd.plotly.v1+html": [
       "<div id=\"b4e149f6-22c8-4bcf-9bd9-7915b76f6d53\" style=\"height: 525px; width: 100%;\" class=\"plotly-graph-div\"></div><script type=\"text/javascript\">require([\"plotly\"], function(Plotly) { window.PLOTLYENV=window.PLOTLYENV || {};window.PLOTLYENV.BASE_URL=\"https://plot.ly\";Plotly.newPlot(\"b4e149f6-22c8-4bcf-9bd9-7915b76f6d53\", [{\"type\": \"bar\", \"x\": [\"2017\", \"2016\", \"2015\", \"2014\", \"2013\", \"2012\"], \"y\": [71.95121951219512, 62.19512195121951, 68.29268292682927, 59.756097560975604, 58.536585365853654, 41.46341463414634], \"name\": \"Win Loss Percentage\", \"marker\": {\"color\": \"rgb(green)\"}}, {\"type\": \"bar\", \"x\": [\"2017\", \"2016\", \"2015\", \"2014\", \"2013\", \"2012\"], \"y\": [37.704003347747246, 28.852269442035272, 28.71494976758135, 30.165470786352323, 28.535278356653766, 24.906507105459987], \"name\": \"3 Point Attempt %\", \"marker\": {\"color\": \"rgb(55,83,109)\"}}], {\"title\": \"Win/Loss VS 3 Point Attempt % For TOR\", \"xaxis\": {\"title\": \"Season\"}}, {\"showLink\": true, \"linkText\": \"Export to plot.ly\"})});</script>"
      ]
     },
     "metadata": {},
     "output_type": "display_data"
    },
    {
     "data": {
      "application/vnd.plotly.v1+json": {
       "data": [
        {
         "marker": {
          "color": "rgb(green)"
         },
         "name": "Win Loss Percentage",
         "type": "bar",
         "x": [
          "2017",
          "2016",
          "2015",
          "2014",
          "2013",
          "2012"
         ],
         "y": [
          58.536585365853654,
          62.19512195121951,
          48.78048780487805,
          46.34146341463415,
          30.48780487804878,
          52.4390243902439
         ]
        },
        {
         "marker": {
          "color": "rgb(55,83,109)"
         },
         "name": "3 Point Attempt %",
         "type": "bar",
         "x": [
          "2017",
          "2016",
          "2015",
          "2014",
          "2013",
          "2012"
         ],
         "y": [
          35.67750478152126,
          32.66308518802763,
          29.6678295161535,
          27.433764633394947,
          23.707155742633795,
          20.640834575260804
         ]
        }
       ],
       "layout": {
        "title": "Win/Loss VS 3 Point Attempt % For UTA",
        "xaxis": {
         "title": "Season"
        }
       }
      },
      "text/html": [
       "<div id=\"3ee36b3d-c919-4adc-b367-585b6dfdaf58\" style=\"height: 525px; width: 100%;\" class=\"plotly-graph-div\"></div><script type=\"text/javascript\">require([\"plotly\"], function(Plotly) { window.PLOTLYENV=window.PLOTLYENV || {};window.PLOTLYENV.BASE_URL=\"https://plot.ly\";Plotly.newPlot(\"3ee36b3d-c919-4adc-b367-585b6dfdaf58\", [{\"type\": \"bar\", \"x\": [\"2017\", \"2016\", \"2015\", \"2014\", \"2013\", \"2012\"], \"y\": [58.536585365853654, 62.19512195121951, 48.78048780487805, 46.34146341463415, 30.48780487804878, 52.4390243902439], \"name\": \"Win Loss Percentage\", \"marker\": {\"color\": \"rgb(green)\"}}, {\"type\": \"bar\", \"x\": [\"2017\", \"2016\", \"2015\", \"2014\", \"2013\", \"2012\"], \"y\": [35.67750478152126, 32.66308518802763, 29.6678295161535, 27.433764633394947, 23.707155742633795, 20.640834575260804], \"name\": \"3 Point Attempt %\", \"marker\": {\"color\": \"rgb(55,83,109)\"}}], {\"title\": \"Win/Loss VS 3 Point Attempt % For UTA\", \"xaxis\": {\"title\": \"Season\"}}, {\"showLink\": true, \"linkText\": \"Export to plot.ly\"})});</script>"
      ],
      "text/vnd.plotly.v1+html": [
       "<div id=\"3ee36b3d-c919-4adc-b367-585b6dfdaf58\" style=\"height: 525px; width: 100%;\" class=\"plotly-graph-div\"></div><script type=\"text/javascript\">require([\"plotly\"], function(Plotly) { window.PLOTLYENV=window.PLOTLYENV || {};window.PLOTLYENV.BASE_URL=\"https://plot.ly\";Plotly.newPlot(\"3ee36b3d-c919-4adc-b367-585b6dfdaf58\", [{\"type\": \"bar\", \"x\": [\"2017\", \"2016\", \"2015\", \"2014\", \"2013\", \"2012\"], \"y\": [58.536585365853654, 62.19512195121951, 48.78048780487805, 46.34146341463415, 30.48780487804878, 52.4390243902439], \"name\": \"Win Loss Percentage\", \"marker\": {\"color\": \"rgb(green)\"}}, {\"type\": \"bar\", \"x\": [\"2017\", \"2016\", \"2015\", \"2014\", \"2013\", \"2012\"], \"y\": [35.67750478152126, 32.66308518802763, 29.6678295161535, 27.433764633394947, 23.707155742633795, 20.640834575260804], \"name\": \"3 Point Attempt %\", \"marker\": {\"color\": \"rgb(55,83,109)\"}}], {\"title\": \"Win/Loss VS 3 Point Attempt % For UTA\", \"xaxis\": {\"title\": \"Season\"}}, {\"showLink\": true, \"linkText\": \"Export to plot.ly\"})});</script>"
      ]
     },
     "metadata": {},
     "output_type": "display_data"
    },
    {
     "data": {
      "application/vnd.plotly.v1+json": {
       "data": [
        {
         "marker": {
          "color": "rgb(green)"
         },
         "name": "Win Loss Percentage",
         "type": "bar",
         "x": [
          "2017",
          "2016",
          "2015",
          "2014",
          "2013",
          "2012"
         ],
         "y": [
          52.4390243902439,
          59.756097560975604,
          50,
          56.09756097560976,
          53.65853658536586,
          35.36585365853659
         ]
        },
        {
         "marker": {
          "color": "rgb(55,83,109)"
         },
         "name": "3 Point Attempt %",
         "type": "bar",
         "x": [
          "2017",
          "2016",
          "2015",
          "2014",
          "2013",
          "2012"
         ],
         "y": [
          30.963237389569677,
          28.443323525290737,
          28.195649082894924,
          20.338733431516935,
          24.6242774566474,
          22.336769759450174
         ]
        }
       ],
       "layout": {
        "title": "Win/Loss VS 3 Point Attempt % For WAS",
        "xaxis": {
         "title": "Season"
        }
       }
      },
      "text/html": [
       "<div id=\"3bd54195-f593-4243-b323-968875dea249\" style=\"height: 525px; width: 100%;\" class=\"plotly-graph-div\"></div><script type=\"text/javascript\">require([\"plotly\"], function(Plotly) { window.PLOTLYENV=window.PLOTLYENV || {};window.PLOTLYENV.BASE_URL=\"https://plot.ly\";Plotly.newPlot(\"3bd54195-f593-4243-b323-968875dea249\", [{\"type\": \"bar\", \"x\": [\"2017\", \"2016\", \"2015\", \"2014\", \"2013\", \"2012\"], \"y\": [52.4390243902439, 59.756097560975604, 50.0, 56.09756097560976, 53.65853658536586, 35.36585365853659], \"name\": \"Win Loss Percentage\", \"marker\": {\"color\": \"rgb(green)\"}}, {\"type\": \"bar\", \"x\": [\"2017\", \"2016\", \"2015\", \"2014\", \"2013\", \"2012\"], \"y\": [30.963237389569677, 28.443323525290737, 28.195649082894924, 20.338733431516935, 24.6242774566474, 22.336769759450174], \"name\": \"3 Point Attempt %\", \"marker\": {\"color\": \"rgb(55,83,109)\"}}], {\"title\": \"Win/Loss VS 3 Point Attempt % For WAS\", \"xaxis\": {\"title\": \"Season\"}}, {\"showLink\": true, \"linkText\": \"Export to plot.ly\"})});</script>"
      ],
      "text/vnd.plotly.v1+html": [
       "<div id=\"3bd54195-f593-4243-b323-968875dea249\" style=\"height: 525px; width: 100%;\" class=\"plotly-graph-div\"></div><script type=\"text/javascript\">require([\"plotly\"], function(Plotly) { window.PLOTLYENV=window.PLOTLYENV || {};window.PLOTLYENV.BASE_URL=\"https://plot.ly\";Plotly.newPlot(\"3bd54195-f593-4243-b323-968875dea249\", [{\"type\": \"bar\", \"x\": [\"2017\", \"2016\", \"2015\", \"2014\", \"2013\", \"2012\"], \"y\": [52.4390243902439, 59.756097560975604, 50.0, 56.09756097560976, 53.65853658536586, 35.36585365853659], \"name\": \"Win Loss Percentage\", \"marker\": {\"color\": \"rgb(green)\"}}, {\"type\": \"bar\", \"x\": [\"2017\", \"2016\", \"2015\", \"2014\", \"2013\", \"2012\"], \"y\": [30.963237389569677, 28.443323525290737, 28.195649082894924, 20.338733431516935, 24.6242774566474, 22.336769759450174], \"name\": \"3 Point Attempt %\", \"marker\": {\"color\": \"rgb(55,83,109)\"}}], {\"title\": \"Win/Loss VS 3 Point Attempt % For WAS\", \"xaxis\": {\"title\": \"Season\"}}, {\"showLink\": true, \"linkText\": \"Export to plot.ly\"})});</script>"
      ]
     },
     "metadata": {},
     "output_type": "display_data"
    }
   ],
   "source": [
    "for df in teamstats:\n",
    "    data = []\n",
    "    data.append(go.Bar(\n",
    "        x = df['Season'],\n",
    "        y = df['Win/Loss'],\n",
    "        name= 'Win Loss Percentage',\n",
    "        marker = dict(\n",
    "            color = \"rgb(green)\")\n",
    "    ))\n",
    "    data.append(go.Bar(\n",
    "        x = df['Season'],\n",
    "        y = df['3PA%'],\n",
    "        name= '3 Point Attempt %',\n",
    "        marker = dict(\n",
    "            color = \"rgb(55,83,109)\")\n",
    "    ))\n",
    "    layout = dict(title= 'Win/Loss VS 3 Point Attempt % For '+ df['Tm'][0],xaxis = dict(title = 'Season')) \n",
    "    fig = dict(data=data, layout=layout)\n",
    "    iplot(fig, filename='basic-line')"
   ]
  },
  {
   "cell_type": "markdown",
   "metadata": {},
   "source": [
    "Looking at these graphs, we definitely see a general increase in the 3 point attempt % amongst teams, and despite this we still don't see an increase of wins in teams that have dramatically changed their playstyle. Although for some teams the season with the highest wins is also the season where they have the most 3 point attempts, this isn't a trend amongst most organizations. For teams like the Philadelphia 76ers, we see the exact same percentage of 3 point attempts from the 2017 and the 2016 season but the win rate for the 76ers nearly doubled in the 2017 season. The team with the best NBA record in 2017 the Houston Rockets shot an astounding 50% of their shots from behind the three point line, the team with the second highest percentage of 3 point shots attempted was the Brooklyn Nets, but they only had a 34% win rate.  With these stats, its probably safe to say that the # of attempted threes doesn't affect the outcome of the game."
   ]
  },
  {
   "cell_type": "code",
   "execution_count": 284,
   "metadata": {},
   "outputs": [
    {
     "data": {
      "application/vnd.plotly.v1+json": {
       "data": [
        {
         "marker": {
          "color": "green"
         },
         "name": "Win Loss Percentage",
         "type": "bar",
         "x": [
          "2017",
          "2016",
          "2015",
          "2014",
          "2013",
          "2012"
         ],
         "y": [
          29.268292682926827,
          52.4390243902439,
          58.536585365853654,
          73.17073170731707,
          46.34146341463415,
          53.65853658536586
         ]
        },
        {
         "marker": {
          "color": "blue"
         },
         "name": "3 Point Percentage Made",
         "type": "bar",
         "x": [
          "2017",
          "2016",
          "2015",
          "2014",
          "2013",
          "2012"
         ],
         "y": [
          36,
          34.1,
          35,
          38,
          36.3,
          37.1
         ]
        }
       ],
       "layout": {
        "colorway": "red",
        "title": "Win/Loss VS 3 Point Percentage Made for ATL",
        "xaxis": {
         "title": "Season"
        }
       }
      },
      "text/html": [
       "<div id=\"4977a6d2-8bc2-4dd6-b18b-c1d5342c5f18\" style=\"height: 525px; width: 100%;\" class=\"plotly-graph-div\"></div><script type=\"text/javascript\">require([\"plotly\"], function(Plotly) { window.PLOTLYENV=window.PLOTLYENV || {};window.PLOTLYENV.BASE_URL=\"https://plot.ly\";Plotly.newPlot(\"4977a6d2-8bc2-4dd6-b18b-c1d5342c5f18\", [{\"type\": \"bar\", \"x\": [\"2017\", \"2016\", \"2015\", \"2014\", \"2013\", \"2012\"], \"y\": [29.268292682926827, 52.4390243902439, 58.536585365853654, 73.17073170731707, 46.34146341463415, 53.65853658536586], \"name\": \"Win Loss Percentage\", \"marker\": {\"color\": \"green\"}}, {\"type\": \"bar\", \"x\": [\"2017\", \"2016\", \"2015\", \"2014\", \"2013\", \"2012\"], \"y\": [36.0, 34.1, 35.0, 38.0, 36.3, 37.1], \"name\": \"3 Point Percentage Made\", \"marker\": {\"color\": \"blue\"}}], {\"title\": \"Win/Loss VS 3 Point Percentage Made for ATL\", \"xaxis\": {\"title\": \"Season\"}, \"colorway\": \"red\"}, {\"showLink\": true, \"linkText\": \"Export to plot.ly\"})});</script>"
      ],
      "text/vnd.plotly.v1+html": [
       "<div id=\"4977a6d2-8bc2-4dd6-b18b-c1d5342c5f18\" style=\"height: 525px; width: 100%;\" class=\"plotly-graph-div\"></div><script type=\"text/javascript\">require([\"plotly\"], function(Plotly) { window.PLOTLYENV=window.PLOTLYENV || {};window.PLOTLYENV.BASE_URL=\"https://plot.ly\";Plotly.newPlot(\"4977a6d2-8bc2-4dd6-b18b-c1d5342c5f18\", [{\"type\": \"bar\", \"x\": [\"2017\", \"2016\", \"2015\", \"2014\", \"2013\", \"2012\"], \"y\": [29.268292682926827, 52.4390243902439, 58.536585365853654, 73.17073170731707, 46.34146341463415, 53.65853658536586], \"name\": \"Win Loss Percentage\", \"marker\": {\"color\": \"green\"}}, {\"type\": \"bar\", \"x\": [\"2017\", \"2016\", \"2015\", \"2014\", \"2013\", \"2012\"], \"y\": [36.0, 34.1, 35.0, 38.0, 36.3, 37.1], \"name\": \"3 Point Percentage Made\", \"marker\": {\"color\": \"blue\"}}], {\"title\": \"Win/Loss VS 3 Point Percentage Made for ATL\", \"xaxis\": {\"title\": \"Season\"}, \"colorway\": \"red\"}, {\"showLink\": true, \"linkText\": \"Export to plot.ly\"})});</script>"
      ]
     },
     "metadata": {},
     "output_type": "display_data"
    },
    {
     "data": {
      "application/vnd.plotly.v1+json": {
       "data": [
        {
         "marker": {
          "color": "green"
         },
         "name": "Win Loss Percentage",
         "type": "bar",
         "x": [
          "2017",
          "2016",
          "2015",
          "2014",
          "2013",
          "2012"
         ],
         "y": [
          34.146341463414636,
          24.390243902439025,
          25.609756097560975,
          46.34146341463415,
          53.65853658536586,
          59.756097560975604
         ]
        },
        {
         "marker": {
          "color": "blue"
         },
         "name": "3 Point Percentage Made",
         "type": "bar",
         "x": [
          "2017",
          "2016",
          "2015",
          "2014",
          "2013",
          "2012"
         ],
         "y": [
          35.6,
          33.800000000000004,
          35.199999999999996,
          33.1,
          36.9,
          35.699999999999996
         ]
        }
       ],
       "layout": {
        "colorway": "red",
        "title": "Win/Loss VS 3 Point Percentage Made for BRK",
        "xaxis": {
         "title": "Season"
        }
       }
      },
      "text/html": [
       "<div id=\"0ca82fec-d4d2-482c-b636-16bb548abed9\" style=\"height: 525px; width: 100%;\" class=\"plotly-graph-div\"></div><script type=\"text/javascript\">require([\"plotly\"], function(Plotly) { window.PLOTLYENV=window.PLOTLYENV || {};window.PLOTLYENV.BASE_URL=\"https://plot.ly\";Plotly.newPlot(\"0ca82fec-d4d2-482c-b636-16bb548abed9\", [{\"type\": \"bar\", \"x\": [\"2017\", \"2016\", \"2015\", \"2014\", \"2013\", \"2012\"], \"y\": [34.146341463414636, 24.390243902439025, 25.609756097560975, 46.34146341463415, 53.65853658536586, 59.756097560975604], \"name\": \"Win Loss Percentage\", \"marker\": {\"color\": \"green\"}}, {\"type\": \"bar\", \"x\": [\"2017\", \"2016\", \"2015\", \"2014\", \"2013\", \"2012\"], \"y\": [35.6, 33.800000000000004, 35.199999999999996, 33.1, 36.9, 35.699999999999996], \"name\": \"3 Point Percentage Made\", \"marker\": {\"color\": \"blue\"}}], {\"title\": \"Win/Loss VS 3 Point Percentage Made for BRK\", \"xaxis\": {\"title\": \"Season\"}, \"colorway\": \"red\"}, {\"showLink\": true, \"linkText\": \"Export to plot.ly\"})});</script>"
      ],
      "text/vnd.plotly.v1+html": [
       "<div id=\"0ca82fec-d4d2-482c-b636-16bb548abed9\" style=\"height: 525px; width: 100%;\" class=\"plotly-graph-div\"></div><script type=\"text/javascript\">require([\"plotly\"], function(Plotly) { window.PLOTLYENV=window.PLOTLYENV || {};window.PLOTLYENV.BASE_URL=\"https://plot.ly\";Plotly.newPlot(\"0ca82fec-d4d2-482c-b636-16bb548abed9\", [{\"type\": \"bar\", \"x\": [\"2017\", \"2016\", \"2015\", \"2014\", \"2013\", \"2012\"], \"y\": [34.146341463414636, 24.390243902439025, 25.609756097560975, 46.34146341463415, 53.65853658536586, 59.756097560975604], \"name\": \"Win Loss Percentage\", \"marker\": {\"color\": \"green\"}}, {\"type\": \"bar\", \"x\": [\"2017\", \"2016\", \"2015\", \"2014\", \"2013\", \"2012\"], \"y\": [35.6, 33.800000000000004, 35.199999999999996, 33.1, 36.9, 35.699999999999996], \"name\": \"3 Point Percentage Made\", \"marker\": {\"color\": \"blue\"}}], {\"title\": \"Win/Loss VS 3 Point Percentage Made for BRK\", \"xaxis\": {\"title\": \"Season\"}, \"colorway\": \"red\"}, {\"showLink\": true, \"linkText\": \"Export to plot.ly\"})});</script>"
      ]
     },
     "metadata": {},
     "output_type": "display_data"
    },
    {
     "data": {
      "application/vnd.plotly.v1+json": {
       "data": [
        {
         "marker": {
          "color": "green"
         },
         "name": "Win Loss Percentage",
         "type": "bar",
         "x": [
          "2017",
          "2016",
          "2015",
          "2014",
          "2013",
          "2012"
         ],
         "y": [
          67.07317073170732,
          64.63414634146342,
          58.536585365853654,
          48.78048780487805,
          30.48780487804878,
          50.617283950617285
         ]
        },
        {
         "marker": {
          "color": "blue"
         },
         "name": "3 Point Percentage Made",
         "type": "bar",
         "x": [
          "2017",
          "2016",
          "2015",
          "2014",
          "2013",
          "2012"
         ],
         "y": [
          37.7,
          35.9,
          33.5,
          32.7,
          33.300000000000004,
          35.8
         ]
        }
       ],
       "layout": {
        "colorway": "red",
        "title": "Win/Loss VS 3 Point Percentage Made for BOS",
        "xaxis": {
         "title": "Season"
        }
       }
      },
      "text/html": [
       "<div id=\"b4df0054-15d5-4546-b568-76dde33c6475\" style=\"height: 525px; width: 100%;\" class=\"plotly-graph-div\"></div><script type=\"text/javascript\">require([\"plotly\"], function(Plotly) { window.PLOTLYENV=window.PLOTLYENV || {};window.PLOTLYENV.BASE_URL=\"https://plot.ly\";Plotly.newPlot(\"b4df0054-15d5-4546-b568-76dde33c6475\", [{\"type\": \"bar\", \"x\": [\"2017\", \"2016\", \"2015\", \"2014\", \"2013\", \"2012\"], \"y\": [67.07317073170732, 64.63414634146342, 58.536585365853654, 48.78048780487805, 30.48780487804878, 50.617283950617285], \"name\": \"Win Loss Percentage\", \"marker\": {\"color\": \"green\"}}, {\"type\": \"bar\", \"x\": [\"2017\", \"2016\", \"2015\", \"2014\", \"2013\", \"2012\"], \"y\": [37.7, 35.9, 33.5, 32.7, 33.300000000000004, 35.8], \"name\": \"3 Point Percentage Made\", \"marker\": {\"color\": \"blue\"}}], {\"title\": \"Win/Loss VS 3 Point Percentage Made for BOS\", \"xaxis\": {\"title\": \"Season\"}, \"colorway\": \"red\"}, {\"showLink\": true, \"linkText\": \"Export to plot.ly\"})});</script>"
      ],
      "text/vnd.plotly.v1+html": [
       "<div id=\"b4df0054-15d5-4546-b568-76dde33c6475\" style=\"height: 525px; width: 100%;\" class=\"plotly-graph-div\"></div><script type=\"text/javascript\">require([\"plotly\"], function(Plotly) { window.PLOTLYENV=window.PLOTLYENV || {};window.PLOTLYENV.BASE_URL=\"https://plot.ly\";Plotly.newPlot(\"b4df0054-15d5-4546-b568-76dde33c6475\", [{\"type\": \"bar\", \"x\": [\"2017\", \"2016\", \"2015\", \"2014\", \"2013\", \"2012\"], \"y\": [67.07317073170732, 64.63414634146342, 58.536585365853654, 48.78048780487805, 30.48780487804878, 50.617283950617285], \"name\": \"Win Loss Percentage\", \"marker\": {\"color\": \"green\"}}, {\"type\": \"bar\", \"x\": [\"2017\", \"2016\", \"2015\", \"2014\", \"2013\", \"2012\"], \"y\": [37.7, 35.9, 33.5, 32.7, 33.300000000000004, 35.8], \"name\": \"3 Point Percentage Made\", \"marker\": {\"color\": \"blue\"}}], {\"title\": \"Win/Loss VS 3 Point Percentage Made for BOS\", \"xaxis\": {\"title\": \"Season\"}, \"colorway\": \"red\"}, {\"showLink\": true, \"linkText\": \"Export to plot.ly\"})});</script>"
      ]
     },
     "metadata": {},
     "output_type": "display_data"
    },
    {
     "data": {
      "application/vnd.plotly.v1+json": {
       "data": [
        {
         "marker": {
          "color": "green"
         },
         "name": "Win Loss Percentage",
         "type": "bar",
         "x": [
          "2017",
          "2016",
          "2015",
          "2014",
          "2013",
          "2012"
         ],
         "y": [
          43.90243902439025,
          43.90243902439025,
          58.536585365853654,
          40.243902439024396,
          52.4390243902439,
          25.609756097560975
         ]
        },
        {
         "marker": {
          "color": "blue"
         },
         "name": "3 Point Percentage Made",
         "type": "bar",
         "x": [
          "2017",
          "2016",
          "2015",
          "2014",
          "2013",
          "2012"
         ],
         "y": [
          36.9,
          35.099999999999994,
          36.199999999999996,
          31.8,
          35.099999999999994,
          33.5
         ]
        }
       ],
       "layout": {
        "colorway": "red",
        "title": "Win/Loss VS 3 Point Percentage Made for CHO",
        "xaxis": {
         "title": "Season"
        }
       }
      },
      "text/html": [
       "<div id=\"ec6ef934-3393-4844-b848-c06c5fe9728e\" style=\"height: 525px; width: 100%;\" class=\"plotly-graph-div\"></div><script type=\"text/javascript\">require([\"plotly\"], function(Plotly) { window.PLOTLYENV=window.PLOTLYENV || {};window.PLOTLYENV.BASE_URL=\"https://plot.ly\";Plotly.newPlot(\"ec6ef934-3393-4844-b848-c06c5fe9728e\", [{\"type\": \"bar\", \"x\": [\"2017\", \"2016\", \"2015\", \"2014\", \"2013\", \"2012\"], \"y\": [43.90243902439025, 43.90243902439025, 58.536585365853654, 40.243902439024396, 52.4390243902439, 25.609756097560975], \"name\": \"Win Loss Percentage\", \"marker\": {\"color\": \"green\"}}, {\"type\": \"bar\", \"x\": [\"2017\", \"2016\", \"2015\", \"2014\", \"2013\", \"2012\"], \"y\": [36.9, 35.099999999999994, 36.199999999999996, 31.8, 35.099999999999994, 33.5], \"name\": \"3 Point Percentage Made\", \"marker\": {\"color\": \"blue\"}}], {\"title\": \"Win/Loss VS 3 Point Percentage Made for CHO\", \"xaxis\": {\"title\": \"Season\"}, \"colorway\": \"red\"}, {\"showLink\": true, \"linkText\": \"Export to plot.ly\"})});</script>"
      ],
      "text/vnd.plotly.v1+html": [
       "<div id=\"ec6ef934-3393-4844-b848-c06c5fe9728e\" style=\"height: 525px; width: 100%;\" class=\"plotly-graph-div\"></div><script type=\"text/javascript\">require([\"plotly\"], function(Plotly) { window.PLOTLYENV=window.PLOTLYENV || {};window.PLOTLYENV.BASE_URL=\"https://plot.ly\";Plotly.newPlot(\"ec6ef934-3393-4844-b848-c06c5fe9728e\", [{\"type\": \"bar\", \"x\": [\"2017\", \"2016\", \"2015\", \"2014\", \"2013\", \"2012\"], \"y\": [43.90243902439025, 43.90243902439025, 58.536585365853654, 40.243902439024396, 52.4390243902439, 25.609756097560975], \"name\": \"Win Loss Percentage\", \"marker\": {\"color\": \"green\"}}, {\"type\": \"bar\", \"x\": [\"2017\", \"2016\", \"2015\", \"2014\", \"2013\", \"2012\"], \"y\": [36.9, 35.099999999999994, 36.199999999999996, 31.8, 35.099999999999994, 33.5], \"name\": \"3 Point Percentage Made\", \"marker\": {\"color\": \"blue\"}}], {\"title\": \"Win/Loss VS 3 Point Percentage Made for CHO\", \"xaxis\": {\"title\": \"Season\"}, \"colorway\": \"red\"}, {\"showLink\": true, \"linkText\": \"Export to plot.ly\"})});</script>"
      ]
     },
     "metadata": {},
     "output_type": "display_data"
    },
    {
     "data": {
      "application/vnd.plotly.v1+json": {
       "data": [
        {
         "marker": {
          "color": "green"
         },
         "name": "Win Loss Percentage",
         "type": "bar",
         "x": [
          "2017",
          "2016",
          "2015",
          "2014",
          "2013",
          "2012"
         ],
         "y": [
          32.926829268292686,
          50,
          51.21951219512195,
          60.97560975609756,
          58.536585365853654,
          54.87804878048781
         ]
        },
        {
         "marker": {
          "color": "blue"
         },
         "name": "3 Point Percentage Made",
         "type": "bar",
         "x": [
          "2017",
          "2016",
          "2015",
          "2014",
          "2013",
          "2012"
         ],
         "y": [
          35.5,
          34,
          37.1,
          35.3,
          34.8,
          35.3
         ]
        }
       ],
       "layout": {
        "colorway": "red",
        "title": "Win/Loss VS 3 Point Percentage Made for CHI",
        "xaxis": {
         "title": "Season"
        }
       }
      },
      "text/html": [
       "<div id=\"b3972fc4-b5a0-4471-b691-afa7d43118b1\" style=\"height: 525px; width: 100%;\" class=\"plotly-graph-div\"></div><script type=\"text/javascript\">require([\"plotly\"], function(Plotly) { window.PLOTLYENV=window.PLOTLYENV || {};window.PLOTLYENV.BASE_URL=\"https://plot.ly\";Plotly.newPlot(\"b3972fc4-b5a0-4471-b691-afa7d43118b1\", [{\"type\": \"bar\", \"x\": [\"2017\", \"2016\", \"2015\", \"2014\", \"2013\", \"2012\"], \"y\": [32.926829268292686, 50.0, 51.21951219512195, 60.97560975609756, 58.536585365853654, 54.87804878048781], \"name\": \"Win Loss Percentage\", \"marker\": {\"color\": \"green\"}}, {\"type\": \"bar\", \"x\": [\"2017\", \"2016\", \"2015\", \"2014\", \"2013\", \"2012\"], \"y\": [35.5, 34.0, 37.1, 35.3, 34.8, 35.3], \"name\": \"3 Point Percentage Made\", \"marker\": {\"color\": \"blue\"}}], {\"title\": \"Win/Loss VS 3 Point Percentage Made for CHI\", \"xaxis\": {\"title\": \"Season\"}, \"colorway\": \"red\"}, {\"showLink\": true, \"linkText\": \"Export to plot.ly\"})});</script>"
      ],
      "text/vnd.plotly.v1+html": [
       "<div id=\"b3972fc4-b5a0-4471-b691-afa7d43118b1\" style=\"height: 525px; width: 100%;\" class=\"plotly-graph-div\"></div><script type=\"text/javascript\">require([\"plotly\"], function(Plotly) { window.PLOTLYENV=window.PLOTLYENV || {};window.PLOTLYENV.BASE_URL=\"https://plot.ly\";Plotly.newPlot(\"b3972fc4-b5a0-4471-b691-afa7d43118b1\", [{\"type\": \"bar\", \"x\": [\"2017\", \"2016\", \"2015\", \"2014\", \"2013\", \"2012\"], \"y\": [32.926829268292686, 50.0, 51.21951219512195, 60.97560975609756, 58.536585365853654, 54.87804878048781], \"name\": \"Win Loss Percentage\", \"marker\": {\"color\": \"green\"}}, {\"type\": \"bar\", \"x\": [\"2017\", \"2016\", \"2015\", \"2014\", \"2013\", \"2012\"], \"y\": [35.5, 34.0, 37.1, 35.3, 34.8, 35.3], \"name\": \"3 Point Percentage Made\", \"marker\": {\"color\": \"blue\"}}], {\"title\": \"Win/Loss VS 3 Point Percentage Made for CHI\", \"xaxis\": {\"title\": \"Season\"}, \"colorway\": \"red\"}, {\"showLink\": true, \"linkText\": \"Export to plot.ly\"})});</script>"
      ]
     },
     "metadata": {},
     "output_type": "display_data"
    },
    {
     "data": {
      "application/vnd.plotly.v1+json": {
       "data": [
        {
         "marker": {
          "color": "green"
         },
         "name": "Win Loss Percentage",
         "type": "bar",
         "x": [
          "2017",
          "2016",
          "2015",
          "2014",
          "2013",
          "2012"
         ],
         "y": [
          60.97560975609756,
          62.19512195121951,
          69.51219512195121,
          64.63414634146342,
          40.243902439024396,
          29.268292682926827
         ]
        },
        {
         "marker": {
          "color": "blue"
         },
         "name": "3 Point Percentage Made",
         "type": "bar",
         "x": [
          "2017",
          "2016",
          "2015",
          "2014",
          "2013",
          "2012"
         ],
         "y": [
          37.2,
          38.4,
          36.199999999999996,
          36.7,
          35.6,
          34.599999999999994
         ]
        }
       ],
       "layout": {
        "colorway": "red",
        "title": "Win/Loss VS 3 Point Percentage Made for CLE",
        "xaxis": {
         "title": "Season"
        }
       }
      },
      "text/html": [
       "<div id=\"9ad4e096-b920-446b-ad2d-60eb28925683\" style=\"height: 525px; width: 100%;\" class=\"plotly-graph-div\"></div><script type=\"text/javascript\">require([\"plotly\"], function(Plotly) { window.PLOTLYENV=window.PLOTLYENV || {};window.PLOTLYENV.BASE_URL=\"https://plot.ly\";Plotly.newPlot(\"9ad4e096-b920-446b-ad2d-60eb28925683\", [{\"type\": \"bar\", \"x\": [\"2017\", \"2016\", \"2015\", \"2014\", \"2013\", \"2012\"], \"y\": [60.97560975609756, 62.19512195121951, 69.51219512195121, 64.63414634146342, 40.243902439024396, 29.268292682926827], \"name\": \"Win Loss Percentage\", \"marker\": {\"color\": \"green\"}}, {\"type\": \"bar\", \"x\": [\"2017\", \"2016\", \"2015\", \"2014\", \"2013\", \"2012\"], \"y\": [37.2, 38.4, 36.199999999999996, 36.7, 35.6, 34.599999999999994], \"name\": \"3 Point Percentage Made\", \"marker\": {\"color\": \"blue\"}}], {\"title\": \"Win/Loss VS 3 Point Percentage Made for CLE\", \"xaxis\": {\"title\": \"Season\"}, \"colorway\": \"red\"}, {\"showLink\": true, \"linkText\": \"Export to plot.ly\"})});</script>"
      ],
      "text/vnd.plotly.v1+html": [
       "<div id=\"9ad4e096-b920-446b-ad2d-60eb28925683\" style=\"height: 525px; width: 100%;\" class=\"plotly-graph-div\"></div><script type=\"text/javascript\">require([\"plotly\"], function(Plotly) { window.PLOTLYENV=window.PLOTLYENV || {};window.PLOTLYENV.BASE_URL=\"https://plot.ly\";Plotly.newPlot(\"9ad4e096-b920-446b-ad2d-60eb28925683\", [{\"type\": \"bar\", \"x\": [\"2017\", \"2016\", \"2015\", \"2014\", \"2013\", \"2012\"], \"y\": [60.97560975609756, 62.19512195121951, 69.51219512195121, 64.63414634146342, 40.243902439024396, 29.268292682926827], \"name\": \"Win Loss Percentage\", \"marker\": {\"color\": \"green\"}}, {\"type\": \"bar\", \"x\": [\"2017\", \"2016\", \"2015\", \"2014\", \"2013\", \"2012\"], \"y\": [37.2, 38.4, 36.199999999999996, 36.7, 35.6, 34.599999999999994], \"name\": \"3 Point Percentage Made\", \"marker\": {\"color\": \"blue\"}}], {\"title\": \"Win/Loss VS 3 Point Percentage Made for CLE\", \"xaxis\": {\"title\": \"Season\"}, \"colorway\": \"red\"}, {\"showLink\": true, \"linkText\": \"Export to plot.ly\"})});</script>"
      ]
     },
     "metadata": {},
     "output_type": "display_data"
    },
    {
     "data": {
      "application/vnd.plotly.v1+json": {
       "data": [
        {
         "marker": {
          "color": "green"
         },
         "name": "Win Loss Percentage",
         "type": "bar",
         "x": [
          "2017",
          "2016",
          "2015",
          "2014",
          "2013",
          "2012"
         ],
         "y": [
          29.268292682926827,
          40.243902439024396,
          51.21951219512195,
          60.97560975609756,
          59.756097560975604,
          50
         ]
        },
        {
         "marker": {
          "color": "blue"
         },
         "name": "3 Point Percentage Made",
         "type": "bar",
         "x": [
          "2017",
          "2016",
          "2015",
          "2014",
          "2013",
          "2012"
         ],
         "y": [
          36,
          35.5,
          34.4,
          35.199999999999996,
          38.4,
          37.2
         ]
        }
       ],
       "layout": {
        "colorway": "red",
        "title": "Win/Loss VS 3 Point Percentage Made for DAL",
        "xaxis": {
         "title": "Season"
        }
       }
      },
      "text/html": [
       "<div id=\"800ea04a-c13f-44ad-a2d0-3a4f4ccdbbfb\" style=\"height: 525px; width: 100%;\" class=\"plotly-graph-div\"></div><script type=\"text/javascript\">require([\"plotly\"], function(Plotly) { window.PLOTLYENV=window.PLOTLYENV || {};window.PLOTLYENV.BASE_URL=\"https://plot.ly\";Plotly.newPlot(\"800ea04a-c13f-44ad-a2d0-3a4f4ccdbbfb\", [{\"type\": \"bar\", \"x\": [\"2017\", \"2016\", \"2015\", \"2014\", \"2013\", \"2012\"], \"y\": [29.268292682926827, 40.243902439024396, 51.21951219512195, 60.97560975609756, 59.756097560975604, 50.0], \"name\": \"Win Loss Percentage\", \"marker\": {\"color\": \"green\"}}, {\"type\": \"bar\", \"x\": [\"2017\", \"2016\", \"2015\", \"2014\", \"2013\", \"2012\"], \"y\": [36.0, 35.5, 34.4, 35.199999999999996, 38.4, 37.2], \"name\": \"3 Point Percentage Made\", \"marker\": {\"color\": \"blue\"}}], {\"title\": \"Win/Loss VS 3 Point Percentage Made for DAL\", \"xaxis\": {\"title\": \"Season\"}, \"colorway\": \"red\"}, {\"showLink\": true, \"linkText\": \"Export to plot.ly\"})});</script>"
      ],
      "text/vnd.plotly.v1+html": [
       "<div id=\"800ea04a-c13f-44ad-a2d0-3a4f4ccdbbfb\" style=\"height: 525px; width: 100%;\" class=\"plotly-graph-div\"></div><script type=\"text/javascript\">require([\"plotly\"], function(Plotly) { window.PLOTLYENV=window.PLOTLYENV || {};window.PLOTLYENV.BASE_URL=\"https://plot.ly\";Plotly.newPlot(\"800ea04a-c13f-44ad-a2d0-3a4f4ccdbbfb\", [{\"type\": \"bar\", \"x\": [\"2017\", \"2016\", \"2015\", \"2014\", \"2013\", \"2012\"], \"y\": [29.268292682926827, 40.243902439024396, 51.21951219512195, 60.97560975609756, 59.756097560975604, 50.0], \"name\": \"Win Loss Percentage\", \"marker\": {\"color\": \"green\"}}, {\"type\": \"bar\", \"x\": [\"2017\", \"2016\", \"2015\", \"2014\", \"2013\", \"2012\"], \"y\": [36.0, 35.5, 34.4, 35.199999999999996, 38.4, 37.2], \"name\": \"3 Point Percentage Made\", \"marker\": {\"color\": \"blue\"}}], {\"title\": \"Win/Loss VS 3 Point Percentage Made for DAL\", \"xaxis\": {\"title\": \"Season\"}, \"colorway\": \"red\"}, {\"showLink\": true, \"linkText\": \"Export to plot.ly\"})});</script>"
      ]
     },
     "metadata": {},
     "output_type": "display_data"
    },
    {
     "data": {
      "application/vnd.plotly.v1+json": {
       "data": [
        {
         "marker": {
          "color": "green"
         },
         "name": "Win Loss Percentage",
         "type": "bar",
         "x": [
          "2017",
          "2016",
          "2015",
          "2014",
          "2013",
          "2012"
         ],
         "y": [
          56.09756097560976,
          48.78048780487805,
          40.243902439024396,
          36.58536585365854,
          43.90243902439025,
          69.51219512195121
         ]
        },
        {
         "marker": {
          "color": "blue"
         },
         "name": "3 Point Percentage Made",
         "type": "bar",
         "x": [
          "2017",
          "2016",
          "2015",
          "2014",
          "2013",
          "2012"
         ],
         "y": [
          37.1,
          36.8,
          33.800000000000004,
          32.5,
          35.8,
          34.300000000000004
         ]
        }
       ],
       "layout": {
        "colorway": "red",
        "title": "Win/Loss VS 3 Point Percentage Made for DEN",
        "xaxis": {
         "title": "Season"
        }
       }
      },
      "text/html": [
       "<div id=\"7514247f-eab8-4ff2-ba82-21e5929ad695\" style=\"height: 525px; width: 100%;\" class=\"plotly-graph-div\"></div><script type=\"text/javascript\">require([\"plotly\"], function(Plotly) { window.PLOTLYENV=window.PLOTLYENV || {};window.PLOTLYENV.BASE_URL=\"https://plot.ly\";Plotly.newPlot(\"7514247f-eab8-4ff2-ba82-21e5929ad695\", [{\"type\": \"bar\", \"x\": [\"2017\", \"2016\", \"2015\", \"2014\", \"2013\", \"2012\"], \"y\": [56.09756097560976, 48.78048780487805, 40.243902439024396, 36.58536585365854, 43.90243902439025, 69.51219512195121], \"name\": \"Win Loss Percentage\", \"marker\": {\"color\": \"green\"}}, {\"type\": \"bar\", \"x\": [\"2017\", \"2016\", \"2015\", \"2014\", \"2013\", \"2012\"], \"y\": [37.1, 36.8, 33.800000000000004, 32.5, 35.8, 34.300000000000004], \"name\": \"3 Point Percentage Made\", \"marker\": {\"color\": \"blue\"}}], {\"title\": \"Win/Loss VS 3 Point Percentage Made for DEN\", \"xaxis\": {\"title\": \"Season\"}, \"colorway\": \"red\"}, {\"showLink\": true, \"linkText\": \"Export to plot.ly\"})});</script>"
      ],
      "text/vnd.plotly.v1+html": [
       "<div id=\"7514247f-eab8-4ff2-ba82-21e5929ad695\" style=\"height: 525px; width: 100%;\" class=\"plotly-graph-div\"></div><script type=\"text/javascript\">require([\"plotly\"], function(Plotly) { window.PLOTLYENV=window.PLOTLYENV || {};window.PLOTLYENV.BASE_URL=\"https://plot.ly\";Plotly.newPlot(\"7514247f-eab8-4ff2-ba82-21e5929ad695\", [{\"type\": \"bar\", \"x\": [\"2017\", \"2016\", \"2015\", \"2014\", \"2013\", \"2012\"], \"y\": [56.09756097560976, 48.78048780487805, 40.243902439024396, 36.58536585365854, 43.90243902439025, 69.51219512195121], \"name\": \"Win Loss Percentage\", \"marker\": {\"color\": \"green\"}}, {\"type\": \"bar\", \"x\": [\"2017\", \"2016\", \"2015\", \"2014\", \"2013\", \"2012\"], \"y\": [37.1, 36.8, 33.800000000000004, 32.5, 35.8, 34.300000000000004], \"name\": \"3 Point Percentage Made\", \"marker\": {\"color\": \"blue\"}}], {\"title\": \"Win/Loss VS 3 Point Percentage Made for DEN\", \"xaxis\": {\"title\": \"Season\"}, \"colorway\": \"red\"}, {\"showLink\": true, \"linkText\": \"Export to plot.ly\"})});</script>"
      ]
     },
     "metadata": {},
     "output_type": "display_data"
    },
    {
     "data": {
      "application/vnd.plotly.v1+json": {
       "data": [
        {
         "marker": {
          "color": "green"
         },
         "name": "Win Loss Percentage",
         "type": "bar",
         "x": [
          "2017",
          "2016",
          "2015",
          "2014",
          "2013",
          "2012"
         ],
         "y": [
          47.5609756097561,
          45.1219512195122,
          53.65853658536586,
          39.02439024390244,
          35.36585365853659,
          35.36585365853659
         ]
        },
        {
         "marker": {
          "color": "blue"
         },
         "name": "3 Point Percentage Made",
         "type": "bar",
         "x": [
          "2017",
          "2016",
          "2015",
          "2014",
          "2013",
          "2012"
         ],
         "y": [
          37.3,
          33,
          34.5,
          34.4,
          32.1,
          35.6
         ]
        }
       ],
       "layout": {
        "colorway": "red",
        "title": "Win/Loss VS 3 Point Percentage Made for DET",
        "xaxis": {
         "title": "Season"
        }
       }
      },
      "text/html": [
       "<div id=\"89c57274-cfc9-4309-aef4-c77f621c7bce\" style=\"height: 525px; width: 100%;\" class=\"plotly-graph-div\"></div><script type=\"text/javascript\">require([\"plotly\"], function(Plotly) { window.PLOTLYENV=window.PLOTLYENV || {};window.PLOTLYENV.BASE_URL=\"https://plot.ly\";Plotly.newPlot(\"89c57274-cfc9-4309-aef4-c77f621c7bce\", [{\"type\": \"bar\", \"x\": [\"2017\", \"2016\", \"2015\", \"2014\", \"2013\", \"2012\"], \"y\": [47.5609756097561, 45.1219512195122, 53.65853658536586, 39.02439024390244, 35.36585365853659, 35.36585365853659], \"name\": \"Win Loss Percentage\", \"marker\": {\"color\": \"green\"}}, {\"type\": \"bar\", \"x\": [\"2017\", \"2016\", \"2015\", \"2014\", \"2013\", \"2012\"], \"y\": [37.3, 33.0, 34.5, 34.4, 32.1, 35.6], \"name\": \"3 Point Percentage Made\", \"marker\": {\"color\": \"blue\"}}], {\"title\": \"Win/Loss VS 3 Point Percentage Made for DET\", \"xaxis\": {\"title\": \"Season\"}, \"colorway\": \"red\"}, {\"showLink\": true, \"linkText\": \"Export to plot.ly\"})});</script>"
      ],
      "text/vnd.plotly.v1+html": [
       "<div id=\"89c57274-cfc9-4309-aef4-c77f621c7bce\" style=\"height: 525px; width: 100%;\" class=\"plotly-graph-div\"></div><script type=\"text/javascript\">require([\"plotly\"], function(Plotly) { window.PLOTLYENV=window.PLOTLYENV || {};window.PLOTLYENV.BASE_URL=\"https://plot.ly\";Plotly.newPlot(\"89c57274-cfc9-4309-aef4-c77f621c7bce\", [{\"type\": \"bar\", \"x\": [\"2017\", \"2016\", \"2015\", \"2014\", \"2013\", \"2012\"], \"y\": [47.5609756097561, 45.1219512195122, 53.65853658536586, 39.02439024390244, 35.36585365853659, 35.36585365853659], \"name\": \"Win Loss Percentage\", \"marker\": {\"color\": \"green\"}}, {\"type\": \"bar\", \"x\": [\"2017\", \"2016\", \"2015\", \"2014\", \"2013\", \"2012\"], \"y\": [37.3, 33.0, 34.5, 34.4, 32.1, 35.6], \"name\": \"3 Point Percentage Made\", \"marker\": {\"color\": \"blue\"}}], {\"title\": \"Win/Loss VS 3 Point Percentage Made for DET\", \"xaxis\": {\"title\": \"Season\"}, \"colorway\": \"red\"}, {\"showLink\": true, \"linkText\": \"Export to plot.ly\"})});</script>"
      ]
     },
     "metadata": {},
     "output_type": "display_data"
    },
    {
     "data": {
      "application/vnd.plotly.v1+json": {
       "data": [
        {
         "marker": {
          "color": "green"
         },
         "name": "Win Loss Percentage",
         "type": "bar",
         "x": [
          "2017",
          "2016",
          "2015",
          "2014",
          "2013",
          "2012"
         ],
         "y": [
          70.73170731707317,
          81.70731707317073,
          89.02439024390245,
          81.70731707317073,
          62.19512195121951,
          57.3170731707317
         ]
        },
        {
         "marker": {
          "color": "blue"
         },
         "name": "3 Point Percentage Made",
         "type": "bar",
         "x": [
          "2017",
          "2016",
          "2015",
          "2014",
          "2013",
          "2012"
         ],
         "y": [
          39.1,
          38.3,
          41.6,
          39.800000000000004,
          38,
          40.300000000000004
         ]
        }
       ],
       "layout": {
        "colorway": "red",
        "title": "Win/Loss VS 3 Point Percentage Made for GSW",
        "xaxis": {
         "title": "Season"
        }
       }
      },
      "text/html": [
       "<div id=\"9e43ad25-d190-4250-be05-118768a731cc\" style=\"height: 525px; width: 100%;\" class=\"plotly-graph-div\"></div><script type=\"text/javascript\">require([\"plotly\"], function(Plotly) { window.PLOTLYENV=window.PLOTLYENV || {};window.PLOTLYENV.BASE_URL=\"https://plot.ly\";Plotly.newPlot(\"9e43ad25-d190-4250-be05-118768a731cc\", [{\"type\": \"bar\", \"x\": [\"2017\", \"2016\", \"2015\", \"2014\", \"2013\", \"2012\"], \"y\": [70.73170731707317, 81.70731707317073, 89.02439024390245, 81.70731707317073, 62.19512195121951, 57.3170731707317], \"name\": \"Win Loss Percentage\", \"marker\": {\"color\": \"green\"}}, {\"type\": \"bar\", \"x\": [\"2017\", \"2016\", \"2015\", \"2014\", \"2013\", \"2012\"], \"y\": [39.1, 38.3, 41.6, 39.800000000000004, 38.0, 40.300000000000004], \"name\": \"3 Point Percentage Made\", \"marker\": {\"color\": \"blue\"}}], {\"title\": \"Win/Loss VS 3 Point Percentage Made for GSW\", \"xaxis\": {\"title\": \"Season\"}, \"colorway\": \"red\"}, {\"showLink\": true, \"linkText\": \"Export to plot.ly\"})});</script>"
      ],
      "text/vnd.plotly.v1+html": [
       "<div id=\"9e43ad25-d190-4250-be05-118768a731cc\" style=\"height: 525px; width: 100%;\" class=\"plotly-graph-div\"></div><script type=\"text/javascript\">require([\"plotly\"], function(Plotly) { window.PLOTLYENV=window.PLOTLYENV || {};window.PLOTLYENV.BASE_URL=\"https://plot.ly\";Plotly.newPlot(\"9e43ad25-d190-4250-be05-118768a731cc\", [{\"type\": \"bar\", \"x\": [\"2017\", \"2016\", \"2015\", \"2014\", \"2013\", \"2012\"], \"y\": [70.73170731707317, 81.70731707317073, 89.02439024390245, 81.70731707317073, 62.19512195121951, 57.3170731707317], \"name\": \"Win Loss Percentage\", \"marker\": {\"color\": \"green\"}}, {\"type\": \"bar\", \"x\": [\"2017\", \"2016\", \"2015\", \"2014\", \"2013\", \"2012\"], \"y\": [39.1, 38.3, 41.6, 39.800000000000004, 38.0, 40.300000000000004], \"name\": \"3 Point Percentage Made\", \"marker\": {\"color\": \"blue\"}}], {\"title\": \"Win/Loss VS 3 Point Percentage Made for GSW\", \"xaxis\": {\"title\": \"Season\"}, \"colorway\": \"red\"}, {\"showLink\": true, \"linkText\": \"Export to plot.ly\"})});</script>"
      ]
     },
     "metadata": {},
     "output_type": "display_data"
    },
    {
     "data": {
      "application/vnd.plotly.v1+json": {
       "data": [
        {
         "marker": {
          "color": "green"
         },
         "name": "Win Loss Percentage",
         "type": "bar",
         "x": [
          "2017",
          "2016",
          "2015",
          "2014",
          "2013",
          "2012"
         ],
         "y": [
          79.26829268292683,
          67.07317073170732,
          50,
          68.29268292682927,
          65.85365853658537,
          54.87804878048781
         ]
        },
        {
         "marker": {
          "color": "blue"
         },
         "name": "3 Point Percentage Made",
         "type": "bar",
         "x": [
          "2017",
          "2016",
          "2015",
          "2014",
          "2013",
          "2012"
         ],
         "y": [
          36.199999999999996,
          35.699999999999996,
          34.699999999999996,
          34.8,
          35.8,
          36.6
         ]
        }
       ],
       "layout": {
        "colorway": "red",
        "title": "Win/Loss VS 3 Point Percentage Made for HOU",
        "xaxis": {
         "title": "Season"
        }
       }
      },
      "text/html": [
       "<div id=\"acc44232-2b4b-418d-888d-f20f0ebb0f48\" style=\"height: 525px; width: 100%;\" class=\"plotly-graph-div\"></div><script type=\"text/javascript\">require([\"plotly\"], function(Plotly) { window.PLOTLYENV=window.PLOTLYENV || {};window.PLOTLYENV.BASE_URL=\"https://plot.ly\";Plotly.newPlot(\"acc44232-2b4b-418d-888d-f20f0ebb0f48\", [{\"type\": \"bar\", \"x\": [\"2017\", \"2016\", \"2015\", \"2014\", \"2013\", \"2012\"], \"y\": [79.26829268292683, 67.07317073170732, 50.0, 68.29268292682927, 65.85365853658537, 54.87804878048781], \"name\": \"Win Loss Percentage\", \"marker\": {\"color\": \"green\"}}, {\"type\": \"bar\", \"x\": [\"2017\", \"2016\", \"2015\", \"2014\", \"2013\", \"2012\"], \"y\": [36.199999999999996, 35.699999999999996, 34.699999999999996, 34.8, 35.8, 36.6], \"name\": \"3 Point Percentage Made\", \"marker\": {\"color\": \"blue\"}}], {\"title\": \"Win/Loss VS 3 Point Percentage Made for HOU\", \"xaxis\": {\"title\": \"Season\"}, \"colorway\": \"red\"}, {\"showLink\": true, \"linkText\": \"Export to plot.ly\"})});</script>"
      ],
      "text/vnd.plotly.v1+html": [
       "<div id=\"acc44232-2b4b-418d-888d-f20f0ebb0f48\" style=\"height: 525px; width: 100%;\" class=\"plotly-graph-div\"></div><script type=\"text/javascript\">require([\"plotly\"], function(Plotly) { window.PLOTLYENV=window.PLOTLYENV || {};window.PLOTLYENV.BASE_URL=\"https://plot.ly\";Plotly.newPlot(\"acc44232-2b4b-418d-888d-f20f0ebb0f48\", [{\"type\": \"bar\", \"x\": [\"2017\", \"2016\", \"2015\", \"2014\", \"2013\", \"2012\"], \"y\": [79.26829268292683, 67.07317073170732, 50.0, 68.29268292682927, 65.85365853658537, 54.87804878048781], \"name\": \"Win Loss Percentage\", \"marker\": {\"color\": \"green\"}}, {\"type\": \"bar\", \"x\": [\"2017\", \"2016\", \"2015\", \"2014\", \"2013\", \"2012\"], \"y\": [36.199999999999996, 35.699999999999996, 34.699999999999996, 34.8, 35.8, 36.6], \"name\": \"3 Point Percentage Made\", \"marker\": {\"color\": \"blue\"}}], {\"title\": \"Win/Loss VS 3 Point Percentage Made for HOU\", \"xaxis\": {\"title\": \"Season\"}, \"colorway\": \"red\"}, {\"showLink\": true, \"linkText\": \"Export to plot.ly\"})});</script>"
      ]
     },
     "metadata": {},
     "output_type": "display_data"
    },
    {
     "data": {
      "application/vnd.plotly.v1+json": {
       "data": [
        {
         "marker": {
          "color": "green"
         },
         "name": "Win Loss Percentage",
         "type": "bar",
         "x": [
          "2017",
          "2016",
          "2015",
          "2014",
          "2013",
          "2012"
         ],
         "y": [
          58.536585365853654,
          51.21951219512195,
          54.87804878048781,
          46.34146341463415,
          68.29268292682927,
          60.49382716049383
         ]
        },
        {
         "marker": {
          "color": "blue"
         },
         "name": "3 Point Percentage Made",
         "type": "bar",
         "x": [
          "2017",
          "2016",
          "2015",
          "2014",
          "2013",
          "2012"
         ],
         "y": [
          36.9,
          37.6,
          35.099999999999994,
          35.199999999999996,
          35.699999999999996,
          34.699999999999996
         ]
        }
       ],
       "layout": {
        "colorway": "red",
        "title": "Win/Loss VS 3 Point Percentage Made for IND",
        "xaxis": {
         "title": "Season"
        }
       }
      },
      "text/html": [
       "<div id=\"e75b2126-85e4-48f2-bcbd-1c90cce98877\" style=\"height: 525px; width: 100%;\" class=\"plotly-graph-div\"></div><script type=\"text/javascript\">require([\"plotly\"], function(Plotly) { window.PLOTLYENV=window.PLOTLYENV || {};window.PLOTLYENV.BASE_URL=\"https://plot.ly\";Plotly.newPlot(\"e75b2126-85e4-48f2-bcbd-1c90cce98877\", [{\"type\": \"bar\", \"x\": [\"2017\", \"2016\", \"2015\", \"2014\", \"2013\", \"2012\"], \"y\": [58.536585365853654, 51.21951219512195, 54.87804878048781, 46.34146341463415, 68.29268292682927, 60.49382716049383], \"name\": \"Win Loss Percentage\", \"marker\": {\"color\": \"green\"}}, {\"type\": \"bar\", \"x\": [\"2017\", \"2016\", \"2015\", \"2014\", \"2013\", \"2012\"], \"y\": [36.9, 37.6, 35.099999999999994, 35.199999999999996, 35.699999999999996, 34.699999999999996], \"name\": \"3 Point Percentage Made\", \"marker\": {\"color\": \"blue\"}}], {\"title\": \"Win/Loss VS 3 Point Percentage Made for IND\", \"xaxis\": {\"title\": \"Season\"}, \"colorway\": \"red\"}, {\"showLink\": true, \"linkText\": \"Export to plot.ly\"})});</script>"
      ],
      "text/vnd.plotly.v1+html": [
       "<div id=\"e75b2126-85e4-48f2-bcbd-1c90cce98877\" style=\"height: 525px; width: 100%;\" class=\"plotly-graph-div\"></div><script type=\"text/javascript\">require([\"plotly\"], function(Plotly) { window.PLOTLYENV=window.PLOTLYENV || {};window.PLOTLYENV.BASE_URL=\"https://plot.ly\";Plotly.newPlot(\"e75b2126-85e4-48f2-bcbd-1c90cce98877\", [{\"type\": \"bar\", \"x\": [\"2017\", \"2016\", \"2015\", \"2014\", \"2013\", \"2012\"], \"y\": [58.536585365853654, 51.21951219512195, 54.87804878048781, 46.34146341463415, 68.29268292682927, 60.49382716049383], \"name\": \"Win Loss Percentage\", \"marker\": {\"color\": \"green\"}}, {\"type\": \"bar\", \"x\": [\"2017\", \"2016\", \"2015\", \"2014\", \"2013\", \"2012\"], \"y\": [36.9, 37.6, 35.099999999999994, 35.199999999999996, 35.699999999999996, 34.699999999999996], \"name\": \"3 Point Percentage Made\", \"marker\": {\"color\": \"blue\"}}], {\"title\": \"Win/Loss VS 3 Point Percentage Made for IND\", \"xaxis\": {\"title\": \"Season\"}, \"colorway\": \"red\"}, {\"showLink\": true, \"linkText\": \"Export to plot.ly\"})});</script>"
      ]
     },
     "metadata": {},
     "output_type": "display_data"
    },
    {
     "data": {
      "application/vnd.plotly.v1+json": {
       "data": [
        {
         "marker": {
          "color": "green"
         },
         "name": "Win Loss Percentage",
         "type": "bar",
         "x": [
          "2017",
          "2016",
          "2015",
          "2014",
          "2013",
          "2012"
         ],
         "y": [
          51.21951219512195,
          62.19512195121951,
          64.63414634146342,
          68.29268292682927,
          69.51219512195121,
          68.29268292682927
         ]
        },
        {
         "marker": {
          "color": "blue"
         },
         "name": "3 Point Percentage Made",
         "type": "bar",
         "x": [
          "2017",
          "2016",
          "2015",
          "2014",
          "2013",
          "2012"
         ],
         "y": [
          35.4,
          37.5,
          36.4,
          37.6,
          35.199999999999996,
          35.8
         ]
        }
       ],
       "layout": {
        "colorway": "red",
        "title": "Win/Loss VS 3 Point Percentage Made for LAC",
        "xaxis": {
         "title": "Season"
        }
       }
      },
      "text/html": [
       "<div id=\"69a4b5be-31ed-4bf6-9ba4-473a83096f3c\" style=\"height: 525px; width: 100%;\" class=\"plotly-graph-div\"></div><script type=\"text/javascript\">require([\"plotly\"], function(Plotly) { window.PLOTLYENV=window.PLOTLYENV || {};window.PLOTLYENV.BASE_URL=\"https://plot.ly\";Plotly.newPlot(\"69a4b5be-31ed-4bf6-9ba4-473a83096f3c\", [{\"type\": \"bar\", \"x\": [\"2017\", \"2016\", \"2015\", \"2014\", \"2013\", \"2012\"], \"y\": [51.21951219512195, 62.19512195121951, 64.63414634146342, 68.29268292682927, 69.51219512195121, 68.29268292682927], \"name\": \"Win Loss Percentage\", \"marker\": {\"color\": \"green\"}}, {\"type\": \"bar\", \"x\": [\"2017\", \"2016\", \"2015\", \"2014\", \"2013\", \"2012\"], \"y\": [35.4, 37.5, 36.4, 37.6, 35.199999999999996, 35.8], \"name\": \"3 Point Percentage Made\", \"marker\": {\"color\": \"blue\"}}], {\"title\": \"Win/Loss VS 3 Point Percentage Made for LAC\", \"xaxis\": {\"title\": \"Season\"}, \"colorway\": \"red\"}, {\"showLink\": true, \"linkText\": \"Export to plot.ly\"})});</script>"
      ],
      "text/vnd.plotly.v1+html": [
       "<div id=\"69a4b5be-31ed-4bf6-9ba4-473a83096f3c\" style=\"height: 525px; width: 100%;\" class=\"plotly-graph-div\"></div><script type=\"text/javascript\">require([\"plotly\"], function(Plotly) { window.PLOTLYENV=window.PLOTLYENV || {};window.PLOTLYENV.BASE_URL=\"https://plot.ly\";Plotly.newPlot(\"69a4b5be-31ed-4bf6-9ba4-473a83096f3c\", [{\"type\": \"bar\", \"x\": [\"2017\", \"2016\", \"2015\", \"2014\", \"2013\", \"2012\"], \"y\": [51.21951219512195, 62.19512195121951, 64.63414634146342, 68.29268292682927, 69.51219512195121, 68.29268292682927], \"name\": \"Win Loss Percentage\", \"marker\": {\"color\": \"green\"}}, {\"type\": \"bar\", \"x\": [\"2017\", \"2016\", \"2015\", \"2014\", \"2013\", \"2012\"], \"y\": [35.4, 37.5, 36.4, 37.6, 35.199999999999996, 35.8], \"name\": \"3 Point Percentage Made\", \"marker\": {\"color\": \"blue\"}}], {\"title\": \"Win/Loss VS 3 Point Percentage Made for LAC\", \"xaxis\": {\"title\": \"Season\"}, \"colorway\": \"red\"}, {\"showLink\": true, \"linkText\": \"Export to plot.ly\"})});</script>"
      ]
     },
     "metadata": {},
     "output_type": "display_data"
    },
    {
     "data": {
      "application/vnd.plotly.v1+json": {
       "data": [
        {
         "marker": {
          "color": "green"
         },
         "name": "Win Loss Percentage",
         "type": "bar",
         "x": [
          "2017",
          "2016",
          "2015",
          "2014",
          "2013",
          "2012"
         ],
         "y": [
          42.68292682926829,
          31.70731707317073,
          20.73170731707317,
          25.609756097560975,
          32.926829268292686,
          54.87804878048781
         ]
        },
        {
         "marker": {
          "color": "blue"
         },
         "name": "3 Point Percentage Made",
         "type": "bar",
         "x": [
          "2017",
          "2016",
          "2015",
          "2014",
          "2013",
          "2012"
         ],
         "y": [
          34.5,
          34.599999999999994,
          31.7,
          34.4,
          38.1,
          35.5
         ]
        }
       ],
       "layout": {
        "colorway": "red",
        "title": "Win/Loss VS 3 Point Percentage Made for LAL",
        "xaxis": {
         "title": "Season"
        }
       }
      },
      "text/html": [
       "<div id=\"612e3e02-51bc-4cc0-aa7b-51a49ec0aa4b\" style=\"height: 525px; width: 100%;\" class=\"plotly-graph-div\"></div><script type=\"text/javascript\">require([\"plotly\"], function(Plotly) { window.PLOTLYENV=window.PLOTLYENV || {};window.PLOTLYENV.BASE_URL=\"https://plot.ly\";Plotly.newPlot(\"612e3e02-51bc-4cc0-aa7b-51a49ec0aa4b\", [{\"type\": \"bar\", \"x\": [\"2017\", \"2016\", \"2015\", \"2014\", \"2013\", \"2012\"], \"y\": [42.68292682926829, 31.70731707317073, 20.73170731707317, 25.609756097560975, 32.926829268292686, 54.87804878048781], \"name\": \"Win Loss Percentage\", \"marker\": {\"color\": \"green\"}}, {\"type\": \"bar\", \"x\": [\"2017\", \"2016\", \"2015\", \"2014\", \"2013\", \"2012\"], \"y\": [34.5, 34.599999999999994, 31.7, 34.4, 38.1, 35.5], \"name\": \"3 Point Percentage Made\", \"marker\": {\"color\": \"blue\"}}], {\"title\": \"Win/Loss VS 3 Point Percentage Made for LAL\", \"xaxis\": {\"title\": \"Season\"}, \"colorway\": \"red\"}, {\"showLink\": true, \"linkText\": \"Export to plot.ly\"})});</script>"
      ],
      "text/vnd.plotly.v1+html": [
       "<div id=\"612e3e02-51bc-4cc0-aa7b-51a49ec0aa4b\" style=\"height: 525px; width: 100%;\" class=\"plotly-graph-div\"></div><script type=\"text/javascript\">require([\"plotly\"], function(Plotly) { window.PLOTLYENV=window.PLOTLYENV || {};window.PLOTLYENV.BASE_URL=\"https://plot.ly\";Plotly.newPlot(\"612e3e02-51bc-4cc0-aa7b-51a49ec0aa4b\", [{\"type\": \"bar\", \"x\": [\"2017\", \"2016\", \"2015\", \"2014\", \"2013\", \"2012\"], \"y\": [42.68292682926829, 31.70731707317073, 20.73170731707317, 25.609756097560975, 32.926829268292686, 54.87804878048781], \"name\": \"Win Loss Percentage\", \"marker\": {\"color\": \"green\"}}, {\"type\": \"bar\", \"x\": [\"2017\", \"2016\", \"2015\", \"2014\", \"2013\", \"2012\"], \"y\": [34.5, 34.599999999999994, 31.7, 34.4, 38.1, 35.5], \"name\": \"3 Point Percentage Made\", \"marker\": {\"color\": \"blue\"}}], {\"title\": \"Win/Loss VS 3 Point Percentage Made for LAL\", \"xaxis\": {\"title\": \"Season\"}, \"colorway\": \"red\"}, {\"showLink\": true, \"linkText\": \"Export to plot.ly\"})});</script>"
      ]
     },
     "metadata": {},
     "output_type": "display_data"
    },
    {
     "data": {
      "application/vnd.plotly.v1+json": {
       "data": [
        {
         "marker": {
          "color": "green"
         },
         "name": "Win Loss Percentage",
         "type": "bar",
         "x": [
          "2017",
          "2016",
          "2015",
          "2014",
          "2013",
          "2012"
         ],
         "y": [
          26.82926829268293,
          52.4390243902439,
          51.21951219512195,
          67.07317073170732,
          60.97560975609756,
          68.29268292682927
         ]
        },
        {
         "marker": {
          "color": "blue"
         },
         "name": "3 Point Percentage Made",
         "type": "bar",
         "x": [
          "2017",
          "2016",
          "2015",
          "2014",
          "2013",
          "2012"
         ],
         "y": [
          35.199999999999996,
          35.4,
          33.1,
          33.900000000000006,
          35.3,
          34.5
         ]
        }
       ],
       "layout": {
        "colorway": "red",
        "title": "Win/Loss VS 3 Point Percentage Made for MEM",
        "xaxis": {
         "title": "Season"
        }
       }
      },
      "text/html": [
       "<div id=\"9d1e4cfa-7345-4618-9ebf-bb97504e25c8\" style=\"height: 525px; width: 100%;\" class=\"plotly-graph-div\"></div><script type=\"text/javascript\">require([\"plotly\"], function(Plotly) { window.PLOTLYENV=window.PLOTLYENV || {};window.PLOTLYENV.BASE_URL=\"https://plot.ly\";Plotly.newPlot(\"9d1e4cfa-7345-4618-9ebf-bb97504e25c8\", [{\"type\": \"bar\", \"x\": [\"2017\", \"2016\", \"2015\", \"2014\", \"2013\", \"2012\"], \"y\": [26.82926829268293, 52.4390243902439, 51.21951219512195, 67.07317073170732, 60.97560975609756, 68.29268292682927], \"name\": \"Win Loss Percentage\", \"marker\": {\"color\": \"green\"}}, {\"type\": \"bar\", \"x\": [\"2017\", \"2016\", \"2015\", \"2014\", \"2013\", \"2012\"], \"y\": [35.199999999999996, 35.4, 33.1, 33.900000000000006, 35.3, 34.5], \"name\": \"3 Point Percentage Made\", \"marker\": {\"color\": \"blue\"}}], {\"title\": \"Win/Loss VS 3 Point Percentage Made for MEM\", \"xaxis\": {\"title\": \"Season\"}, \"colorway\": \"red\"}, {\"showLink\": true, \"linkText\": \"Export to plot.ly\"})});</script>"
      ],
      "text/vnd.plotly.v1+html": [
       "<div id=\"9d1e4cfa-7345-4618-9ebf-bb97504e25c8\" style=\"height: 525px; width: 100%;\" class=\"plotly-graph-div\"></div><script type=\"text/javascript\">require([\"plotly\"], function(Plotly) { window.PLOTLYENV=window.PLOTLYENV || {};window.PLOTLYENV.BASE_URL=\"https://plot.ly\";Plotly.newPlot(\"9d1e4cfa-7345-4618-9ebf-bb97504e25c8\", [{\"type\": \"bar\", \"x\": [\"2017\", \"2016\", \"2015\", \"2014\", \"2013\", \"2012\"], \"y\": [26.82926829268293, 52.4390243902439, 51.21951219512195, 67.07317073170732, 60.97560975609756, 68.29268292682927], \"name\": \"Win Loss Percentage\", \"marker\": {\"color\": \"green\"}}, {\"type\": \"bar\", \"x\": [\"2017\", \"2016\", \"2015\", \"2014\", \"2013\", \"2012\"], \"y\": [35.199999999999996, 35.4, 33.1, 33.900000000000006, 35.3, 34.5], \"name\": \"3 Point Percentage Made\", \"marker\": {\"color\": \"blue\"}}], {\"title\": \"Win/Loss VS 3 Point Percentage Made for MEM\", \"xaxis\": {\"title\": \"Season\"}, \"colorway\": \"red\"}, {\"showLink\": true, \"linkText\": \"Export to plot.ly\"})});</script>"
      ]
     },
     "metadata": {},
     "output_type": "display_data"
    },
    {
     "data": {
      "application/vnd.plotly.v1+json": {
       "data": [
        {
         "marker": {
          "color": "green"
         },
         "name": "Win Loss Percentage",
         "type": "bar",
         "x": [
          "2017",
          "2016",
          "2015",
          "2014",
          "2013",
          "2012"
         ],
         "y": [
          53.65853658536586,
          50,
          58.536585365853654,
          45.1219512195122,
          65.85365853658537,
          80.48780487804879
         ]
        },
        {
         "marker": {
          "color": "blue"
         },
         "name": "3 Point Percentage Made",
         "type": "bar",
         "x": [
          "2017",
          "2016",
          "2015",
          "2014",
          "2013",
          "2012"
         ],
         "y": [
          36,
          36.5,
          33.6,
          33.5,
          36.4,
          39.6
         ]
        }
       ],
       "layout": {
        "colorway": "red",
        "title": "Win/Loss VS 3 Point Percentage Made for MIA",
        "xaxis": {
         "title": "Season"
        }
       }
      },
      "text/html": [
       "<div id=\"3a5cc2e8-3625-43c0-8e92-483b67121353\" style=\"height: 525px; width: 100%;\" class=\"plotly-graph-div\"></div><script type=\"text/javascript\">require([\"plotly\"], function(Plotly) { window.PLOTLYENV=window.PLOTLYENV || {};window.PLOTLYENV.BASE_URL=\"https://plot.ly\";Plotly.newPlot(\"3a5cc2e8-3625-43c0-8e92-483b67121353\", [{\"type\": \"bar\", \"x\": [\"2017\", \"2016\", \"2015\", \"2014\", \"2013\", \"2012\"], \"y\": [53.65853658536586, 50.0, 58.536585365853654, 45.1219512195122, 65.85365853658537, 80.48780487804879], \"name\": \"Win Loss Percentage\", \"marker\": {\"color\": \"green\"}}, {\"type\": \"bar\", \"x\": [\"2017\", \"2016\", \"2015\", \"2014\", \"2013\", \"2012\"], \"y\": [36.0, 36.5, 33.6, 33.5, 36.4, 39.6], \"name\": \"3 Point Percentage Made\", \"marker\": {\"color\": \"blue\"}}], {\"title\": \"Win/Loss VS 3 Point Percentage Made for MIA\", \"xaxis\": {\"title\": \"Season\"}, \"colorway\": \"red\"}, {\"showLink\": true, \"linkText\": \"Export to plot.ly\"})});</script>"
      ],
      "text/vnd.plotly.v1+html": [
       "<div id=\"3a5cc2e8-3625-43c0-8e92-483b67121353\" style=\"height: 525px; width: 100%;\" class=\"plotly-graph-div\"></div><script type=\"text/javascript\">require([\"plotly\"], function(Plotly) { window.PLOTLYENV=window.PLOTLYENV || {};window.PLOTLYENV.BASE_URL=\"https://plot.ly\";Plotly.newPlot(\"3a5cc2e8-3625-43c0-8e92-483b67121353\", [{\"type\": \"bar\", \"x\": [\"2017\", \"2016\", \"2015\", \"2014\", \"2013\", \"2012\"], \"y\": [53.65853658536586, 50.0, 58.536585365853654, 45.1219512195122, 65.85365853658537, 80.48780487804879], \"name\": \"Win Loss Percentage\", \"marker\": {\"color\": \"green\"}}, {\"type\": \"bar\", \"x\": [\"2017\", \"2016\", \"2015\", \"2014\", \"2013\", \"2012\"], \"y\": [36.0, 36.5, 33.6, 33.5, 36.4, 39.6], \"name\": \"3 Point Percentage Made\", \"marker\": {\"color\": \"blue\"}}], {\"title\": \"Win/Loss VS 3 Point Percentage Made for MIA\", \"xaxis\": {\"title\": \"Season\"}, \"colorway\": \"red\"}, {\"showLink\": true, \"linkText\": \"Export to plot.ly\"})});</script>"
      ]
     },
     "metadata": {},
     "output_type": "display_data"
    },
    {
     "data": {
      "application/vnd.plotly.v1+json": {
       "data": [
        {
         "marker": {
          "color": "green"
         },
         "name": "Win Loss Percentage",
         "type": "bar",
         "x": [
          "2017",
          "2016",
          "2015",
          "2014",
          "2013",
          "2012"
         ],
         "y": [
          53.65853658536586,
          51.21951219512195,
          40.243902439024396,
          50,
          18.29268292682927,
          46.34146341463415
         ]
        },
        {
         "marker": {
          "color": "blue"
         },
         "name": "3 Point Percentage Made",
         "type": "bar",
         "x": [
          "2017",
          "2016",
          "2015",
          "2014",
          "2013",
          "2012"
         ],
         "y": [
          35.5,
          37,
          34.5,
          36.3,
          35.3,
          36
         ]
        }
       ],
       "layout": {
        "colorway": "red",
        "title": "Win/Loss VS 3 Point Percentage Made for MIL",
        "xaxis": {
         "title": "Season"
        }
       }
      },
      "text/html": [
       "<div id=\"1a3505a0-8d1f-479a-b4a2-05ffe3789803\" style=\"height: 525px; width: 100%;\" class=\"plotly-graph-div\"></div><script type=\"text/javascript\">require([\"plotly\"], function(Plotly) { window.PLOTLYENV=window.PLOTLYENV || {};window.PLOTLYENV.BASE_URL=\"https://plot.ly\";Plotly.newPlot(\"1a3505a0-8d1f-479a-b4a2-05ffe3789803\", [{\"type\": \"bar\", \"x\": [\"2017\", \"2016\", \"2015\", \"2014\", \"2013\", \"2012\"], \"y\": [53.65853658536586, 51.21951219512195, 40.243902439024396, 50.0, 18.29268292682927, 46.34146341463415], \"name\": \"Win Loss Percentage\", \"marker\": {\"color\": \"green\"}}, {\"type\": \"bar\", \"x\": [\"2017\", \"2016\", \"2015\", \"2014\", \"2013\", \"2012\"], \"y\": [35.5, 37.0, 34.5, 36.3, 35.3, 36.0], \"name\": \"3 Point Percentage Made\", \"marker\": {\"color\": \"blue\"}}], {\"title\": \"Win/Loss VS 3 Point Percentage Made for MIL\", \"xaxis\": {\"title\": \"Season\"}, \"colorway\": \"red\"}, {\"showLink\": true, \"linkText\": \"Export to plot.ly\"})});</script>"
      ],
      "text/vnd.plotly.v1+html": [
       "<div id=\"1a3505a0-8d1f-479a-b4a2-05ffe3789803\" style=\"height: 525px; width: 100%;\" class=\"plotly-graph-div\"></div><script type=\"text/javascript\">require([\"plotly\"], function(Plotly) { window.PLOTLYENV=window.PLOTLYENV || {};window.PLOTLYENV.BASE_URL=\"https://plot.ly\";Plotly.newPlot(\"1a3505a0-8d1f-479a-b4a2-05ffe3789803\", [{\"type\": \"bar\", \"x\": [\"2017\", \"2016\", \"2015\", \"2014\", \"2013\", \"2012\"], \"y\": [53.65853658536586, 51.21951219512195, 40.243902439024396, 50.0, 18.29268292682927, 46.34146341463415], \"name\": \"Win Loss Percentage\", \"marker\": {\"color\": \"green\"}}, {\"type\": \"bar\", \"x\": [\"2017\", \"2016\", \"2015\", \"2014\", \"2013\", \"2012\"], \"y\": [35.5, 37.0, 34.5, 36.3, 35.3, 36.0], \"name\": \"3 Point Percentage Made\", \"marker\": {\"color\": \"blue\"}}], {\"title\": \"Win/Loss VS 3 Point Percentage Made for MIL\", \"xaxis\": {\"title\": \"Season\"}, \"colorway\": \"red\"}, {\"showLink\": true, \"linkText\": \"Export to plot.ly\"})});</script>"
      ]
     },
     "metadata": {},
     "output_type": "display_data"
    },
    {
     "data": {
      "application/vnd.plotly.v1+json": {
       "data": [
        {
         "marker": {
          "color": "green"
         },
         "name": "Win Loss Percentage",
         "type": "bar",
         "x": [
          "2017",
          "2016",
          "2015",
          "2014",
          "2013",
          "2012"
         ],
         "y": [
          57.3170731707317,
          37.80487804878049,
          35.36585365853659,
          19.51219512195122,
          48.78048780487805,
          37.80487804878049
         ]
        },
        {
         "marker": {
          "color": "blue"
         },
         "name": "3 Point Percentage Made",
         "type": "bar",
         "x": [
          "2017",
          "2016",
          "2015",
          "2014",
          "2013",
          "2012"
         ],
         "y": [
          35.699999999999996,
          34.9,
          33.800000000000004,
          33.2,
          34.1,
          30.5
         ]
        }
       ],
       "layout": {
        "colorway": "red",
        "title": "Win/Loss VS 3 Point Percentage Made for MIN",
        "xaxis": {
         "title": "Season"
        }
       }
      },
      "text/html": [
       "<div id=\"7d7d0ee4-7e89-44c0-aadc-9ef513949eac\" style=\"height: 525px; width: 100%;\" class=\"plotly-graph-div\"></div><script type=\"text/javascript\">require([\"plotly\"], function(Plotly) { window.PLOTLYENV=window.PLOTLYENV || {};window.PLOTLYENV.BASE_URL=\"https://plot.ly\";Plotly.newPlot(\"7d7d0ee4-7e89-44c0-aadc-9ef513949eac\", [{\"type\": \"bar\", \"x\": [\"2017\", \"2016\", \"2015\", \"2014\", \"2013\", \"2012\"], \"y\": [57.3170731707317, 37.80487804878049, 35.36585365853659, 19.51219512195122, 48.78048780487805, 37.80487804878049], \"name\": \"Win Loss Percentage\", \"marker\": {\"color\": \"green\"}}, {\"type\": \"bar\", \"x\": [\"2017\", \"2016\", \"2015\", \"2014\", \"2013\", \"2012\"], \"y\": [35.699999999999996, 34.9, 33.800000000000004, 33.2, 34.1, 30.5], \"name\": \"3 Point Percentage Made\", \"marker\": {\"color\": \"blue\"}}], {\"title\": \"Win/Loss VS 3 Point Percentage Made for MIN\", \"xaxis\": {\"title\": \"Season\"}, \"colorway\": \"red\"}, {\"showLink\": true, \"linkText\": \"Export to plot.ly\"})});</script>"
      ],
      "text/vnd.plotly.v1+html": [
       "<div id=\"7d7d0ee4-7e89-44c0-aadc-9ef513949eac\" style=\"height: 525px; width: 100%;\" class=\"plotly-graph-div\"></div><script type=\"text/javascript\">require([\"plotly\"], function(Plotly) { window.PLOTLYENV=window.PLOTLYENV || {};window.PLOTLYENV.BASE_URL=\"https://plot.ly\";Plotly.newPlot(\"7d7d0ee4-7e89-44c0-aadc-9ef513949eac\", [{\"type\": \"bar\", \"x\": [\"2017\", \"2016\", \"2015\", \"2014\", \"2013\", \"2012\"], \"y\": [57.3170731707317, 37.80487804878049, 35.36585365853659, 19.51219512195122, 48.78048780487805, 37.80487804878049], \"name\": \"Win Loss Percentage\", \"marker\": {\"color\": \"green\"}}, {\"type\": \"bar\", \"x\": [\"2017\", \"2016\", \"2015\", \"2014\", \"2013\", \"2012\"], \"y\": [35.699999999999996, 34.9, 33.800000000000004, 33.2, 34.1, 30.5], \"name\": \"3 Point Percentage Made\", \"marker\": {\"color\": \"blue\"}}], {\"title\": \"Win/Loss VS 3 Point Percentage Made for MIN\", \"xaxis\": {\"title\": \"Season\"}, \"colorway\": \"red\"}, {\"showLink\": true, \"linkText\": \"Export to plot.ly\"})});</script>"
      ]
     },
     "metadata": {},
     "output_type": "display_data"
    },
    {
     "data": {
      "application/vnd.plotly.v1+json": {
       "data": [
        {
         "marker": {
          "color": "green"
         },
         "name": "Win Loss Percentage",
         "type": "bar",
         "x": [
          "2017",
          "2016",
          "2015",
          "2014",
          "2013",
          "2012"
         ],
         "y": [
          58.536585365853654,
          41.46341463414634,
          36.58536585365854,
          54.87804878048781,
          41.46341463414634,
          32.926829268292686
         ]
        },
        {
         "marker": {
          "color": "blue"
         },
         "name": "3 Point Percentage Made",
         "type": "bar",
         "x": [
          "2017",
          "2016",
          "2015",
          "2014",
          "2013",
          "2012"
         ],
         "y": [
          36.199999999999996,
          35,
          36,
          37,
          37.3,
          36.3
         ]
        }
       ],
       "layout": {
        "colorway": "red",
        "title": "Win/Loss VS 3 Point Percentage Made for NOP",
        "xaxis": {
         "title": "Season"
        }
       }
      },
      "text/html": [
       "<div id=\"257b01c1-d401-4b89-9bfa-31688db67bbb\" style=\"height: 525px; width: 100%;\" class=\"plotly-graph-div\"></div><script type=\"text/javascript\">require([\"plotly\"], function(Plotly) { window.PLOTLYENV=window.PLOTLYENV || {};window.PLOTLYENV.BASE_URL=\"https://plot.ly\";Plotly.newPlot(\"257b01c1-d401-4b89-9bfa-31688db67bbb\", [{\"type\": \"bar\", \"x\": [\"2017\", \"2016\", \"2015\", \"2014\", \"2013\", \"2012\"], \"y\": [58.536585365853654, 41.46341463414634, 36.58536585365854, 54.87804878048781, 41.46341463414634, 32.926829268292686], \"name\": \"Win Loss Percentage\", \"marker\": {\"color\": \"green\"}}, {\"type\": \"bar\", \"x\": [\"2017\", \"2016\", \"2015\", \"2014\", \"2013\", \"2012\"], \"y\": [36.199999999999996, 35.0, 36.0, 37.0, 37.3, 36.3], \"name\": \"3 Point Percentage Made\", \"marker\": {\"color\": \"blue\"}}], {\"title\": \"Win/Loss VS 3 Point Percentage Made for NOP\", \"xaxis\": {\"title\": \"Season\"}, \"colorway\": \"red\"}, {\"showLink\": true, \"linkText\": \"Export to plot.ly\"})});</script>"
      ],
      "text/vnd.plotly.v1+html": [
       "<div id=\"257b01c1-d401-4b89-9bfa-31688db67bbb\" style=\"height: 525px; width: 100%;\" class=\"plotly-graph-div\"></div><script type=\"text/javascript\">require([\"plotly\"], function(Plotly) { window.PLOTLYENV=window.PLOTLYENV || {};window.PLOTLYENV.BASE_URL=\"https://plot.ly\";Plotly.newPlot(\"257b01c1-d401-4b89-9bfa-31688db67bbb\", [{\"type\": \"bar\", \"x\": [\"2017\", \"2016\", \"2015\", \"2014\", \"2013\", \"2012\"], \"y\": [58.536585365853654, 41.46341463414634, 36.58536585365854, 54.87804878048781, 41.46341463414634, 32.926829268292686], \"name\": \"Win Loss Percentage\", \"marker\": {\"color\": \"green\"}}, {\"type\": \"bar\", \"x\": [\"2017\", \"2016\", \"2015\", \"2014\", \"2013\", \"2012\"], \"y\": [36.199999999999996, 35.0, 36.0, 37.0, 37.3, 36.3], \"name\": \"3 Point Percentage Made\", \"marker\": {\"color\": \"blue\"}}], {\"title\": \"Win/Loss VS 3 Point Percentage Made for NOP\", \"xaxis\": {\"title\": \"Season\"}, \"colorway\": \"red\"}, {\"showLink\": true, \"linkText\": \"Export to plot.ly\"})});</script>"
      ]
     },
     "metadata": {},
     "output_type": "display_data"
    },
    {
     "data": {
      "application/vnd.plotly.v1+json": {
       "data": [
        {
         "marker": {
          "color": "green"
         },
         "name": "Win Loss Percentage",
         "type": "bar",
         "x": [
          "2017",
          "2016",
          "2015",
          "2014",
          "2013",
          "2012"
         ],
         "y": [
          35.36585365853659,
          37.80487804878049,
          39.02439024390244,
          20.73170731707317,
          45.1219512195122,
          65.85365853658537
         ]
        },
        {
         "marker": {
          "color": "blue"
         },
         "name": "3 Point Percentage Made",
         "type": "bar",
         "x": [
          "2017",
          "2016",
          "2015",
          "2014",
          "2013",
          "2012"
         ],
         "y": [
          35.199999999999996,
          34.8,
          34.599999999999994,
          34.699999999999996,
          37.2,
          37.6
         ]
        }
       ],
       "layout": {
        "colorway": "red",
        "title": "Win/Loss VS 3 Point Percentage Made for NYK",
        "xaxis": {
         "title": "Season"
        }
       }
      },
      "text/html": [
       "<div id=\"6bbc997b-24a2-48db-b0bc-58966738bee9\" style=\"height: 525px; width: 100%;\" class=\"plotly-graph-div\"></div><script type=\"text/javascript\">require([\"plotly\"], function(Plotly) { window.PLOTLYENV=window.PLOTLYENV || {};window.PLOTLYENV.BASE_URL=\"https://plot.ly\";Plotly.newPlot(\"6bbc997b-24a2-48db-b0bc-58966738bee9\", [{\"type\": \"bar\", \"x\": [\"2017\", \"2016\", \"2015\", \"2014\", \"2013\", \"2012\"], \"y\": [35.36585365853659, 37.80487804878049, 39.02439024390244, 20.73170731707317, 45.1219512195122, 65.85365853658537], \"name\": \"Win Loss Percentage\", \"marker\": {\"color\": \"green\"}}, {\"type\": \"bar\", \"x\": [\"2017\", \"2016\", \"2015\", \"2014\", \"2013\", \"2012\"], \"y\": [35.199999999999996, 34.8, 34.599999999999994, 34.699999999999996, 37.2, 37.6], \"name\": \"3 Point Percentage Made\", \"marker\": {\"color\": \"blue\"}}], {\"title\": \"Win/Loss VS 3 Point Percentage Made for NYK\", \"xaxis\": {\"title\": \"Season\"}, \"colorway\": \"red\"}, {\"showLink\": true, \"linkText\": \"Export to plot.ly\"})});</script>"
      ],
      "text/vnd.plotly.v1+html": [
       "<div id=\"6bbc997b-24a2-48db-b0bc-58966738bee9\" style=\"height: 525px; width: 100%;\" class=\"plotly-graph-div\"></div><script type=\"text/javascript\">require([\"plotly\"], function(Plotly) { window.PLOTLYENV=window.PLOTLYENV || {};window.PLOTLYENV.BASE_URL=\"https://plot.ly\";Plotly.newPlot(\"6bbc997b-24a2-48db-b0bc-58966738bee9\", [{\"type\": \"bar\", \"x\": [\"2017\", \"2016\", \"2015\", \"2014\", \"2013\", \"2012\"], \"y\": [35.36585365853659, 37.80487804878049, 39.02439024390244, 20.73170731707317, 45.1219512195122, 65.85365853658537], \"name\": \"Win Loss Percentage\", \"marker\": {\"color\": \"green\"}}, {\"type\": \"bar\", \"x\": [\"2017\", \"2016\", \"2015\", \"2014\", \"2013\", \"2012\"], \"y\": [35.199999999999996, 34.8, 34.599999999999994, 34.699999999999996, 37.2, 37.6], \"name\": \"3 Point Percentage Made\", \"marker\": {\"color\": \"blue\"}}], {\"title\": \"Win/Loss VS 3 Point Percentage Made for NYK\", \"xaxis\": {\"title\": \"Season\"}, \"colorway\": \"red\"}, {\"showLink\": true, \"linkText\": \"Export to plot.ly\"})});</script>"
      ]
     },
     "metadata": {},
     "output_type": "display_data"
    },
    {
     "data": {
      "application/vnd.plotly.v1+json": {
       "data": [
        {
         "marker": {
          "color": "green"
         },
         "name": "Win Loss Percentage",
         "type": "bar",
         "x": [
          "2017",
          "2016",
          "2015",
          "2014",
          "2013",
          "2012"
         ],
         "y": [
          58.536585365853654,
          57.3170731707317,
          67.07317073170732,
          54.87804878048781,
          71.95121951219512,
          73.17073170731707
         ]
        },
        {
         "marker": {
          "color": "blue"
         },
         "name": "3 Point Percentage Made",
         "type": "bar",
         "x": [
          "2017",
          "2016",
          "2015",
          "2014",
          "2013",
          "2012"
         ],
         "y": [
          35.4,
          32.7,
          34.9,
          33.900000000000006,
          36.1,
          37.7
         ]
        }
       ],
       "layout": {
        "colorway": "red",
        "title": "Win/Loss VS 3 Point Percentage Made for OKC",
        "xaxis": {
         "title": "Season"
        }
       }
      },
      "text/html": [
       "<div id=\"46a21231-464a-4a94-887f-17a244a05a78\" style=\"height: 525px; width: 100%;\" class=\"plotly-graph-div\"></div><script type=\"text/javascript\">require([\"plotly\"], function(Plotly) { window.PLOTLYENV=window.PLOTLYENV || {};window.PLOTLYENV.BASE_URL=\"https://plot.ly\";Plotly.newPlot(\"46a21231-464a-4a94-887f-17a244a05a78\", [{\"type\": \"bar\", \"x\": [\"2017\", \"2016\", \"2015\", \"2014\", \"2013\", \"2012\"], \"y\": [58.536585365853654, 57.3170731707317, 67.07317073170732, 54.87804878048781, 71.95121951219512, 73.17073170731707], \"name\": \"Win Loss Percentage\", \"marker\": {\"color\": \"green\"}}, {\"type\": \"bar\", \"x\": [\"2017\", \"2016\", \"2015\", \"2014\", \"2013\", \"2012\"], \"y\": [35.4, 32.7, 34.9, 33.900000000000006, 36.1, 37.7], \"name\": \"3 Point Percentage Made\", \"marker\": {\"color\": \"blue\"}}], {\"title\": \"Win/Loss VS 3 Point Percentage Made for OKC\", \"xaxis\": {\"title\": \"Season\"}, \"colorway\": \"red\"}, {\"showLink\": true, \"linkText\": \"Export to plot.ly\"})});</script>"
      ],
      "text/vnd.plotly.v1+html": [
       "<div id=\"46a21231-464a-4a94-887f-17a244a05a78\" style=\"height: 525px; width: 100%;\" class=\"plotly-graph-div\"></div><script type=\"text/javascript\">require([\"plotly\"], function(Plotly) { window.PLOTLYENV=window.PLOTLYENV || {};window.PLOTLYENV.BASE_URL=\"https://plot.ly\";Plotly.newPlot(\"46a21231-464a-4a94-887f-17a244a05a78\", [{\"type\": \"bar\", \"x\": [\"2017\", \"2016\", \"2015\", \"2014\", \"2013\", \"2012\"], \"y\": [58.536585365853654, 57.3170731707317, 67.07317073170732, 54.87804878048781, 71.95121951219512, 73.17073170731707], \"name\": \"Win Loss Percentage\", \"marker\": {\"color\": \"green\"}}, {\"type\": \"bar\", \"x\": [\"2017\", \"2016\", \"2015\", \"2014\", \"2013\", \"2012\"], \"y\": [35.4, 32.7, 34.9, 33.900000000000006, 36.1, 37.7], \"name\": \"3 Point Percentage Made\", \"marker\": {\"color\": \"blue\"}}], {\"title\": \"Win/Loss VS 3 Point Percentage Made for OKC\", \"xaxis\": {\"title\": \"Season\"}, \"colorway\": \"red\"}, {\"showLink\": true, \"linkText\": \"Export to plot.ly\"})});</script>"
      ]
     },
     "metadata": {},
     "output_type": "display_data"
    },
    {
     "data": {
      "application/vnd.plotly.v1+json": {
       "data": [
        {
         "marker": {
          "color": "green"
         },
         "name": "Win Loss Percentage",
         "type": "bar",
         "x": [
          "2017",
          "2016",
          "2015",
          "2014",
          "2013",
          "2012"
         ],
         "y": [
          30.48780487804878,
          35.36585365853659,
          42.68292682926829,
          30.48780487804878,
          28.04878048780488,
          24.390243902439025
         ]
        },
        {
         "marker": {
          "color": "blue"
         },
         "name": "3 Point Percentage Made",
         "type": "bar",
         "x": [
          "2017",
          "2016",
          "2015",
          "2014",
          "2013",
          "2012"
         ],
         "y": [
          35.099999999999994,
          32.800000000000004,
          35,
          34.699999999999996,
          35.3,
          32.9
         ]
        }
       ],
       "layout": {
        "colorway": "red",
        "title": "Win/Loss VS 3 Point Percentage Made for ORL",
        "xaxis": {
         "title": "Season"
        }
       }
      },
      "text/html": [
       "<div id=\"bbdd3fc7-79d6-4320-8f57-b1f31090c36a\" style=\"height: 525px; width: 100%;\" class=\"plotly-graph-div\"></div><script type=\"text/javascript\">require([\"plotly\"], function(Plotly) { window.PLOTLYENV=window.PLOTLYENV || {};window.PLOTLYENV.BASE_URL=\"https://plot.ly\";Plotly.newPlot(\"bbdd3fc7-79d6-4320-8f57-b1f31090c36a\", [{\"type\": \"bar\", \"x\": [\"2017\", \"2016\", \"2015\", \"2014\", \"2013\", \"2012\"], \"y\": [30.48780487804878, 35.36585365853659, 42.68292682926829, 30.48780487804878, 28.04878048780488, 24.390243902439025], \"name\": \"Win Loss Percentage\", \"marker\": {\"color\": \"green\"}}, {\"type\": \"bar\", \"x\": [\"2017\", \"2016\", \"2015\", \"2014\", \"2013\", \"2012\"], \"y\": [35.099999999999994, 32.800000000000004, 35.0, 34.699999999999996, 35.3, 32.9], \"name\": \"3 Point Percentage Made\", \"marker\": {\"color\": \"blue\"}}], {\"title\": \"Win/Loss VS 3 Point Percentage Made for ORL\", \"xaxis\": {\"title\": \"Season\"}, \"colorway\": \"red\"}, {\"showLink\": true, \"linkText\": \"Export to plot.ly\"})});</script>"
      ],
      "text/vnd.plotly.v1+html": [
       "<div id=\"bbdd3fc7-79d6-4320-8f57-b1f31090c36a\" style=\"height: 525px; width: 100%;\" class=\"plotly-graph-div\"></div><script type=\"text/javascript\">require([\"plotly\"], function(Plotly) { window.PLOTLYENV=window.PLOTLYENV || {};window.PLOTLYENV.BASE_URL=\"https://plot.ly\";Plotly.newPlot(\"bbdd3fc7-79d6-4320-8f57-b1f31090c36a\", [{\"type\": \"bar\", \"x\": [\"2017\", \"2016\", \"2015\", \"2014\", \"2013\", \"2012\"], \"y\": [30.48780487804878, 35.36585365853659, 42.68292682926829, 30.48780487804878, 28.04878048780488, 24.390243902439025], \"name\": \"Win Loss Percentage\", \"marker\": {\"color\": \"green\"}}, {\"type\": \"bar\", \"x\": [\"2017\", \"2016\", \"2015\", \"2014\", \"2013\", \"2012\"], \"y\": [35.099999999999994, 32.800000000000004, 35.0, 34.699999999999996, 35.3, 32.9], \"name\": \"3 Point Percentage Made\", \"marker\": {\"color\": \"blue\"}}], {\"title\": \"Win/Loss VS 3 Point Percentage Made for ORL\", \"xaxis\": {\"title\": \"Season\"}, \"colorway\": \"red\"}, {\"showLink\": true, \"linkText\": \"Export to plot.ly\"})});</script>"
      ]
     },
     "metadata": {},
     "output_type": "display_data"
    },
    {
     "data": {
      "application/vnd.plotly.v1+json": {
       "data": [
        {
         "marker": {
          "color": "green"
         },
         "name": "Win Loss Percentage",
         "type": "bar",
         "x": [
          "2017",
          "2016",
          "2015",
          "2014",
          "2013",
          "2012"
         ],
         "y": [
          63.41463414634146,
          34.146341463414636,
          12.195121951219512,
          21.951219512195124,
          23.170731707317074,
          41.46341463414634
         ]
        },
        {
         "marker": {
          "color": "blue"
         },
         "name": "3 Point Percentage Made",
         "type": "bar",
         "x": [
          "2017",
          "2016",
          "2015",
          "2014",
          "2013",
          "2012"
         ],
         "y": [
          36.9,
          34,
          33.900000000000006,
          32,
          31.2,
          36
         ]
        }
       ],
       "layout": {
        "colorway": "red",
        "title": "Win/Loss VS 3 Point Percentage Made for PHI",
        "xaxis": {
         "title": "Season"
        }
       }
      },
      "text/html": [
       "<div id=\"fc9dcc99-73a8-4fec-a1d7-487bcb37584c\" style=\"height: 525px; width: 100%;\" class=\"plotly-graph-div\"></div><script type=\"text/javascript\">require([\"plotly\"], function(Plotly) { window.PLOTLYENV=window.PLOTLYENV || {};window.PLOTLYENV.BASE_URL=\"https://plot.ly\";Plotly.newPlot(\"fc9dcc99-73a8-4fec-a1d7-487bcb37584c\", [{\"type\": \"bar\", \"x\": [\"2017\", \"2016\", \"2015\", \"2014\", \"2013\", \"2012\"], \"y\": [63.41463414634146, 34.146341463414636, 12.195121951219512, 21.951219512195124, 23.170731707317074, 41.46341463414634], \"name\": \"Win Loss Percentage\", \"marker\": {\"color\": \"green\"}}, {\"type\": \"bar\", \"x\": [\"2017\", \"2016\", \"2015\", \"2014\", \"2013\", \"2012\"], \"y\": [36.9, 34.0, 33.900000000000006, 32.0, 31.2, 36.0], \"name\": \"3 Point Percentage Made\", \"marker\": {\"color\": \"blue\"}}], {\"title\": \"Win/Loss VS 3 Point Percentage Made for PHI\", \"xaxis\": {\"title\": \"Season\"}, \"colorway\": \"red\"}, {\"showLink\": true, \"linkText\": \"Export to plot.ly\"})});</script>"
      ],
      "text/vnd.plotly.v1+html": [
       "<div id=\"fc9dcc99-73a8-4fec-a1d7-487bcb37584c\" style=\"height: 525px; width: 100%;\" class=\"plotly-graph-div\"></div><script type=\"text/javascript\">require([\"plotly\"], function(Plotly) { window.PLOTLYENV=window.PLOTLYENV || {};window.PLOTLYENV.BASE_URL=\"https://plot.ly\";Plotly.newPlot(\"fc9dcc99-73a8-4fec-a1d7-487bcb37584c\", [{\"type\": \"bar\", \"x\": [\"2017\", \"2016\", \"2015\", \"2014\", \"2013\", \"2012\"], \"y\": [63.41463414634146, 34.146341463414636, 12.195121951219512, 21.951219512195124, 23.170731707317074, 41.46341463414634], \"name\": \"Win Loss Percentage\", \"marker\": {\"color\": \"green\"}}, {\"type\": \"bar\", \"x\": [\"2017\", \"2016\", \"2015\", \"2014\", \"2013\", \"2012\"], \"y\": [36.9, 34.0, 33.900000000000006, 32.0, 31.2, 36.0], \"name\": \"3 Point Percentage Made\", \"marker\": {\"color\": \"blue\"}}], {\"title\": \"Win/Loss VS 3 Point Percentage Made for PHI\", \"xaxis\": {\"title\": \"Season\"}, \"colorway\": \"red\"}, {\"showLink\": true, \"linkText\": \"Export to plot.ly\"})});</script>"
      ]
     },
     "metadata": {},
     "output_type": "display_data"
    },
    {
     "data": {
      "application/vnd.plotly.v1+json": {
       "data": [
        {
         "marker": {
          "color": "green"
         },
         "name": "Win Loss Percentage",
         "type": "bar",
         "x": [
          "2017",
          "2016",
          "2015",
          "2014",
          "2013",
          "2012"
         ],
         "y": [
          25.609756097560975,
          29.268292682926827,
          28.04878048780488,
          47.5609756097561,
          58.536585365853654,
          30.48780487804878
         ]
        },
        {
         "marker": {
          "color": "blue"
         },
         "name": "3 Point Percentage Made",
         "type": "bar",
         "x": [
          "2017",
          "2016",
          "2015",
          "2014",
          "2013",
          "2012"
         ],
         "y": [
          33.4,
          33.2,
          34.8,
          34.1,
          37.2,
          33
         ]
        }
       ],
       "layout": {
        "colorway": "red",
        "title": "Win/Loss VS 3 Point Percentage Made for PHO",
        "xaxis": {
         "title": "Season"
        }
       }
      },
      "text/html": [
       "<div id=\"4f6d9e5c-e3d3-4101-9a15-23b381048046\" style=\"height: 525px; width: 100%;\" class=\"plotly-graph-div\"></div><script type=\"text/javascript\">require([\"plotly\"], function(Plotly) { window.PLOTLYENV=window.PLOTLYENV || {};window.PLOTLYENV.BASE_URL=\"https://plot.ly\";Plotly.newPlot(\"4f6d9e5c-e3d3-4101-9a15-23b381048046\", [{\"type\": \"bar\", \"x\": [\"2017\", \"2016\", \"2015\", \"2014\", \"2013\", \"2012\"], \"y\": [25.609756097560975, 29.268292682926827, 28.04878048780488, 47.5609756097561, 58.536585365853654, 30.48780487804878], \"name\": \"Win Loss Percentage\", \"marker\": {\"color\": \"green\"}}, {\"type\": \"bar\", \"x\": [\"2017\", \"2016\", \"2015\", \"2014\", \"2013\", \"2012\"], \"y\": [33.4, 33.2, 34.8, 34.1, 37.2, 33.0], \"name\": \"3 Point Percentage Made\", \"marker\": {\"color\": \"blue\"}}], {\"title\": \"Win/Loss VS 3 Point Percentage Made for PHO\", \"xaxis\": {\"title\": \"Season\"}, \"colorway\": \"red\"}, {\"showLink\": true, \"linkText\": \"Export to plot.ly\"})});</script>"
      ],
      "text/vnd.plotly.v1+html": [
       "<div id=\"4f6d9e5c-e3d3-4101-9a15-23b381048046\" style=\"height: 525px; width: 100%;\" class=\"plotly-graph-div\"></div><script type=\"text/javascript\">require([\"plotly\"], function(Plotly) { window.PLOTLYENV=window.PLOTLYENV || {};window.PLOTLYENV.BASE_URL=\"https://plot.ly\";Plotly.newPlot(\"4f6d9e5c-e3d3-4101-9a15-23b381048046\", [{\"type\": \"bar\", \"x\": [\"2017\", \"2016\", \"2015\", \"2014\", \"2013\", \"2012\"], \"y\": [25.609756097560975, 29.268292682926827, 28.04878048780488, 47.5609756097561, 58.536585365853654, 30.48780487804878], \"name\": \"Win Loss Percentage\", \"marker\": {\"color\": \"green\"}}, {\"type\": \"bar\", \"x\": [\"2017\", \"2016\", \"2015\", \"2014\", \"2013\", \"2012\"], \"y\": [33.4, 33.2, 34.8, 34.1, 37.2, 33.0], \"name\": \"3 Point Percentage Made\", \"marker\": {\"color\": \"blue\"}}], {\"title\": \"Win/Loss VS 3 Point Percentage Made for PHO\", \"xaxis\": {\"title\": \"Season\"}, \"colorway\": \"red\"}, {\"showLink\": true, \"linkText\": \"Export to plot.ly\"})});</script>"
      ]
     },
     "metadata": {},
     "output_type": "display_data"
    },
    {
     "data": {
      "application/vnd.plotly.v1+json": {
       "data": [
        {
         "marker": {
          "color": "green"
         },
         "name": "Win Loss Percentage",
         "type": "bar",
         "x": [
          "2017",
          "2016",
          "2015",
          "2014",
          "2013",
          "2012"
         ],
         "y": [
          59.756097560975604,
          50,
          53.65853658536586,
          62.19512195121951,
          65.85365853658537,
          40.243902439024396
         ]
        },
        {
         "marker": {
          "color": "blue"
         },
         "name": "3 Point Percentage Made",
         "type": "bar",
         "x": [
          "2017",
          "2016",
          "2015",
          "2014",
          "2013",
          "2012"
         ],
         "y": [
          36.6,
          37.5,
          37,
          36.199999999999996,
          37.2,
          35.3
         ]
        }
       ],
       "layout": {
        "colorway": "red",
        "title": "Win/Loss VS 3 Point Percentage Made for POR",
        "xaxis": {
         "title": "Season"
        }
       }
      },
      "text/html": [
       "<div id=\"24d73b34-baf7-4595-a45a-bd3731f9fc8a\" style=\"height: 525px; width: 100%;\" class=\"plotly-graph-div\"></div><script type=\"text/javascript\">require([\"plotly\"], function(Plotly) { window.PLOTLYENV=window.PLOTLYENV || {};window.PLOTLYENV.BASE_URL=\"https://plot.ly\";Plotly.newPlot(\"24d73b34-baf7-4595-a45a-bd3731f9fc8a\", [{\"type\": \"bar\", \"x\": [\"2017\", \"2016\", \"2015\", \"2014\", \"2013\", \"2012\"], \"y\": [59.756097560975604, 50.0, 53.65853658536586, 62.19512195121951, 65.85365853658537, 40.243902439024396], \"name\": \"Win Loss Percentage\", \"marker\": {\"color\": \"green\"}}, {\"type\": \"bar\", \"x\": [\"2017\", \"2016\", \"2015\", \"2014\", \"2013\", \"2012\"], \"y\": [36.6, 37.5, 37.0, 36.199999999999996, 37.2, 35.3], \"name\": \"3 Point Percentage Made\", \"marker\": {\"color\": \"blue\"}}], {\"title\": \"Win/Loss VS 3 Point Percentage Made for POR\", \"xaxis\": {\"title\": \"Season\"}, \"colorway\": \"red\"}, {\"showLink\": true, \"linkText\": \"Export to plot.ly\"})});</script>"
      ],
      "text/vnd.plotly.v1+html": [
       "<div id=\"24d73b34-baf7-4595-a45a-bd3731f9fc8a\" style=\"height: 525px; width: 100%;\" class=\"plotly-graph-div\"></div><script type=\"text/javascript\">require([\"plotly\"], function(Plotly) { window.PLOTLYENV=window.PLOTLYENV || {};window.PLOTLYENV.BASE_URL=\"https://plot.ly\";Plotly.newPlot(\"24d73b34-baf7-4595-a45a-bd3731f9fc8a\", [{\"type\": \"bar\", \"x\": [\"2017\", \"2016\", \"2015\", \"2014\", \"2013\", \"2012\"], \"y\": [59.756097560975604, 50.0, 53.65853658536586, 62.19512195121951, 65.85365853658537, 40.243902439024396], \"name\": \"Win Loss Percentage\", \"marker\": {\"color\": \"green\"}}, {\"type\": \"bar\", \"x\": [\"2017\", \"2016\", \"2015\", \"2014\", \"2013\", \"2012\"], \"y\": [36.6, 37.5, 37.0, 36.199999999999996, 37.2, 35.3], \"name\": \"3 Point Percentage Made\", \"marker\": {\"color\": \"blue\"}}], {\"title\": \"Win/Loss VS 3 Point Percentage Made for POR\", \"xaxis\": {\"title\": \"Season\"}, \"colorway\": \"red\"}, {\"showLink\": true, \"linkText\": \"Export to plot.ly\"})});</script>"
      ]
     },
     "metadata": {},
     "output_type": "display_data"
    },
    {
     "data": {
      "application/vnd.plotly.v1+json": {
       "data": [
        {
         "marker": {
          "color": "green"
         },
         "name": "Win Loss Percentage",
         "type": "bar",
         "x": [
          "2017",
          "2016",
          "2015",
          "2014",
          "2013",
          "2012"
         ],
         "y": [
          32.926829268292686,
          39.02439024390244,
          40.243902439024396,
          35.36585365853659,
          34.146341463414636,
          34.146341463414636
         ]
        },
        {
         "marker": {
          "color": "blue"
         },
         "name": "3 Point Percentage Made",
         "type": "bar",
         "x": [
          "2017",
          "2016",
          "2015",
          "2014",
          "2013",
          "2012"
         ],
         "y": [
          37.5,
          37.6,
          35.9,
          34.1,
          33.300000000000004,
          36.3
         ]
        }
       ],
       "layout": {
        "colorway": "red",
        "title": "Win/Loss VS 3 Point Percentage Made for SAC",
        "xaxis": {
         "title": "Season"
        }
       }
      },
      "text/html": [
       "<div id=\"01920958-7cb7-4216-b151-32ecc4475c50\" style=\"height: 525px; width: 100%;\" class=\"plotly-graph-div\"></div><script type=\"text/javascript\">require([\"plotly\"], function(Plotly) { window.PLOTLYENV=window.PLOTLYENV || {};window.PLOTLYENV.BASE_URL=\"https://plot.ly\";Plotly.newPlot(\"01920958-7cb7-4216-b151-32ecc4475c50\", [{\"type\": \"bar\", \"x\": [\"2017\", \"2016\", \"2015\", \"2014\", \"2013\", \"2012\"], \"y\": [32.926829268292686, 39.02439024390244, 40.243902439024396, 35.36585365853659, 34.146341463414636, 34.146341463414636], \"name\": \"Win Loss Percentage\", \"marker\": {\"color\": \"green\"}}, {\"type\": \"bar\", \"x\": [\"2017\", \"2016\", \"2015\", \"2014\", \"2013\", \"2012\"], \"y\": [37.5, 37.6, 35.9, 34.1, 33.300000000000004, 36.3], \"name\": \"3 Point Percentage Made\", \"marker\": {\"color\": \"blue\"}}], {\"title\": \"Win/Loss VS 3 Point Percentage Made for SAC\", \"xaxis\": {\"title\": \"Season\"}, \"colorway\": \"red\"}, {\"showLink\": true, \"linkText\": \"Export to plot.ly\"})});</script>"
      ],
      "text/vnd.plotly.v1+html": [
       "<div id=\"01920958-7cb7-4216-b151-32ecc4475c50\" style=\"height: 525px; width: 100%;\" class=\"plotly-graph-div\"></div><script type=\"text/javascript\">require([\"plotly\"], function(Plotly) { window.PLOTLYENV=window.PLOTLYENV || {};window.PLOTLYENV.BASE_URL=\"https://plot.ly\";Plotly.newPlot(\"01920958-7cb7-4216-b151-32ecc4475c50\", [{\"type\": \"bar\", \"x\": [\"2017\", \"2016\", \"2015\", \"2014\", \"2013\", \"2012\"], \"y\": [32.926829268292686, 39.02439024390244, 40.243902439024396, 35.36585365853659, 34.146341463414636, 34.146341463414636], \"name\": \"Win Loss Percentage\", \"marker\": {\"color\": \"green\"}}, {\"type\": \"bar\", \"x\": [\"2017\", \"2016\", \"2015\", \"2014\", \"2013\", \"2012\"], \"y\": [37.5, 37.6, 35.9, 34.1, 33.300000000000004, 36.3], \"name\": \"3 Point Percentage Made\", \"marker\": {\"color\": \"blue\"}}], {\"title\": \"Win/Loss VS 3 Point Percentage Made for SAC\", \"xaxis\": {\"title\": \"Season\"}, \"colorway\": \"red\"}, {\"showLink\": true, \"linkText\": \"Export to plot.ly\"})});</script>"
      ]
     },
     "metadata": {},
     "output_type": "display_data"
    },
    {
     "data": {
      "application/vnd.plotly.v1+json": {
       "data": [
        {
         "marker": {
          "color": "green"
         },
         "name": "Win Loss Percentage",
         "type": "bar",
         "x": [
          "2017",
          "2016",
          "2015",
          "2014",
          "2013",
          "2012"
         ],
         "y": [
          57.3170731707317,
          74.39024390243902,
          81.70731707317073,
          67.07317073170732,
          75.60975609756098,
          70.73170731707317
         ]
        },
        {
         "marker": {
          "color": "blue"
         },
         "name": "3 Point Percentage Made",
         "type": "bar",
         "x": [
          "2017",
          "2016",
          "2015",
          "2014",
          "2013",
          "2012"
         ],
         "y": [
          35.199999999999996,
          39.1,
          37.5,
          36.7,
          39.7,
          37.6
         ]
        }
       ],
       "layout": {
        "colorway": "red",
        "title": "Win/Loss VS 3 Point Percentage Made for SAS",
        "xaxis": {
         "title": "Season"
        }
       }
      },
      "text/html": [
       "<div id=\"5618540b-900d-4d46-b792-3fdf9efa91dc\" style=\"height: 525px; width: 100%;\" class=\"plotly-graph-div\"></div><script type=\"text/javascript\">require([\"plotly\"], function(Plotly) { window.PLOTLYENV=window.PLOTLYENV || {};window.PLOTLYENV.BASE_URL=\"https://plot.ly\";Plotly.newPlot(\"5618540b-900d-4d46-b792-3fdf9efa91dc\", [{\"type\": \"bar\", \"x\": [\"2017\", \"2016\", \"2015\", \"2014\", \"2013\", \"2012\"], \"y\": [57.3170731707317, 74.39024390243902, 81.70731707317073, 67.07317073170732, 75.60975609756098, 70.73170731707317], \"name\": \"Win Loss Percentage\", \"marker\": {\"color\": \"green\"}}, {\"type\": \"bar\", \"x\": [\"2017\", \"2016\", \"2015\", \"2014\", \"2013\", \"2012\"], \"y\": [35.199999999999996, 39.1, 37.5, 36.7, 39.7, 37.6], \"name\": \"3 Point Percentage Made\", \"marker\": {\"color\": \"blue\"}}], {\"title\": \"Win/Loss VS 3 Point Percentage Made for SAS\", \"xaxis\": {\"title\": \"Season\"}, \"colorway\": \"red\"}, {\"showLink\": true, \"linkText\": \"Export to plot.ly\"})});</script>"
      ],
      "text/vnd.plotly.v1+html": [
       "<div id=\"5618540b-900d-4d46-b792-3fdf9efa91dc\" style=\"height: 525px; width: 100%;\" class=\"plotly-graph-div\"></div><script type=\"text/javascript\">require([\"plotly\"], function(Plotly) { window.PLOTLYENV=window.PLOTLYENV || {};window.PLOTLYENV.BASE_URL=\"https://plot.ly\";Plotly.newPlot(\"5618540b-900d-4d46-b792-3fdf9efa91dc\", [{\"type\": \"bar\", \"x\": [\"2017\", \"2016\", \"2015\", \"2014\", \"2013\", \"2012\"], \"y\": [57.3170731707317, 74.39024390243902, 81.70731707317073, 67.07317073170732, 75.60975609756098, 70.73170731707317], \"name\": \"Win Loss Percentage\", \"marker\": {\"color\": \"green\"}}, {\"type\": \"bar\", \"x\": [\"2017\", \"2016\", \"2015\", \"2014\", \"2013\", \"2012\"], \"y\": [35.199999999999996, 39.1, 37.5, 36.7, 39.7, 37.6], \"name\": \"3 Point Percentage Made\", \"marker\": {\"color\": \"blue\"}}], {\"title\": \"Win/Loss VS 3 Point Percentage Made for SAS\", \"xaxis\": {\"title\": \"Season\"}, \"colorway\": \"red\"}, {\"showLink\": true, \"linkText\": \"Export to plot.ly\"})});</script>"
      ]
     },
     "metadata": {},
     "output_type": "display_data"
    },
    {
     "data": {
      "application/vnd.plotly.v1+json": {
       "data": [
        {
         "marker": {
          "color": "green"
         },
         "name": "Win Loss Percentage",
         "type": "bar",
         "x": [
          "2017",
          "2016",
          "2015",
          "2014",
          "2013",
          "2012"
         ],
         "y": [
          71.95121951219512,
          62.19512195121951,
          68.29268292682927,
          59.756097560975604,
          58.536585365853654,
          41.46341463414634
         ]
        },
        {
         "marker": {
          "color": "blue"
         },
         "name": "3 Point Percentage Made",
         "type": "bar",
         "x": [
          "2017",
          "2016",
          "2015",
          "2014",
          "2013",
          "2012"
         ],
         "y": [
          35.8,
          36.3,
          37,
          35.199999999999996,
          37.2,
          34.300000000000004
         ]
        }
       ],
       "layout": {
        "colorway": "red",
        "title": "Win/Loss VS 3 Point Percentage Made for TOR",
        "xaxis": {
         "title": "Season"
        }
       }
      },
      "text/html": [
       "<div id=\"742df553-ad94-4af5-9adc-b03df07b0c47\" style=\"height: 525px; width: 100%;\" class=\"plotly-graph-div\"></div><script type=\"text/javascript\">require([\"plotly\"], function(Plotly) { window.PLOTLYENV=window.PLOTLYENV || {};window.PLOTLYENV.BASE_URL=\"https://plot.ly\";Plotly.newPlot(\"742df553-ad94-4af5-9adc-b03df07b0c47\", [{\"type\": \"bar\", \"x\": [\"2017\", \"2016\", \"2015\", \"2014\", \"2013\", \"2012\"], \"y\": [71.95121951219512, 62.19512195121951, 68.29268292682927, 59.756097560975604, 58.536585365853654, 41.46341463414634], \"name\": \"Win Loss Percentage\", \"marker\": {\"color\": \"green\"}}, {\"type\": \"bar\", \"x\": [\"2017\", \"2016\", \"2015\", \"2014\", \"2013\", \"2012\"], \"y\": [35.8, 36.3, 37.0, 35.199999999999996, 37.2, 34.300000000000004], \"name\": \"3 Point Percentage Made\", \"marker\": {\"color\": \"blue\"}}], {\"title\": \"Win/Loss VS 3 Point Percentage Made for TOR\", \"xaxis\": {\"title\": \"Season\"}, \"colorway\": \"red\"}, {\"showLink\": true, \"linkText\": \"Export to plot.ly\"})});</script>"
      ],
      "text/vnd.plotly.v1+html": [
       "<div id=\"742df553-ad94-4af5-9adc-b03df07b0c47\" style=\"height: 525px; width: 100%;\" class=\"plotly-graph-div\"></div><script type=\"text/javascript\">require([\"plotly\"], function(Plotly) { window.PLOTLYENV=window.PLOTLYENV || {};window.PLOTLYENV.BASE_URL=\"https://plot.ly\";Plotly.newPlot(\"742df553-ad94-4af5-9adc-b03df07b0c47\", [{\"type\": \"bar\", \"x\": [\"2017\", \"2016\", \"2015\", \"2014\", \"2013\", \"2012\"], \"y\": [71.95121951219512, 62.19512195121951, 68.29268292682927, 59.756097560975604, 58.536585365853654, 41.46341463414634], \"name\": \"Win Loss Percentage\", \"marker\": {\"color\": \"green\"}}, {\"type\": \"bar\", \"x\": [\"2017\", \"2016\", \"2015\", \"2014\", \"2013\", \"2012\"], \"y\": [35.8, 36.3, 37.0, 35.199999999999996, 37.2, 34.300000000000004], \"name\": \"3 Point Percentage Made\", \"marker\": {\"color\": \"blue\"}}], {\"title\": \"Win/Loss VS 3 Point Percentage Made for TOR\", \"xaxis\": {\"title\": \"Season\"}, \"colorway\": \"red\"}, {\"showLink\": true, \"linkText\": \"Export to plot.ly\"})});</script>"
      ]
     },
     "metadata": {},
     "output_type": "display_data"
    },
    {
     "data": {
      "application/vnd.plotly.v1+json": {
       "data": [
        {
         "marker": {
          "color": "green"
         },
         "name": "Win Loss Percentage",
         "type": "bar",
         "x": [
          "2017",
          "2016",
          "2015",
          "2014",
          "2013",
          "2012"
         ],
         "y": [
          58.536585365853654,
          62.19512195121951,
          48.78048780487805,
          46.34146341463415,
          30.48780487804878,
          52.4390243902439
         ]
        },
        {
         "marker": {
          "color": "blue"
         },
         "name": "3 Point Percentage Made",
         "type": "bar",
         "x": [
          "2017",
          "2016",
          "2015",
          "2014",
          "2013",
          "2012"
         ],
         "y": [
          36.6,
          37.2,
          35.5,
          34.300000000000004,
          34.4,
          36.6
         ]
        }
       ],
       "layout": {
        "colorway": "red",
        "title": "Win/Loss VS 3 Point Percentage Made for UTA",
        "xaxis": {
         "title": "Season"
        }
       }
      },
      "text/html": [
       "<div id=\"d6f35709-dab0-4c26-a393-e28712ad734c\" style=\"height: 525px; width: 100%;\" class=\"plotly-graph-div\"></div><script type=\"text/javascript\">require([\"plotly\"], function(Plotly) { window.PLOTLYENV=window.PLOTLYENV || {};window.PLOTLYENV.BASE_URL=\"https://plot.ly\";Plotly.newPlot(\"d6f35709-dab0-4c26-a393-e28712ad734c\", [{\"type\": \"bar\", \"x\": [\"2017\", \"2016\", \"2015\", \"2014\", \"2013\", \"2012\"], \"y\": [58.536585365853654, 62.19512195121951, 48.78048780487805, 46.34146341463415, 30.48780487804878, 52.4390243902439], \"name\": \"Win Loss Percentage\", \"marker\": {\"color\": \"green\"}}, {\"type\": \"bar\", \"x\": [\"2017\", \"2016\", \"2015\", \"2014\", \"2013\", \"2012\"], \"y\": [36.6, 37.2, 35.5, 34.300000000000004, 34.4, 36.6], \"name\": \"3 Point Percentage Made\", \"marker\": {\"color\": \"blue\"}}], {\"title\": \"Win/Loss VS 3 Point Percentage Made for UTA\", \"xaxis\": {\"title\": \"Season\"}, \"colorway\": \"red\"}, {\"showLink\": true, \"linkText\": \"Export to plot.ly\"})});</script>"
      ],
      "text/vnd.plotly.v1+html": [
       "<div id=\"d6f35709-dab0-4c26-a393-e28712ad734c\" style=\"height: 525px; width: 100%;\" class=\"plotly-graph-div\"></div><script type=\"text/javascript\">require([\"plotly\"], function(Plotly) { window.PLOTLYENV=window.PLOTLYENV || {};window.PLOTLYENV.BASE_URL=\"https://plot.ly\";Plotly.newPlot(\"d6f35709-dab0-4c26-a393-e28712ad734c\", [{\"type\": \"bar\", \"x\": [\"2017\", \"2016\", \"2015\", \"2014\", \"2013\", \"2012\"], \"y\": [58.536585365853654, 62.19512195121951, 48.78048780487805, 46.34146341463415, 30.48780487804878, 52.4390243902439], \"name\": \"Win Loss Percentage\", \"marker\": {\"color\": \"green\"}}, {\"type\": \"bar\", \"x\": [\"2017\", \"2016\", \"2015\", \"2014\", \"2013\", \"2012\"], \"y\": [36.6, 37.2, 35.5, 34.300000000000004, 34.4, 36.6], \"name\": \"3 Point Percentage Made\", \"marker\": {\"color\": \"blue\"}}], {\"title\": \"Win/Loss VS 3 Point Percentage Made for UTA\", \"xaxis\": {\"title\": \"Season\"}, \"colorway\": \"red\"}, {\"showLink\": true, \"linkText\": \"Export to plot.ly\"})});</script>"
      ]
     },
     "metadata": {},
     "output_type": "display_data"
    },
    {
     "data": {
      "application/vnd.plotly.v1+json": {
       "data": [
        {
         "marker": {
          "color": "green"
         },
         "name": "Win Loss Percentage",
         "type": "bar",
         "x": [
          "2017",
          "2016",
          "2015",
          "2014",
          "2013",
          "2012"
         ],
         "y": [
          52.4390243902439,
          59.756097560975604,
          50,
          56.09756097560976,
          53.65853658536586,
          35.36585365853659
         ]
        },
        {
         "marker": {
          "color": "blue"
         },
         "name": "3 Point Percentage Made",
         "type": "bar",
         "x": [
          "2017",
          "2016",
          "2015",
          "2014",
          "2013",
          "2012"
         ],
         "y": [
          37.5,
          37.2,
          35.8,
          36,
          38,
          36.5
         ]
        }
       ],
       "layout": {
        "colorway": "red",
        "title": "Win/Loss VS 3 Point Percentage Made for WAS",
        "xaxis": {
         "title": "Season"
        }
       }
      },
      "text/html": [
       "<div id=\"dc83f49d-ff9a-48bd-ad96-b09946f9cf54\" style=\"height: 525px; width: 100%;\" class=\"plotly-graph-div\"></div><script type=\"text/javascript\">require([\"plotly\"], function(Plotly) { window.PLOTLYENV=window.PLOTLYENV || {};window.PLOTLYENV.BASE_URL=\"https://plot.ly\";Plotly.newPlot(\"dc83f49d-ff9a-48bd-ad96-b09946f9cf54\", [{\"type\": \"bar\", \"x\": [\"2017\", \"2016\", \"2015\", \"2014\", \"2013\", \"2012\"], \"y\": [52.4390243902439, 59.756097560975604, 50.0, 56.09756097560976, 53.65853658536586, 35.36585365853659], \"name\": \"Win Loss Percentage\", \"marker\": {\"color\": \"green\"}}, {\"type\": \"bar\", \"x\": [\"2017\", \"2016\", \"2015\", \"2014\", \"2013\", \"2012\"], \"y\": [37.5, 37.2, 35.8, 36.0, 38.0, 36.5], \"name\": \"3 Point Percentage Made\", \"marker\": {\"color\": \"blue\"}}], {\"title\": \"Win/Loss VS 3 Point Percentage Made for WAS\", \"xaxis\": {\"title\": \"Season\"}, \"colorway\": \"red\"}, {\"showLink\": true, \"linkText\": \"Export to plot.ly\"})});</script>"
      ],
      "text/vnd.plotly.v1+html": [
       "<div id=\"dc83f49d-ff9a-48bd-ad96-b09946f9cf54\" style=\"height: 525px; width: 100%;\" class=\"plotly-graph-div\"></div><script type=\"text/javascript\">require([\"plotly\"], function(Plotly) { window.PLOTLYENV=window.PLOTLYENV || {};window.PLOTLYENV.BASE_URL=\"https://plot.ly\";Plotly.newPlot(\"dc83f49d-ff9a-48bd-ad96-b09946f9cf54\", [{\"type\": \"bar\", \"x\": [\"2017\", \"2016\", \"2015\", \"2014\", \"2013\", \"2012\"], \"y\": [52.4390243902439, 59.756097560975604, 50.0, 56.09756097560976, 53.65853658536586, 35.36585365853659], \"name\": \"Win Loss Percentage\", \"marker\": {\"color\": \"green\"}}, {\"type\": \"bar\", \"x\": [\"2017\", \"2016\", \"2015\", \"2014\", \"2013\", \"2012\"], \"y\": [37.5, 37.2, 35.8, 36.0, 38.0, 36.5], \"name\": \"3 Point Percentage Made\", \"marker\": {\"color\": \"blue\"}}], {\"title\": \"Win/Loss VS 3 Point Percentage Made for WAS\", \"xaxis\": {\"title\": \"Season\"}, \"colorway\": \"red\"}, {\"showLink\": true, \"linkText\": \"Export to plot.ly\"})});</script>"
      ]
     },
     "metadata": {},
     "output_type": "display_data"
    }
   ],
   "source": [
    "for df in teamstats:\n",
    "    data = []\n",
    "    data.append(go.Bar(\n",
    "        x = df['Season'],\n",
    "        y = df['Win/Loss'],\n",
    "        name= 'Win Loss Percentage',\n",
    "        marker = dict(\n",
    "            color = \"green\")\n",
    "        ))\n",
    "    data.append(go.Bar(\n",
    "        x = df['Season'],\n",
    "        y = df['3P%'],\n",
    "        name= '3 Point Percentage Made',\n",
    "        marker = dict(\n",
    "            color = \"blue\")\n",
    "    ))\n",
    "    layout = dict(title= 'Win/Loss VS 3 Point Percentage Made for '+ df['Tm'][0],xaxis = dict(title = 'Season'), colorway = 'red') \n",
    "    fig = dict(data=data, layout=layout,)\n",
    "    iplot(fig, filename='basic-line')"
   ]
  },
  {
   "cell_type": "markdown",
   "metadata": {},
   "source": [
    "Looking back at the teams that were discussed in the previous graph, the Houston Rockets aren't shooting lights out from three. They are only making 36.2% of their threes, and the Brooklyn Nets that have a 34% win rate are only 0.6% behind the Rockets in terms of three pointers made, sitting at a solid 35.6% 3PM. It also seems there's a lack of correlation between 3 pointers made and the numbers of wins a team gets."
   ]
  },
  {
   "cell_type": "markdown",
   "metadata": {},
   "source": [
    "Ever since we've been more NBA athletes taking the three a lot of articles have shown up about the efficiency of this tactic. The formula for efficiency for a singular player is (PTS + REB + AST + STL + BLK - Missed FG - Missed FT - TO) / GP. To convert this to how efficient a team is simply use the same formula, and see how efficient they are playing in total."
   ]
  },
  {
   "cell_type": "code",
   "execution_count": 74,
   "metadata": {},
   "outputs": [
    {
     "name": "stderr",
     "output_type": "stream",
     "text": [
      "/Users/ryanlai/anaconda3/lib/python3.6/site-packages/ipykernel_launcher.py:5: SettingWithCopyWarning:\n",
      "\n",
      "\n",
      "A value is trying to be set on a copy of a slice from a DataFrame.\n",
      "Try using .loc[row_indexer,col_indexer] = value instead\n",
      "\n",
      "See the caveats in the documentation: http://pandas.pydata.org/pandas-docs/stable/indexing.html#indexing-view-versus-copy\n",
      "\n",
      "/Users/ryanlai/anaconda3/lib/python3.6/site-packages/ipykernel_launcher.py:6: SettingWithCopyWarning:\n",
      "\n",
      "\n",
      "A value is trying to be set on a copy of a slice from a DataFrame.\n",
      "Try using .loc[row_indexer,col_indexer] = value instead\n",
      "\n",
      "See the caveats in the documentation: http://pandas.pydata.org/pandas-docs/stable/indexing.html#indexing-view-versus-copy\n",
      "\n",
      "/Users/ryanlai/anaconda3/lib/python3.6/site-packages/ipykernel_launcher.py:7: SettingWithCopyWarning:\n",
      "\n",
      "\n",
      "A value is trying to be set on a copy of a slice from a DataFrame.\n",
      "Try using .loc[row_indexer,col_indexer] = value instead\n",
      "\n",
      "See the caveats in the documentation: http://pandas.pydata.org/pandas-docs/stable/indexing.html#indexing-view-versus-copy\n",
      "\n",
      "/Users/ryanlai/anaconda3/lib/python3.6/site-packages/ipykernel_launcher.py:8: SettingWithCopyWarning:\n",
      "\n",
      "\n",
      "A value is trying to be set on a copy of a slice from a DataFrame.\n",
      "Try using .loc[row_indexer,col_indexer] = value instead\n",
      "\n",
      "See the caveats in the documentation: http://pandas.pydata.org/pandas-docs/stable/indexing.html#indexing-view-versus-copy\n",
      "\n",
      "/Users/ryanlai/anaconda3/lib/python3.6/site-packages/ipykernel_launcher.py:9: SettingWithCopyWarning:\n",
      "\n",
      "\n",
      "A value is trying to be set on a copy of a slice from a DataFrame.\n",
      "Try using .loc[row_indexer,col_indexer] = value instead\n",
      "\n",
      "See the caveats in the documentation: http://pandas.pydata.org/pandas-docs/stable/indexing.html#indexing-view-versus-copy\n",
      "\n",
      "/Users/ryanlai/anaconda3/lib/python3.6/site-packages/ipykernel_launcher.py:10: SettingWithCopyWarning:\n",
      "\n",
      "\n",
      "A value is trying to be set on a copy of a slice from a DataFrame.\n",
      "Try using .loc[row_indexer,col_indexer] = value instead\n",
      "\n",
      "See the caveats in the documentation: http://pandas.pydata.org/pandas-docs/stable/indexing.html#indexing-view-versus-copy\n",
      "\n",
      "/Users/ryanlai/anaconda3/lib/python3.6/site-packages/ipykernel_launcher.py:11: SettingWithCopyWarning:\n",
      "\n",
      "\n",
      "A value is trying to be set on a copy of a slice from a DataFrame.\n",
      "Try using .loc[row_indexer,col_indexer] = value instead\n",
      "\n",
      "See the caveats in the documentation: http://pandas.pydata.org/pandas-docs/stable/indexing.html#indexing-view-versus-copy\n",
      "\n"
     ]
    },
    {
     "name": "stdout",
     "output_type": "stream",
     "text": [
      "  Season   Tm   W   L   3PA   3P%   FGA   PTS   TRB   AST     ...      BLK  \\\n",
      "0   2017  ATL  24  58  2544  36.0  7014  8475  3435  1946     ...      348   \n",
      "1   2016  ATL  43  39  2137  34.1  6918  8459  3635  1938     ...      397   \n",
      "2   2015  ATL  48  34  2326  35.0  6923  8433  3451  2100     ...      486   \n",
      "3   2014  ATL  60  22  2152  38.0  6699  8409  3326  2111     ...      380   \n",
      "4   2013  ATL  38  44  2116  36.3  6688  8282  3278  2041     ...      326   \n",
      "5   2012  ATL  44  38  1901  37.1  6644  8032  3351  2007     ...      369   \n",
      "\n",
      "     FG    FT   FTA   TOV   Win/Loss       3PA%  Missed FG  Missed FT  \\\n",
      "0  3130  1298  1654  1276  29.268293  36.270317     3884.0      356.0   \n",
      "1  3123  1484  2039  1294  52.439024  30.890431     3795.0      555.0   \n",
      "2  3168  1282  1638  1226  58.536585  33.598151     3755.0      356.0   \n",
      "3  3121  1349  1735  1167  73.170732  32.124198     3578.0      386.0   \n",
      "4  3061  1392  1782  1251  46.341463  31.638756     3627.0      390.0   \n",
      "5  3084  1158  1619  1219  53.658537  28.612282     3560.0      461.0   \n",
      "\n",
      "   Efficiency  \n",
      "0  113.731707  \n",
      "1  115.329268  \n",
      "2  120.487805  \n",
      "3  119.987805  \n",
      "4  113.890244  \n",
      "5  111.987805  \n",
      "\n",
      "[6 rows x 21 columns]\n",
      "  Season   Tm   W   L   3PA   3P%   FGA   PTS   TRB   AST     ...      BLK  \\\n",
      "0   2017  BRK  28  54  2924  35.6  7114  8741  3643  1942     ...      390   \n",
      "1   2016  BRK  20  62  2591  33.8  6987  8673  3600  1756     ...      387   \n",
      "2   2015  BRK  21  61  1508  35.2  6920  8089  3477  1829     ...      332   \n",
      "3   2014  BRK  38  44  1633  33.1  6804  8038  3473  1716     ...      340   \n",
      "4   2013  BRK  44  38  1922  36.9  6391  8079  3128  1714     ...      311   \n",
      "5   2012  BRK  49  33  1760  35.7  6544  7944  3507  1668     ...      391   \n",
      "\n",
      "     FG    FT   FTA   TOV   Win/Loss       3PA%  Missed FG  Missed FT  \\\n",
      "0  3136  1428  1850  1245  34.146341  41.102052     3978.0      422.0   \n",
      "1  3102  1592  2020  1356  24.390244  37.083154     3885.0      428.0   \n",
      "2  3136  1286  1699  1212  25.609756  21.791908     3784.0      413.0   \n",
      "3  3069  1359  1817  1133  46.341463  24.000588     3735.0      458.0   \n",
      "4  2931  1508  2002  1191  53.658537  30.073541     3460.0      494.0   \n",
      "5  2942  1432  1958  1206  59.756098  26.894866     3602.0      526.0   \n",
      "\n",
      "   Efficiency  \n",
      "0  116.865854  \n",
      "1  113.902439  \n",
      "2  109.085366  \n",
      "3  107.524390  \n",
      "4  107.219512  \n",
      "5  107.012195  \n",
      "\n",
      "[6 rows x 21 columns]\n",
      "  Season   Tm   W   L   3PA   3P%   FGA   PTS   TRB   AST     ...      BLK  \\\n",
      "0   2017  BOS  55  27  2492  37.7  6975  8529  3645  1842     ...      374   \n",
      "1   2016  BOS  53  29  2742  35.9  6978  8857  3442  2069     ...      340   \n",
      "2   2015  BOS  48  34  2142  33.5  7318  8669  3683  1981     ...      348   \n",
      "3   2014  BOS  40  42  2021  32.7  7211  8312  3595  2009     ...      294   \n",
      "4   2013  BOS  25  57  1729  33.3  6883  7892  3485  1726     ...      343   \n",
      "5   2012  BOS  41  40  1390  35.8  6459  7818  3187  1843     ...      365   \n",
      "\n",
      "     FG    FT   FTA   TOV   Win/Loss       3PA%  Missed FG  Missed FT  \\\n",
      "0  3141  1308  1697  1149  67.073171  35.727599     3834.0      389.0   \n",
      "1  3168  1536  1903  1088  64.634146  39.294927     3810.0      367.0   \n",
      "2  3216  1520  1929  1127  58.536585  29.270292     4102.0      409.0   \n",
      "3  3193  1266  1678  1133  48.780488  28.026626     4018.0      412.0   \n",
      "4  2996  1325  1706  1261  30.487805  25.119861     3887.0      381.0   \n",
      "5  3001  1318  1698  1181  50.617284  21.520359     3458.0      380.0   \n",
      "\n",
      "   Efficiency  \n",
      "0  117.341463  \n",
      "1  122.682927  \n",
      "2  119.451220  \n",
      "3  113.670732  \n",
      "4  103.670732  \n",
      "5  108.060976  \n",
      "\n",
      "[6 rows x 21 columns]\n",
      "  Season   Tm   W   L   3PA   3P%   FGA   PTS   TRB   AST     ...      BLK  \\\n",
      "0   2017  CHO  36  46  2233  36.9  7106  8874  3727  1770     ...      373   \n",
      "1   2016  CHO  36  46  2347  35.1  7000  8601  3574  1891     ...      390   \n",
      "2   2015  CHO  48  34  2410  36.2  6922  8479  3603  1778     ...      438   \n",
      "3   2014  CHO  33  49  1566  31.8  6932  7721  3613  1654     ...      448   \n",
      "4   2013  CHA  43  39  1471  35.1  6730  7942  3500  1778     ...      421   \n",
      "5   2012  CHA  21  61  1399  33.5  6649  7661  3306  1587     ...      479   \n",
      "\n",
      "     FG    FT   FTA   TOV   Win/Loss       3PA%  Missed FG  Missed FT  \\\n",
      "0  3197  1656  2216  1041  43.902439  31.424149     3909.0      560.0   \n",
      "1  3093  1591  1953   942  43.902439  33.528571     3907.0      362.0   \n",
      "2  3036  1534  1941  1030  58.536585  34.816527     3886.0      407.0   \n",
      "3  2913  1397  1867   976  40.243902  22.590883     4019.0      470.0   \n",
      "4  2976  1474  2000  1010  52.439024  21.857355     3754.0      526.0   \n",
      "5  2823  1546  2060  1153  25.609756  21.040758     3826.0      514.0   \n",
      "\n",
      "   Efficiency  \n",
      "0  119.426829  \n",
      "1  119.707317  \n",
      "2  116.707317  \n",
      "3  103.292683  \n",
      "4  107.926829  \n",
      "5   99.158537  \n",
      "\n",
      "[6 rows x 21 columns]\n",
      "  Season   Tm   W   L   3PA   3P%   FGA   PTS   TRB   AST     ...      BLK  \\\n",
      "0   2017  CHI  27  55  2550  35.5  7286  8440  3663  1923     ...      289   \n",
      "1   2016  CHI  41  41  1831  34.0  7141  8435  3796  1851     ...      393   \n",
      "2   2015  CHI  42  40  1753  37.1  7170  8335  3796  1870     ...      470   \n",
      "3   2014  CHI  50  32  1825  35.3  6797  8265  3751  1781     ...      476   \n",
      "4   2013  CHI  48  34  1459  34.8  6577  7680  3620  1860     ...      424   \n",
      "5   2012  CHI  45  37  1265  35.3  6698  7641  3540  1886     ...      417   \n",
      "\n",
      "     FG    FT   FTA   TOV   Win/Loss       3PA%  Missed FG  Missed FT  \\\n",
      "0  3170  1194  1576  1147  32.926829  34.998628     4116.0      382.0   \n",
      "1  3169  1474  1848  1112  50.000000  25.640667     3972.0      374.0   \n",
      "2  3165  1354  1720  1141  51.219512  24.449093     4005.0      366.0   \n",
      "3  3001  1618  2067  1145  60.975610  26.850081     3796.0      449.0   \n",
      "4  2843  1486  1908  1223  58.536585  22.183366     3734.0      422.0   \n",
      "5  2926  1343  1738  1171  54.878049  18.886235     3772.0      395.0   \n",
      "\n",
      "   Efficiency  \n",
      "0  113.365854  \n",
      "1  117.804878  \n",
      "2  115.292683  \n",
      "3  114.597561  \n",
      "4  107.304878  \n",
      "5  106.512195  \n",
      "\n",
      "[6 rows x 21 columns]\n",
      "  Season   Tm   W   L   3PA   3P%   FGA   PTS   TRB   AST     ...      BLK  \\\n",
      "0   2017  CLE  50  32  2636  37.2  6950  9091  3455  1916     ...      312   \n",
      "1   2016  CLE  51  31  2779  38.4  6963  9048  3587  1858     ...      327   \n",
      "2   2015  CLE  57  25  2428  36.2  6888  8555  3650  1861     ...      317   \n",
      "3   2014  CLE  53  29  2253  36.7  6739  8457  3523  1814     ...      340   \n",
      "4   2013  CLE  33  49  1640  35.6  6955  8054  3618  1738     ...      304   \n",
      "5   2012  CLE  24  58  1581  34.6  6901  7913  3363  1694     ...      334   \n",
      "\n",
      "     FG    FT   FTA   TOV   Win/Loss       3PA%  Missed FG  Missed FT  \\\n",
      "0  3311  1488  1909  1126  60.975610  37.928058     3639.0      421.0   \n",
      "1  3275  1431  1913  1121  62.195122  39.910958     3688.0      482.0   \n",
      "2  3171  1333  1783  1114  69.512195  35.249710     3717.0      450.0   \n",
      "3  3089  1453  1934  1171  64.634146  33.432260     3650.0      481.0   \n",
      "4  3036  1398  1861  1163  40.243902  23.580158     3919.0      463.0   \n",
      "5  2993  1380  1826  1149  29.268293  22.909723     3908.0      446.0   \n",
      "\n",
      "   Efficiency  \n",
      "0  124.024390  \n",
      "1  122.780488  \n",
      "2  117.719512  \n",
      "3  115.060976  \n",
      "4  106.682927  \n",
      "5  103.024390  \n",
      "\n",
      "[6 rows x 21 columns]\n",
      "  Season   Tm   W   L   3PA   3P%   FGA   PTS   TRB   AST     ...      BLK  \\\n",
      "0   2017  DAL  24  58  2688  36.0  7041  8390  3383  1858     ...      310   \n",
      "1   2016  DAL  33  49  2473  35.5  6750  8029  3163  1705     ...      307   \n",
      "2   2015  DAL  42  40  2342  34.4  6900  8388  3532  1813     ...      306   \n",
      "3   2014  DAL  50  32  2082  35.2  7036  8628  3466  1846     ...      371   \n",
      "4   2013  DAL  49  33  1877  38.4  6858  8597  3354  1935     ...      356   \n",
      "5   2012  DAL  41  41  1628  37.2  6892  8293  3437  1906     ...      454   \n",
      "\n",
      "     FG    FT   FTA   TOV   Win/Loss       3PA%  Missed FG  Missed FT  \\\n",
      "0  3128  1167  1530  1008  29.268293  38.176395     3913.0      363.0   \n",
      "1  2968  1215  1516   972  40.243902  36.637037     3782.0      301.0   \n",
      "2  3064  1454  1831  1047  51.219512  33.942029     3836.0      377.0   \n",
      "3  3255  1386  1843  1062  60.975610  29.590677     3781.0      457.0   \n",
      "4  3249  1378  1733  1110  59.756098  27.369495     3609.0      355.0   \n",
      "5  3182  1323  1669  1144  50.000000  23.621590     3710.0      346.0   \n",
      "\n",
      "   Efficiency  \n",
      "0  112.621951  \n",
      "1  106.865854  \n",
      "2  113.890244  \n",
      "3  117.975610  \n",
      "4  120.390244  \n",
      "5  116.317073  \n",
      "\n",
      "[6 rows x 21 columns]\n"
     ]
    },
    {
     "name": "stdout",
     "output_type": "stream",
     "text": [
      "  Season   Tm   W   L   3PA   3P%   FGA   PTS   TRB   AST     ...      BLK  \\\n",
      "0   2017  DEN  46  36  2536  37.1  7102  9020  3650  2058     ...      404   \n",
      "1   2016  DEN  40  42  2365  36.8  7194  9161  3803  2077     ...      323   \n",
      "2   2015  DEN  33  49  1943  33.8  7003  8355  3659  1858     ...      395   \n",
      "3   2014  DEN  30  52  2032  32.5  7158  8320  3665  1788     ...      367   \n",
      "4   2013  DEN  36  46  1959  35.8  7042  8559  3726  1838     ...      459   \n",
      "5   2012  DEN  57  25  1518  34.3  6983  8704  3693  2002     ...      533   \n",
      "\n",
      "     FG    FT   FTA   TOV   Win/Loss       3PA%  Missed FG  Missed FT  \\\n",
      "0  3338  1404  1833  1227  56.097561  35.708251     3764.0      429.0   \n",
      "1  3377  1537  1986  1226  48.780488  32.874618     3817.0      449.0   \n",
      "2  3093  1513  1974  1202  40.243902  27.745252     3910.0      461.0   \n",
      "3  3099  1462  1991  1166  36.585366  28.387818     4059.0      529.0   \n",
      "4  3147  1563  2154  1305  43.902439  27.818801     3895.0      591.0   \n",
      "5  3339  1505  2148  1253  69.512195  21.738508     3644.0      643.0   \n",
      "\n",
      "   Efficiency  \n",
      "0  126.085366  \n",
      "1  127.317073  \n",
      "2  113.451220  \n",
      "3  110.085366  \n",
      "4  114.707317  \n",
      "5  123.829268  \n",
      "\n",
      "[6 rows x 21 columns]\n",
      "  Season   Tm   W   L   3PA   3P%   FGA   PTS   TRB   AST     ...      BLK  \\\n",
      "0   2017  DET  39  43  2373  37.3  7129  8509  3586  1868     ...      317   \n",
      "1   2016  DET  37  45  1915  33.0  7282  8309  3746  1732     ...      310   \n",
      "2   2015  DET  44  38  2148  34.5  7087  8361  3798  1594     ...      304   \n",
      "3   2014  DET  32  50  2043  34.4  7038  8077  3681  1771     ...      383   \n",
      "4   2013  DET  29  53  1580  32.1  7124  8286  3721  1714     ...      395   \n",
      "5   2012  DET  29  53  1440  35.6  6638  7778  3454  1742     ...      400   \n",
      "\n",
      "     FG    FT   FTA   TOV   Win/Loss       3PA%  Missed FG  Missed FT  \\\n",
      "0  3208  1207  1621  1103  47.560976  33.286576     3921.0      414.0   \n",
      "1  3269  1140  1586   973  45.121951  26.297720     4013.0      446.0   \n",
      "2  3111  1399  2095  1110  53.658537  30.309017     3976.0      696.0   \n",
      "3  3041  1292  1838  1099  39.024390  29.028133     3997.0      546.0   \n",
      "4  3182  1415  2111  1193  35.365854  22.178551     3942.0      696.0   \n",
      "5  2979  1307  1870  1241  35.365854  21.693281     3659.0      563.0   \n",
      "\n",
      "   Efficiency  \n",
      "0  115.487805  \n",
      "1  112.670732  \n",
      "2  107.902439  \n",
      "3  108.451220  \n",
      "4  109.414634  \n",
      "5  103.475610  \n",
      "\n",
      "[6 rows x 21 columns]\n",
      "  Season   Tm   W   L   3PA   3P%   FGA   PTS   TRB   AST     ...      BLK  \\\n",
      "0   2017  GSW  58  24  2369  39.1  6980  9304  3568  2402     ...      612   \n",
      "1   2016  GSW  67  15  2562  38.3  7140  9503  3643  2491     ...      555   \n",
      "2   2015  GSW  73   9  2592  41.6  7159  9421  3788  2373     ...      498   \n",
      "3   2014  GSW  67  15  2217  39.8  7137  9016  3667  2248     ...      496   \n",
      "4   2013  GSW  51  31  2037  38.0  7005  8549  3715  1912     ...      407   \n",
      "5   2012  GSW  47  35  1632  40.3  6840  8296  3686  1845     ...      346   \n",
      "\n",
      "     FG    FT   FTA   TOV   Win/Loss       3PA%  Missed FG  Missed FT  \\\n",
      "0  3509  1360  1668  1267  70.731707  33.939828     3471.0      308.0   \n",
      "1  3532  1457  1850  1211  81.707317  35.882353     3608.0      393.0   \n",
      "2  3489  1366  1790  1245  89.024390  36.206174     3670.0      424.0   \n",
      "3  3410  1313  1709  1185  81.707317  31.063472     3727.0      396.0   \n",
      "4  3236  1303  1731  1247  62.195122  29.079229     3769.0      428.0   \n",
      "5  3130  1378  1744  1236  57.317073  23.859649     3710.0      366.0   \n",
      "\n",
      "   Efficiency  \n",
      "0  140.195122  \n",
      "1  143.475610  \n",
      "2  139.390244  \n",
      "3  132.695122  \n",
      "4  119.280488  \n",
      "5  114.975610  \n",
      "\n",
      "[6 rows x 21 columns]\n",
      "  Season   Tm   W   L   3PA   3P%   FGA   PTS   TRB   AST     ...      BLK  \\\n",
      "0   2017  HOU  65  17  3470  36.2  6906  9213  3564  1767     ...      392   \n",
      "1   2016  HOU  55  27  3306  35.7  7152  9458  3638  2070     ...      352   \n",
      "2   2015  HOU  41  41  2533  34.7  6847  8737  3531  1821     ...      430   \n",
      "3   2014  HOU  56  26  2680  34.8  6832  8522  3582  1820     ...      407   \n",
      "4   2013  HOU  54  28  2179  35.8  6603  8829  3717  1755     ...      461   \n",
      "5   2012  HOU  45  37  2369  36.6  6782  8688  3561  1902     ...      359   \n",
      "\n",
      "     FG    FT   FTA   TOV   Win/Loss       3PA%  Missed FG  Missed FT  \\\n",
      "0  3174  1609  2061  1135  79.268293  50.246163     3732.0      452.0   \n",
      "1  3305  1667  2177  1240  67.073171  46.224832     3847.0      510.0   \n",
      "2  3094  1671  2407  1307  50.000000  36.994304     3753.0      736.0   \n",
      "3  3032  1525  2133  1366  68.292683  39.227166     3800.0      608.0   \n",
      "4  3118  1814  2549  1323  65.853659  33.000151     3485.0      735.0   \n",
      "5  3124  1573  2087  1348  54.878049  34.930699     3658.0      514.0   \n",
      "\n",
      "   Efficiency  \n",
      "0  125.804878  \n",
      "1  129.158537  \n",
      "2  116.390244  \n",
      "3  113.829268  \n",
      "4  120.000000  \n",
      "5  117.914634  \n",
      "\n",
      "[6 rows x 21 columns]\n",
      "  Season   Tm   W   L   3PA   3P%   FGA   PTS   TRB   AST     ...      BLK  \\\n",
      "0   2017  IND  48  34  2010  36.9  7083  8656  3472  1819     ...      340   \n",
      "1   2016  IND  42  40  1885  37.6  6931  8618  3444  1844     ...      409   \n",
      "2   2015  IND  45  37  1889  35.1  6985  8377  3626  1741     ...      391   \n",
      "3   2014  IND  38  44  1740  35.2  6824  7981  3678  1757     ...      375   \n",
      "4   2013  IND  56  26  1542  35.7  6573  7933  3665  1651     ...      446   \n",
      "5   2012  IND  49  32  1599  34.7  6525  7674  3714  1645     ...      513   \n",
      "\n",
      "     FG    FT   FTA   TOV   Win/Loss       3PA%  Missed FG  Missed FT  \\\n",
      "0  3345  1225  1573  1089  58.536585  28.377806     3738.0      348.0   \n",
      "1  3221  1467  1811  1130  51.219512  27.196653     3710.0      344.0   \n",
      "2  3142  1430  1872  1219  54.878049  27.043665     3843.0      442.0   \n",
      "3  2998  1373  1817  1147  46.341463  25.498242     3826.0      444.0   \n",
      "4  2949  1485  1907  1237  68.292683  23.459607     3624.0      422.0   \n",
      "5  2845  1429  1915  1227  60.493827  24.505747     3680.0      486.0   \n",
      "\n",
      "   Efficiency  \n",
      "0  119.914634  \n",
      "1  119.512195  \n",
      "2  114.304878  \n",
      "3  108.280488  \n",
      "4  109.292683  \n",
      "5  106.500000  \n",
      "\n",
      "[6 rows x 21 columns]\n",
      "  Season   Tm   W   L   3PA   3P%   FGA   PTS   TRB   AST     ...      BLK  \\\n",
      "0   2017  LAC  42  40  2196  35.4  7004  8937  3598  1832     ...      373   \n",
      "1   2016  LAC  51  31  2245  37.5  6820  8911  3528  1848     ...      347   \n",
      "2   2015  LAC  53  29  2190  36.4  6759  8569  3448  1873     ...      460   \n",
      "3   2014  LAC  56  26  2202  37.6  6830  8751  3495  2031     ...      409   \n",
      "4   2013  LAC  57  25  1966  35.2  6761  8850  3526  2016     ...      397   \n",
      "5   2012  LAC  56  26  1752  35.8  6608  8289  3413  1958     ...      461   \n",
      "\n",
      "     FG    FT   FTA   TOV   Win/Loss       3PA%  Missed FG  Missed FT  \\\n",
      "0  3302  1556  2095  1204  51.219512  31.353512     3702.0      539.0   \n",
      "1  3242  1586  2128  1062  62.195122  32.917889     3578.0      542.0   \n",
      "2  3141  1490  2152  1063  64.634146  32.401243     3618.0      662.0   \n",
      "3  3228  1468  2067  1012  68.292683  32.240117     3602.0      599.0   \n",
      "4  3208  1741  2384  1136  69.512195  29.078539     3553.0      643.0   \n",
      "5  3160  1342  1888  1197  68.292683  26.513317     3448.0      546.0   \n",
      "\n",
      "   Efficiency  \n",
      "0  121.000000  \n",
      "1  122.731707  \n",
      "2  118.487805  \n",
      "3  123.329268  \n",
      "4  123.902439  \n",
      "5  118.463415  \n",
      "\n",
      "[6 rows x 21 columns]\n",
      "  Season   Tm   W   L   3PA   3P%   FGA   PTS   TRB   AST     ...      BLK  \\\n",
      "0   2017  LAL  35  47  2384  34.5  7248  8862  3802  1949     ...      388   \n",
      "1   2016  LAL  26  56  2110  34.6  7164  8575  3569  1716     ...      320   \n",
      "2   2015  LAL  17  65  2016  31.7  6956  7982  3523  1478     ...      337   \n",
      "3   2014  LAL  21  61  1546  34.4  7020  8073  3599  1715     ...      366   \n",
      "4   2013  LAL  27  55  2032  38.1  6980  8442  3365  2006     ...      446   \n",
      "5   2012  LAL  45  37  2015  35.5  6640  8381  3674  1818     ...      429   \n",
      "\n",
      "     FG    FT   FTA   TOV   Win/Loss       3PA%  Missed FG  Missed FT  \\\n",
      "0  3338  1364  1910  1295  42.682927  32.891832     3910.0      546.0   \n",
      "1  3224  1397  1853  1243  31.707317  29.452820     3940.0      456.0   \n",
      "2  2880  1583  2028  1124  20.731707  28.982174     4076.0      445.0   \n",
      "3  3054  1433  1935  1086  25.609756  22.022792     3966.0      502.0   \n",
      "4  3139  1390  1835  1239  32.926829  29.111748     3841.0      445.0   \n",
      "5  3041  1584  2289  1232  54.878049  30.346386     3599.0      705.0   \n",
      "\n",
      "   Efficiency  \n",
      "0  120.524390  \n",
      "1  112.378049  \n",
      "2  100.829268  \n",
      "3  107.036585  \n",
      "4  113.963415  \n",
      "5  113.926829  \n",
      "\n",
      "[6 rows x 21 columns]\n"
     ]
    },
    {
     "name": "stdout",
     "output_type": "stream",
     "text": [
      "  Season   Tm   W   L   3PA   3P%   FGA   PTS   TRB   AST     ...      BLK  \\\n",
      "0   2017  MEM  22  60  2152  35.2  6788  8145  3323  1767     ...      396   \n",
      "1   2016  MEM  43  39  2169  35.4  6854  8239  3507  1744     ...      344   \n",
      "2   2015  MEM  42  40  1521  33.1  6859  8126  3413  1697     ...      350   \n",
      "3   2014  MEM  55  27  1246  33.9  6763  8062  3490  1777     ...      347   \n",
      "4   2013  MEM  50  32  1147  35.3  6723  7884  3476  1792     ...      375   \n",
      "5   2012  MEM  56  26  1107  34.5  6679  7659  3504  1715     ...      436   \n",
      "\n",
      "     FG    FT   FTA   TOV   Win/Loss       3PA%  Missed FG  Missed FT  \\\n",
      "0  3013  1361  1732  1227  26.829268  31.703005     3775.0      371.0   \n",
      "1  2984  1504  1918  1059  52.439024  31.645754     3870.0      414.0   \n",
      "2  3019  1584  2024  1090  51.219512  22.175244     3840.0      440.0   \n",
      "3  3097  1445  1869  1094  67.073171  18.423776     3666.0      424.0   \n",
      "4  3122  1235  1666  1124  60.975610  17.060836     3601.0      431.0   \n",
      "5  2964  1349  1746  1144  68.292683  16.574337     3715.0      397.0   \n",
      "\n",
      "   Efficiency  \n",
      "0  108.182927  \n",
      "1  111.512195  \n",
      "2  109.024390  \n",
      "3  112.097561  \n",
      "4  109.780488  \n",
      "5  106.841463  \n",
      "\n",
      "[6 rows x 21 columns]\n",
      "  Season   Tm   W   L   3PA   3P%   FGA   PTS   TRB   AST     ...      BLK  \\\n",
      "0   2017  MIA  44  38  2506  36.0  6997  8480  3564  1862     ...      437   \n",
      "1   2016  MIA  41  41  2213  36.5  7037  8460  3577  1742     ...      469   \n",
      "2   2015  MIA  48  34  1480  33.6  6697  8204  3618  1709     ...      531   \n",
      "3   2014  MIA  37  45  1659  33.5  6330  7764  3208  1626     ...      372   \n",
      "4   2013  MIA  54  28  1829  36.4  6272  8380  3024  1847     ...      367   \n",
      "5   2012  MIA  66  16  1809  39.6  6348  8436  3166  1890     ...      441   \n",
      "\n",
      "     FG    FT   FTA   TOV   Win/Loss       3PA%  Missed FG  Missed FT  \\\n",
      "0  3184  1209  1601  1179  53.658537  35.815349     3813.0      392.0   \n",
      "1  3202  1248  1768  1102  50.000000  31.448060     3835.0      520.0   \n",
      "2  3150  1406  1889  1155  58.536585  22.099448     3547.0      483.0   \n",
      "3  2885  1438  1940  1214  45.121951  26.208531     3445.0      502.0   \n",
      "4  3142  1431  1884  1212  65.853659  29.161352     3130.0      453.0   \n",
      "5  3148  1423  1887  1143  80.487805  28.497164     3200.0      464.0   \n",
      "\n",
      "   Efficiency  \n",
      "0  116.817073  \n",
      "1  114.378049  \n",
      "2  115.000000  \n",
      "3  103.060976  \n",
      "4  116.524390  \n",
      "5  119.951220  \n",
      "\n",
      "[6 rows x 21 columns]\n",
      "  Season   Tm   W   L   3PA   3P%   FGA   PTS   TRB   AST     ...      BLK  \\\n",
      "0   2017  MIL  44  38  2024  35.5  6807  8731  3267  1905     ...      443   \n",
      "1   2016  MIL  42  40  1946  37.0  6715  8497  3312  1984     ...      436   \n",
      "2   2015  MIL  33  49  1277  34.5  6740  8122  3417  1895     ...      475   \n",
      "3   2014  MIL  41  41  1500  36.3  6722  8023  3450  1932     ...      403   \n",
      "4   2013  MIL  15  67  1553  35.3  6737  7829  3370  1760     ...      403   \n",
      "5   2012  MIL  38  44  1670  36.0  7197  8108  3605  1876     ...      550   \n",
      "\n",
      "     FG    FT   FTA   TOV   Win/Loss       3PA%  Missed FG  Missed FT  \\\n",
      "0  3257  1499  1916  1134  53.658537  29.734097     3550.0      417.0   \n",
      "1  3182  1413  1839  1145  51.219512  28.979896     3533.0      426.0   \n",
      "2  3145  1392  1863  1247  40.243902  18.946588     3595.0      471.0   \n",
      "3  3083  1312  1734  1373  50.000000  22.314787     3639.0      422.0   \n",
      "4  2952  1377  1843  1238  18.292683  23.051803     3785.0      466.0   \n",
      "5  3128  1251  1700  1156  46.341463  23.204113     4069.0      449.0   \n",
      "\n",
      "   Efficiency  \n",
      "0  121.548780  \n",
      "1  119.402439  \n",
      "2  113.024390  \n",
      "3  111.743902  \n",
      "4  102.609756  \n",
      "5  111.585366  \n",
      "\n",
      "[6 rows x 21 columns]\n",
      "  Season   Tm   W   L   3PA   3P%   FGA   PTS   TRB   AST     ...      BLK  \\\n",
      "0   2017  MIN  47  35  1845  35.7  7063  8980  3441  1861     ...      344   \n",
      "1   2016  MIN  31  51  1723  34.9  6922  8657  3478  1940     ...      370   \n",
      "2   2015  MIN  29  53  1347  33.8  6668  8398  3408  1916     ...      375   \n",
      "3   2014  MIN  16  66  1223  33.2  6820  8016  3355  1771     ...      327   \n",
      "4   2013  MIN  40  42  1757  34.1  7175  8768  3668  1963     ...      297   \n",
      "5   2012  MIN  31  51  1475  30.5  6702  7851  3446  1836     ...      387   \n",
      "\n",
      "     FG    FT   FTA   TOV   Win/Loss       3PA%  Missed FG  Missed FT  \\\n",
      "0  3365  1592  1980  1021  57.317073  26.122044     3698.0      388.0   \n",
      "1  3235  1586  1986  1150  37.804878  24.891650     3687.0      400.0   \n",
      "2  3095  1753  2213  1231  35.365854  20.200960     3573.0      460.0   \n",
      "3  2986  1638  2110  1231  19.512195  17.932551     3834.0      472.0   \n",
      "4  3189  1790  2301  1142  48.780488  24.487805     3986.0      511.0   \n",
      "5  2943  1515  2042  1214  37.804878  22.008356     3759.0      527.0   \n",
      "\n",
      "   Efficiency  \n",
      "0  124.487805  \n",
      "1  120.268293  \n",
      "2  115.719512  \n",
      "3  104.878049  \n",
      "4  119.207317  \n",
      "5  106.341463  \n",
      "\n",
      "[6 rows x 21 columns]\n",
      "  Season   Tm   W   L   3PA   3P%   FGA   PTS   TRB   AST     ...      BLK  \\\n",
      "0   2017  NOP  48  34  2312  36.2  7241  9161  3636  2195     ...      485   \n",
      "1   2016  NOP  34  48  2196  35.0  7130  8556  3582  1869     ...      453   \n",
      "2   2015  NOP  30  52  1951  36.0  7040  8423  3494  1818     ...      342   \n",
      "3   2014  NOP  45  37  1583  37.0  6795  8147  3563  1806     ...      510   \n",
      "4   2013  NOP  34  48  1303  37.3  6761  8177  3419  1745     ...      523   \n",
      "5   2012  NOH  27  55  1474  36.3  6589  7714  3414  1721     ...      440   \n",
      "\n",
      "     FG    FT   FTA   TOV   Win/Loss       3PA%  Missed FG  Missed FT  \\\n",
      "0  3500  1324  1716  1223  58.536585  31.929292     3741.0      392.0   \n",
      "1  3210  1368  1825  1054  41.463415  30.799439     3920.0      457.0   \n",
      "2  3153  1415  1823  1102  36.585366  27.713068     3887.0      408.0   \n",
      "3  3108  1345  1790  1087  54.878049  23.296542     3687.0      445.0   \n",
      "4  3101  1489  1936  1129  41.463415  19.272297     3660.0      447.0   \n",
      "5  2955  1269  1636  1193  32.926829  22.370618     3634.0      367.0   \n",
      "\n",
      "   Efficiency  \n",
      "0  131.439024  \n",
      "1  117.890244  \n",
      "2  113.573171  \n",
      "3  114.146341  \n",
      "4  113.109756  \n",
      "5  105.060976  \n",
      "\n",
      "[6 rows x 21 columns]\n",
      "  Season   Tm   W   L   3PA   3P%   FGA   PTS   TRB   AST     ...      BLK  \\\n",
      "0   2017  NYK  29  53  1914  35.2  7194  8566  3611  1912     ...      421   \n",
      "1   2016  NYK  31  51  2022  34.8  7256  8556  3706  1786     ...      455   \n",
      "2   2015  NYK  32  50  1762  34.6  6886  8065  3638  1682     ...      466   \n",
      "3   2014  NYK  17  65  1614  34.7  6726  7535  3310  1746     ...      382   \n",
      "4   2013  NYK  37  45  2038  37.2  6739  8084  3307  1641     ...      367   \n",
      "5   2012  NYK  54  28  2371  37.6  6689  8196  3326  1579     ...      294   \n",
      "\n",
      "     FG    FT   FTA   TOV   Win/Loss       3PA%  Missed FG  Missed FT  \\\n",
      "0  3334  1225  1557  1207  35.365854  26.605505     3860.0      332.0   \n",
      "1  3244  1364  1731  1139  37.804878  27.866593     4012.0      367.0   \n",
      "2  3022  1411  1753  1099  39.024390  25.588150     3864.0      342.0   \n",
      "3  2882  1211  1575  1206  20.731707  23.996432     3844.0      364.0   \n",
      "4  3027  1271  1670  1063  45.121951  30.241876     3712.0      399.0   \n",
      "5  2996  1313  1729   988  65.853659  35.446255     3693.0      416.0   \n",
      "\n",
      "   Efficiency  \n",
      "0  117.841463  \n",
      "1  116.658537  \n",
      "2  109.914634  \n",
      "3   99.195122  \n",
      "4  108.000000  \n",
      "5  109.390244  \n",
      "\n",
      "[6 rows x 21 columns]\n",
      "  Season   Tm   W   L   3PA   3P%   FGA   PTS   TRB   AST     ...      BLK  \\\n",
      "0   2017  OKC  48  34  2490  35.4  7220  8844  3695  1750     ...      412   \n",
      "1   2016  OKC  47  35  2116  32.7  7169  8741  3823  1721     ...      408   \n",
      "2   2015  OKC  55  27  1945  34.9  7082  9038  3987  1883     ...      487   \n",
      "3   2014  OKC  45  37  1864  33.9  7119  8524  3896  1681     ...      454   \n",
      "4   2013  OKC  59  23  1839  36.1  6782  8705  3668  1794     ...      501   \n",
      "5   2012  OKC  60  22  1588  37.7  6504  8669  3579  1753     ...      624   \n",
      "\n",
      "     FG    FT   FTA   TOV   Win/Loss       3PA%  Missed FG  Missed FT  \\\n",
      "0  3271  1421  1987  1147  58.536585  34.487535     3949.0      566.0   \n",
      "1  3237  1575  2113  1230  57.317073  29.515972     3932.0      538.0   \n",
      "2  3372  1616  2067  1305  67.073171  27.463993     3710.0      451.0   \n",
      "3  3184  1524  2020  1205  54.878049  26.183453     3935.0      496.0   \n",
      "4  3194  1653  2052  1256  71.951220  27.115895     3588.0      399.0   \n",
      "5  3126  1819  2196  1253  73.170732  24.415744     3378.0      377.0   \n",
      "\n",
      "   Efficiency  \n",
      "0  119.292683  \n",
      "1  117.573171  \n",
      "2  128.439024  \n",
      "3  116.060976  \n",
      "4  123.207317  \n",
      "5  125.560976  \n",
      "\n",
      "[6 rows x 21 columns]\n"
     ]
    },
    {
     "name": "stdout",
     "output_type": "stream",
     "text": [
      "  Season   Tm   W   L   3PA   3P%   FGA   PTS   TRB   AST     ...      BLK  \\\n",
      "0   2017  ORL  25  57  2405  35.1  7042  8479  3414  1921     ...      400   \n",
      "1   2016  ORL  29  53  2139  32.8  7133  8288  3541  1820     ...      396   \n",
      "2   2015  ORL  35  47  1818  35.0  7120  8369  3552  1933     ...      417   \n",
      "3   2014  ORL  25  57  1598  34.7  6792  7847  3429  1692     ...      314   \n",
      "4   2013  ORL  23  59  1596  35.3  6784  7914  3448  1726     ...      350   \n",
      "5   2012  ORL  20  62  1537  32.9  6904  7718  3502  1871     ...      358   \n",
      "\n",
      "     FG    FT   FTA   TOV   Win/Loss       3PA%  Missed FG  Missed FT  \\\n",
      "0  3182  1271  1678  1192  30.487805  34.152229     3860.0      407.0   \n",
      "1  3139  1309  1753  1091  35.365854  29.987383     3994.0      444.0   \n",
      "2  3242  1249  1649  1155  42.682927  25.533708     3878.0      400.0   \n",
      "3  3076  1141  1565  1221  30.487805  23.527680     3716.0      424.0   \n",
      "4  3022  1307  1714  1222  28.048780  23.525943     3762.0      407.0   \n",
      "5  3093  1026  1359  1191  24.390244  22.262457     3811.0      333.0   \n",
      "\n",
      "   Efficiency  \n",
      "0  114.353659  \n",
      "1  110.926829  \n",
      "2  115.987805  \n",
      "3  104.487805  \n",
      "4  105.817073  \n",
      "5  105.390244  \n",
      "\n",
      "[6 rows x 21 columns]\n",
      "  Season   Tm   W   L   3PA   3P%   FGA   PTS   TRB   AST     ...      BLK  \\\n",
      "0   2017  PHI  52  30  2445  36.9  7098  9004  3889  2221     ...      420   \n",
      "1   2016  PHI  28  54  2443  34.0  6992  8400  3513  1949     ...      420   \n",
      "2   2015  PHI  10  72  2255  33.9  6887  7988  3382  1765     ...      495   \n",
      "3   2014  PHI  18  64  2160  32.0  6777  7542  3514  1683     ...      487   \n",
      "4   2013  PHI  19  63  1847  31.2  7150  8155  3505  1791     ...      330   \n",
      "5   2012  PHI  34  48  1438  36.0  6895  7640  3389  1867     ...      384   \n",
      "\n",
      "     FG    FT   FTA   TOV   Win/Loss       3PA%  Missed FG  Missed FT  \\\n",
      "0  3349  1405  1868  1353  63.414634  34.446323     3749.0      463.0   \n",
      "1  3088  1393  1806  1366  34.146341  34.939931     3904.0      413.0   \n",
      "2  2970  1284  1850  1343  12.195122  32.742849     3917.0      566.0   \n",
      "3  2765  1320  1953  1453  21.951220  31.872510     4012.0      633.0   \n",
      "4  3108  1362  1918  1384  23.170732  25.832168     4042.0      556.0   \n",
      "5  3059  1004  1377  1070  41.463415  20.855693     3836.0      373.0   \n",
      "\n",
      "   Efficiency  \n",
      "0  129.890244  \n",
      "1  113.304878  \n",
      "2  103.463415  \n",
      "3   96.548780  \n",
      "4  104.439024  \n",
      "5  105.000000  \n",
      "\n",
      "[6 rows x 21 columns]\n",
      "  Season   Tm   W   L   3PA   3P%   FGA   PTS   TRB   AST     ...      BLK  \\\n",
      "0   2017  PHO  21  61  2286  33.4  7141  8522  3618  1743     ...      370   \n",
      "1   2016  PHO  24  58  1854  33.2  7260  8831  3688  1604     ...      399   \n",
      "2   2015  PHO  23  59  2118  34.8  7018  8271  3676  1701     ...      313   \n",
      "3   2014  PHO  39  43  2048  34.1  7038  8397  3539  1659     ...      385   \n",
      "4   2013  PHO  48  34  2055  37.2  6845  8629  3529  1563     ...      374   \n",
      "5   2012  PHO  25  57  1455  33.0  6917  7805  3413  1855     ...      434   \n",
      "\n",
      "     FG    FT   FTA   TOV   Win/Loss       3PA%  Missed FG  Missed FT  \\\n",
      "0  3153  1453  1963  1289  25.609756  32.012323     3988.0      510.0   \n",
      "1  3270  1676  2159  1265  29.268293  25.537190     3990.0      483.0   \n",
      "2  3051  1431  1905  1410  28.048780  30.179538     3967.0      474.0   \n",
      "3  3178  1343  1767  1238  47.560976  29.099176     3860.0      424.0   \n",
      "4  3172  1520  2004  1258  58.536585  30.021914     3673.0      484.0   \n",
      "5  3061  1203  1618  1278  30.487805  21.035131     3856.0      415.0   \n",
      "\n",
      "   Efficiency  \n",
      "0  110.182927  \n",
      "1  115.329268  \n",
      "2  106.609756  \n",
      "3  111.682927  \n",
      "4  114.243902  \n",
      "5  105.085366  \n",
      "\n",
      "[6 rows x 21 columns]\n",
      "  Season   Tm   W   L   3PA   3P%   FGA   PTS   TRB   AST     ...      BLK  \\\n",
      "0   2017  POR  49  33  2308  36.6  7132  8661  3728  1599     ...      423   \n",
      "1   2016  POR  41  41  2272  37.5  7059  8851  3580  1733     ...      408   \n",
      "2   2015  POR  44  38  2336  37.0  7040  8622  3730  1748     ...      380   \n",
      "3   2014  POR  51  31  2231  36.2  7049  8429  3760  1799     ...      372   \n",
      "4   2013  POR  54  28  2071  37.2  7134  8753  3808  1904     ...      387   \n",
      "5   2012  POR  33  49  1904  35.3  6715  7995  3348  1784     ...      353   \n",
      "\n",
      "     FG    FT   FTA   TOV   Win/Loss       3PA%  Missed FG  Missed FT  \\\n",
      "0  3222  1372  1715  1109  59.756098  32.361189     3910.0      343.0   \n",
      "1  3243  1513  1940  1126  50.000000  32.185862     3816.0      427.0   \n",
      "2  3167  1424  1889  1200  53.658537  33.181818     3873.0      465.0   \n",
      "3  3175  1272  1589  1117  62.195122  31.649879     3874.0      317.0   \n",
      "4  3207  1569  1926  1125  65.853659  29.029997     3927.0      357.0   \n",
      "5  3009  1304  1680  1203  40.243902  28.354430     3706.0      376.0   \n",
      "\n",
      "   Efficiency  \n",
      "0  117.341463  \n",
      "1  119.231707  \n",
      "2  115.902439  \n",
      "3  116.792683  \n",
      "4  120.695122  \n",
      "5  106.500000  \n",
      "\n",
      "[6 rows x 21 columns]\n",
      "  Season   Tm   W   L   3PA   3P%   FGA   PTS   TRB   AST     ...      BLK  \\\n",
      "0   2017  SAC  27  55  1967  37.5  7063  8104  3355  1769     ...      340   \n",
      "1   2016  SAC  32  50  1960  37.6  6734  8430  3367  1844     ...      324   \n",
      "2   2015  SAC  33  49  1839  35.9  7083  8740  3628  2009     ...      368   \n",
      "3   2014  SAC  29  53  1350  34.1  6617  8310  3623  1667     ...      324   \n",
      "4   2013  SAC  28  54  1475  33.3  6766  8241  3646  1547     ...      318   \n",
      "5   2012  SAC  28  54  1681  36.3  6904  8219  3328  1708     ...      342   \n",
      "\n",
      "     FG    FT   FTA   TOV   Win/Loss       3PA%  Missed FG  Missed FT  \\\n",
      "0  3179  1008  1371  1125  32.926829  27.849356     3884.0      363.0   \n",
      "1  3105  1483  1913  1201  39.024390  29.106029     3629.0      430.0   \n",
      "2  3283  1514  2089  1326  40.243902  25.963575     3800.0      575.0   \n",
      "3  3010  1829  2400  1333  35.365854  20.401995     3607.0      571.0   \n",
      "4  3026  1698  2237  1249  34.146341  21.800177     3740.0      539.0   \n",
      "5  3086  1437  1869  1199  34.146341  24.348204     3818.0      432.0   \n",
      "\n",
      "   Efficiency  \n",
      "0  107.792683  \n",
      "1  113.804878  \n",
      "2  119.231707  \n",
      "3  109.304878  \n",
      "4  107.451220  \n",
      "5  107.548780  \n",
      "\n",
      "[6 rows x 21 columns]\n",
      "  Season   Tm   W   L   3PA   3P%   FGA   PTS   TRB   AST     ...      BLK  \\\n",
      "0   2017  SAS  47  35  1977  35.2  6999  8424  3626  1868     ...      460   \n",
      "1   2016  SAS  61  21  1927  39.1  6864  8637  3598  1954     ...      484   \n",
      "2   2015  SAS  67  15  1518  37.5  6797  8490  3601  2010     ...      485   \n",
      "3   2014  SAS  55  27  1847  36.7  6854  8461  3578  2000     ...      444   \n",
      "4   2013  SAS  62  20  1757  39.7  6844  8639  3548  2064     ...      420   \n",
      "5   2012  SAS  58  24  1764  37.6  6675  8448  3387  2058     ...      446   \n",
      "\n",
      "     FG    FT   FTA   TOV   Win/Loss       3PA%  Missed FG  Missed FT  \\\n",
      "0  3202  1324  1715  1078  57.317073  28.246892     3797.0      391.0   \n",
      "1  3222  1440  1806  1101  74.390244  28.074009     3642.0      366.0   \n",
      "2  3289  1342  1672  1071  81.707317  22.333382     3508.0      330.0   \n",
      "3  3208  1368  1754  1146  67.073171  26.947768     3646.0      386.0   \n",
      "4  3326  1289  1642  1180  75.609756  25.672122     3518.0      353.0   \n",
      "5  3210  1365  1725  1206  70.731707  26.426966     3465.0      360.0   \n",
      "\n",
      "   Efficiency  \n",
      "0  118.780488  \n",
      "1  124.621951  \n",
      "2  126.268293  \n",
      "3  121.487805  \n",
      "4  124.682927  \n",
      "5  121.987805  \n",
      "\n",
      "[6 rows x 21 columns]\n",
      "  Season   Tm   W   L   3PA   3P%   FGA   PTS   TRB   AST     ...      BLK  \\\n",
      "0   2017  TOR  59  23  2703  35.8  7169  9156  3607  1995     ...      500   \n",
      "1   2016  TOR  51  31  1996  36.3  6918  8762  3547  1517     ...      400   \n",
      "2   2015  TOR  56  26  1915  37.0  6669  8422  3560  1536     ...      449   \n",
      "3   2014  TOR  49  33  2060  35.2  6829  8527  3407  1701     ...      357   \n",
      "4   2013  TOR  48  34  1917  37.2  6718  8305  3487  1737     ...      343   \n",
      "5   2012  TOR  34  48  1665  34.3  6685  7971  3297  1765     ...      392   \n",
      "\n",
      "     FG    FT   FTA   TOV   Win/Loss       3PA%  Missed FG  Missed FT  \\\n",
      "0  3383  1422  1790  1095  71.951220  37.704003     3786.0      368.0   \n",
      "1  3211  1615  2028  1041  62.195122  28.852269     3707.0      413.0   \n",
      "2  3006  1702  2190  1073  68.292683  28.714950     3663.0      488.0   \n",
      "3  3108  1585  2014  1057  59.756098  30.165471     3721.0      429.0   \n",
      "4  2992  1608  2055  1159  58.536585  28.535278     3726.0      447.0   \n",
      "5  2979  1442  1831  1124  41.463415  24.906507     3706.0      389.0   \n",
      "\n",
      "   Efficiency  \n",
      "0  129.695122  \n",
      "1  118.804878  \n",
      "2  114.378049  \n",
      "3  114.634146  \n",
      "4  111.182927  \n",
      "5  107.329268  \n",
      "\n",
      "[6 rows x 21 columns]\n"
     ]
    },
    {
     "name": "stdout",
     "output_type": "stream",
     "text": [
      "  Season   Tm   W   L   3PA   3P%   FGA   PTS   TRB   AST     ...      BLK  \\\n",
      "0   2017  UTA  48  34  2425  36.6  6797  8540  3547  1839     ...      420   \n",
      "1   2016  UTA  51  31  2128  37.2  6515  8258  3545  1651     ...      410   \n",
      "2   2015  UTA  40  42  1956  35.5  6593  8010  3545  1555     ...      425   \n",
      "3   2014  UTA  38  44  1781  34.3  6492  7801  3605  1632     ...      489   \n",
      "4   2013  UTA  25  57  1577  34.4  6652  7791  3381  1664     ...      366   \n",
      "5   2012  UTA  43  39  1385  36.6  6710  8038  3446  1859     ...      515   \n",
      "\n",
      "     FG    FT   FTA   TOV   Win/Loss       3PA%  Missed FG  Missed FT  \\\n",
      "0  3139  1375  1766  1205  58.536585  35.677505     3658.0      391.0   \n",
      "1  3033  1401  1875  1118  62.195122  32.663085     3482.0      474.0   \n",
      "2  2957  1402  1885  1224  48.780488  29.667830     3636.0      483.0   \n",
      "3  2900  1391  1929  1256  46.341463  27.433765     3592.0      538.0   \n",
      "4  2951  1346  1803  1200  30.487805  23.707156     3701.0      457.0   \n",
      "5  3046  1439  1883  1210  52.439024  20.640835     3664.0      444.0   \n",
      "\n",
      "   Efficiency  \n",
      "0  119.512195  \n",
      "1  113.902439  \n",
      "2  107.597561  \n",
      "3  106.878049  \n",
      "4  102.609756  \n",
      "5  112.560976  \n",
      "\n",
      "[6 rows x 21 columns]\n",
      "  Season   Tm   W   L   3PA   3P%   FGA   PTS   TRB   AST     ...      BLK  \\\n",
      "0   2017  WAS  43  39  2173  37.5  7018  8742  3536  2065     ...      353   \n",
      "1   2016  WAS  49  33  2030  37.2  7137  8953  3514  1956     ...      336   \n",
      "2   2015  WAS  41  41  1983  35.8  7033  8534  3431  2005     ...      323   \n",
      "3   2014  WAS  46  36  1381  36.0  6790  8080  3663  1969     ...      378   \n",
      "4   2013  WAS  44  38  1704  38.0  6920  8254  3459  1909     ...      377   \n",
      "5   2012  WAS  29  53  1495  36.5  6693  7644  3539  1775     ...      376   \n",
      "\n",
      "     FG    FT   FTA   TOV   Win/Loss       3PA%  Missed FG  Missed FT  \\\n",
      "0  3275  1378  1785  1196  52.439024  30.963237     3743.0      407.0   \n",
      "1  3388  1421  1812  1162  59.756098  28.443324     3749.0      391.0   \n",
      "2  3238  1349  1849  1186  50.000000  28.195649     3795.0      500.0   \n",
      "3  3139  1305  1758  1233  56.097561  20.338733     3651.0      453.0   \n",
      "4  3177  1253  1715  1204  53.658537  24.624277     3743.0      462.0   \n",
      "5  2910  1279  1746  1238  35.365854  22.336770     3783.0      467.0   \n",
      "\n",
      "   Efficiency  \n",
      "0  121.890244  \n",
      "1  123.780488  \n",
      "2  116.097561  \n",
      "3  114.073171  \n",
      "4  112.902439  \n",
      "5  102.975610  \n",
      "\n",
      "[6 rows x 21 columns]\n"
     ]
    }
   ],
   "source": [
    "teamstats = []\n",
    "\n",
    "for df in dfs:\n",
    "    df = df[['Season', 'Tm', 'W', 'L', '3PA', '3P%',\"FGA\",\"PTS\",\"TRB\",\"AST\",\"STL\",\"BLK\",\"FG\",\"FT\",\"FTA\",\"TOV\"]]\n",
    "    df['Season'] = df['Season'].str[:4]\n",
    "    df['Win/Loss'] = (df['W'].astype(float) / (df['W'].astype(float) + df['L'].astype(float))) * 100\n",
    "    df['3P%'] = df['3P%'].astype(float) * 100\n",
    "    df['3PA%'] = (df['3PA'].astype(float) / df[\"FGA\"].astype(float)) * 100\n",
    "    df['Missed FG'] = df[\"FGA\"].astype(float) - df['FG'].astype(float)\n",
    "    df[\"Missed FT\"] = df['FTA'].astype(float) - df['FT'].astype(float)\n",
    "    df['Efficiency'] = (df['PTS'].astype(float) + df[\"TRB\"].astype(float) + df[\"AST\"].astype(float) + df[\"STL\"].astype(float) + df['BLK'].astype(float) - df[\"Missed FG\"].astype(float) - df[\"Missed FT\"].astype(float) - df[\"TOV\"].astype(float))/82\n",
    "    print(df)\n",
    "    teamstats.append(df)"
   ]
  },
  {
   "cell_type": "code",
   "execution_count": 282,
   "metadata": {},
   "outputs": [
    {
     "data": {
      "application/vnd.plotly.v1+json": {
       "data": [
        {
         "marker": {
          "color": "purple"
         },
         "name": "Efficiency",
         "type": "bar",
         "x": [
          "2017",
          "2016",
          "2015",
          "2014",
          "2013",
          "2012"
         ],
         "y": [
          113.73170731707317,
          115.32926829268293,
          120.48780487804878,
          119.98780487804878,
          113.89024390243902,
          111.98780487804878
         ]
        },
        {
         "marker": {
          "color": "rgb(55,83,109)"
         },
         "name": "3 Point Attempt %",
         "type": "bar",
         "x": [
          "2017",
          "2016",
          "2015",
          "2014",
          "2013",
          "2012"
         ],
         "y": [
          36.27031650983747,
          30.89043076033536,
          33.598151090567676,
          32.124197641439025,
          31.638755980861244,
          28.612281757977122
         ]
        }
       ],
       "layout": {
        "title": "3 Point Attempt % VS Efficiency For ATL",
        "xaxis": {
         "title": "Season"
        }
       }
      },
      "text/html": [
       "<div id=\"dbf2bed0-9097-4e6f-85a3-d22acdfa2867\" style=\"height: 525px; width: 100%;\" class=\"plotly-graph-div\"></div><script type=\"text/javascript\">require([\"plotly\"], function(Plotly) { window.PLOTLYENV=window.PLOTLYENV || {};window.PLOTLYENV.BASE_URL=\"https://plot.ly\";Plotly.newPlot(\"dbf2bed0-9097-4e6f-85a3-d22acdfa2867\", [{\"type\": \"bar\", \"x\": [\"2017\", \"2016\", \"2015\", \"2014\", \"2013\", \"2012\"], \"y\": [113.73170731707317, 115.32926829268293, 120.48780487804878, 119.98780487804878, 113.89024390243902, 111.98780487804878], \"name\": \"Efficiency\", \"marker\": {\"color\": \"purple\"}}, {\"type\": \"bar\", \"x\": [\"2017\", \"2016\", \"2015\", \"2014\", \"2013\", \"2012\"], \"y\": [36.27031650983747, 30.89043076033536, 33.598151090567676, 32.124197641439025, 31.638755980861244, 28.612281757977122], \"name\": \"3 Point Attempt %\", \"marker\": {\"color\": \"rgb(55,83,109)\"}}], {\"title\": \"3 Point Attempt % VS Efficiency For ATL\", \"xaxis\": {\"title\": \"Season\"}}, {\"showLink\": true, \"linkText\": \"Export to plot.ly\"})});</script>"
      ],
      "text/vnd.plotly.v1+html": [
       "<div id=\"dbf2bed0-9097-4e6f-85a3-d22acdfa2867\" style=\"height: 525px; width: 100%;\" class=\"plotly-graph-div\"></div><script type=\"text/javascript\">require([\"plotly\"], function(Plotly) { window.PLOTLYENV=window.PLOTLYENV || {};window.PLOTLYENV.BASE_URL=\"https://plot.ly\";Plotly.newPlot(\"dbf2bed0-9097-4e6f-85a3-d22acdfa2867\", [{\"type\": \"bar\", \"x\": [\"2017\", \"2016\", \"2015\", \"2014\", \"2013\", \"2012\"], \"y\": [113.73170731707317, 115.32926829268293, 120.48780487804878, 119.98780487804878, 113.89024390243902, 111.98780487804878], \"name\": \"Efficiency\", \"marker\": {\"color\": \"purple\"}}, {\"type\": \"bar\", \"x\": [\"2017\", \"2016\", \"2015\", \"2014\", \"2013\", \"2012\"], \"y\": [36.27031650983747, 30.89043076033536, 33.598151090567676, 32.124197641439025, 31.638755980861244, 28.612281757977122], \"name\": \"3 Point Attempt %\", \"marker\": {\"color\": \"rgb(55,83,109)\"}}], {\"title\": \"3 Point Attempt % VS Efficiency For ATL\", \"xaxis\": {\"title\": \"Season\"}}, {\"showLink\": true, \"linkText\": \"Export to plot.ly\"})});</script>"
      ]
     },
     "metadata": {},
     "output_type": "display_data"
    },
    {
     "data": {
      "application/vnd.plotly.v1+json": {
       "data": [
        {
         "marker": {
          "color": "purple"
         },
         "name": "Efficiency",
         "type": "bar",
         "x": [
          "2017",
          "2016",
          "2015",
          "2014",
          "2013",
          "2012"
         ],
         "y": [
          116.86585365853658,
          113.90243902439025,
          109.08536585365853,
          107.52439024390245,
          107.21951219512195,
          107.01219512195122
         ]
        },
        {
         "marker": {
          "color": "rgb(55,83,109)"
         },
         "name": "3 Point Attempt %",
         "type": "bar",
         "x": [
          "2017",
          "2016",
          "2015",
          "2014",
          "2013",
          "2012"
         ],
         "y": [
          41.102052291256676,
          37.083154429655075,
          21.791907514450866,
          24.00058788947678,
          30.07354091691441,
          26.894865525672373
         ]
        }
       ],
       "layout": {
        "title": "3 Point Attempt % VS Efficiency For BRK",
        "xaxis": {
         "title": "Season"
        }
       }
      },
      "text/html": [
       "<div id=\"0a65e306-16aa-4f3a-9e3c-4cdfb7e0b4c0\" style=\"height: 525px; width: 100%;\" class=\"plotly-graph-div\"></div><script type=\"text/javascript\">require([\"plotly\"], function(Plotly) { window.PLOTLYENV=window.PLOTLYENV || {};window.PLOTLYENV.BASE_URL=\"https://plot.ly\";Plotly.newPlot(\"0a65e306-16aa-4f3a-9e3c-4cdfb7e0b4c0\", [{\"type\": \"bar\", \"x\": [\"2017\", \"2016\", \"2015\", \"2014\", \"2013\", \"2012\"], \"y\": [116.86585365853658, 113.90243902439025, 109.08536585365853, 107.52439024390245, 107.21951219512195, 107.01219512195122], \"name\": \"Efficiency\", \"marker\": {\"color\": \"purple\"}}, {\"type\": \"bar\", \"x\": [\"2017\", \"2016\", \"2015\", \"2014\", \"2013\", \"2012\"], \"y\": [41.102052291256676, 37.083154429655075, 21.791907514450866, 24.00058788947678, 30.07354091691441, 26.894865525672373], \"name\": \"3 Point Attempt %\", \"marker\": {\"color\": \"rgb(55,83,109)\"}}], {\"title\": \"3 Point Attempt % VS Efficiency For BRK\", \"xaxis\": {\"title\": \"Season\"}}, {\"showLink\": true, \"linkText\": \"Export to plot.ly\"})});</script>"
      ],
      "text/vnd.plotly.v1+html": [
       "<div id=\"0a65e306-16aa-4f3a-9e3c-4cdfb7e0b4c0\" style=\"height: 525px; width: 100%;\" class=\"plotly-graph-div\"></div><script type=\"text/javascript\">require([\"plotly\"], function(Plotly) { window.PLOTLYENV=window.PLOTLYENV || {};window.PLOTLYENV.BASE_URL=\"https://plot.ly\";Plotly.newPlot(\"0a65e306-16aa-4f3a-9e3c-4cdfb7e0b4c0\", [{\"type\": \"bar\", \"x\": [\"2017\", \"2016\", \"2015\", \"2014\", \"2013\", \"2012\"], \"y\": [116.86585365853658, 113.90243902439025, 109.08536585365853, 107.52439024390245, 107.21951219512195, 107.01219512195122], \"name\": \"Efficiency\", \"marker\": {\"color\": \"purple\"}}, {\"type\": \"bar\", \"x\": [\"2017\", \"2016\", \"2015\", \"2014\", \"2013\", \"2012\"], \"y\": [41.102052291256676, 37.083154429655075, 21.791907514450866, 24.00058788947678, 30.07354091691441, 26.894865525672373], \"name\": \"3 Point Attempt %\", \"marker\": {\"color\": \"rgb(55,83,109)\"}}], {\"title\": \"3 Point Attempt % VS Efficiency For BRK\", \"xaxis\": {\"title\": \"Season\"}}, {\"showLink\": true, \"linkText\": \"Export to plot.ly\"})});</script>"
      ]
     },
     "metadata": {},
     "output_type": "display_data"
    },
    {
     "data": {
      "application/vnd.plotly.v1+json": {
       "data": [
        {
         "marker": {
          "color": "purple"
         },
         "name": "Efficiency",
         "type": "bar",
         "x": [
          "2017",
          "2016",
          "2015",
          "2014",
          "2013",
          "2012"
         ],
         "y": [
          117.34146341463415,
          122.6829268292683,
          119.45121951219512,
          113.67073170731707,
          103.67073170731707,
          108.0609756097561
         ]
        },
        {
         "marker": {
          "color": "rgb(55,83,109)"
         },
         "name": "3 Point Attempt %",
         "type": "bar",
         "x": [
          "2017",
          "2016",
          "2015",
          "2014",
          "2013",
          "2012"
         ],
         "y": [
          35.727598566308245,
          39.29492691315563,
          29.270292429625584,
          28.02662598807378,
          25.119860525933458,
          21.520359188728904
         ]
        }
       ],
       "layout": {
        "title": "3 Point Attempt % VS Efficiency For BOS",
        "xaxis": {
         "title": "Season"
        }
       }
      },
      "text/html": [
       "<div id=\"75eb5a1a-b1a0-4dcb-83ff-68d527bc2449\" style=\"height: 525px; width: 100%;\" class=\"plotly-graph-div\"></div><script type=\"text/javascript\">require([\"plotly\"], function(Plotly) { window.PLOTLYENV=window.PLOTLYENV || {};window.PLOTLYENV.BASE_URL=\"https://plot.ly\";Plotly.newPlot(\"75eb5a1a-b1a0-4dcb-83ff-68d527bc2449\", [{\"type\": \"bar\", \"x\": [\"2017\", \"2016\", \"2015\", \"2014\", \"2013\", \"2012\"], \"y\": [117.34146341463415, 122.6829268292683, 119.45121951219512, 113.67073170731707, 103.67073170731707, 108.0609756097561], \"name\": \"Efficiency\", \"marker\": {\"color\": \"purple\"}}, {\"type\": \"bar\", \"x\": [\"2017\", \"2016\", \"2015\", \"2014\", \"2013\", \"2012\"], \"y\": [35.727598566308245, 39.29492691315563, 29.270292429625584, 28.02662598807378, 25.119860525933458, 21.520359188728904], \"name\": \"3 Point Attempt %\", \"marker\": {\"color\": \"rgb(55,83,109)\"}}], {\"title\": \"3 Point Attempt % VS Efficiency For BOS\", \"xaxis\": {\"title\": \"Season\"}}, {\"showLink\": true, \"linkText\": \"Export to plot.ly\"})});</script>"
      ],
      "text/vnd.plotly.v1+html": [
       "<div id=\"75eb5a1a-b1a0-4dcb-83ff-68d527bc2449\" style=\"height: 525px; width: 100%;\" class=\"plotly-graph-div\"></div><script type=\"text/javascript\">require([\"plotly\"], function(Plotly) { window.PLOTLYENV=window.PLOTLYENV || {};window.PLOTLYENV.BASE_URL=\"https://plot.ly\";Plotly.newPlot(\"75eb5a1a-b1a0-4dcb-83ff-68d527bc2449\", [{\"type\": \"bar\", \"x\": [\"2017\", \"2016\", \"2015\", \"2014\", \"2013\", \"2012\"], \"y\": [117.34146341463415, 122.6829268292683, 119.45121951219512, 113.67073170731707, 103.67073170731707, 108.0609756097561], \"name\": \"Efficiency\", \"marker\": {\"color\": \"purple\"}}, {\"type\": \"bar\", \"x\": [\"2017\", \"2016\", \"2015\", \"2014\", \"2013\", \"2012\"], \"y\": [35.727598566308245, 39.29492691315563, 29.270292429625584, 28.02662598807378, 25.119860525933458, 21.520359188728904], \"name\": \"3 Point Attempt %\", \"marker\": {\"color\": \"rgb(55,83,109)\"}}], {\"title\": \"3 Point Attempt % VS Efficiency For BOS\", \"xaxis\": {\"title\": \"Season\"}}, {\"showLink\": true, \"linkText\": \"Export to plot.ly\"})});</script>"
      ]
     },
     "metadata": {},
     "output_type": "display_data"
    },
    {
     "data": {
      "application/vnd.plotly.v1+json": {
       "data": [
        {
         "marker": {
          "color": "purple"
         },
         "name": "Efficiency",
         "type": "bar",
         "x": [
          "2017",
          "2016",
          "2015",
          "2014",
          "2013",
          "2012"
         ],
         "y": [
          119.42682926829268,
          119.70731707317073,
          116.70731707317073,
          103.29268292682927,
          107.92682926829268,
          99.15853658536585
         ]
        },
        {
         "marker": {
          "color": "rgb(55,83,109)"
         },
         "name": "3 Point Attempt %",
         "type": "bar",
         "x": [
          "2017",
          "2016",
          "2015",
          "2014",
          "2013",
          "2012"
         ],
         "y": [
          31.424148606811148,
          33.52857142857143,
          34.81652701531349,
          22.59088286208886,
          21.85735512630015,
          21.040758008723117
         ]
        }
       ],
       "layout": {
        "title": "3 Point Attempt % VS Efficiency For CHO",
        "xaxis": {
         "title": "Season"
        }
       }
      },
      "text/html": [
       "<div id=\"544bc4c7-d537-49d8-a192-3eef102987cc\" style=\"height: 525px; width: 100%;\" class=\"plotly-graph-div\"></div><script type=\"text/javascript\">require([\"plotly\"], function(Plotly) { window.PLOTLYENV=window.PLOTLYENV || {};window.PLOTLYENV.BASE_URL=\"https://plot.ly\";Plotly.newPlot(\"544bc4c7-d537-49d8-a192-3eef102987cc\", [{\"type\": \"bar\", \"x\": [\"2017\", \"2016\", \"2015\", \"2014\", \"2013\", \"2012\"], \"y\": [119.42682926829268, 119.70731707317073, 116.70731707317073, 103.29268292682927, 107.92682926829268, 99.15853658536585], \"name\": \"Efficiency\", \"marker\": {\"color\": \"purple\"}}, {\"type\": \"bar\", \"x\": [\"2017\", \"2016\", \"2015\", \"2014\", \"2013\", \"2012\"], \"y\": [31.424148606811148, 33.52857142857143, 34.81652701531349, 22.59088286208886, 21.85735512630015, 21.040758008723117], \"name\": \"3 Point Attempt %\", \"marker\": {\"color\": \"rgb(55,83,109)\"}}], {\"title\": \"3 Point Attempt % VS Efficiency For CHO\", \"xaxis\": {\"title\": \"Season\"}}, {\"showLink\": true, \"linkText\": \"Export to plot.ly\"})});</script>"
      ],
      "text/vnd.plotly.v1+html": [
       "<div id=\"544bc4c7-d537-49d8-a192-3eef102987cc\" style=\"height: 525px; width: 100%;\" class=\"plotly-graph-div\"></div><script type=\"text/javascript\">require([\"plotly\"], function(Plotly) { window.PLOTLYENV=window.PLOTLYENV || {};window.PLOTLYENV.BASE_URL=\"https://plot.ly\";Plotly.newPlot(\"544bc4c7-d537-49d8-a192-3eef102987cc\", [{\"type\": \"bar\", \"x\": [\"2017\", \"2016\", \"2015\", \"2014\", \"2013\", \"2012\"], \"y\": [119.42682926829268, 119.70731707317073, 116.70731707317073, 103.29268292682927, 107.92682926829268, 99.15853658536585], \"name\": \"Efficiency\", \"marker\": {\"color\": \"purple\"}}, {\"type\": \"bar\", \"x\": [\"2017\", \"2016\", \"2015\", \"2014\", \"2013\", \"2012\"], \"y\": [31.424148606811148, 33.52857142857143, 34.81652701531349, 22.59088286208886, 21.85735512630015, 21.040758008723117], \"name\": \"3 Point Attempt %\", \"marker\": {\"color\": \"rgb(55,83,109)\"}}], {\"title\": \"3 Point Attempt % VS Efficiency For CHO\", \"xaxis\": {\"title\": \"Season\"}}, {\"showLink\": true, \"linkText\": \"Export to plot.ly\"})});</script>"
      ]
     },
     "metadata": {},
     "output_type": "display_data"
    },
    {
     "data": {
      "application/vnd.plotly.v1+json": {
       "data": [
        {
         "marker": {
          "color": "purple"
         },
         "name": "Efficiency",
         "type": "bar",
         "x": [
          "2017",
          "2016",
          "2015",
          "2014",
          "2013",
          "2012"
         ],
         "y": [
          113.36585365853658,
          117.8048780487805,
          115.29268292682927,
          114.59756097560975,
          107.3048780487805,
          106.51219512195122
         ]
        },
        {
         "marker": {
          "color": "rgb(55,83,109)"
         },
         "name": "3 Point Attempt %",
         "type": "bar",
         "x": [
          "2017",
          "2016",
          "2015",
          "2014",
          "2013",
          "2012"
         ],
         "y": [
          34.99862750480373,
          25.640666573309062,
          24.449093444909344,
          26.850080918052083,
          22.18336627641782,
          18.886234696924458
         ]
        }
       ],
       "layout": {
        "title": "3 Point Attempt % VS Efficiency For CHI",
        "xaxis": {
         "title": "Season"
        }
       }
      },
      "text/html": [
       "<div id=\"9c627113-ee8c-41b1-b532-7308030a5c6e\" style=\"height: 525px; width: 100%;\" class=\"plotly-graph-div\"></div><script type=\"text/javascript\">require([\"plotly\"], function(Plotly) { window.PLOTLYENV=window.PLOTLYENV || {};window.PLOTLYENV.BASE_URL=\"https://plot.ly\";Plotly.newPlot(\"9c627113-ee8c-41b1-b532-7308030a5c6e\", [{\"type\": \"bar\", \"x\": [\"2017\", \"2016\", \"2015\", \"2014\", \"2013\", \"2012\"], \"y\": [113.36585365853658, 117.8048780487805, 115.29268292682927, 114.59756097560975, 107.3048780487805, 106.51219512195122], \"name\": \"Efficiency\", \"marker\": {\"color\": \"purple\"}}, {\"type\": \"bar\", \"x\": [\"2017\", \"2016\", \"2015\", \"2014\", \"2013\", \"2012\"], \"y\": [34.99862750480373, 25.640666573309062, 24.449093444909344, 26.850080918052083, 22.18336627641782, 18.886234696924458], \"name\": \"3 Point Attempt %\", \"marker\": {\"color\": \"rgb(55,83,109)\"}}], {\"title\": \"3 Point Attempt % VS Efficiency For CHI\", \"xaxis\": {\"title\": \"Season\"}}, {\"showLink\": true, \"linkText\": \"Export to plot.ly\"})});</script>"
      ],
      "text/vnd.plotly.v1+html": [
       "<div id=\"9c627113-ee8c-41b1-b532-7308030a5c6e\" style=\"height: 525px; width: 100%;\" class=\"plotly-graph-div\"></div><script type=\"text/javascript\">require([\"plotly\"], function(Plotly) { window.PLOTLYENV=window.PLOTLYENV || {};window.PLOTLYENV.BASE_URL=\"https://plot.ly\";Plotly.newPlot(\"9c627113-ee8c-41b1-b532-7308030a5c6e\", [{\"type\": \"bar\", \"x\": [\"2017\", \"2016\", \"2015\", \"2014\", \"2013\", \"2012\"], \"y\": [113.36585365853658, 117.8048780487805, 115.29268292682927, 114.59756097560975, 107.3048780487805, 106.51219512195122], \"name\": \"Efficiency\", \"marker\": {\"color\": \"purple\"}}, {\"type\": \"bar\", \"x\": [\"2017\", \"2016\", \"2015\", \"2014\", \"2013\", \"2012\"], \"y\": [34.99862750480373, 25.640666573309062, 24.449093444909344, 26.850080918052083, 22.18336627641782, 18.886234696924458], \"name\": \"3 Point Attempt %\", \"marker\": {\"color\": \"rgb(55,83,109)\"}}], {\"title\": \"3 Point Attempt % VS Efficiency For CHI\", \"xaxis\": {\"title\": \"Season\"}}, {\"showLink\": true, \"linkText\": \"Export to plot.ly\"})});</script>"
      ]
     },
     "metadata": {},
     "output_type": "display_data"
    },
    {
     "data": {
      "application/vnd.plotly.v1+json": {
       "data": [
        {
         "marker": {
          "color": "purple"
         },
         "name": "Efficiency",
         "type": "bar",
         "x": [
          "2017",
          "2016",
          "2015",
          "2014",
          "2013",
          "2012"
         ],
         "y": [
          124.02439024390245,
          122.78048780487805,
          117.71951219512195,
          115.0609756097561,
          106.6829268292683,
          103.02439024390245
         ]
        },
        {
         "marker": {
          "color": "rgb(55,83,109)"
         },
         "name": "3 Point Attempt %",
         "type": "bar",
         "x": [
          "2017",
          "2016",
          "2015",
          "2014",
          "2013",
          "2012"
         ],
         "y": [
          37.92805755395683,
          39.910957920436594,
          35.249709639953544,
          33.43225997922541,
          23.58015815959741,
          22.909723228517606
         ]
        }
       ],
       "layout": {
        "title": "3 Point Attempt % VS Efficiency For CLE",
        "xaxis": {
         "title": "Season"
        }
       }
      },
      "text/html": [
       "<div id=\"b0352fb4-fcbc-4155-bfc3-3b4062b670f7\" style=\"height: 525px; width: 100%;\" class=\"plotly-graph-div\"></div><script type=\"text/javascript\">require([\"plotly\"], function(Plotly) { window.PLOTLYENV=window.PLOTLYENV || {};window.PLOTLYENV.BASE_URL=\"https://plot.ly\";Plotly.newPlot(\"b0352fb4-fcbc-4155-bfc3-3b4062b670f7\", [{\"type\": \"bar\", \"x\": [\"2017\", \"2016\", \"2015\", \"2014\", \"2013\", \"2012\"], \"y\": [124.02439024390245, 122.78048780487805, 117.71951219512195, 115.0609756097561, 106.6829268292683, 103.02439024390245], \"name\": \"Efficiency\", \"marker\": {\"color\": \"purple\"}}, {\"type\": \"bar\", \"x\": [\"2017\", \"2016\", \"2015\", \"2014\", \"2013\", \"2012\"], \"y\": [37.92805755395683, 39.910957920436594, 35.249709639953544, 33.43225997922541, 23.58015815959741, 22.909723228517606], \"name\": \"3 Point Attempt %\", \"marker\": {\"color\": \"rgb(55,83,109)\"}}], {\"title\": \"3 Point Attempt % VS Efficiency For CLE\", \"xaxis\": {\"title\": \"Season\"}}, {\"showLink\": true, \"linkText\": \"Export to plot.ly\"})});</script>"
      ],
      "text/vnd.plotly.v1+html": [
       "<div id=\"b0352fb4-fcbc-4155-bfc3-3b4062b670f7\" style=\"height: 525px; width: 100%;\" class=\"plotly-graph-div\"></div><script type=\"text/javascript\">require([\"plotly\"], function(Plotly) { window.PLOTLYENV=window.PLOTLYENV || {};window.PLOTLYENV.BASE_URL=\"https://plot.ly\";Plotly.newPlot(\"b0352fb4-fcbc-4155-bfc3-3b4062b670f7\", [{\"type\": \"bar\", \"x\": [\"2017\", \"2016\", \"2015\", \"2014\", \"2013\", \"2012\"], \"y\": [124.02439024390245, 122.78048780487805, 117.71951219512195, 115.0609756097561, 106.6829268292683, 103.02439024390245], \"name\": \"Efficiency\", \"marker\": {\"color\": \"purple\"}}, {\"type\": \"bar\", \"x\": [\"2017\", \"2016\", \"2015\", \"2014\", \"2013\", \"2012\"], \"y\": [37.92805755395683, 39.910957920436594, 35.249709639953544, 33.43225997922541, 23.58015815959741, 22.909723228517606], \"name\": \"3 Point Attempt %\", \"marker\": {\"color\": \"rgb(55,83,109)\"}}], {\"title\": \"3 Point Attempt % VS Efficiency For CLE\", \"xaxis\": {\"title\": \"Season\"}}, {\"showLink\": true, \"linkText\": \"Export to plot.ly\"})});</script>"
      ]
     },
     "metadata": {},
     "output_type": "display_data"
    },
    {
     "data": {
      "application/vnd.plotly.v1+json": {
       "data": [
        {
         "marker": {
          "color": "purple"
         },
         "name": "Efficiency",
         "type": "bar",
         "x": [
          "2017",
          "2016",
          "2015",
          "2014",
          "2013",
          "2012"
         ],
         "y": [
          112.6219512195122,
          106.86585365853658,
          113.89024390243902,
          117.97560975609755,
          120.39024390243902,
          116.3170731707317
         ]
        },
        {
         "marker": {
          "color": "rgb(55,83,109)"
         },
         "name": "3 Point Attempt %",
         "type": "bar",
         "x": [
          "2017",
          "2016",
          "2015",
          "2014",
          "2013",
          "2012"
         ],
         "y": [
          38.17639539838091,
          36.63703703703703,
          33.94202898550724,
          29.590676520750424,
          27.369495479731697,
          23.621590249564715
         ]
        }
       ],
       "layout": {
        "title": "3 Point Attempt % VS Efficiency For DAL",
        "xaxis": {
         "title": "Season"
        }
       }
      },
      "text/html": [
       "<div id=\"11fae312-0ecb-49c1-95e2-95c14b28e612\" style=\"height: 525px; width: 100%;\" class=\"plotly-graph-div\"></div><script type=\"text/javascript\">require([\"plotly\"], function(Plotly) { window.PLOTLYENV=window.PLOTLYENV || {};window.PLOTLYENV.BASE_URL=\"https://plot.ly\";Plotly.newPlot(\"11fae312-0ecb-49c1-95e2-95c14b28e612\", [{\"type\": \"bar\", \"x\": [\"2017\", \"2016\", \"2015\", \"2014\", \"2013\", \"2012\"], \"y\": [112.6219512195122, 106.86585365853658, 113.89024390243902, 117.97560975609755, 120.39024390243902, 116.3170731707317], \"name\": \"Efficiency\", \"marker\": {\"color\": \"purple\"}}, {\"type\": \"bar\", \"x\": [\"2017\", \"2016\", \"2015\", \"2014\", \"2013\", \"2012\"], \"y\": [38.17639539838091, 36.63703703703703, 33.94202898550724, 29.590676520750424, 27.369495479731697, 23.621590249564715], \"name\": \"3 Point Attempt %\", \"marker\": {\"color\": \"rgb(55,83,109)\"}}], {\"title\": \"3 Point Attempt % VS Efficiency For DAL\", \"xaxis\": {\"title\": \"Season\"}}, {\"showLink\": true, \"linkText\": \"Export to plot.ly\"})});</script>"
      ],
      "text/vnd.plotly.v1+html": [
       "<div id=\"11fae312-0ecb-49c1-95e2-95c14b28e612\" style=\"height: 525px; width: 100%;\" class=\"plotly-graph-div\"></div><script type=\"text/javascript\">require([\"plotly\"], function(Plotly) { window.PLOTLYENV=window.PLOTLYENV || {};window.PLOTLYENV.BASE_URL=\"https://plot.ly\";Plotly.newPlot(\"11fae312-0ecb-49c1-95e2-95c14b28e612\", [{\"type\": \"bar\", \"x\": [\"2017\", \"2016\", \"2015\", \"2014\", \"2013\", \"2012\"], \"y\": [112.6219512195122, 106.86585365853658, 113.89024390243902, 117.97560975609755, 120.39024390243902, 116.3170731707317], \"name\": \"Efficiency\", \"marker\": {\"color\": \"purple\"}}, {\"type\": \"bar\", \"x\": [\"2017\", \"2016\", \"2015\", \"2014\", \"2013\", \"2012\"], \"y\": [38.17639539838091, 36.63703703703703, 33.94202898550724, 29.590676520750424, 27.369495479731697, 23.621590249564715], \"name\": \"3 Point Attempt %\", \"marker\": {\"color\": \"rgb(55,83,109)\"}}], {\"title\": \"3 Point Attempt % VS Efficiency For DAL\", \"xaxis\": {\"title\": \"Season\"}}, {\"showLink\": true, \"linkText\": \"Export to plot.ly\"})});</script>"
      ]
     },
     "metadata": {},
     "output_type": "display_data"
    },
    {
     "data": {
      "application/vnd.plotly.v1+json": {
       "data": [
        {
         "marker": {
          "color": "purple"
         },
         "name": "Efficiency",
         "type": "bar",
         "x": [
          "2017",
          "2016",
          "2015",
          "2014",
          "2013",
          "2012"
         ],
         "y": [
          126.08536585365853,
          127.3170731707317,
          113.45121951219512,
          110.08536585365853,
          114.70731707317073,
          123.82926829268293
         ]
        },
        {
         "marker": {
          "color": "rgb(55,83,109)"
         },
         "name": "3 Point Attempt %",
         "type": "bar",
         "x": [
          "2017",
          "2016",
          "2015",
          "2014",
          "2013",
          "2012"
         ],
         "y": [
          35.70825119684596,
          32.87461773700306,
          27.74525203484221,
          28.38781782620844,
          27.818801476853167,
          21.73850780466848
         ]
        }
       ],
       "layout": {
        "title": "3 Point Attempt % VS Efficiency For DEN",
        "xaxis": {
         "title": "Season"
        }
       }
      },
      "text/html": [
       "<div id=\"51cf4ac4-1f6b-40c8-8039-d229b63a508b\" style=\"height: 525px; width: 100%;\" class=\"plotly-graph-div\"></div><script type=\"text/javascript\">require([\"plotly\"], function(Plotly) { window.PLOTLYENV=window.PLOTLYENV || {};window.PLOTLYENV.BASE_URL=\"https://plot.ly\";Plotly.newPlot(\"51cf4ac4-1f6b-40c8-8039-d229b63a508b\", [{\"type\": \"bar\", \"x\": [\"2017\", \"2016\", \"2015\", \"2014\", \"2013\", \"2012\"], \"y\": [126.08536585365853, 127.3170731707317, 113.45121951219512, 110.08536585365853, 114.70731707317073, 123.82926829268293], \"name\": \"Efficiency\", \"marker\": {\"color\": \"purple\"}}, {\"type\": \"bar\", \"x\": [\"2017\", \"2016\", \"2015\", \"2014\", \"2013\", \"2012\"], \"y\": [35.70825119684596, 32.87461773700306, 27.74525203484221, 28.38781782620844, 27.818801476853167, 21.73850780466848], \"name\": \"3 Point Attempt %\", \"marker\": {\"color\": \"rgb(55,83,109)\"}}], {\"title\": \"3 Point Attempt % VS Efficiency For DEN\", \"xaxis\": {\"title\": \"Season\"}}, {\"showLink\": true, \"linkText\": \"Export to plot.ly\"})});</script>"
      ],
      "text/vnd.plotly.v1+html": [
       "<div id=\"51cf4ac4-1f6b-40c8-8039-d229b63a508b\" style=\"height: 525px; width: 100%;\" class=\"plotly-graph-div\"></div><script type=\"text/javascript\">require([\"plotly\"], function(Plotly) { window.PLOTLYENV=window.PLOTLYENV || {};window.PLOTLYENV.BASE_URL=\"https://plot.ly\";Plotly.newPlot(\"51cf4ac4-1f6b-40c8-8039-d229b63a508b\", [{\"type\": \"bar\", \"x\": [\"2017\", \"2016\", \"2015\", \"2014\", \"2013\", \"2012\"], \"y\": [126.08536585365853, 127.3170731707317, 113.45121951219512, 110.08536585365853, 114.70731707317073, 123.82926829268293], \"name\": \"Efficiency\", \"marker\": {\"color\": \"purple\"}}, {\"type\": \"bar\", \"x\": [\"2017\", \"2016\", \"2015\", \"2014\", \"2013\", \"2012\"], \"y\": [35.70825119684596, 32.87461773700306, 27.74525203484221, 28.38781782620844, 27.818801476853167, 21.73850780466848], \"name\": \"3 Point Attempt %\", \"marker\": {\"color\": \"rgb(55,83,109)\"}}], {\"title\": \"3 Point Attempt % VS Efficiency For DEN\", \"xaxis\": {\"title\": \"Season\"}}, {\"showLink\": true, \"linkText\": \"Export to plot.ly\"})});</script>"
      ]
     },
     "metadata": {},
     "output_type": "display_data"
    },
    {
     "data": {
      "application/vnd.plotly.v1+json": {
       "data": [
        {
         "marker": {
          "color": "purple"
         },
         "name": "Efficiency",
         "type": "bar",
         "x": [
          "2017",
          "2016",
          "2015",
          "2014",
          "2013",
          "2012"
         ],
         "y": [
          115.48780487804878,
          112.67073170731707,
          107.90243902439025,
          108.45121951219512,
          109.41463414634147,
          103.47560975609755
         ]
        },
        {
         "marker": {
          "color": "rgb(55,83,109)"
         },
         "name": "3 Point Attempt %",
         "type": "bar",
         "x": [
          "2017",
          "2016",
          "2015",
          "2014",
          "2013",
          "2012"
         ],
         "y": [
          33.28657595735727,
          26.297720406481734,
          30.309016509101173,
          29.028132992327365,
          22.178551375631667,
          21.6932811087677
         ]
        }
       ],
       "layout": {
        "title": "3 Point Attempt % VS Efficiency For DET",
        "xaxis": {
         "title": "Season"
        }
       }
      },
      "text/html": [
       "<div id=\"fbd05dd9-8ae4-4dcf-b8e9-3cc47ccc2fe0\" style=\"height: 525px; width: 100%;\" class=\"plotly-graph-div\"></div><script type=\"text/javascript\">require([\"plotly\"], function(Plotly) { window.PLOTLYENV=window.PLOTLYENV || {};window.PLOTLYENV.BASE_URL=\"https://plot.ly\";Plotly.newPlot(\"fbd05dd9-8ae4-4dcf-b8e9-3cc47ccc2fe0\", [{\"type\": \"bar\", \"x\": [\"2017\", \"2016\", \"2015\", \"2014\", \"2013\", \"2012\"], \"y\": [115.48780487804878, 112.67073170731707, 107.90243902439025, 108.45121951219512, 109.41463414634147, 103.47560975609755], \"name\": \"Efficiency\", \"marker\": {\"color\": \"purple\"}}, {\"type\": \"bar\", \"x\": [\"2017\", \"2016\", \"2015\", \"2014\", \"2013\", \"2012\"], \"y\": [33.28657595735727, 26.297720406481734, 30.309016509101173, 29.028132992327365, 22.178551375631667, 21.6932811087677], \"name\": \"3 Point Attempt %\", \"marker\": {\"color\": \"rgb(55,83,109)\"}}], {\"title\": \"3 Point Attempt % VS Efficiency For DET\", \"xaxis\": {\"title\": \"Season\"}}, {\"showLink\": true, \"linkText\": \"Export to plot.ly\"})});</script>"
      ],
      "text/vnd.plotly.v1+html": [
       "<div id=\"fbd05dd9-8ae4-4dcf-b8e9-3cc47ccc2fe0\" style=\"height: 525px; width: 100%;\" class=\"plotly-graph-div\"></div><script type=\"text/javascript\">require([\"plotly\"], function(Plotly) { window.PLOTLYENV=window.PLOTLYENV || {};window.PLOTLYENV.BASE_URL=\"https://plot.ly\";Plotly.newPlot(\"fbd05dd9-8ae4-4dcf-b8e9-3cc47ccc2fe0\", [{\"type\": \"bar\", \"x\": [\"2017\", \"2016\", \"2015\", \"2014\", \"2013\", \"2012\"], \"y\": [115.48780487804878, 112.67073170731707, 107.90243902439025, 108.45121951219512, 109.41463414634147, 103.47560975609755], \"name\": \"Efficiency\", \"marker\": {\"color\": \"purple\"}}, {\"type\": \"bar\", \"x\": [\"2017\", \"2016\", \"2015\", \"2014\", \"2013\", \"2012\"], \"y\": [33.28657595735727, 26.297720406481734, 30.309016509101173, 29.028132992327365, 22.178551375631667, 21.6932811087677], \"name\": \"3 Point Attempt %\", \"marker\": {\"color\": \"rgb(55,83,109)\"}}], {\"title\": \"3 Point Attempt % VS Efficiency For DET\", \"xaxis\": {\"title\": \"Season\"}}, {\"showLink\": true, \"linkText\": \"Export to plot.ly\"})});</script>"
      ]
     },
     "metadata": {},
     "output_type": "display_data"
    },
    {
     "data": {
      "application/vnd.plotly.v1+json": {
       "data": [
        {
         "marker": {
          "color": "purple"
         },
         "name": "Efficiency",
         "type": "bar",
         "x": [
          "2017",
          "2016",
          "2015",
          "2014",
          "2013",
          "2012"
         ],
         "y": [
          140.1951219512195,
          143.47560975609755,
          139.390243902439,
          132.6951219512195,
          119.28048780487805,
          114.97560975609755
         ]
        },
        {
         "marker": {
          "color": "rgb(55,83,109)"
         },
         "name": "3 Point Attempt %",
         "type": "bar",
         "x": [
          "2017",
          "2016",
          "2015",
          "2014",
          "2013",
          "2012"
         ],
         "y": [
          33.939828080229226,
          35.88235294117647,
          36.20617404665456,
          31.063472047078605,
          29.079229122055672,
          23.859649122807017
         ]
        }
       ],
       "layout": {
        "title": "3 Point Attempt % VS Efficiency For GSW",
        "xaxis": {
         "title": "Season"
        }
       }
      },
      "text/html": [
       "<div id=\"308e6403-5eec-480e-8052-d3800da0293d\" style=\"height: 525px; width: 100%;\" class=\"plotly-graph-div\"></div><script type=\"text/javascript\">require([\"plotly\"], function(Plotly) { window.PLOTLYENV=window.PLOTLYENV || {};window.PLOTLYENV.BASE_URL=\"https://plot.ly\";Plotly.newPlot(\"308e6403-5eec-480e-8052-d3800da0293d\", [{\"type\": \"bar\", \"x\": [\"2017\", \"2016\", \"2015\", \"2014\", \"2013\", \"2012\"], \"y\": [140.1951219512195, 143.47560975609755, 139.390243902439, 132.6951219512195, 119.28048780487805, 114.97560975609755], \"name\": \"Efficiency\", \"marker\": {\"color\": \"purple\"}}, {\"type\": \"bar\", \"x\": [\"2017\", \"2016\", \"2015\", \"2014\", \"2013\", \"2012\"], \"y\": [33.939828080229226, 35.88235294117647, 36.20617404665456, 31.063472047078605, 29.079229122055672, 23.859649122807017], \"name\": \"3 Point Attempt %\", \"marker\": {\"color\": \"rgb(55,83,109)\"}}], {\"title\": \"3 Point Attempt % VS Efficiency For GSW\", \"xaxis\": {\"title\": \"Season\"}}, {\"showLink\": true, \"linkText\": \"Export to plot.ly\"})});</script>"
      ],
      "text/vnd.plotly.v1+html": [
       "<div id=\"308e6403-5eec-480e-8052-d3800da0293d\" style=\"height: 525px; width: 100%;\" class=\"plotly-graph-div\"></div><script type=\"text/javascript\">require([\"plotly\"], function(Plotly) { window.PLOTLYENV=window.PLOTLYENV || {};window.PLOTLYENV.BASE_URL=\"https://plot.ly\";Plotly.newPlot(\"308e6403-5eec-480e-8052-d3800da0293d\", [{\"type\": \"bar\", \"x\": [\"2017\", \"2016\", \"2015\", \"2014\", \"2013\", \"2012\"], \"y\": [140.1951219512195, 143.47560975609755, 139.390243902439, 132.6951219512195, 119.28048780487805, 114.97560975609755], \"name\": \"Efficiency\", \"marker\": {\"color\": \"purple\"}}, {\"type\": \"bar\", \"x\": [\"2017\", \"2016\", \"2015\", \"2014\", \"2013\", \"2012\"], \"y\": [33.939828080229226, 35.88235294117647, 36.20617404665456, 31.063472047078605, 29.079229122055672, 23.859649122807017], \"name\": \"3 Point Attempt %\", \"marker\": {\"color\": \"rgb(55,83,109)\"}}], {\"title\": \"3 Point Attempt % VS Efficiency For GSW\", \"xaxis\": {\"title\": \"Season\"}}, {\"showLink\": true, \"linkText\": \"Export to plot.ly\"})});</script>"
      ]
     },
     "metadata": {},
     "output_type": "display_data"
    },
    {
     "data": {
      "application/vnd.plotly.v1+json": {
       "data": [
        {
         "marker": {
          "color": "purple"
         },
         "name": "Efficiency",
         "type": "bar",
         "x": [
          "2017",
          "2016",
          "2015",
          "2014",
          "2013",
          "2012"
         ],
         "y": [
          125.8048780487805,
          129.15853658536585,
          116.39024390243902,
          113.82926829268293,
          120,
          117.91463414634147
         ]
        },
        {
         "marker": {
          "color": "rgb(55,83,109)"
         },
         "name": "3 Point Attempt %",
         "type": "bar",
         "x": [
          "2017",
          "2016",
          "2015",
          "2014",
          "2013",
          "2012"
         ],
         "y": [
          50.24616275702288,
          46.2248322147651,
          36.994304074777276,
          39.2271662763466,
          33.00015144631228,
          34.93069890887644
         ]
        }
       ],
       "layout": {
        "title": "3 Point Attempt % VS Efficiency For HOU",
        "xaxis": {
         "title": "Season"
        }
       }
      },
      "text/html": [
       "<div id=\"bf32c495-135c-488f-a77d-4b8bcb52997e\" style=\"height: 525px; width: 100%;\" class=\"plotly-graph-div\"></div><script type=\"text/javascript\">require([\"plotly\"], function(Plotly) { window.PLOTLYENV=window.PLOTLYENV || {};window.PLOTLYENV.BASE_URL=\"https://plot.ly\";Plotly.newPlot(\"bf32c495-135c-488f-a77d-4b8bcb52997e\", [{\"type\": \"bar\", \"x\": [\"2017\", \"2016\", \"2015\", \"2014\", \"2013\", \"2012\"], \"y\": [125.8048780487805, 129.15853658536585, 116.39024390243902, 113.82926829268293, 120.0, 117.91463414634147], \"name\": \"Efficiency\", \"marker\": {\"color\": \"purple\"}}, {\"type\": \"bar\", \"x\": [\"2017\", \"2016\", \"2015\", \"2014\", \"2013\", \"2012\"], \"y\": [50.24616275702288, 46.2248322147651, 36.994304074777276, 39.2271662763466, 33.00015144631228, 34.93069890887644], \"name\": \"3 Point Attempt %\", \"marker\": {\"color\": \"rgb(55,83,109)\"}}], {\"title\": \"3 Point Attempt % VS Efficiency For HOU\", \"xaxis\": {\"title\": \"Season\"}}, {\"showLink\": true, \"linkText\": \"Export to plot.ly\"})});</script>"
      ],
      "text/vnd.plotly.v1+html": [
       "<div id=\"bf32c495-135c-488f-a77d-4b8bcb52997e\" style=\"height: 525px; width: 100%;\" class=\"plotly-graph-div\"></div><script type=\"text/javascript\">require([\"plotly\"], function(Plotly) { window.PLOTLYENV=window.PLOTLYENV || {};window.PLOTLYENV.BASE_URL=\"https://plot.ly\";Plotly.newPlot(\"bf32c495-135c-488f-a77d-4b8bcb52997e\", [{\"type\": \"bar\", \"x\": [\"2017\", \"2016\", \"2015\", \"2014\", \"2013\", \"2012\"], \"y\": [125.8048780487805, 129.15853658536585, 116.39024390243902, 113.82926829268293, 120.0, 117.91463414634147], \"name\": \"Efficiency\", \"marker\": {\"color\": \"purple\"}}, {\"type\": \"bar\", \"x\": [\"2017\", \"2016\", \"2015\", \"2014\", \"2013\", \"2012\"], \"y\": [50.24616275702288, 46.2248322147651, 36.994304074777276, 39.2271662763466, 33.00015144631228, 34.93069890887644], \"name\": \"3 Point Attempt %\", \"marker\": {\"color\": \"rgb(55,83,109)\"}}], {\"title\": \"3 Point Attempt % VS Efficiency For HOU\", \"xaxis\": {\"title\": \"Season\"}}, {\"showLink\": true, \"linkText\": \"Export to plot.ly\"})});</script>"
      ]
     },
     "metadata": {},
     "output_type": "display_data"
    },
    {
     "data": {
      "application/vnd.plotly.v1+json": {
       "data": [
        {
         "marker": {
          "color": "purple"
         },
         "name": "Efficiency",
         "type": "bar",
         "x": [
          "2017",
          "2016",
          "2015",
          "2014",
          "2013",
          "2012"
         ],
         "y": [
          119.91463414634147,
          119.51219512195122,
          114.3048780487805,
          108.28048780487805,
          109.29268292682927,
          106.5
         ]
        },
        {
         "marker": {
          "color": "rgb(55,83,109)"
         },
         "name": "3 Point Attempt %",
         "type": "bar",
         "x": [
          "2017",
          "2016",
          "2015",
          "2014",
          "2013",
          "2012"
         ],
         "y": [
          28.377806014400676,
          27.19665271966527,
          27.0436649964209,
          25.498241500586165,
          23.45960748516659,
          24.50574712643678
         ]
        }
       ],
       "layout": {
        "title": "3 Point Attempt % VS Efficiency For IND",
        "xaxis": {
         "title": "Season"
        }
       }
      },
      "text/html": [
       "<div id=\"29ae0c84-724d-4517-98c4-09c9869a8fb4\" style=\"height: 525px; width: 100%;\" class=\"plotly-graph-div\"></div><script type=\"text/javascript\">require([\"plotly\"], function(Plotly) { window.PLOTLYENV=window.PLOTLYENV || {};window.PLOTLYENV.BASE_URL=\"https://plot.ly\";Plotly.newPlot(\"29ae0c84-724d-4517-98c4-09c9869a8fb4\", [{\"type\": \"bar\", \"x\": [\"2017\", \"2016\", \"2015\", \"2014\", \"2013\", \"2012\"], \"y\": [119.91463414634147, 119.51219512195122, 114.3048780487805, 108.28048780487805, 109.29268292682927, 106.5], \"name\": \"Efficiency\", \"marker\": {\"color\": \"purple\"}}, {\"type\": \"bar\", \"x\": [\"2017\", \"2016\", \"2015\", \"2014\", \"2013\", \"2012\"], \"y\": [28.377806014400676, 27.19665271966527, 27.0436649964209, 25.498241500586165, 23.45960748516659, 24.50574712643678], \"name\": \"3 Point Attempt %\", \"marker\": {\"color\": \"rgb(55,83,109)\"}}], {\"title\": \"3 Point Attempt % VS Efficiency For IND\", \"xaxis\": {\"title\": \"Season\"}}, {\"showLink\": true, \"linkText\": \"Export to plot.ly\"})});</script>"
      ],
      "text/vnd.plotly.v1+html": [
       "<div id=\"29ae0c84-724d-4517-98c4-09c9869a8fb4\" style=\"height: 525px; width: 100%;\" class=\"plotly-graph-div\"></div><script type=\"text/javascript\">require([\"plotly\"], function(Plotly) { window.PLOTLYENV=window.PLOTLYENV || {};window.PLOTLYENV.BASE_URL=\"https://plot.ly\";Plotly.newPlot(\"29ae0c84-724d-4517-98c4-09c9869a8fb4\", [{\"type\": \"bar\", \"x\": [\"2017\", \"2016\", \"2015\", \"2014\", \"2013\", \"2012\"], \"y\": [119.91463414634147, 119.51219512195122, 114.3048780487805, 108.28048780487805, 109.29268292682927, 106.5], \"name\": \"Efficiency\", \"marker\": {\"color\": \"purple\"}}, {\"type\": \"bar\", \"x\": [\"2017\", \"2016\", \"2015\", \"2014\", \"2013\", \"2012\"], \"y\": [28.377806014400676, 27.19665271966527, 27.0436649964209, 25.498241500586165, 23.45960748516659, 24.50574712643678], \"name\": \"3 Point Attempt %\", \"marker\": {\"color\": \"rgb(55,83,109)\"}}], {\"title\": \"3 Point Attempt % VS Efficiency For IND\", \"xaxis\": {\"title\": \"Season\"}}, {\"showLink\": true, \"linkText\": \"Export to plot.ly\"})});</script>"
      ]
     },
     "metadata": {},
     "output_type": "display_data"
    },
    {
     "data": {
      "application/vnd.plotly.v1+json": {
       "data": [
        {
         "marker": {
          "color": "purple"
         },
         "name": "Efficiency",
         "type": "bar",
         "x": [
          "2017",
          "2016",
          "2015",
          "2014",
          "2013",
          "2012"
         ],
         "y": [
          121,
          122.73170731707317,
          118.48780487804878,
          123.32926829268293,
          123.90243902439025,
          118.46341463414635
         ]
        },
        {
         "marker": {
          "color": "rgb(55,83,109)"
         },
         "name": "3 Point Attempt %",
         "type": "bar",
         "x": [
          "2017",
          "2016",
          "2015",
          "2014",
          "2013",
          "2012"
         ],
         "y": [
          31.353512278697888,
          32.91788856304985,
          32.40124278739459,
          32.24011713030747,
          29.078538677710398,
          26.513317191283292
         ]
        }
       ],
       "layout": {
        "title": "3 Point Attempt % VS Efficiency For LAC",
        "xaxis": {
         "title": "Season"
        }
       }
      },
      "text/html": [
       "<div id=\"746f40c2-d9a8-4ad3-a2d5-633c154a75e2\" style=\"height: 525px; width: 100%;\" class=\"plotly-graph-div\"></div><script type=\"text/javascript\">require([\"plotly\"], function(Plotly) { window.PLOTLYENV=window.PLOTLYENV || {};window.PLOTLYENV.BASE_URL=\"https://plot.ly\";Plotly.newPlot(\"746f40c2-d9a8-4ad3-a2d5-633c154a75e2\", [{\"type\": \"bar\", \"x\": [\"2017\", \"2016\", \"2015\", \"2014\", \"2013\", \"2012\"], \"y\": [121.0, 122.73170731707317, 118.48780487804878, 123.32926829268293, 123.90243902439025, 118.46341463414635], \"name\": \"Efficiency\", \"marker\": {\"color\": \"purple\"}}, {\"type\": \"bar\", \"x\": [\"2017\", \"2016\", \"2015\", \"2014\", \"2013\", \"2012\"], \"y\": [31.353512278697888, 32.91788856304985, 32.40124278739459, 32.24011713030747, 29.078538677710398, 26.513317191283292], \"name\": \"3 Point Attempt %\", \"marker\": {\"color\": \"rgb(55,83,109)\"}}], {\"title\": \"3 Point Attempt % VS Efficiency For LAC\", \"xaxis\": {\"title\": \"Season\"}}, {\"showLink\": true, \"linkText\": \"Export to plot.ly\"})});</script>"
      ],
      "text/vnd.plotly.v1+html": [
       "<div id=\"746f40c2-d9a8-4ad3-a2d5-633c154a75e2\" style=\"height: 525px; width: 100%;\" class=\"plotly-graph-div\"></div><script type=\"text/javascript\">require([\"plotly\"], function(Plotly) { window.PLOTLYENV=window.PLOTLYENV || {};window.PLOTLYENV.BASE_URL=\"https://plot.ly\";Plotly.newPlot(\"746f40c2-d9a8-4ad3-a2d5-633c154a75e2\", [{\"type\": \"bar\", \"x\": [\"2017\", \"2016\", \"2015\", \"2014\", \"2013\", \"2012\"], \"y\": [121.0, 122.73170731707317, 118.48780487804878, 123.32926829268293, 123.90243902439025, 118.46341463414635], \"name\": \"Efficiency\", \"marker\": {\"color\": \"purple\"}}, {\"type\": \"bar\", \"x\": [\"2017\", \"2016\", \"2015\", \"2014\", \"2013\", \"2012\"], \"y\": [31.353512278697888, 32.91788856304985, 32.40124278739459, 32.24011713030747, 29.078538677710398, 26.513317191283292], \"name\": \"3 Point Attempt %\", \"marker\": {\"color\": \"rgb(55,83,109)\"}}], {\"title\": \"3 Point Attempt % VS Efficiency For LAC\", \"xaxis\": {\"title\": \"Season\"}}, {\"showLink\": true, \"linkText\": \"Export to plot.ly\"})});</script>"
      ]
     },
     "metadata": {},
     "output_type": "display_data"
    },
    {
     "data": {
      "application/vnd.plotly.v1+json": {
       "data": [
        {
         "marker": {
          "color": "purple"
         },
         "name": "Efficiency",
         "type": "bar",
         "x": [
          "2017",
          "2016",
          "2015",
          "2014",
          "2013",
          "2012"
         ],
         "y": [
          120.52439024390245,
          112.3780487804878,
          100.82926829268293,
          107.03658536585365,
          113.96341463414635,
          113.92682926829268
         ]
        },
        {
         "marker": {
          "color": "rgb(55,83,109)"
         },
         "name": "3 Point Attempt %",
         "type": "bar",
         "x": [
          "2017",
          "2016",
          "2015",
          "2014",
          "2013",
          "2012"
         ],
         "y": [
          32.89183222958057,
          29.45281965382468,
          28.982173663024728,
          22.02279202279202,
          29.111747851002868,
          30.346385542168676
         ]
        }
       ],
       "layout": {
        "title": "3 Point Attempt % VS Efficiency For LAL",
        "xaxis": {
         "title": "Season"
        }
       }
      },
      "text/html": [
       "<div id=\"8ed13077-01bc-4dbc-bd9b-99e7d2573e86\" style=\"height: 525px; width: 100%;\" class=\"plotly-graph-div\"></div><script type=\"text/javascript\">require([\"plotly\"], function(Plotly) { window.PLOTLYENV=window.PLOTLYENV || {};window.PLOTLYENV.BASE_URL=\"https://plot.ly\";Plotly.newPlot(\"8ed13077-01bc-4dbc-bd9b-99e7d2573e86\", [{\"type\": \"bar\", \"x\": [\"2017\", \"2016\", \"2015\", \"2014\", \"2013\", \"2012\"], \"y\": [120.52439024390245, 112.3780487804878, 100.82926829268293, 107.03658536585365, 113.96341463414635, 113.92682926829268], \"name\": \"Efficiency\", \"marker\": {\"color\": \"purple\"}}, {\"type\": \"bar\", \"x\": [\"2017\", \"2016\", \"2015\", \"2014\", \"2013\", \"2012\"], \"y\": [32.89183222958057, 29.45281965382468, 28.982173663024728, 22.02279202279202, 29.111747851002868, 30.346385542168676], \"name\": \"3 Point Attempt %\", \"marker\": {\"color\": \"rgb(55,83,109)\"}}], {\"title\": \"3 Point Attempt % VS Efficiency For LAL\", \"xaxis\": {\"title\": \"Season\"}}, {\"showLink\": true, \"linkText\": \"Export to plot.ly\"})});</script>"
      ],
      "text/vnd.plotly.v1+html": [
       "<div id=\"8ed13077-01bc-4dbc-bd9b-99e7d2573e86\" style=\"height: 525px; width: 100%;\" class=\"plotly-graph-div\"></div><script type=\"text/javascript\">require([\"plotly\"], function(Plotly) { window.PLOTLYENV=window.PLOTLYENV || {};window.PLOTLYENV.BASE_URL=\"https://plot.ly\";Plotly.newPlot(\"8ed13077-01bc-4dbc-bd9b-99e7d2573e86\", [{\"type\": \"bar\", \"x\": [\"2017\", \"2016\", \"2015\", \"2014\", \"2013\", \"2012\"], \"y\": [120.52439024390245, 112.3780487804878, 100.82926829268293, 107.03658536585365, 113.96341463414635, 113.92682926829268], \"name\": \"Efficiency\", \"marker\": {\"color\": \"purple\"}}, {\"type\": \"bar\", \"x\": [\"2017\", \"2016\", \"2015\", \"2014\", \"2013\", \"2012\"], \"y\": [32.89183222958057, 29.45281965382468, 28.982173663024728, 22.02279202279202, 29.111747851002868, 30.346385542168676], \"name\": \"3 Point Attempt %\", \"marker\": {\"color\": \"rgb(55,83,109)\"}}], {\"title\": \"3 Point Attempt % VS Efficiency For LAL\", \"xaxis\": {\"title\": \"Season\"}}, {\"showLink\": true, \"linkText\": \"Export to plot.ly\"})});</script>"
      ]
     },
     "metadata": {},
     "output_type": "display_data"
    },
    {
     "data": {
      "application/vnd.plotly.v1+json": {
       "data": [
        {
         "marker": {
          "color": "purple"
         },
         "name": "Efficiency",
         "type": "bar",
         "x": [
          "2017",
          "2016",
          "2015",
          "2014",
          "2013",
          "2012"
         ],
         "y": [
          108.1829268292683,
          111.51219512195122,
          109.02439024390245,
          112.09756097560975,
          109.78048780487805,
          106.84146341463415
         ]
        },
        {
         "marker": {
          "color": "rgb(55,83,109)"
         },
         "name": "3 Point Attempt %",
         "type": "bar",
         "x": [
          "2017",
          "2016",
          "2015",
          "2014",
          "2013",
          "2012"
         ],
         "y": [
          31.703005303476722,
          31.645754304056023,
          22.17524420469456,
          18.423776430578144,
          17.060835936337945,
          16.574337475670013
         ]
        }
       ],
       "layout": {
        "title": "3 Point Attempt % VS Efficiency For MEM",
        "xaxis": {
         "title": "Season"
        }
       }
      },
      "text/html": [
       "<div id=\"16b14202-ebb5-43f5-b105-a465ec382e0a\" style=\"height: 525px; width: 100%;\" class=\"plotly-graph-div\"></div><script type=\"text/javascript\">require([\"plotly\"], function(Plotly) { window.PLOTLYENV=window.PLOTLYENV || {};window.PLOTLYENV.BASE_URL=\"https://plot.ly\";Plotly.newPlot(\"16b14202-ebb5-43f5-b105-a465ec382e0a\", [{\"type\": \"bar\", \"x\": [\"2017\", \"2016\", \"2015\", \"2014\", \"2013\", \"2012\"], \"y\": [108.1829268292683, 111.51219512195122, 109.02439024390245, 112.09756097560975, 109.78048780487805, 106.84146341463415], \"name\": \"Efficiency\", \"marker\": {\"color\": \"purple\"}}, {\"type\": \"bar\", \"x\": [\"2017\", \"2016\", \"2015\", \"2014\", \"2013\", \"2012\"], \"y\": [31.703005303476722, 31.645754304056023, 22.17524420469456, 18.423776430578144, 17.060835936337945, 16.574337475670013], \"name\": \"3 Point Attempt %\", \"marker\": {\"color\": \"rgb(55,83,109)\"}}], {\"title\": \"3 Point Attempt % VS Efficiency For MEM\", \"xaxis\": {\"title\": \"Season\"}}, {\"showLink\": true, \"linkText\": \"Export to plot.ly\"})});</script>"
      ],
      "text/vnd.plotly.v1+html": [
       "<div id=\"16b14202-ebb5-43f5-b105-a465ec382e0a\" style=\"height: 525px; width: 100%;\" class=\"plotly-graph-div\"></div><script type=\"text/javascript\">require([\"plotly\"], function(Plotly) { window.PLOTLYENV=window.PLOTLYENV || {};window.PLOTLYENV.BASE_URL=\"https://plot.ly\";Plotly.newPlot(\"16b14202-ebb5-43f5-b105-a465ec382e0a\", [{\"type\": \"bar\", \"x\": [\"2017\", \"2016\", \"2015\", \"2014\", \"2013\", \"2012\"], \"y\": [108.1829268292683, 111.51219512195122, 109.02439024390245, 112.09756097560975, 109.78048780487805, 106.84146341463415], \"name\": \"Efficiency\", \"marker\": {\"color\": \"purple\"}}, {\"type\": \"bar\", \"x\": [\"2017\", \"2016\", \"2015\", \"2014\", \"2013\", \"2012\"], \"y\": [31.703005303476722, 31.645754304056023, 22.17524420469456, 18.423776430578144, 17.060835936337945, 16.574337475670013], \"name\": \"3 Point Attempt %\", \"marker\": {\"color\": \"rgb(55,83,109)\"}}], {\"title\": \"3 Point Attempt % VS Efficiency For MEM\", \"xaxis\": {\"title\": \"Season\"}}, {\"showLink\": true, \"linkText\": \"Export to plot.ly\"})});</script>"
      ]
     },
     "metadata": {},
     "output_type": "display_data"
    },
    {
     "data": {
      "application/vnd.plotly.v1+json": {
       "data": [
        {
         "marker": {
          "color": "purple"
         },
         "name": "Efficiency",
         "type": "bar",
         "x": [
          "2017",
          "2016",
          "2015",
          "2014",
          "2013",
          "2012"
         ],
         "y": [
          116.8170731707317,
          114.3780487804878,
          115,
          103.0609756097561,
          116.52439024390245,
          119.95121951219512
         ]
        },
        {
         "marker": {
          "color": "rgb(55,83,109)"
         },
         "name": "3 Point Attempt %",
         "type": "bar",
         "x": [
          "2017",
          "2016",
          "2015",
          "2014",
          "2013",
          "2012"
         ],
         "y": [
          35.81534943547234,
          31.4480602529487,
          22.099447513812155,
          26.208530805687204,
          29.161352040816325,
          28.497164461247635
         ]
        }
       ],
       "layout": {
        "title": "3 Point Attempt % VS Efficiency For MIA",
        "xaxis": {
         "title": "Season"
        }
       }
      },
      "text/html": [
       "<div id=\"d53ed2b2-f42a-411e-b369-21f1d1eb87d6\" style=\"height: 525px; width: 100%;\" class=\"plotly-graph-div\"></div><script type=\"text/javascript\">require([\"plotly\"], function(Plotly) { window.PLOTLYENV=window.PLOTLYENV || {};window.PLOTLYENV.BASE_URL=\"https://plot.ly\";Plotly.newPlot(\"d53ed2b2-f42a-411e-b369-21f1d1eb87d6\", [{\"type\": \"bar\", \"x\": [\"2017\", \"2016\", \"2015\", \"2014\", \"2013\", \"2012\"], \"y\": [116.8170731707317, 114.3780487804878, 115.0, 103.0609756097561, 116.52439024390245, 119.95121951219512], \"name\": \"Efficiency\", \"marker\": {\"color\": \"purple\"}}, {\"type\": \"bar\", \"x\": [\"2017\", \"2016\", \"2015\", \"2014\", \"2013\", \"2012\"], \"y\": [35.81534943547234, 31.4480602529487, 22.099447513812155, 26.208530805687204, 29.161352040816325, 28.497164461247635], \"name\": \"3 Point Attempt %\", \"marker\": {\"color\": \"rgb(55,83,109)\"}}], {\"title\": \"3 Point Attempt % VS Efficiency For MIA\", \"xaxis\": {\"title\": \"Season\"}}, {\"showLink\": true, \"linkText\": \"Export to plot.ly\"})});</script>"
      ],
      "text/vnd.plotly.v1+html": [
       "<div id=\"d53ed2b2-f42a-411e-b369-21f1d1eb87d6\" style=\"height: 525px; width: 100%;\" class=\"plotly-graph-div\"></div><script type=\"text/javascript\">require([\"plotly\"], function(Plotly) { window.PLOTLYENV=window.PLOTLYENV || {};window.PLOTLYENV.BASE_URL=\"https://plot.ly\";Plotly.newPlot(\"d53ed2b2-f42a-411e-b369-21f1d1eb87d6\", [{\"type\": \"bar\", \"x\": [\"2017\", \"2016\", \"2015\", \"2014\", \"2013\", \"2012\"], \"y\": [116.8170731707317, 114.3780487804878, 115.0, 103.0609756097561, 116.52439024390245, 119.95121951219512], \"name\": \"Efficiency\", \"marker\": {\"color\": \"purple\"}}, {\"type\": \"bar\", \"x\": [\"2017\", \"2016\", \"2015\", \"2014\", \"2013\", \"2012\"], \"y\": [35.81534943547234, 31.4480602529487, 22.099447513812155, 26.208530805687204, 29.161352040816325, 28.497164461247635], \"name\": \"3 Point Attempt %\", \"marker\": {\"color\": \"rgb(55,83,109)\"}}], {\"title\": \"3 Point Attempt % VS Efficiency For MIA\", \"xaxis\": {\"title\": \"Season\"}}, {\"showLink\": true, \"linkText\": \"Export to plot.ly\"})});</script>"
      ]
     },
     "metadata": {},
     "output_type": "display_data"
    },
    {
     "data": {
      "application/vnd.plotly.v1+json": {
       "data": [
        {
         "marker": {
          "color": "purple"
         },
         "name": "Efficiency",
         "type": "bar",
         "x": [
          "2017",
          "2016",
          "2015",
          "2014",
          "2013",
          "2012"
         ],
         "y": [
          121.54878048780488,
          119.40243902439025,
          113.02439024390245,
          111.7439024390244,
          102.60975609756098,
          111.58536585365853
         ]
        },
        {
         "marker": {
          "color": "rgb(55,83,109)"
         },
         "name": "3 Point Attempt %",
         "type": "bar",
         "x": [
          "2017",
          "2016",
          "2015",
          "2014",
          "2013",
          "2012"
         ],
         "y": [
          29.734097252827972,
          28.979895755770663,
          18.94658753709199,
          22.314787265694733,
          23.051803473356095,
          23.204112824788105
         ]
        }
       ],
       "layout": {
        "title": "3 Point Attempt % VS Efficiency For MIL",
        "xaxis": {
         "title": "Season"
        }
       }
      },
      "text/html": [
       "<div id=\"829ff000-ea54-4445-b7d8-0af41a3326aa\" style=\"height: 525px; width: 100%;\" class=\"plotly-graph-div\"></div><script type=\"text/javascript\">require([\"plotly\"], function(Plotly) { window.PLOTLYENV=window.PLOTLYENV || {};window.PLOTLYENV.BASE_URL=\"https://plot.ly\";Plotly.newPlot(\"829ff000-ea54-4445-b7d8-0af41a3326aa\", [{\"type\": \"bar\", \"x\": [\"2017\", \"2016\", \"2015\", \"2014\", \"2013\", \"2012\"], \"y\": [121.54878048780488, 119.40243902439025, 113.02439024390245, 111.7439024390244, 102.60975609756098, 111.58536585365853], \"name\": \"Efficiency\", \"marker\": {\"color\": \"purple\"}}, {\"type\": \"bar\", \"x\": [\"2017\", \"2016\", \"2015\", \"2014\", \"2013\", \"2012\"], \"y\": [29.734097252827972, 28.979895755770663, 18.94658753709199, 22.314787265694733, 23.051803473356095, 23.204112824788105], \"name\": \"3 Point Attempt %\", \"marker\": {\"color\": \"rgb(55,83,109)\"}}], {\"title\": \"3 Point Attempt % VS Efficiency For MIL\", \"xaxis\": {\"title\": \"Season\"}}, {\"showLink\": true, \"linkText\": \"Export to plot.ly\"})});</script>"
      ],
      "text/vnd.plotly.v1+html": [
       "<div id=\"829ff000-ea54-4445-b7d8-0af41a3326aa\" style=\"height: 525px; width: 100%;\" class=\"plotly-graph-div\"></div><script type=\"text/javascript\">require([\"plotly\"], function(Plotly) { window.PLOTLYENV=window.PLOTLYENV || {};window.PLOTLYENV.BASE_URL=\"https://plot.ly\";Plotly.newPlot(\"829ff000-ea54-4445-b7d8-0af41a3326aa\", [{\"type\": \"bar\", \"x\": [\"2017\", \"2016\", \"2015\", \"2014\", \"2013\", \"2012\"], \"y\": [121.54878048780488, 119.40243902439025, 113.02439024390245, 111.7439024390244, 102.60975609756098, 111.58536585365853], \"name\": \"Efficiency\", \"marker\": {\"color\": \"purple\"}}, {\"type\": \"bar\", \"x\": [\"2017\", \"2016\", \"2015\", \"2014\", \"2013\", \"2012\"], \"y\": [29.734097252827972, 28.979895755770663, 18.94658753709199, 22.314787265694733, 23.051803473356095, 23.204112824788105], \"name\": \"3 Point Attempt %\", \"marker\": {\"color\": \"rgb(55,83,109)\"}}], {\"title\": \"3 Point Attempt % VS Efficiency For MIL\", \"xaxis\": {\"title\": \"Season\"}}, {\"showLink\": true, \"linkText\": \"Export to plot.ly\"})});</script>"
      ]
     },
     "metadata": {},
     "output_type": "display_data"
    },
    {
     "data": {
      "application/vnd.plotly.v1+json": {
       "data": [
        {
         "marker": {
          "color": "purple"
         },
         "name": "Efficiency",
         "type": "bar",
         "x": [
          "2017",
          "2016",
          "2015",
          "2014",
          "2013",
          "2012"
         ],
         "y": [
          124.48780487804878,
          120.26829268292683,
          115.71951219512195,
          104.8780487804878,
          119.20731707317073,
          106.34146341463415
         ]
        },
        {
         "marker": {
          "color": "rgb(55,83,109)"
         },
         "name": "3 Point Attempt %",
         "type": "bar",
         "x": [
          "2017",
          "2016",
          "2015",
          "2014",
          "2013",
          "2012"
         ],
         "y": [
          26.12204445702959,
          24.89164981219301,
          20.200959808038395,
          17.932551319648095,
          24.48780487804878,
          22.008355714712028
         ]
        }
       ],
       "layout": {
        "title": "3 Point Attempt % VS Efficiency For MIN",
        "xaxis": {
         "title": "Season"
        }
       }
      },
      "text/html": [
       "<div id=\"22b3a1b7-b9df-4e01-b776-6889aa697f7a\" style=\"height: 525px; width: 100%;\" class=\"plotly-graph-div\"></div><script type=\"text/javascript\">require([\"plotly\"], function(Plotly) { window.PLOTLYENV=window.PLOTLYENV || {};window.PLOTLYENV.BASE_URL=\"https://plot.ly\";Plotly.newPlot(\"22b3a1b7-b9df-4e01-b776-6889aa697f7a\", [{\"type\": \"bar\", \"x\": [\"2017\", \"2016\", \"2015\", \"2014\", \"2013\", \"2012\"], \"y\": [124.48780487804878, 120.26829268292683, 115.71951219512195, 104.8780487804878, 119.20731707317073, 106.34146341463415], \"name\": \"Efficiency\", \"marker\": {\"color\": \"purple\"}}, {\"type\": \"bar\", \"x\": [\"2017\", \"2016\", \"2015\", \"2014\", \"2013\", \"2012\"], \"y\": [26.12204445702959, 24.89164981219301, 20.200959808038395, 17.932551319648095, 24.48780487804878, 22.008355714712028], \"name\": \"3 Point Attempt %\", \"marker\": {\"color\": \"rgb(55,83,109)\"}}], {\"title\": \"3 Point Attempt % VS Efficiency For MIN\", \"xaxis\": {\"title\": \"Season\"}}, {\"showLink\": true, \"linkText\": \"Export to plot.ly\"})});</script>"
      ],
      "text/vnd.plotly.v1+html": [
       "<div id=\"22b3a1b7-b9df-4e01-b776-6889aa697f7a\" style=\"height: 525px; width: 100%;\" class=\"plotly-graph-div\"></div><script type=\"text/javascript\">require([\"plotly\"], function(Plotly) { window.PLOTLYENV=window.PLOTLYENV || {};window.PLOTLYENV.BASE_URL=\"https://plot.ly\";Plotly.newPlot(\"22b3a1b7-b9df-4e01-b776-6889aa697f7a\", [{\"type\": \"bar\", \"x\": [\"2017\", \"2016\", \"2015\", \"2014\", \"2013\", \"2012\"], \"y\": [124.48780487804878, 120.26829268292683, 115.71951219512195, 104.8780487804878, 119.20731707317073, 106.34146341463415], \"name\": \"Efficiency\", \"marker\": {\"color\": \"purple\"}}, {\"type\": \"bar\", \"x\": [\"2017\", \"2016\", \"2015\", \"2014\", \"2013\", \"2012\"], \"y\": [26.12204445702959, 24.89164981219301, 20.200959808038395, 17.932551319648095, 24.48780487804878, 22.008355714712028], \"name\": \"3 Point Attempt %\", \"marker\": {\"color\": \"rgb(55,83,109)\"}}], {\"title\": \"3 Point Attempt % VS Efficiency For MIN\", \"xaxis\": {\"title\": \"Season\"}}, {\"showLink\": true, \"linkText\": \"Export to plot.ly\"})});</script>"
      ]
     },
     "metadata": {},
     "output_type": "display_data"
    },
    {
     "data": {
      "application/vnd.plotly.v1+json": {
       "data": [
        {
         "marker": {
          "color": "purple"
         },
         "name": "Efficiency",
         "type": "bar",
         "x": [
          "2017",
          "2016",
          "2015",
          "2014",
          "2013",
          "2012"
         ],
         "y": [
          131.4390243902439,
          117.89024390243902,
          113.57317073170732,
          114.14634146341463,
          113.10975609756098,
          105.0609756097561
         ]
        },
        {
         "marker": {
          "color": "rgb(55,83,109)"
         },
         "name": "3 Point Attempt %",
         "type": "bar",
         "x": [
          "2017",
          "2016",
          "2015",
          "2014",
          "2013",
          "2012"
         ],
         "y": [
          31.929291534318466,
          30.799438990182328,
          27.713068181818183,
          23.29654157468727,
          19.27229699748558,
          22.370617696160267
         ]
        }
       ],
       "layout": {
        "title": "3 Point Attempt % VS Efficiency For NOP",
        "xaxis": {
         "title": "Season"
        }
       }
      },
      "text/html": [
       "<div id=\"c89c24ef-4dc1-4ae3-8bfe-f4409d0ade15\" style=\"height: 525px; width: 100%;\" class=\"plotly-graph-div\"></div><script type=\"text/javascript\">require([\"plotly\"], function(Plotly) { window.PLOTLYENV=window.PLOTLYENV || {};window.PLOTLYENV.BASE_URL=\"https://plot.ly\";Plotly.newPlot(\"c89c24ef-4dc1-4ae3-8bfe-f4409d0ade15\", [{\"type\": \"bar\", \"x\": [\"2017\", \"2016\", \"2015\", \"2014\", \"2013\", \"2012\"], \"y\": [131.4390243902439, 117.89024390243902, 113.57317073170732, 114.14634146341463, 113.10975609756098, 105.0609756097561], \"name\": \"Efficiency\", \"marker\": {\"color\": \"purple\"}}, {\"type\": \"bar\", \"x\": [\"2017\", \"2016\", \"2015\", \"2014\", \"2013\", \"2012\"], \"y\": [31.929291534318466, 30.799438990182328, 27.713068181818183, 23.29654157468727, 19.27229699748558, 22.370617696160267], \"name\": \"3 Point Attempt %\", \"marker\": {\"color\": \"rgb(55,83,109)\"}}], {\"title\": \"3 Point Attempt % VS Efficiency For NOP\", \"xaxis\": {\"title\": \"Season\"}}, {\"showLink\": true, \"linkText\": \"Export to plot.ly\"})});</script>"
      ],
      "text/vnd.plotly.v1+html": [
       "<div id=\"c89c24ef-4dc1-4ae3-8bfe-f4409d0ade15\" style=\"height: 525px; width: 100%;\" class=\"plotly-graph-div\"></div><script type=\"text/javascript\">require([\"plotly\"], function(Plotly) { window.PLOTLYENV=window.PLOTLYENV || {};window.PLOTLYENV.BASE_URL=\"https://plot.ly\";Plotly.newPlot(\"c89c24ef-4dc1-4ae3-8bfe-f4409d0ade15\", [{\"type\": \"bar\", \"x\": [\"2017\", \"2016\", \"2015\", \"2014\", \"2013\", \"2012\"], \"y\": [131.4390243902439, 117.89024390243902, 113.57317073170732, 114.14634146341463, 113.10975609756098, 105.0609756097561], \"name\": \"Efficiency\", \"marker\": {\"color\": \"purple\"}}, {\"type\": \"bar\", \"x\": [\"2017\", \"2016\", \"2015\", \"2014\", \"2013\", \"2012\"], \"y\": [31.929291534318466, 30.799438990182328, 27.713068181818183, 23.29654157468727, 19.27229699748558, 22.370617696160267], \"name\": \"3 Point Attempt %\", \"marker\": {\"color\": \"rgb(55,83,109)\"}}], {\"title\": \"3 Point Attempt % VS Efficiency For NOP\", \"xaxis\": {\"title\": \"Season\"}}, {\"showLink\": true, \"linkText\": \"Export to plot.ly\"})});</script>"
      ]
     },
     "metadata": {},
     "output_type": "display_data"
    },
    {
     "data": {
      "application/vnd.plotly.v1+json": {
       "data": [
        {
         "marker": {
          "color": "purple"
         },
         "name": "Efficiency",
         "type": "bar",
         "x": [
          "2017",
          "2016",
          "2015",
          "2014",
          "2013",
          "2012"
         ],
         "y": [
          117.84146341463415,
          116.65853658536585,
          109.91463414634147,
          99.1951219512195,
          108,
          109.39024390243902
         ]
        },
        {
         "marker": {
          "color": "rgb(55,83,109)"
         },
         "name": "3 Point Attempt %",
         "type": "bar",
         "x": [
          "2017",
          "2016",
          "2015",
          "2014",
          "2013",
          "2012"
         ],
         "y": [
          26.605504587155966,
          27.866593164277838,
          25.588149869300032,
          23.996431757359503,
          30.24187564920611,
          35.44625504559725
         ]
        }
       ],
       "layout": {
        "title": "3 Point Attempt % VS Efficiency For NYK",
        "xaxis": {
         "title": "Season"
        }
       }
      },
      "text/html": [
       "<div id=\"6ecae1fc-80c8-4e89-a253-3f85151626fa\" style=\"height: 525px; width: 100%;\" class=\"plotly-graph-div\"></div><script type=\"text/javascript\">require([\"plotly\"], function(Plotly) { window.PLOTLYENV=window.PLOTLYENV || {};window.PLOTLYENV.BASE_URL=\"https://plot.ly\";Plotly.newPlot(\"6ecae1fc-80c8-4e89-a253-3f85151626fa\", [{\"type\": \"bar\", \"x\": [\"2017\", \"2016\", \"2015\", \"2014\", \"2013\", \"2012\"], \"y\": [117.84146341463415, 116.65853658536585, 109.91463414634147, 99.1951219512195, 108.0, 109.39024390243902], \"name\": \"Efficiency\", \"marker\": {\"color\": \"purple\"}}, {\"type\": \"bar\", \"x\": [\"2017\", \"2016\", \"2015\", \"2014\", \"2013\", \"2012\"], \"y\": [26.605504587155966, 27.866593164277838, 25.588149869300032, 23.996431757359503, 30.24187564920611, 35.44625504559725], \"name\": \"3 Point Attempt %\", \"marker\": {\"color\": \"rgb(55,83,109)\"}}], {\"title\": \"3 Point Attempt % VS Efficiency For NYK\", \"xaxis\": {\"title\": \"Season\"}}, {\"showLink\": true, \"linkText\": \"Export to plot.ly\"})});</script>"
      ],
      "text/vnd.plotly.v1+html": [
       "<div id=\"6ecae1fc-80c8-4e89-a253-3f85151626fa\" style=\"height: 525px; width: 100%;\" class=\"plotly-graph-div\"></div><script type=\"text/javascript\">require([\"plotly\"], function(Plotly) { window.PLOTLYENV=window.PLOTLYENV || {};window.PLOTLYENV.BASE_URL=\"https://plot.ly\";Plotly.newPlot(\"6ecae1fc-80c8-4e89-a253-3f85151626fa\", [{\"type\": \"bar\", \"x\": [\"2017\", \"2016\", \"2015\", \"2014\", \"2013\", \"2012\"], \"y\": [117.84146341463415, 116.65853658536585, 109.91463414634147, 99.1951219512195, 108.0, 109.39024390243902], \"name\": \"Efficiency\", \"marker\": {\"color\": \"purple\"}}, {\"type\": \"bar\", \"x\": [\"2017\", \"2016\", \"2015\", \"2014\", \"2013\", \"2012\"], \"y\": [26.605504587155966, 27.866593164277838, 25.588149869300032, 23.996431757359503, 30.24187564920611, 35.44625504559725], \"name\": \"3 Point Attempt %\", \"marker\": {\"color\": \"rgb(55,83,109)\"}}], {\"title\": \"3 Point Attempt % VS Efficiency For NYK\", \"xaxis\": {\"title\": \"Season\"}}, {\"showLink\": true, \"linkText\": \"Export to plot.ly\"})});</script>"
      ]
     },
     "metadata": {},
     "output_type": "display_data"
    },
    {
     "data": {
      "application/vnd.plotly.v1+json": {
       "data": [
        {
         "marker": {
          "color": "purple"
         },
         "name": "Efficiency",
         "type": "bar",
         "x": [
          "2017",
          "2016",
          "2015",
          "2014",
          "2013",
          "2012"
         ],
         "y": [
          119.29268292682927,
          117.57317073170732,
          128.4390243902439,
          116.0609756097561,
          123.20731707317073,
          125.5609756097561
         ]
        },
        {
         "marker": {
          "color": "rgb(55,83,109)"
         },
         "name": "3 Point Attempt %",
         "type": "bar",
         "x": [
          "2017",
          "2016",
          "2015",
          "2014",
          "2013",
          "2012"
         ],
         "y": [
          34.48753462603878,
          29.515971544148417,
          27.463993222253603,
          26.1834527321253,
          27.115895016219405,
          24.415744157441573
         ]
        }
       ],
       "layout": {
        "title": "3 Point Attempt % VS Efficiency For OKC",
        "xaxis": {
         "title": "Season"
        }
       }
      },
      "text/html": [
       "<div id=\"93a60f2c-2026-4f6a-bf6b-18090cc3db3d\" style=\"height: 525px; width: 100%;\" class=\"plotly-graph-div\"></div><script type=\"text/javascript\">require([\"plotly\"], function(Plotly) { window.PLOTLYENV=window.PLOTLYENV || {};window.PLOTLYENV.BASE_URL=\"https://plot.ly\";Plotly.newPlot(\"93a60f2c-2026-4f6a-bf6b-18090cc3db3d\", [{\"type\": \"bar\", \"x\": [\"2017\", \"2016\", \"2015\", \"2014\", \"2013\", \"2012\"], \"y\": [119.29268292682927, 117.57317073170732, 128.4390243902439, 116.0609756097561, 123.20731707317073, 125.5609756097561], \"name\": \"Efficiency\", \"marker\": {\"color\": \"purple\"}}, {\"type\": \"bar\", \"x\": [\"2017\", \"2016\", \"2015\", \"2014\", \"2013\", \"2012\"], \"y\": [34.48753462603878, 29.515971544148417, 27.463993222253603, 26.1834527321253, 27.115895016219405, 24.415744157441573], \"name\": \"3 Point Attempt %\", \"marker\": {\"color\": \"rgb(55,83,109)\"}}], {\"title\": \"3 Point Attempt % VS Efficiency For OKC\", \"xaxis\": {\"title\": \"Season\"}}, {\"showLink\": true, \"linkText\": \"Export to plot.ly\"})});</script>"
      ],
      "text/vnd.plotly.v1+html": [
       "<div id=\"93a60f2c-2026-4f6a-bf6b-18090cc3db3d\" style=\"height: 525px; width: 100%;\" class=\"plotly-graph-div\"></div><script type=\"text/javascript\">require([\"plotly\"], function(Plotly) { window.PLOTLYENV=window.PLOTLYENV || {};window.PLOTLYENV.BASE_URL=\"https://plot.ly\";Plotly.newPlot(\"93a60f2c-2026-4f6a-bf6b-18090cc3db3d\", [{\"type\": \"bar\", \"x\": [\"2017\", \"2016\", \"2015\", \"2014\", \"2013\", \"2012\"], \"y\": [119.29268292682927, 117.57317073170732, 128.4390243902439, 116.0609756097561, 123.20731707317073, 125.5609756097561], \"name\": \"Efficiency\", \"marker\": {\"color\": \"purple\"}}, {\"type\": \"bar\", \"x\": [\"2017\", \"2016\", \"2015\", \"2014\", \"2013\", \"2012\"], \"y\": [34.48753462603878, 29.515971544148417, 27.463993222253603, 26.1834527321253, 27.115895016219405, 24.415744157441573], \"name\": \"3 Point Attempt %\", \"marker\": {\"color\": \"rgb(55,83,109)\"}}], {\"title\": \"3 Point Attempt % VS Efficiency For OKC\", \"xaxis\": {\"title\": \"Season\"}}, {\"showLink\": true, \"linkText\": \"Export to plot.ly\"})});</script>"
      ]
     },
     "metadata": {},
     "output_type": "display_data"
    },
    {
     "data": {
      "application/vnd.plotly.v1+json": {
       "data": [
        {
         "marker": {
          "color": "purple"
         },
         "name": "Efficiency",
         "type": "bar",
         "x": [
          "2017",
          "2016",
          "2015",
          "2014",
          "2013",
          "2012"
         ],
         "y": [
          114.35365853658537,
          110.92682926829268,
          115.98780487804878,
          104.48780487804878,
          105.8170731707317,
          105.39024390243902
         ]
        },
        {
         "marker": {
          "color": "rgb(55,83,109)"
         },
         "name": "3 Point Attempt %",
         "type": "bar",
         "x": [
          "2017",
          "2016",
          "2015",
          "2014",
          "2013",
          "2012"
         ],
         "y": [
          34.15222948026128,
          29.9873825879714,
          25.533707865168537,
          23.527679623085984,
          23.525943396226413,
          22.262456546929315
         ]
        }
       ],
       "layout": {
        "title": "3 Point Attempt % VS Efficiency For ORL",
        "xaxis": {
         "title": "Season"
        }
       }
      },
      "text/html": [
       "<div id=\"42e63d1b-cac3-486c-90db-be9e18b10ba4\" style=\"height: 525px; width: 100%;\" class=\"plotly-graph-div\"></div><script type=\"text/javascript\">require([\"plotly\"], function(Plotly) { window.PLOTLYENV=window.PLOTLYENV || {};window.PLOTLYENV.BASE_URL=\"https://plot.ly\";Plotly.newPlot(\"42e63d1b-cac3-486c-90db-be9e18b10ba4\", [{\"type\": \"bar\", \"x\": [\"2017\", \"2016\", \"2015\", \"2014\", \"2013\", \"2012\"], \"y\": [114.35365853658537, 110.92682926829268, 115.98780487804878, 104.48780487804878, 105.8170731707317, 105.39024390243902], \"name\": \"Efficiency\", \"marker\": {\"color\": \"purple\"}}, {\"type\": \"bar\", \"x\": [\"2017\", \"2016\", \"2015\", \"2014\", \"2013\", \"2012\"], \"y\": [34.15222948026128, 29.9873825879714, 25.533707865168537, 23.527679623085984, 23.525943396226413, 22.262456546929315], \"name\": \"3 Point Attempt %\", \"marker\": {\"color\": \"rgb(55,83,109)\"}}], {\"title\": \"3 Point Attempt % VS Efficiency For ORL\", \"xaxis\": {\"title\": \"Season\"}}, {\"showLink\": true, \"linkText\": \"Export to plot.ly\"})});</script>"
      ],
      "text/vnd.plotly.v1+html": [
       "<div id=\"42e63d1b-cac3-486c-90db-be9e18b10ba4\" style=\"height: 525px; width: 100%;\" class=\"plotly-graph-div\"></div><script type=\"text/javascript\">require([\"plotly\"], function(Plotly) { window.PLOTLYENV=window.PLOTLYENV || {};window.PLOTLYENV.BASE_URL=\"https://plot.ly\";Plotly.newPlot(\"42e63d1b-cac3-486c-90db-be9e18b10ba4\", [{\"type\": \"bar\", \"x\": [\"2017\", \"2016\", \"2015\", \"2014\", \"2013\", \"2012\"], \"y\": [114.35365853658537, 110.92682926829268, 115.98780487804878, 104.48780487804878, 105.8170731707317, 105.39024390243902], \"name\": \"Efficiency\", \"marker\": {\"color\": \"purple\"}}, {\"type\": \"bar\", \"x\": [\"2017\", \"2016\", \"2015\", \"2014\", \"2013\", \"2012\"], \"y\": [34.15222948026128, 29.9873825879714, 25.533707865168537, 23.527679623085984, 23.525943396226413, 22.262456546929315], \"name\": \"3 Point Attempt %\", \"marker\": {\"color\": \"rgb(55,83,109)\"}}], {\"title\": \"3 Point Attempt % VS Efficiency For ORL\", \"xaxis\": {\"title\": \"Season\"}}, {\"showLink\": true, \"linkText\": \"Export to plot.ly\"})});</script>"
      ]
     },
     "metadata": {},
     "output_type": "display_data"
    },
    {
     "data": {
      "application/vnd.plotly.v1+json": {
       "data": [
        {
         "marker": {
          "color": "purple"
         },
         "name": "Efficiency",
         "type": "bar",
         "x": [
          "2017",
          "2016",
          "2015",
          "2014",
          "2013",
          "2012"
         ],
         "y": [
          129.890243902439,
          113.3048780487805,
          103.46341463414635,
          96.54878048780488,
          104.4390243902439,
          105
         ]
        },
        {
         "marker": {
          "color": "rgb(55,83,109)"
         },
         "name": "3 Point Attempt %",
         "type": "bar",
         "x": [
          "2017",
          "2016",
          "2015",
          "2014",
          "2013",
          "2012"
         ],
         "y": [
          34.44632290786137,
          34.93993135011442,
          32.74284884565123,
          31.872509960159363,
          25.83216783216783,
          20.855692530819432
         ]
        }
       ],
       "layout": {
        "title": "3 Point Attempt % VS Efficiency For PHI",
        "xaxis": {
         "title": "Season"
        }
       }
      },
      "text/html": [
       "<div id=\"29b36f90-ec4d-4f45-be63-4f97a7a2aba2\" style=\"height: 525px; width: 100%;\" class=\"plotly-graph-div\"></div><script type=\"text/javascript\">require([\"plotly\"], function(Plotly) { window.PLOTLYENV=window.PLOTLYENV || {};window.PLOTLYENV.BASE_URL=\"https://plot.ly\";Plotly.newPlot(\"29b36f90-ec4d-4f45-be63-4f97a7a2aba2\", [{\"type\": \"bar\", \"x\": [\"2017\", \"2016\", \"2015\", \"2014\", \"2013\", \"2012\"], \"y\": [129.890243902439, 113.3048780487805, 103.46341463414635, 96.54878048780488, 104.4390243902439, 105.0], \"name\": \"Efficiency\", \"marker\": {\"color\": \"purple\"}}, {\"type\": \"bar\", \"x\": [\"2017\", \"2016\", \"2015\", \"2014\", \"2013\", \"2012\"], \"y\": [34.44632290786137, 34.93993135011442, 32.74284884565123, 31.872509960159363, 25.83216783216783, 20.855692530819432], \"name\": \"3 Point Attempt %\", \"marker\": {\"color\": \"rgb(55,83,109)\"}}], {\"title\": \"3 Point Attempt % VS Efficiency For PHI\", \"xaxis\": {\"title\": \"Season\"}}, {\"showLink\": true, \"linkText\": \"Export to plot.ly\"})});</script>"
      ],
      "text/vnd.plotly.v1+html": [
       "<div id=\"29b36f90-ec4d-4f45-be63-4f97a7a2aba2\" style=\"height: 525px; width: 100%;\" class=\"plotly-graph-div\"></div><script type=\"text/javascript\">require([\"plotly\"], function(Plotly) { window.PLOTLYENV=window.PLOTLYENV || {};window.PLOTLYENV.BASE_URL=\"https://plot.ly\";Plotly.newPlot(\"29b36f90-ec4d-4f45-be63-4f97a7a2aba2\", [{\"type\": \"bar\", \"x\": [\"2017\", \"2016\", \"2015\", \"2014\", \"2013\", \"2012\"], \"y\": [129.890243902439, 113.3048780487805, 103.46341463414635, 96.54878048780488, 104.4390243902439, 105.0], \"name\": \"Efficiency\", \"marker\": {\"color\": \"purple\"}}, {\"type\": \"bar\", \"x\": [\"2017\", \"2016\", \"2015\", \"2014\", \"2013\", \"2012\"], \"y\": [34.44632290786137, 34.93993135011442, 32.74284884565123, 31.872509960159363, 25.83216783216783, 20.855692530819432], \"name\": \"3 Point Attempt %\", \"marker\": {\"color\": \"rgb(55,83,109)\"}}], {\"title\": \"3 Point Attempt % VS Efficiency For PHI\", \"xaxis\": {\"title\": \"Season\"}}, {\"showLink\": true, \"linkText\": \"Export to plot.ly\"})});</script>"
      ]
     },
     "metadata": {},
     "output_type": "display_data"
    },
    {
     "data": {
      "application/vnd.plotly.v1+json": {
       "data": [
        {
         "marker": {
          "color": "purple"
         },
         "name": "Efficiency",
         "type": "bar",
         "x": [
          "2017",
          "2016",
          "2015",
          "2014",
          "2013",
          "2012"
         ],
         "y": [
          110.1829268292683,
          115.32926829268293,
          106.60975609756098,
          111.6829268292683,
          114.2439024390244,
          105.08536585365853
         ]
        },
        {
         "marker": {
          "color": "rgb(55,83,109)"
         },
         "name": "3 Point Attempt %",
         "type": "bar",
         "x": [
          "2017",
          "2016",
          "2015",
          "2014",
          "2013",
          "2012"
         ],
         "y": [
          32.01232320403305,
          25.537190082644628,
          30.179538330008548,
          29.099175902244955,
          30.021913805697594,
          21.035130837068092
         ]
        }
       ],
       "layout": {
        "title": "3 Point Attempt % VS Efficiency For PHO",
        "xaxis": {
         "title": "Season"
        }
       }
      },
      "text/html": [
       "<div id=\"be7fa0b5-6d76-435f-9e54-292cfcacee7e\" style=\"height: 525px; width: 100%;\" class=\"plotly-graph-div\"></div><script type=\"text/javascript\">require([\"plotly\"], function(Plotly) { window.PLOTLYENV=window.PLOTLYENV || {};window.PLOTLYENV.BASE_URL=\"https://plot.ly\";Plotly.newPlot(\"be7fa0b5-6d76-435f-9e54-292cfcacee7e\", [{\"type\": \"bar\", \"x\": [\"2017\", \"2016\", \"2015\", \"2014\", \"2013\", \"2012\"], \"y\": [110.1829268292683, 115.32926829268293, 106.60975609756098, 111.6829268292683, 114.2439024390244, 105.08536585365853], \"name\": \"Efficiency\", \"marker\": {\"color\": \"purple\"}}, {\"type\": \"bar\", \"x\": [\"2017\", \"2016\", \"2015\", \"2014\", \"2013\", \"2012\"], \"y\": [32.01232320403305, 25.537190082644628, 30.179538330008548, 29.099175902244955, 30.021913805697594, 21.035130837068092], \"name\": \"3 Point Attempt %\", \"marker\": {\"color\": \"rgb(55,83,109)\"}}], {\"title\": \"3 Point Attempt % VS Efficiency For PHO\", \"xaxis\": {\"title\": \"Season\"}}, {\"showLink\": true, \"linkText\": \"Export to plot.ly\"})});</script>"
      ],
      "text/vnd.plotly.v1+html": [
       "<div id=\"be7fa0b5-6d76-435f-9e54-292cfcacee7e\" style=\"height: 525px; width: 100%;\" class=\"plotly-graph-div\"></div><script type=\"text/javascript\">require([\"plotly\"], function(Plotly) { window.PLOTLYENV=window.PLOTLYENV || {};window.PLOTLYENV.BASE_URL=\"https://plot.ly\";Plotly.newPlot(\"be7fa0b5-6d76-435f-9e54-292cfcacee7e\", [{\"type\": \"bar\", \"x\": [\"2017\", \"2016\", \"2015\", \"2014\", \"2013\", \"2012\"], \"y\": [110.1829268292683, 115.32926829268293, 106.60975609756098, 111.6829268292683, 114.2439024390244, 105.08536585365853], \"name\": \"Efficiency\", \"marker\": {\"color\": \"purple\"}}, {\"type\": \"bar\", \"x\": [\"2017\", \"2016\", \"2015\", \"2014\", \"2013\", \"2012\"], \"y\": [32.01232320403305, 25.537190082644628, 30.179538330008548, 29.099175902244955, 30.021913805697594, 21.035130837068092], \"name\": \"3 Point Attempt %\", \"marker\": {\"color\": \"rgb(55,83,109)\"}}], {\"title\": \"3 Point Attempt % VS Efficiency For PHO\", \"xaxis\": {\"title\": \"Season\"}}, {\"showLink\": true, \"linkText\": \"Export to plot.ly\"})});</script>"
      ]
     },
     "metadata": {},
     "output_type": "display_data"
    },
    {
     "data": {
      "application/vnd.plotly.v1+json": {
       "data": [
        {
         "marker": {
          "color": "purple"
         },
         "name": "Efficiency",
         "type": "bar",
         "x": [
          "2017",
          "2016",
          "2015",
          "2014",
          "2013",
          "2012"
         ],
         "y": [
          117.34146341463415,
          119.23170731707317,
          115.90243902439025,
          116.79268292682927,
          120.6951219512195,
          106.5
         ]
        },
        {
         "marker": {
          "color": "rgb(55,83,109)"
         },
         "name": "3 Point Attempt %",
         "type": "bar",
         "x": [
          "2017",
          "2016",
          "2015",
          "2014",
          "2013",
          "2012"
         ],
         "y": [
          32.36118900729108,
          32.18586202011616,
          33.18181818181819,
          31.649879415519933,
          29.029997196523688,
          28.354430379746837
         ]
        }
       ],
       "layout": {
        "title": "3 Point Attempt % VS Efficiency For POR",
        "xaxis": {
         "title": "Season"
        }
       }
      },
      "text/html": [
       "<div id=\"63747612-dc7b-4183-a7e2-3a93608f9564\" style=\"height: 525px; width: 100%;\" class=\"plotly-graph-div\"></div><script type=\"text/javascript\">require([\"plotly\"], function(Plotly) { window.PLOTLYENV=window.PLOTLYENV || {};window.PLOTLYENV.BASE_URL=\"https://plot.ly\";Plotly.newPlot(\"63747612-dc7b-4183-a7e2-3a93608f9564\", [{\"type\": \"bar\", \"x\": [\"2017\", \"2016\", \"2015\", \"2014\", \"2013\", \"2012\"], \"y\": [117.34146341463415, 119.23170731707317, 115.90243902439025, 116.79268292682927, 120.6951219512195, 106.5], \"name\": \"Efficiency\", \"marker\": {\"color\": \"purple\"}}, {\"type\": \"bar\", \"x\": [\"2017\", \"2016\", \"2015\", \"2014\", \"2013\", \"2012\"], \"y\": [32.36118900729108, 32.18586202011616, 33.18181818181819, 31.649879415519933, 29.029997196523688, 28.354430379746837], \"name\": \"3 Point Attempt %\", \"marker\": {\"color\": \"rgb(55,83,109)\"}}], {\"title\": \"3 Point Attempt % VS Efficiency For POR\", \"xaxis\": {\"title\": \"Season\"}}, {\"showLink\": true, \"linkText\": \"Export to plot.ly\"})});</script>"
      ],
      "text/vnd.plotly.v1+html": [
       "<div id=\"63747612-dc7b-4183-a7e2-3a93608f9564\" style=\"height: 525px; width: 100%;\" class=\"plotly-graph-div\"></div><script type=\"text/javascript\">require([\"plotly\"], function(Plotly) { window.PLOTLYENV=window.PLOTLYENV || {};window.PLOTLYENV.BASE_URL=\"https://plot.ly\";Plotly.newPlot(\"63747612-dc7b-4183-a7e2-3a93608f9564\", [{\"type\": \"bar\", \"x\": [\"2017\", \"2016\", \"2015\", \"2014\", \"2013\", \"2012\"], \"y\": [117.34146341463415, 119.23170731707317, 115.90243902439025, 116.79268292682927, 120.6951219512195, 106.5], \"name\": \"Efficiency\", \"marker\": {\"color\": \"purple\"}}, {\"type\": \"bar\", \"x\": [\"2017\", \"2016\", \"2015\", \"2014\", \"2013\", \"2012\"], \"y\": [32.36118900729108, 32.18586202011616, 33.18181818181819, 31.649879415519933, 29.029997196523688, 28.354430379746837], \"name\": \"3 Point Attempt %\", \"marker\": {\"color\": \"rgb(55,83,109)\"}}], {\"title\": \"3 Point Attempt % VS Efficiency For POR\", \"xaxis\": {\"title\": \"Season\"}}, {\"showLink\": true, \"linkText\": \"Export to plot.ly\"})});</script>"
      ]
     },
     "metadata": {},
     "output_type": "display_data"
    },
    {
     "data": {
      "application/vnd.plotly.v1+json": {
       "data": [
        {
         "marker": {
          "color": "purple"
         },
         "name": "Efficiency",
         "type": "bar",
         "x": [
          "2017",
          "2016",
          "2015",
          "2014",
          "2013",
          "2012"
         ],
         "y": [
          107.79268292682927,
          113.8048780487805,
          119.23170731707317,
          109.3048780487805,
          107.45121951219512,
          107.54878048780488
         ]
        },
        {
         "marker": {
          "color": "rgb(55,83,109)"
         },
         "name": "3 Point Attempt %",
         "type": "bar",
         "x": [
          "2017",
          "2016",
          "2015",
          "2014",
          "2013",
          "2012"
         ],
         "y": [
          27.849355797819626,
          29.10602910602911,
          25.963574756459128,
          20.401994861719814,
          21.800177357375112,
          24.348203939745076
         ]
        }
       ],
       "layout": {
        "title": "3 Point Attempt % VS Efficiency For SAC",
        "xaxis": {
         "title": "Season"
        }
       }
      },
      "text/html": [
       "<div id=\"a2d9b492-f471-41af-b332-27fe4e2d557a\" style=\"height: 525px; width: 100%;\" class=\"plotly-graph-div\"></div><script type=\"text/javascript\">require([\"plotly\"], function(Plotly) { window.PLOTLYENV=window.PLOTLYENV || {};window.PLOTLYENV.BASE_URL=\"https://plot.ly\";Plotly.newPlot(\"a2d9b492-f471-41af-b332-27fe4e2d557a\", [{\"type\": \"bar\", \"x\": [\"2017\", \"2016\", \"2015\", \"2014\", \"2013\", \"2012\"], \"y\": [107.79268292682927, 113.8048780487805, 119.23170731707317, 109.3048780487805, 107.45121951219512, 107.54878048780488], \"name\": \"Efficiency\", \"marker\": {\"color\": \"purple\"}}, {\"type\": \"bar\", \"x\": [\"2017\", \"2016\", \"2015\", \"2014\", \"2013\", \"2012\"], \"y\": [27.849355797819626, 29.10602910602911, 25.963574756459128, 20.401994861719814, 21.800177357375112, 24.348203939745076], \"name\": \"3 Point Attempt %\", \"marker\": {\"color\": \"rgb(55,83,109)\"}}], {\"title\": \"3 Point Attempt % VS Efficiency For SAC\", \"xaxis\": {\"title\": \"Season\"}}, {\"showLink\": true, \"linkText\": \"Export to plot.ly\"})});</script>"
      ],
      "text/vnd.plotly.v1+html": [
       "<div id=\"a2d9b492-f471-41af-b332-27fe4e2d557a\" style=\"height: 525px; width: 100%;\" class=\"plotly-graph-div\"></div><script type=\"text/javascript\">require([\"plotly\"], function(Plotly) { window.PLOTLYENV=window.PLOTLYENV || {};window.PLOTLYENV.BASE_URL=\"https://plot.ly\";Plotly.newPlot(\"a2d9b492-f471-41af-b332-27fe4e2d557a\", [{\"type\": \"bar\", \"x\": [\"2017\", \"2016\", \"2015\", \"2014\", \"2013\", \"2012\"], \"y\": [107.79268292682927, 113.8048780487805, 119.23170731707317, 109.3048780487805, 107.45121951219512, 107.54878048780488], \"name\": \"Efficiency\", \"marker\": {\"color\": \"purple\"}}, {\"type\": \"bar\", \"x\": [\"2017\", \"2016\", \"2015\", \"2014\", \"2013\", \"2012\"], \"y\": [27.849355797819626, 29.10602910602911, 25.963574756459128, 20.401994861719814, 21.800177357375112, 24.348203939745076], \"name\": \"3 Point Attempt %\", \"marker\": {\"color\": \"rgb(55,83,109)\"}}], {\"title\": \"3 Point Attempt % VS Efficiency For SAC\", \"xaxis\": {\"title\": \"Season\"}}, {\"showLink\": true, \"linkText\": \"Export to plot.ly\"})});</script>"
      ]
     },
     "metadata": {},
     "output_type": "display_data"
    },
    {
     "data": {
      "application/vnd.plotly.v1+json": {
       "data": [
        {
         "marker": {
          "color": "purple"
         },
         "name": "Efficiency",
         "type": "bar",
         "x": [
          "2017",
          "2016",
          "2015",
          "2014",
          "2013",
          "2012"
         ],
         "y": [
          118.78048780487805,
          124.6219512195122,
          126.26829268292683,
          121.48780487804878,
          124.6829268292683,
          121.98780487804878
         ]
        },
        {
         "marker": {
          "color": "rgb(55,83,109)"
         },
         "name": "3 Point Attempt %",
         "type": "bar",
         "x": [
          "2017",
          "2016",
          "2015",
          "2014",
          "2013",
          "2012"
         ],
         "y": [
          28.246892413201884,
          28.074009324009324,
          22.333382374577017,
          26.947767726874815,
          25.672121566335477,
          26.42696629213483
         ]
        }
       ],
       "layout": {
        "title": "3 Point Attempt % VS Efficiency For SAS",
        "xaxis": {
         "title": "Season"
        }
       }
      },
      "text/html": [
       "<div id=\"f5099fec-44bc-4ca6-a532-924af7e7dd23\" style=\"height: 525px; width: 100%;\" class=\"plotly-graph-div\"></div><script type=\"text/javascript\">require([\"plotly\"], function(Plotly) { window.PLOTLYENV=window.PLOTLYENV || {};window.PLOTLYENV.BASE_URL=\"https://plot.ly\";Plotly.newPlot(\"f5099fec-44bc-4ca6-a532-924af7e7dd23\", [{\"type\": \"bar\", \"x\": [\"2017\", \"2016\", \"2015\", \"2014\", \"2013\", \"2012\"], \"y\": [118.78048780487805, 124.6219512195122, 126.26829268292683, 121.48780487804878, 124.6829268292683, 121.98780487804878], \"name\": \"Efficiency\", \"marker\": {\"color\": \"purple\"}}, {\"type\": \"bar\", \"x\": [\"2017\", \"2016\", \"2015\", \"2014\", \"2013\", \"2012\"], \"y\": [28.246892413201884, 28.074009324009324, 22.333382374577017, 26.947767726874815, 25.672121566335477, 26.42696629213483], \"name\": \"3 Point Attempt %\", \"marker\": {\"color\": \"rgb(55,83,109)\"}}], {\"title\": \"3 Point Attempt % VS Efficiency For SAS\", \"xaxis\": {\"title\": \"Season\"}}, {\"showLink\": true, \"linkText\": \"Export to plot.ly\"})});</script>"
      ],
      "text/vnd.plotly.v1+html": [
       "<div id=\"f5099fec-44bc-4ca6-a532-924af7e7dd23\" style=\"height: 525px; width: 100%;\" class=\"plotly-graph-div\"></div><script type=\"text/javascript\">require([\"plotly\"], function(Plotly) { window.PLOTLYENV=window.PLOTLYENV || {};window.PLOTLYENV.BASE_URL=\"https://plot.ly\";Plotly.newPlot(\"f5099fec-44bc-4ca6-a532-924af7e7dd23\", [{\"type\": \"bar\", \"x\": [\"2017\", \"2016\", \"2015\", \"2014\", \"2013\", \"2012\"], \"y\": [118.78048780487805, 124.6219512195122, 126.26829268292683, 121.48780487804878, 124.6829268292683, 121.98780487804878], \"name\": \"Efficiency\", \"marker\": {\"color\": \"purple\"}}, {\"type\": \"bar\", \"x\": [\"2017\", \"2016\", \"2015\", \"2014\", \"2013\", \"2012\"], \"y\": [28.246892413201884, 28.074009324009324, 22.333382374577017, 26.947767726874815, 25.672121566335477, 26.42696629213483], \"name\": \"3 Point Attempt %\", \"marker\": {\"color\": \"rgb(55,83,109)\"}}], {\"title\": \"3 Point Attempt % VS Efficiency For SAS\", \"xaxis\": {\"title\": \"Season\"}}, {\"showLink\": true, \"linkText\": \"Export to plot.ly\"})});</script>"
      ]
     },
     "metadata": {},
     "output_type": "display_data"
    },
    {
     "data": {
      "application/vnd.plotly.v1+json": {
       "data": [
        {
         "marker": {
          "color": "purple"
         },
         "name": "Efficiency",
         "type": "bar",
         "x": [
          "2017",
          "2016",
          "2015",
          "2014",
          "2013",
          "2012"
         ],
         "y": [
          129.6951219512195,
          118.8048780487805,
          114.3780487804878,
          114.63414634146342,
          111.1829268292683,
          107.32926829268293
         ]
        },
        {
         "marker": {
          "color": "rgb(55,83,109)"
         },
         "name": "3 Point Attempt %",
         "type": "bar",
         "x": [
          "2017",
          "2016",
          "2015",
          "2014",
          "2013",
          "2012"
         ],
         "y": [
          37.704003347747246,
          28.852269442035272,
          28.71494976758135,
          30.165470786352323,
          28.535278356653766,
          24.906507105459987
         ]
        }
       ],
       "layout": {
        "title": "3 Point Attempt % VS Efficiency For TOR",
        "xaxis": {
         "title": "Season"
        }
       }
      },
      "text/html": [
       "<div id=\"5c402225-c2bb-41ed-ad3d-e34d90f469e2\" style=\"height: 525px; width: 100%;\" class=\"plotly-graph-div\"></div><script type=\"text/javascript\">require([\"plotly\"], function(Plotly) { window.PLOTLYENV=window.PLOTLYENV || {};window.PLOTLYENV.BASE_URL=\"https://plot.ly\";Plotly.newPlot(\"5c402225-c2bb-41ed-ad3d-e34d90f469e2\", [{\"type\": \"bar\", \"x\": [\"2017\", \"2016\", \"2015\", \"2014\", \"2013\", \"2012\"], \"y\": [129.6951219512195, 118.8048780487805, 114.3780487804878, 114.63414634146342, 111.1829268292683, 107.32926829268293], \"name\": \"Efficiency\", \"marker\": {\"color\": \"purple\"}}, {\"type\": \"bar\", \"x\": [\"2017\", \"2016\", \"2015\", \"2014\", \"2013\", \"2012\"], \"y\": [37.704003347747246, 28.852269442035272, 28.71494976758135, 30.165470786352323, 28.535278356653766, 24.906507105459987], \"name\": \"3 Point Attempt %\", \"marker\": {\"color\": \"rgb(55,83,109)\"}}], {\"title\": \"3 Point Attempt % VS Efficiency For TOR\", \"xaxis\": {\"title\": \"Season\"}}, {\"showLink\": true, \"linkText\": \"Export to plot.ly\"})});</script>"
      ],
      "text/vnd.plotly.v1+html": [
       "<div id=\"5c402225-c2bb-41ed-ad3d-e34d90f469e2\" style=\"height: 525px; width: 100%;\" class=\"plotly-graph-div\"></div><script type=\"text/javascript\">require([\"plotly\"], function(Plotly) { window.PLOTLYENV=window.PLOTLYENV || {};window.PLOTLYENV.BASE_URL=\"https://plot.ly\";Plotly.newPlot(\"5c402225-c2bb-41ed-ad3d-e34d90f469e2\", [{\"type\": \"bar\", \"x\": [\"2017\", \"2016\", \"2015\", \"2014\", \"2013\", \"2012\"], \"y\": [129.6951219512195, 118.8048780487805, 114.3780487804878, 114.63414634146342, 111.1829268292683, 107.32926829268293], \"name\": \"Efficiency\", \"marker\": {\"color\": \"purple\"}}, {\"type\": \"bar\", \"x\": [\"2017\", \"2016\", \"2015\", \"2014\", \"2013\", \"2012\"], \"y\": [37.704003347747246, 28.852269442035272, 28.71494976758135, 30.165470786352323, 28.535278356653766, 24.906507105459987], \"name\": \"3 Point Attempt %\", \"marker\": {\"color\": \"rgb(55,83,109)\"}}], {\"title\": \"3 Point Attempt % VS Efficiency For TOR\", \"xaxis\": {\"title\": \"Season\"}}, {\"showLink\": true, \"linkText\": \"Export to plot.ly\"})});</script>"
      ]
     },
     "metadata": {},
     "output_type": "display_data"
    },
    {
     "data": {
      "application/vnd.plotly.v1+json": {
       "data": [
        {
         "marker": {
          "color": "purple"
         },
         "name": "Efficiency",
         "type": "bar",
         "x": [
          "2017",
          "2016",
          "2015",
          "2014",
          "2013",
          "2012"
         ],
         "y": [
          119.51219512195122,
          113.90243902439025,
          107.59756097560975,
          106.8780487804878,
          102.60975609756098,
          112.5609756097561
         ]
        },
        {
         "marker": {
          "color": "rgb(55,83,109)"
         },
         "name": "3 Point Attempt %",
         "type": "bar",
         "x": [
          "2017",
          "2016",
          "2015",
          "2014",
          "2013",
          "2012"
         ],
         "y": [
          35.67750478152126,
          32.66308518802763,
          29.6678295161535,
          27.433764633394947,
          23.707155742633795,
          20.640834575260804
         ]
        }
       ],
       "layout": {
        "title": "3 Point Attempt % VS Efficiency For UTA",
        "xaxis": {
         "title": "Season"
        }
       }
      },
      "text/html": [
       "<div id=\"6578216a-f745-4fe7-b64d-f930cd229ddc\" style=\"height: 525px; width: 100%;\" class=\"plotly-graph-div\"></div><script type=\"text/javascript\">require([\"plotly\"], function(Plotly) { window.PLOTLYENV=window.PLOTLYENV || {};window.PLOTLYENV.BASE_URL=\"https://plot.ly\";Plotly.newPlot(\"6578216a-f745-4fe7-b64d-f930cd229ddc\", [{\"type\": \"bar\", \"x\": [\"2017\", \"2016\", \"2015\", \"2014\", \"2013\", \"2012\"], \"y\": [119.51219512195122, 113.90243902439025, 107.59756097560975, 106.8780487804878, 102.60975609756098, 112.5609756097561], \"name\": \"Efficiency\", \"marker\": {\"color\": \"purple\"}}, {\"type\": \"bar\", \"x\": [\"2017\", \"2016\", \"2015\", \"2014\", \"2013\", \"2012\"], \"y\": [35.67750478152126, 32.66308518802763, 29.6678295161535, 27.433764633394947, 23.707155742633795, 20.640834575260804], \"name\": \"3 Point Attempt %\", \"marker\": {\"color\": \"rgb(55,83,109)\"}}], {\"title\": \"3 Point Attempt % VS Efficiency For UTA\", \"xaxis\": {\"title\": \"Season\"}}, {\"showLink\": true, \"linkText\": \"Export to plot.ly\"})});</script>"
      ],
      "text/vnd.plotly.v1+html": [
       "<div id=\"6578216a-f745-4fe7-b64d-f930cd229ddc\" style=\"height: 525px; width: 100%;\" class=\"plotly-graph-div\"></div><script type=\"text/javascript\">require([\"plotly\"], function(Plotly) { window.PLOTLYENV=window.PLOTLYENV || {};window.PLOTLYENV.BASE_URL=\"https://plot.ly\";Plotly.newPlot(\"6578216a-f745-4fe7-b64d-f930cd229ddc\", [{\"type\": \"bar\", \"x\": [\"2017\", \"2016\", \"2015\", \"2014\", \"2013\", \"2012\"], \"y\": [119.51219512195122, 113.90243902439025, 107.59756097560975, 106.8780487804878, 102.60975609756098, 112.5609756097561], \"name\": \"Efficiency\", \"marker\": {\"color\": \"purple\"}}, {\"type\": \"bar\", \"x\": [\"2017\", \"2016\", \"2015\", \"2014\", \"2013\", \"2012\"], \"y\": [35.67750478152126, 32.66308518802763, 29.6678295161535, 27.433764633394947, 23.707155742633795, 20.640834575260804], \"name\": \"3 Point Attempt %\", \"marker\": {\"color\": \"rgb(55,83,109)\"}}], {\"title\": \"3 Point Attempt % VS Efficiency For UTA\", \"xaxis\": {\"title\": \"Season\"}}, {\"showLink\": true, \"linkText\": \"Export to plot.ly\"})});</script>"
      ]
     },
     "metadata": {},
     "output_type": "display_data"
    },
    {
     "data": {
      "application/vnd.plotly.v1+json": {
       "data": [
        {
         "marker": {
          "color": "purple"
         },
         "name": "Efficiency",
         "type": "bar",
         "x": [
          "2017",
          "2016",
          "2015",
          "2014",
          "2013",
          "2012"
         ],
         "y": [
          121.89024390243902,
          123.78048780487805,
          116.09756097560975,
          114.07317073170732,
          112.90243902439025,
          102.97560975609755
         ]
        },
        {
         "marker": {
          "color": "rgb(55,83,109)"
         },
         "name": "3 Point Attempt %",
         "type": "bar",
         "x": [
          "2017",
          "2016",
          "2015",
          "2014",
          "2013",
          "2012"
         ],
         "y": [
          30.963237389569677,
          28.443323525290737,
          28.195649082894924,
          20.338733431516935,
          24.6242774566474,
          22.336769759450174
         ]
        }
       ],
       "layout": {
        "title": "3 Point Attempt % VS Efficiency For WAS",
        "xaxis": {
         "title": "Season"
        }
       }
      },
      "text/html": [
       "<div id=\"3a2342b1-5eb8-44cb-aed9-80cc5b802835\" style=\"height: 525px; width: 100%;\" class=\"plotly-graph-div\"></div><script type=\"text/javascript\">require([\"plotly\"], function(Plotly) { window.PLOTLYENV=window.PLOTLYENV || {};window.PLOTLYENV.BASE_URL=\"https://plot.ly\";Plotly.newPlot(\"3a2342b1-5eb8-44cb-aed9-80cc5b802835\", [{\"type\": \"bar\", \"x\": [\"2017\", \"2016\", \"2015\", \"2014\", \"2013\", \"2012\"], \"y\": [121.89024390243902, 123.78048780487805, 116.09756097560975, 114.07317073170732, 112.90243902439025, 102.97560975609755], \"name\": \"Efficiency\", \"marker\": {\"color\": \"purple\"}}, {\"type\": \"bar\", \"x\": [\"2017\", \"2016\", \"2015\", \"2014\", \"2013\", \"2012\"], \"y\": [30.963237389569677, 28.443323525290737, 28.195649082894924, 20.338733431516935, 24.6242774566474, 22.336769759450174], \"name\": \"3 Point Attempt %\", \"marker\": {\"color\": \"rgb(55,83,109)\"}}], {\"title\": \"3 Point Attempt % VS Efficiency For WAS\", \"xaxis\": {\"title\": \"Season\"}}, {\"showLink\": true, \"linkText\": \"Export to plot.ly\"})});</script>"
      ],
      "text/vnd.plotly.v1+html": [
       "<div id=\"3a2342b1-5eb8-44cb-aed9-80cc5b802835\" style=\"height: 525px; width: 100%;\" class=\"plotly-graph-div\"></div><script type=\"text/javascript\">require([\"plotly\"], function(Plotly) { window.PLOTLYENV=window.PLOTLYENV || {};window.PLOTLYENV.BASE_URL=\"https://plot.ly\";Plotly.newPlot(\"3a2342b1-5eb8-44cb-aed9-80cc5b802835\", [{\"type\": \"bar\", \"x\": [\"2017\", \"2016\", \"2015\", \"2014\", \"2013\", \"2012\"], \"y\": [121.89024390243902, 123.78048780487805, 116.09756097560975, 114.07317073170732, 112.90243902439025, 102.97560975609755], \"name\": \"Efficiency\", \"marker\": {\"color\": \"purple\"}}, {\"type\": \"bar\", \"x\": [\"2017\", \"2016\", \"2015\", \"2014\", \"2013\", \"2012\"], \"y\": [30.963237389569677, 28.443323525290737, 28.195649082894924, 20.338733431516935, 24.6242774566474, 22.336769759450174], \"name\": \"3 Point Attempt %\", \"marker\": {\"color\": \"rgb(55,83,109)\"}}], {\"title\": \"3 Point Attempt % VS Efficiency For WAS\", \"xaxis\": {\"title\": \"Season\"}}, {\"showLink\": true, \"linkText\": \"Export to plot.ly\"})});</script>"
      ]
     },
     "metadata": {},
     "output_type": "display_data"
    }
   ],
   "source": [
    "for df in teamstats:\n",
    "    data = []\n",
    "    data.append(go.Bar(\n",
    "        x = df['Season'],\n",
    "        y = df['Efficiency'],\n",
    "        name= 'Efficiency',\n",
    "        marker = dict(\n",
    "            color = \"purple\")\n",
    "    ))\n",
    "    data.append(go.Bar(\n",
    "        x = df['Season'],\n",
    "        y = df['3PA%'],\n",
    "        name= '3 Point Attempt %',\n",
    "        marker = dict(\n",
    "            color = \"rgb(55,83,109)\")\n",
    "    ))\n",
    "    layout = dict(title= '3 Point Attempt % VS Efficiency For '+ df['Tm'][0],xaxis = dict(title = 'Season')) \n",
    "    fig = dict(data=data, layout=layout)\n",
    "    iplot(fig, filename='basic-line')"
   ]
  },
  {
   "cell_type": "code",
   "execution_count": 279,
   "metadata": {},
   "outputs": [
    {
     "data": {
      "application/vnd.plotly.v1+json": {
       "data": [
        {
         "marker": {
          "color": "purple"
         },
         "name": "Efficiency",
         "type": "bar",
         "x": [
          "2017",
          "2016",
          "2015",
          "2014",
          "2013",
          "2012"
         ],
         "y": [
          113.73170731707317,
          115.32926829268293,
          120.48780487804878,
          119.98780487804878,
          113.89024390243902,
          111.98780487804878
         ]
        },
        {
         "marker": {
          "color": "blue"
         },
         "name": "3 Point Percentage Made",
         "type": "bar",
         "x": [
          "2017",
          "2016",
          "2015",
          "2014",
          "2013",
          "2012"
         ],
         "y": [
          36,
          34.1,
          35,
          38,
          36.3,
          37.1
         ]
        }
       ],
       "layout": {
        "title": "Efficiency VS 3 Point Percentage Made for ATL",
        "xaxis": {
         "title": "Season"
        }
       }
      },
      "text/html": [
       "<div id=\"06b1b770-2d84-4d77-b5d9-c3679b2b8e49\" style=\"height: 525px; width: 100%;\" class=\"plotly-graph-div\"></div><script type=\"text/javascript\">require([\"plotly\"], function(Plotly) { window.PLOTLYENV=window.PLOTLYENV || {};window.PLOTLYENV.BASE_URL=\"https://plot.ly\";Plotly.newPlot(\"06b1b770-2d84-4d77-b5d9-c3679b2b8e49\", [{\"type\": \"bar\", \"x\": [\"2017\", \"2016\", \"2015\", \"2014\", \"2013\", \"2012\"], \"y\": [113.73170731707317, 115.32926829268293, 120.48780487804878, 119.98780487804878, 113.89024390243902, 111.98780487804878], \"name\": \"Efficiency\", \"marker\": {\"color\": \"purple\"}}, {\"type\": \"bar\", \"x\": [\"2017\", \"2016\", \"2015\", \"2014\", \"2013\", \"2012\"], \"y\": [36.0, 34.1, 35.0, 38.0, 36.3, 37.1], \"name\": \"3 Point Percentage Made\", \"marker\": {\"color\": \"blue\"}}], {\"title\": \"Efficiency VS 3 Point Percentage Made for ATL\", \"xaxis\": {\"title\": \"Season\"}}, {\"showLink\": true, \"linkText\": \"Export to plot.ly\"})});</script>"
      ],
      "text/vnd.plotly.v1+html": [
       "<div id=\"06b1b770-2d84-4d77-b5d9-c3679b2b8e49\" style=\"height: 525px; width: 100%;\" class=\"plotly-graph-div\"></div><script type=\"text/javascript\">require([\"plotly\"], function(Plotly) { window.PLOTLYENV=window.PLOTLYENV || {};window.PLOTLYENV.BASE_URL=\"https://plot.ly\";Plotly.newPlot(\"06b1b770-2d84-4d77-b5d9-c3679b2b8e49\", [{\"type\": \"bar\", \"x\": [\"2017\", \"2016\", \"2015\", \"2014\", \"2013\", \"2012\"], \"y\": [113.73170731707317, 115.32926829268293, 120.48780487804878, 119.98780487804878, 113.89024390243902, 111.98780487804878], \"name\": \"Efficiency\", \"marker\": {\"color\": \"purple\"}}, {\"type\": \"bar\", \"x\": [\"2017\", \"2016\", \"2015\", \"2014\", \"2013\", \"2012\"], \"y\": [36.0, 34.1, 35.0, 38.0, 36.3, 37.1], \"name\": \"3 Point Percentage Made\", \"marker\": {\"color\": \"blue\"}}], {\"title\": \"Efficiency VS 3 Point Percentage Made for ATL\", \"xaxis\": {\"title\": \"Season\"}}, {\"showLink\": true, \"linkText\": \"Export to plot.ly\"})});</script>"
      ]
     },
     "metadata": {},
     "output_type": "display_data"
    },
    {
     "data": {
      "application/vnd.plotly.v1+json": {
       "data": [
        {
         "marker": {
          "color": "purple"
         },
         "name": "Efficiency",
         "type": "bar",
         "x": [
          "2017",
          "2016",
          "2015",
          "2014",
          "2013",
          "2012"
         ],
         "y": [
          116.86585365853658,
          113.90243902439025,
          109.08536585365853,
          107.52439024390245,
          107.21951219512195,
          107.01219512195122
         ]
        },
        {
         "marker": {
          "color": "blue"
         },
         "name": "3 Point Percentage Made",
         "type": "bar",
         "x": [
          "2017",
          "2016",
          "2015",
          "2014",
          "2013",
          "2012"
         ],
         "y": [
          35.6,
          33.800000000000004,
          35.199999999999996,
          33.1,
          36.9,
          35.699999999999996
         ]
        }
       ],
       "layout": {
        "title": "Efficiency VS 3 Point Percentage Made for BRK",
        "xaxis": {
         "title": "Season"
        }
       }
      },
      "text/html": [
       "<div id=\"79304de0-c327-4c9b-8039-8491f1be0369\" style=\"height: 525px; width: 100%;\" class=\"plotly-graph-div\"></div><script type=\"text/javascript\">require([\"plotly\"], function(Plotly) { window.PLOTLYENV=window.PLOTLYENV || {};window.PLOTLYENV.BASE_URL=\"https://plot.ly\";Plotly.newPlot(\"79304de0-c327-4c9b-8039-8491f1be0369\", [{\"type\": \"bar\", \"x\": [\"2017\", \"2016\", \"2015\", \"2014\", \"2013\", \"2012\"], \"y\": [116.86585365853658, 113.90243902439025, 109.08536585365853, 107.52439024390245, 107.21951219512195, 107.01219512195122], \"name\": \"Efficiency\", \"marker\": {\"color\": \"purple\"}}, {\"type\": \"bar\", \"x\": [\"2017\", \"2016\", \"2015\", \"2014\", \"2013\", \"2012\"], \"y\": [35.6, 33.800000000000004, 35.199999999999996, 33.1, 36.9, 35.699999999999996], \"name\": \"3 Point Percentage Made\", \"marker\": {\"color\": \"blue\"}}], {\"title\": \"Efficiency VS 3 Point Percentage Made for BRK\", \"xaxis\": {\"title\": \"Season\"}}, {\"showLink\": true, \"linkText\": \"Export to plot.ly\"})});</script>"
      ],
      "text/vnd.plotly.v1+html": [
       "<div id=\"79304de0-c327-4c9b-8039-8491f1be0369\" style=\"height: 525px; width: 100%;\" class=\"plotly-graph-div\"></div><script type=\"text/javascript\">require([\"plotly\"], function(Plotly) { window.PLOTLYENV=window.PLOTLYENV || {};window.PLOTLYENV.BASE_URL=\"https://plot.ly\";Plotly.newPlot(\"79304de0-c327-4c9b-8039-8491f1be0369\", [{\"type\": \"bar\", \"x\": [\"2017\", \"2016\", \"2015\", \"2014\", \"2013\", \"2012\"], \"y\": [116.86585365853658, 113.90243902439025, 109.08536585365853, 107.52439024390245, 107.21951219512195, 107.01219512195122], \"name\": \"Efficiency\", \"marker\": {\"color\": \"purple\"}}, {\"type\": \"bar\", \"x\": [\"2017\", \"2016\", \"2015\", \"2014\", \"2013\", \"2012\"], \"y\": [35.6, 33.800000000000004, 35.199999999999996, 33.1, 36.9, 35.699999999999996], \"name\": \"3 Point Percentage Made\", \"marker\": {\"color\": \"blue\"}}], {\"title\": \"Efficiency VS 3 Point Percentage Made for BRK\", \"xaxis\": {\"title\": \"Season\"}}, {\"showLink\": true, \"linkText\": \"Export to plot.ly\"})});</script>"
      ]
     },
     "metadata": {},
     "output_type": "display_data"
    },
    {
     "data": {
      "application/vnd.plotly.v1+json": {
       "data": [
        {
         "marker": {
          "color": "purple"
         },
         "name": "Efficiency",
         "type": "bar",
         "x": [
          "2017",
          "2016",
          "2015",
          "2014",
          "2013",
          "2012"
         ],
         "y": [
          117.34146341463415,
          122.6829268292683,
          119.45121951219512,
          113.67073170731707,
          103.67073170731707,
          108.0609756097561
         ]
        },
        {
         "marker": {
          "color": "blue"
         },
         "name": "3 Point Percentage Made",
         "type": "bar",
         "x": [
          "2017",
          "2016",
          "2015",
          "2014",
          "2013",
          "2012"
         ],
         "y": [
          37.7,
          35.9,
          33.5,
          32.7,
          33.300000000000004,
          35.8
         ]
        }
       ],
       "layout": {
        "title": "Efficiency VS 3 Point Percentage Made for BOS",
        "xaxis": {
         "title": "Season"
        }
       }
      },
      "text/html": [
       "<div id=\"f2f15010-359d-4ca9-965d-fed4a5dc1135\" style=\"height: 525px; width: 100%;\" class=\"plotly-graph-div\"></div><script type=\"text/javascript\">require([\"plotly\"], function(Plotly) { window.PLOTLYENV=window.PLOTLYENV || {};window.PLOTLYENV.BASE_URL=\"https://plot.ly\";Plotly.newPlot(\"f2f15010-359d-4ca9-965d-fed4a5dc1135\", [{\"type\": \"bar\", \"x\": [\"2017\", \"2016\", \"2015\", \"2014\", \"2013\", \"2012\"], \"y\": [117.34146341463415, 122.6829268292683, 119.45121951219512, 113.67073170731707, 103.67073170731707, 108.0609756097561], \"name\": \"Efficiency\", \"marker\": {\"color\": \"purple\"}}, {\"type\": \"bar\", \"x\": [\"2017\", \"2016\", \"2015\", \"2014\", \"2013\", \"2012\"], \"y\": [37.7, 35.9, 33.5, 32.7, 33.300000000000004, 35.8], \"name\": \"3 Point Percentage Made\", \"marker\": {\"color\": \"blue\"}}], {\"title\": \"Efficiency VS 3 Point Percentage Made for BOS\", \"xaxis\": {\"title\": \"Season\"}}, {\"showLink\": true, \"linkText\": \"Export to plot.ly\"})});</script>"
      ],
      "text/vnd.plotly.v1+html": [
       "<div id=\"f2f15010-359d-4ca9-965d-fed4a5dc1135\" style=\"height: 525px; width: 100%;\" class=\"plotly-graph-div\"></div><script type=\"text/javascript\">require([\"plotly\"], function(Plotly) { window.PLOTLYENV=window.PLOTLYENV || {};window.PLOTLYENV.BASE_URL=\"https://plot.ly\";Plotly.newPlot(\"f2f15010-359d-4ca9-965d-fed4a5dc1135\", [{\"type\": \"bar\", \"x\": [\"2017\", \"2016\", \"2015\", \"2014\", \"2013\", \"2012\"], \"y\": [117.34146341463415, 122.6829268292683, 119.45121951219512, 113.67073170731707, 103.67073170731707, 108.0609756097561], \"name\": \"Efficiency\", \"marker\": {\"color\": \"purple\"}}, {\"type\": \"bar\", \"x\": [\"2017\", \"2016\", \"2015\", \"2014\", \"2013\", \"2012\"], \"y\": [37.7, 35.9, 33.5, 32.7, 33.300000000000004, 35.8], \"name\": \"3 Point Percentage Made\", \"marker\": {\"color\": \"blue\"}}], {\"title\": \"Efficiency VS 3 Point Percentage Made for BOS\", \"xaxis\": {\"title\": \"Season\"}}, {\"showLink\": true, \"linkText\": \"Export to plot.ly\"})});</script>"
      ]
     },
     "metadata": {},
     "output_type": "display_data"
    },
    {
     "data": {
      "application/vnd.plotly.v1+json": {
       "data": [
        {
         "marker": {
          "color": "purple"
         },
         "name": "Efficiency",
         "type": "bar",
         "x": [
          "2017",
          "2016",
          "2015",
          "2014",
          "2013",
          "2012"
         ],
         "y": [
          119.42682926829268,
          119.70731707317073,
          116.70731707317073,
          103.29268292682927,
          107.92682926829268,
          99.15853658536585
         ]
        },
        {
         "marker": {
          "color": "blue"
         },
         "name": "3 Point Percentage Made",
         "type": "bar",
         "x": [
          "2017",
          "2016",
          "2015",
          "2014",
          "2013",
          "2012"
         ],
         "y": [
          36.9,
          35.099999999999994,
          36.199999999999996,
          31.8,
          35.099999999999994,
          33.5
         ]
        }
       ],
       "layout": {
        "title": "Efficiency VS 3 Point Percentage Made for CHO",
        "xaxis": {
         "title": "Season"
        }
       }
      },
      "text/html": [
       "<div id=\"37162b3f-cb7b-4be9-9733-5d907d0f2e16\" style=\"height: 525px; width: 100%;\" class=\"plotly-graph-div\"></div><script type=\"text/javascript\">require([\"plotly\"], function(Plotly) { window.PLOTLYENV=window.PLOTLYENV || {};window.PLOTLYENV.BASE_URL=\"https://plot.ly\";Plotly.newPlot(\"37162b3f-cb7b-4be9-9733-5d907d0f2e16\", [{\"type\": \"bar\", \"x\": [\"2017\", \"2016\", \"2015\", \"2014\", \"2013\", \"2012\"], \"y\": [119.42682926829268, 119.70731707317073, 116.70731707317073, 103.29268292682927, 107.92682926829268, 99.15853658536585], \"name\": \"Efficiency\", \"marker\": {\"color\": \"purple\"}}, {\"type\": \"bar\", \"x\": [\"2017\", \"2016\", \"2015\", \"2014\", \"2013\", \"2012\"], \"y\": [36.9, 35.099999999999994, 36.199999999999996, 31.8, 35.099999999999994, 33.5], \"name\": \"3 Point Percentage Made\", \"marker\": {\"color\": \"blue\"}}], {\"title\": \"Efficiency VS 3 Point Percentage Made for CHO\", \"xaxis\": {\"title\": \"Season\"}}, {\"showLink\": true, \"linkText\": \"Export to plot.ly\"})});</script>"
      ],
      "text/vnd.plotly.v1+html": [
       "<div id=\"37162b3f-cb7b-4be9-9733-5d907d0f2e16\" style=\"height: 525px; width: 100%;\" class=\"plotly-graph-div\"></div><script type=\"text/javascript\">require([\"plotly\"], function(Plotly) { window.PLOTLYENV=window.PLOTLYENV || {};window.PLOTLYENV.BASE_URL=\"https://plot.ly\";Plotly.newPlot(\"37162b3f-cb7b-4be9-9733-5d907d0f2e16\", [{\"type\": \"bar\", \"x\": [\"2017\", \"2016\", \"2015\", \"2014\", \"2013\", \"2012\"], \"y\": [119.42682926829268, 119.70731707317073, 116.70731707317073, 103.29268292682927, 107.92682926829268, 99.15853658536585], \"name\": \"Efficiency\", \"marker\": {\"color\": \"purple\"}}, {\"type\": \"bar\", \"x\": [\"2017\", \"2016\", \"2015\", \"2014\", \"2013\", \"2012\"], \"y\": [36.9, 35.099999999999994, 36.199999999999996, 31.8, 35.099999999999994, 33.5], \"name\": \"3 Point Percentage Made\", \"marker\": {\"color\": \"blue\"}}], {\"title\": \"Efficiency VS 3 Point Percentage Made for CHO\", \"xaxis\": {\"title\": \"Season\"}}, {\"showLink\": true, \"linkText\": \"Export to plot.ly\"})});</script>"
      ]
     },
     "metadata": {},
     "output_type": "display_data"
    },
    {
     "data": {
      "application/vnd.plotly.v1+json": {
       "data": [
        {
         "marker": {
          "color": "purple"
         },
         "name": "Efficiency",
         "type": "bar",
         "x": [
          "2017",
          "2016",
          "2015",
          "2014",
          "2013",
          "2012"
         ],
         "y": [
          113.36585365853658,
          117.8048780487805,
          115.29268292682927,
          114.59756097560975,
          107.3048780487805,
          106.51219512195122
         ]
        },
        {
         "marker": {
          "color": "blue"
         },
         "name": "3 Point Percentage Made",
         "type": "bar",
         "x": [
          "2017",
          "2016",
          "2015",
          "2014",
          "2013",
          "2012"
         ],
         "y": [
          35.5,
          34,
          37.1,
          35.3,
          34.8,
          35.3
         ]
        }
       ],
       "layout": {
        "title": "Efficiency VS 3 Point Percentage Made for CHI",
        "xaxis": {
         "title": "Season"
        }
       }
      },
      "text/html": [
       "<div id=\"3e7a6e42-f934-4233-9828-7f5af4bf5ac6\" style=\"height: 525px; width: 100%;\" class=\"plotly-graph-div\"></div><script type=\"text/javascript\">require([\"plotly\"], function(Plotly) { window.PLOTLYENV=window.PLOTLYENV || {};window.PLOTLYENV.BASE_URL=\"https://plot.ly\";Plotly.newPlot(\"3e7a6e42-f934-4233-9828-7f5af4bf5ac6\", [{\"type\": \"bar\", \"x\": [\"2017\", \"2016\", \"2015\", \"2014\", \"2013\", \"2012\"], \"y\": [113.36585365853658, 117.8048780487805, 115.29268292682927, 114.59756097560975, 107.3048780487805, 106.51219512195122], \"name\": \"Efficiency\", \"marker\": {\"color\": \"purple\"}}, {\"type\": \"bar\", \"x\": [\"2017\", \"2016\", \"2015\", \"2014\", \"2013\", \"2012\"], \"y\": [35.5, 34.0, 37.1, 35.3, 34.8, 35.3], \"name\": \"3 Point Percentage Made\", \"marker\": {\"color\": \"blue\"}}], {\"title\": \"Efficiency VS 3 Point Percentage Made for CHI\", \"xaxis\": {\"title\": \"Season\"}}, {\"showLink\": true, \"linkText\": \"Export to plot.ly\"})});</script>"
      ],
      "text/vnd.plotly.v1+html": [
       "<div id=\"3e7a6e42-f934-4233-9828-7f5af4bf5ac6\" style=\"height: 525px; width: 100%;\" class=\"plotly-graph-div\"></div><script type=\"text/javascript\">require([\"plotly\"], function(Plotly) { window.PLOTLYENV=window.PLOTLYENV || {};window.PLOTLYENV.BASE_URL=\"https://plot.ly\";Plotly.newPlot(\"3e7a6e42-f934-4233-9828-7f5af4bf5ac6\", [{\"type\": \"bar\", \"x\": [\"2017\", \"2016\", \"2015\", \"2014\", \"2013\", \"2012\"], \"y\": [113.36585365853658, 117.8048780487805, 115.29268292682927, 114.59756097560975, 107.3048780487805, 106.51219512195122], \"name\": \"Efficiency\", \"marker\": {\"color\": \"purple\"}}, {\"type\": \"bar\", \"x\": [\"2017\", \"2016\", \"2015\", \"2014\", \"2013\", \"2012\"], \"y\": [35.5, 34.0, 37.1, 35.3, 34.8, 35.3], \"name\": \"3 Point Percentage Made\", \"marker\": {\"color\": \"blue\"}}], {\"title\": \"Efficiency VS 3 Point Percentage Made for CHI\", \"xaxis\": {\"title\": \"Season\"}}, {\"showLink\": true, \"linkText\": \"Export to plot.ly\"})});</script>"
      ]
     },
     "metadata": {},
     "output_type": "display_data"
    },
    {
     "data": {
      "application/vnd.plotly.v1+json": {
       "data": [
        {
         "marker": {
          "color": "purple"
         },
         "name": "Efficiency",
         "type": "bar",
         "x": [
          "2017",
          "2016",
          "2015",
          "2014",
          "2013",
          "2012"
         ],
         "y": [
          124.02439024390245,
          122.78048780487805,
          117.71951219512195,
          115.0609756097561,
          106.6829268292683,
          103.02439024390245
         ]
        },
        {
         "marker": {
          "color": "blue"
         },
         "name": "3 Point Percentage Made",
         "type": "bar",
         "x": [
          "2017",
          "2016",
          "2015",
          "2014",
          "2013",
          "2012"
         ],
         "y": [
          37.2,
          38.4,
          36.199999999999996,
          36.7,
          35.6,
          34.599999999999994
         ]
        }
       ],
       "layout": {
        "title": "Efficiency VS 3 Point Percentage Made for CLE",
        "xaxis": {
         "title": "Season"
        }
       }
      },
      "text/html": [
       "<div id=\"92ba6c14-2b45-4869-b78c-1b25194bb292\" style=\"height: 525px; width: 100%;\" class=\"plotly-graph-div\"></div><script type=\"text/javascript\">require([\"plotly\"], function(Plotly) { window.PLOTLYENV=window.PLOTLYENV || {};window.PLOTLYENV.BASE_URL=\"https://plot.ly\";Plotly.newPlot(\"92ba6c14-2b45-4869-b78c-1b25194bb292\", [{\"type\": \"bar\", \"x\": [\"2017\", \"2016\", \"2015\", \"2014\", \"2013\", \"2012\"], \"y\": [124.02439024390245, 122.78048780487805, 117.71951219512195, 115.0609756097561, 106.6829268292683, 103.02439024390245], \"name\": \"Efficiency\", \"marker\": {\"color\": \"purple\"}}, {\"type\": \"bar\", \"x\": [\"2017\", \"2016\", \"2015\", \"2014\", \"2013\", \"2012\"], \"y\": [37.2, 38.4, 36.199999999999996, 36.7, 35.6, 34.599999999999994], \"name\": \"3 Point Percentage Made\", \"marker\": {\"color\": \"blue\"}}], {\"title\": \"Efficiency VS 3 Point Percentage Made for CLE\", \"xaxis\": {\"title\": \"Season\"}}, {\"showLink\": true, \"linkText\": \"Export to plot.ly\"})});</script>"
      ],
      "text/vnd.plotly.v1+html": [
       "<div id=\"92ba6c14-2b45-4869-b78c-1b25194bb292\" style=\"height: 525px; width: 100%;\" class=\"plotly-graph-div\"></div><script type=\"text/javascript\">require([\"plotly\"], function(Plotly) { window.PLOTLYENV=window.PLOTLYENV || {};window.PLOTLYENV.BASE_URL=\"https://plot.ly\";Plotly.newPlot(\"92ba6c14-2b45-4869-b78c-1b25194bb292\", [{\"type\": \"bar\", \"x\": [\"2017\", \"2016\", \"2015\", \"2014\", \"2013\", \"2012\"], \"y\": [124.02439024390245, 122.78048780487805, 117.71951219512195, 115.0609756097561, 106.6829268292683, 103.02439024390245], \"name\": \"Efficiency\", \"marker\": {\"color\": \"purple\"}}, {\"type\": \"bar\", \"x\": [\"2017\", \"2016\", \"2015\", \"2014\", \"2013\", \"2012\"], \"y\": [37.2, 38.4, 36.199999999999996, 36.7, 35.6, 34.599999999999994], \"name\": \"3 Point Percentage Made\", \"marker\": {\"color\": \"blue\"}}], {\"title\": \"Efficiency VS 3 Point Percentage Made for CLE\", \"xaxis\": {\"title\": \"Season\"}}, {\"showLink\": true, \"linkText\": \"Export to plot.ly\"})});</script>"
      ]
     },
     "metadata": {},
     "output_type": "display_data"
    },
    {
     "data": {
      "application/vnd.plotly.v1+json": {
       "data": [
        {
         "marker": {
          "color": "purple"
         },
         "name": "Efficiency",
         "type": "bar",
         "x": [
          "2017",
          "2016",
          "2015",
          "2014",
          "2013",
          "2012"
         ],
         "y": [
          112.6219512195122,
          106.86585365853658,
          113.89024390243902,
          117.97560975609755,
          120.39024390243902,
          116.3170731707317
         ]
        },
        {
         "marker": {
          "color": "blue"
         },
         "name": "3 Point Percentage Made",
         "type": "bar",
         "x": [
          "2017",
          "2016",
          "2015",
          "2014",
          "2013",
          "2012"
         ],
         "y": [
          36,
          35.5,
          34.4,
          35.199999999999996,
          38.4,
          37.2
         ]
        }
       ],
       "layout": {
        "title": "Efficiency VS 3 Point Percentage Made for DAL",
        "xaxis": {
         "title": "Season"
        }
       }
      },
      "text/html": [
       "<div id=\"f79b44f1-6691-47fa-944e-b47f28856772\" style=\"height: 525px; width: 100%;\" class=\"plotly-graph-div\"></div><script type=\"text/javascript\">require([\"plotly\"], function(Plotly) { window.PLOTLYENV=window.PLOTLYENV || {};window.PLOTLYENV.BASE_URL=\"https://plot.ly\";Plotly.newPlot(\"f79b44f1-6691-47fa-944e-b47f28856772\", [{\"type\": \"bar\", \"x\": [\"2017\", \"2016\", \"2015\", \"2014\", \"2013\", \"2012\"], \"y\": [112.6219512195122, 106.86585365853658, 113.89024390243902, 117.97560975609755, 120.39024390243902, 116.3170731707317], \"name\": \"Efficiency\", \"marker\": {\"color\": \"purple\"}}, {\"type\": \"bar\", \"x\": [\"2017\", \"2016\", \"2015\", \"2014\", \"2013\", \"2012\"], \"y\": [36.0, 35.5, 34.4, 35.199999999999996, 38.4, 37.2], \"name\": \"3 Point Percentage Made\", \"marker\": {\"color\": \"blue\"}}], {\"title\": \"Efficiency VS 3 Point Percentage Made for DAL\", \"xaxis\": {\"title\": \"Season\"}}, {\"showLink\": true, \"linkText\": \"Export to plot.ly\"})});</script>"
      ],
      "text/vnd.plotly.v1+html": [
       "<div id=\"f79b44f1-6691-47fa-944e-b47f28856772\" style=\"height: 525px; width: 100%;\" class=\"plotly-graph-div\"></div><script type=\"text/javascript\">require([\"plotly\"], function(Plotly) { window.PLOTLYENV=window.PLOTLYENV || {};window.PLOTLYENV.BASE_URL=\"https://plot.ly\";Plotly.newPlot(\"f79b44f1-6691-47fa-944e-b47f28856772\", [{\"type\": \"bar\", \"x\": [\"2017\", \"2016\", \"2015\", \"2014\", \"2013\", \"2012\"], \"y\": [112.6219512195122, 106.86585365853658, 113.89024390243902, 117.97560975609755, 120.39024390243902, 116.3170731707317], \"name\": \"Efficiency\", \"marker\": {\"color\": \"purple\"}}, {\"type\": \"bar\", \"x\": [\"2017\", \"2016\", \"2015\", \"2014\", \"2013\", \"2012\"], \"y\": [36.0, 35.5, 34.4, 35.199999999999996, 38.4, 37.2], \"name\": \"3 Point Percentage Made\", \"marker\": {\"color\": \"blue\"}}], {\"title\": \"Efficiency VS 3 Point Percentage Made for DAL\", \"xaxis\": {\"title\": \"Season\"}}, {\"showLink\": true, \"linkText\": \"Export to plot.ly\"})});</script>"
      ]
     },
     "metadata": {},
     "output_type": "display_data"
    },
    {
     "data": {
      "application/vnd.plotly.v1+json": {
       "data": [
        {
         "marker": {
          "color": "purple"
         },
         "name": "Efficiency",
         "type": "bar",
         "x": [
          "2017",
          "2016",
          "2015",
          "2014",
          "2013",
          "2012"
         ],
         "y": [
          126.08536585365853,
          127.3170731707317,
          113.45121951219512,
          110.08536585365853,
          114.70731707317073,
          123.82926829268293
         ]
        },
        {
         "marker": {
          "color": "blue"
         },
         "name": "3 Point Percentage Made",
         "type": "bar",
         "x": [
          "2017",
          "2016",
          "2015",
          "2014",
          "2013",
          "2012"
         ],
         "y": [
          37.1,
          36.8,
          33.800000000000004,
          32.5,
          35.8,
          34.300000000000004
         ]
        }
       ],
       "layout": {
        "title": "Efficiency VS 3 Point Percentage Made for DEN",
        "xaxis": {
         "title": "Season"
        }
       }
      },
      "text/html": [
       "<div id=\"0004e907-831b-4823-aa2b-02706bf69565\" style=\"height: 525px; width: 100%;\" class=\"plotly-graph-div\"></div><script type=\"text/javascript\">require([\"plotly\"], function(Plotly) { window.PLOTLYENV=window.PLOTLYENV || {};window.PLOTLYENV.BASE_URL=\"https://plot.ly\";Plotly.newPlot(\"0004e907-831b-4823-aa2b-02706bf69565\", [{\"type\": \"bar\", \"x\": [\"2017\", \"2016\", \"2015\", \"2014\", \"2013\", \"2012\"], \"y\": [126.08536585365853, 127.3170731707317, 113.45121951219512, 110.08536585365853, 114.70731707317073, 123.82926829268293], \"name\": \"Efficiency\", \"marker\": {\"color\": \"purple\"}}, {\"type\": \"bar\", \"x\": [\"2017\", \"2016\", \"2015\", \"2014\", \"2013\", \"2012\"], \"y\": [37.1, 36.8, 33.800000000000004, 32.5, 35.8, 34.300000000000004], \"name\": \"3 Point Percentage Made\", \"marker\": {\"color\": \"blue\"}}], {\"title\": \"Efficiency VS 3 Point Percentage Made for DEN\", \"xaxis\": {\"title\": \"Season\"}}, {\"showLink\": true, \"linkText\": \"Export to plot.ly\"})});</script>"
      ],
      "text/vnd.plotly.v1+html": [
       "<div id=\"0004e907-831b-4823-aa2b-02706bf69565\" style=\"height: 525px; width: 100%;\" class=\"plotly-graph-div\"></div><script type=\"text/javascript\">require([\"plotly\"], function(Plotly) { window.PLOTLYENV=window.PLOTLYENV || {};window.PLOTLYENV.BASE_URL=\"https://plot.ly\";Plotly.newPlot(\"0004e907-831b-4823-aa2b-02706bf69565\", [{\"type\": \"bar\", \"x\": [\"2017\", \"2016\", \"2015\", \"2014\", \"2013\", \"2012\"], \"y\": [126.08536585365853, 127.3170731707317, 113.45121951219512, 110.08536585365853, 114.70731707317073, 123.82926829268293], \"name\": \"Efficiency\", \"marker\": {\"color\": \"purple\"}}, {\"type\": \"bar\", \"x\": [\"2017\", \"2016\", \"2015\", \"2014\", \"2013\", \"2012\"], \"y\": [37.1, 36.8, 33.800000000000004, 32.5, 35.8, 34.300000000000004], \"name\": \"3 Point Percentage Made\", \"marker\": {\"color\": \"blue\"}}], {\"title\": \"Efficiency VS 3 Point Percentage Made for DEN\", \"xaxis\": {\"title\": \"Season\"}}, {\"showLink\": true, \"linkText\": \"Export to plot.ly\"})});</script>"
      ]
     },
     "metadata": {},
     "output_type": "display_data"
    },
    {
     "data": {
      "application/vnd.plotly.v1+json": {
       "data": [
        {
         "marker": {
          "color": "purple"
         },
         "name": "Efficiency",
         "type": "bar",
         "x": [
          "2017",
          "2016",
          "2015",
          "2014",
          "2013",
          "2012"
         ],
         "y": [
          115.48780487804878,
          112.67073170731707,
          107.90243902439025,
          108.45121951219512,
          109.41463414634147,
          103.47560975609755
         ]
        },
        {
         "marker": {
          "color": "blue"
         },
         "name": "3 Point Percentage Made",
         "type": "bar",
         "x": [
          "2017",
          "2016",
          "2015",
          "2014",
          "2013",
          "2012"
         ],
         "y": [
          37.3,
          33,
          34.5,
          34.4,
          32.1,
          35.6
         ]
        }
       ],
       "layout": {
        "title": "Efficiency VS 3 Point Percentage Made for DET",
        "xaxis": {
         "title": "Season"
        }
       }
      },
      "text/html": [
       "<div id=\"be33a3b5-d52a-4c01-a498-4f81fa2f4a57\" style=\"height: 525px; width: 100%;\" class=\"plotly-graph-div\"></div><script type=\"text/javascript\">require([\"plotly\"], function(Plotly) { window.PLOTLYENV=window.PLOTLYENV || {};window.PLOTLYENV.BASE_URL=\"https://plot.ly\";Plotly.newPlot(\"be33a3b5-d52a-4c01-a498-4f81fa2f4a57\", [{\"type\": \"bar\", \"x\": [\"2017\", \"2016\", \"2015\", \"2014\", \"2013\", \"2012\"], \"y\": [115.48780487804878, 112.67073170731707, 107.90243902439025, 108.45121951219512, 109.41463414634147, 103.47560975609755], \"name\": \"Efficiency\", \"marker\": {\"color\": \"purple\"}}, {\"type\": \"bar\", \"x\": [\"2017\", \"2016\", \"2015\", \"2014\", \"2013\", \"2012\"], \"y\": [37.3, 33.0, 34.5, 34.4, 32.1, 35.6], \"name\": \"3 Point Percentage Made\", \"marker\": {\"color\": \"blue\"}}], {\"title\": \"Efficiency VS 3 Point Percentage Made for DET\", \"xaxis\": {\"title\": \"Season\"}}, {\"showLink\": true, \"linkText\": \"Export to plot.ly\"})});</script>"
      ],
      "text/vnd.plotly.v1+html": [
       "<div id=\"be33a3b5-d52a-4c01-a498-4f81fa2f4a57\" style=\"height: 525px; width: 100%;\" class=\"plotly-graph-div\"></div><script type=\"text/javascript\">require([\"plotly\"], function(Plotly) { window.PLOTLYENV=window.PLOTLYENV || {};window.PLOTLYENV.BASE_URL=\"https://plot.ly\";Plotly.newPlot(\"be33a3b5-d52a-4c01-a498-4f81fa2f4a57\", [{\"type\": \"bar\", \"x\": [\"2017\", \"2016\", \"2015\", \"2014\", \"2013\", \"2012\"], \"y\": [115.48780487804878, 112.67073170731707, 107.90243902439025, 108.45121951219512, 109.41463414634147, 103.47560975609755], \"name\": \"Efficiency\", \"marker\": {\"color\": \"purple\"}}, {\"type\": \"bar\", \"x\": [\"2017\", \"2016\", \"2015\", \"2014\", \"2013\", \"2012\"], \"y\": [37.3, 33.0, 34.5, 34.4, 32.1, 35.6], \"name\": \"3 Point Percentage Made\", \"marker\": {\"color\": \"blue\"}}], {\"title\": \"Efficiency VS 3 Point Percentage Made for DET\", \"xaxis\": {\"title\": \"Season\"}}, {\"showLink\": true, \"linkText\": \"Export to plot.ly\"})});</script>"
      ]
     },
     "metadata": {},
     "output_type": "display_data"
    },
    {
     "data": {
      "application/vnd.plotly.v1+json": {
       "data": [
        {
         "marker": {
          "color": "purple"
         },
         "name": "Efficiency",
         "type": "bar",
         "x": [
          "2017",
          "2016",
          "2015",
          "2014",
          "2013",
          "2012"
         ],
         "y": [
          140.1951219512195,
          143.47560975609755,
          139.390243902439,
          132.6951219512195,
          119.28048780487805,
          114.97560975609755
         ]
        },
        {
         "marker": {
          "color": "blue"
         },
         "name": "3 Point Percentage Made",
         "type": "bar",
         "x": [
          "2017",
          "2016",
          "2015",
          "2014",
          "2013",
          "2012"
         ],
         "y": [
          39.1,
          38.3,
          41.6,
          39.800000000000004,
          38,
          40.300000000000004
         ]
        }
       ],
       "layout": {
        "title": "Efficiency VS 3 Point Percentage Made for GSW",
        "xaxis": {
         "title": "Season"
        }
       }
      },
      "text/html": [
       "<div id=\"4b1b4121-3860-491e-b909-c7f1c9e1b3b1\" style=\"height: 525px; width: 100%;\" class=\"plotly-graph-div\"></div><script type=\"text/javascript\">require([\"plotly\"], function(Plotly) { window.PLOTLYENV=window.PLOTLYENV || {};window.PLOTLYENV.BASE_URL=\"https://plot.ly\";Plotly.newPlot(\"4b1b4121-3860-491e-b909-c7f1c9e1b3b1\", [{\"type\": \"bar\", \"x\": [\"2017\", \"2016\", \"2015\", \"2014\", \"2013\", \"2012\"], \"y\": [140.1951219512195, 143.47560975609755, 139.390243902439, 132.6951219512195, 119.28048780487805, 114.97560975609755], \"name\": \"Efficiency\", \"marker\": {\"color\": \"purple\"}}, {\"type\": \"bar\", \"x\": [\"2017\", \"2016\", \"2015\", \"2014\", \"2013\", \"2012\"], \"y\": [39.1, 38.3, 41.6, 39.800000000000004, 38.0, 40.300000000000004], \"name\": \"3 Point Percentage Made\", \"marker\": {\"color\": \"blue\"}}], {\"title\": \"Efficiency VS 3 Point Percentage Made for GSW\", \"xaxis\": {\"title\": \"Season\"}}, {\"showLink\": true, \"linkText\": \"Export to plot.ly\"})});</script>"
      ],
      "text/vnd.plotly.v1+html": [
       "<div id=\"4b1b4121-3860-491e-b909-c7f1c9e1b3b1\" style=\"height: 525px; width: 100%;\" class=\"plotly-graph-div\"></div><script type=\"text/javascript\">require([\"plotly\"], function(Plotly) { window.PLOTLYENV=window.PLOTLYENV || {};window.PLOTLYENV.BASE_URL=\"https://plot.ly\";Plotly.newPlot(\"4b1b4121-3860-491e-b909-c7f1c9e1b3b1\", [{\"type\": \"bar\", \"x\": [\"2017\", \"2016\", \"2015\", \"2014\", \"2013\", \"2012\"], \"y\": [140.1951219512195, 143.47560975609755, 139.390243902439, 132.6951219512195, 119.28048780487805, 114.97560975609755], \"name\": \"Efficiency\", \"marker\": {\"color\": \"purple\"}}, {\"type\": \"bar\", \"x\": [\"2017\", \"2016\", \"2015\", \"2014\", \"2013\", \"2012\"], \"y\": [39.1, 38.3, 41.6, 39.800000000000004, 38.0, 40.300000000000004], \"name\": \"3 Point Percentage Made\", \"marker\": {\"color\": \"blue\"}}], {\"title\": \"Efficiency VS 3 Point Percentage Made for GSW\", \"xaxis\": {\"title\": \"Season\"}}, {\"showLink\": true, \"linkText\": \"Export to plot.ly\"})});</script>"
      ]
     },
     "metadata": {},
     "output_type": "display_data"
    },
    {
     "data": {
      "application/vnd.plotly.v1+json": {
       "data": [
        {
         "marker": {
          "color": "purple"
         },
         "name": "Efficiency",
         "type": "bar",
         "x": [
          "2017",
          "2016",
          "2015",
          "2014",
          "2013",
          "2012"
         ],
         "y": [
          125.8048780487805,
          129.15853658536585,
          116.39024390243902,
          113.82926829268293,
          120,
          117.91463414634147
         ]
        },
        {
         "marker": {
          "color": "blue"
         },
         "name": "3 Point Percentage Made",
         "type": "bar",
         "x": [
          "2017",
          "2016",
          "2015",
          "2014",
          "2013",
          "2012"
         ],
         "y": [
          36.199999999999996,
          35.699999999999996,
          34.699999999999996,
          34.8,
          35.8,
          36.6
         ]
        }
       ],
       "layout": {
        "title": "Efficiency VS 3 Point Percentage Made for HOU",
        "xaxis": {
         "title": "Season"
        }
       }
      },
      "text/html": [
       "<div id=\"78cb7eda-4dff-4c02-916f-6c92ad43d332\" style=\"height: 525px; width: 100%;\" class=\"plotly-graph-div\"></div><script type=\"text/javascript\">require([\"plotly\"], function(Plotly) { window.PLOTLYENV=window.PLOTLYENV || {};window.PLOTLYENV.BASE_URL=\"https://plot.ly\";Plotly.newPlot(\"78cb7eda-4dff-4c02-916f-6c92ad43d332\", [{\"type\": \"bar\", \"x\": [\"2017\", \"2016\", \"2015\", \"2014\", \"2013\", \"2012\"], \"y\": [125.8048780487805, 129.15853658536585, 116.39024390243902, 113.82926829268293, 120.0, 117.91463414634147], \"name\": \"Efficiency\", \"marker\": {\"color\": \"purple\"}}, {\"type\": \"bar\", \"x\": [\"2017\", \"2016\", \"2015\", \"2014\", \"2013\", \"2012\"], \"y\": [36.199999999999996, 35.699999999999996, 34.699999999999996, 34.8, 35.8, 36.6], \"name\": \"3 Point Percentage Made\", \"marker\": {\"color\": \"blue\"}}], {\"title\": \"Efficiency VS 3 Point Percentage Made for HOU\", \"xaxis\": {\"title\": \"Season\"}}, {\"showLink\": true, \"linkText\": \"Export to plot.ly\"})});</script>"
      ],
      "text/vnd.plotly.v1+html": [
       "<div id=\"78cb7eda-4dff-4c02-916f-6c92ad43d332\" style=\"height: 525px; width: 100%;\" class=\"plotly-graph-div\"></div><script type=\"text/javascript\">require([\"plotly\"], function(Plotly) { window.PLOTLYENV=window.PLOTLYENV || {};window.PLOTLYENV.BASE_URL=\"https://plot.ly\";Plotly.newPlot(\"78cb7eda-4dff-4c02-916f-6c92ad43d332\", [{\"type\": \"bar\", \"x\": [\"2017\", \"2016\", \"2015\", \"2014\", \"2013\", \"2012\"], \"y\": [125.8048780487805, 129.15853658536585, 116.39024390243902, 113.82926829268293, 120.0, 117.91463414634147], \"name\": \"Efficiency\", \"marker\": {\"color\": \"purple\"}}, {\"type\": \"bar\", \"x\": [\"2017\", \"2016\", \"2015\", \"2014\", \"2013\", \"2012\"], \"y\": [36.199999999999996, 35.699999999999996, 34.699999999999996, 34.8, 35.8, 36.6], \"name\": \"3 Point Percentage Made\", \"marker\": {\"color\": \"blue\"}}], {\"title\": \"Efficiency VS 3 Point Percentage Made for HOU\", \"xaxis\": {\"title\": \"Season\"}}, {\"showLink\": true, \"linkText\": \"Export to plot.ly\"})});</script>"
      ]
     },
     "metadata": {},
     "output_type": "display_data"
    },
    {
     "data": {
      "application/vnd.plotly.v1+json": {
       "data": [
        {
         "marker": {
          "color": "purple"
         },
         "name": "Efficiency",
         "type": "bar",
         "x": [
          "2017",
          "2016",
          "2015",
          "2014",
          "2013",
          "2012"
         ],
         "y": [
          119.91463414634147,
          119.51219512195122,
          114.3048780487805,
          108.28048780487805,
          109.29268292682927,
          106.5
         ]
        },
        {
         "marker": {
          "color": "blue"
         },
         "name": "3 Point Percentage Made",
         "type": "bar",
         "x": [
          "2017",
          "2016",
          "2015",
          "2014",
          "2013",
          "2012"
         ],
         "y": [
          36.9,
          37.6,
          35.099999999999994,
          35.199999999999996,
          35.699999999999996,
          34.699999999999996
         ]
        }
       ],
       "layout": {
        "title": "Efficiency VS 3 Point Percentage Made for IND",
        "xaxis": {
         "title": "Season"
        }
       }
      },
      "text/html": [
       "<div id=\"9ee5b885-51d8-4489-a5dd-8d64f783579c\" style=\"height: 525px; width: 100%;\" class=\"plotly-graph-div\"></div><script type=\"text/javascript\">require([\"plotly\"], function(Plotly) { window.PLOTLYENV=window.PLOTLYENV || {};window.PLOTLYENV.BASE_URL=\"https://plot.ly\";Plotly.newPlot(\"9ee5b885-51d8-4489-a5dd-8d64f783579c\", [{\"type\": \"bar\", \"x\": [\"2017\", \"2016\", \"2015\", \"2014\", \"2013\", \"2012\"], \"y\": [119.91463414634147, 119.51219512195122, 114.3048780487805, 108.28048780487805, 109.29268292682927, 106.5], \"name\": \"Efficiency\", \"marker\": {\"color\": \"purple\"}}, {\"type\": \"bar\", \"x\": [\"2017\", \"2016\", \"2015\", \"2014\", \"2013\", \"2012\"], \"y\": [36.9, 37.6, 35.099999999999994, 35.199999999999996, 35.699999999999996, 34.699999999999996], \"name\": \"3 Point Percentage Made\", \"marker\": {\"color\": \"blue\"}}], {\"title\": \"Efficiency VS 3 Point Percentage Made for IND\", \"xaxis\": {\"title\": \"Season\"}}, {\"showLink\": true, \"linkText\": \"Export to plot.ly\"})});</script>"
      ],
      "text/vnd.plotly.v1+html": [
       "<div id=\"9ee5b885-51d8-4489-a5dd-8d64f783579c\" style=\"height: 525px; width: 100%;\" class=\"plotly-graph-div\"></div><script type=\"text/javascript\">require([\"plotly\"], function(Plotly) { window.PLOTLYENV=window.PLOTLYENV || {};window.PLOTLYENV.BASE_URL=\"https://plot.ly\";Plotly.newPlot(\"9ee5b885-51d8-4489-a5dd-8d64f783579c\", [{\"type\": \"bar\", \"x\": [\"2017\", \"2016\", \"2015\", \"2014\", \"2013\", \"2012\"], \"y\": [119.91463414634147, 119.51219512195122, 114.3048780487805, 108.28048780487805, 109.29268292682927, 106.5], \"name\": \"Efficiency\", \"marker\": {\"color\": \"purple\"}}, {\"type\": \"bar\", \"x\": [\"2017\", \"2016\", \"2015\", \"2014\", \"2013\", \"2012\"], \"y\": [36.9, 37.6, 35.099999999999994, 35.199999999999996, 35.699999999999996, 34.699999999999996], \"name\": \"3 Point Percentage Made\", \"marker\": {\"color\": \"blue\"}}], {\"title\": \"Efficiency VS 3 Point Percentage Made for IND\", \"xaxis\": {\"title\": \"Season\"}}, {\"showLink\": true, \"linkText\": \"Export to plot.ly\"})});</script>"
      ]
     },
     "metadata": {},
     "output_type": "display_data"
    },
    {
     "data": {
      "application/vnd.plotly.v1+json": {
       "data": [
        {
         "marker": {
          "color": "purple"
         },
         "name": "Efficiency",
         "type": "bar",
         "x": [
          "2017",
          "2016",
          "2015",
          "2014",
          "2013",
          "2012"
         ],
         "y": [
          121,
          122.73170731707317,
          118.48780487804878,
          123.32926829268293,
          123.90243902439025,
          118.46341463414635
         ]
        },
        {
         "marker": {
          "color": "blue"
         },
         "name": "3 Point Percentage Made",
         "type": "bar",
         "x": [
          "2017",
          "2016",
          "2015",
          "2014",
          "2013",
          "2012"
         ],
         "y": [
          35.4,
          37.5,
          36.4,
          37.6,
          35.199999999999996,
          35.8
         ]
        }
       ],
       "layout": {
        "title": "Efficiency VS 3 Point Percentage Made for LAC",
        "xaxis": {
         "title": "Season"
        }
       }
      },
      "text/html": [
       "<div id=\"d0ecf476-5d12-4458-a484-5d2f8beb9dde\" style=\"height: 525px; width: 100%;\" class=\"plotly-graph-div\"></div><script type=\"text/javascript\">require([\"plotly\"], function(Plotly) { window.PLOTLYENV=window.PLOTLYENV || {};window.PLOTLYENV.BASE_URL=\"https://plot.ly\";Plotly.newPlot(\"d0ecf476-5d12-4458-a484-5d2f8beb9dde\", [{\"type\": \"bar\", \"x\": [\"2017\", \"2016\", \"2015\", \"2014\", \"2013\", \"2012\"], \"y\": [121.0, 122.73170731707317, 118.48780487804878, 123.32926829268293, 123.90243902439025, 118.46341463414635], \"name\": \"Efficiency\", \"marker\": {\"color\": \"purple\"}}, {\"type\": \"bar\", \"x\": [\"2017\", \"2016\", \"2015\", \"2014\", \"2013\", \"2012\"], \"y\": [35.4, 37.5, 36.4, 37.6, 35.199999999999996, 35.8], \"name\": \"3 Point Percentage Made\", \"marker\": {\"color\": \"blue\"}}], {\"title\": \"Efficiency VS 3 Point Percentage Made for LAC\", \"xaxis\": {\"title\": \"Season\"}}, {\"showLink\": true, \"linkText\": \"Export to plot.ly\"})});</script>"
      ],
      "text/vnd.plotly.v1+html": [
       "<div id=\"d0ecf476-5d12-4458-a484-5d2f8beb9dde\" style=\"height: 525px; width: 100%;\" class=\"plotly-graph-div\"></div><script type=\"text/javascript\">require([\"plotly\"], function(Plotly) { window.PLOTLYENV=window.PLOTLYENV || {};window.PLOTLYENV.BASE_URL=\"https://plot.ly\";Plotly.newPlot(\"d0ecf476-5d12-4458-a484-5d2f8beb9dde\", [{\"type\": \"bar\", \"x\": [\"2017\", \"2016\", \"2015\", \"2014\", \"2013\", \"2012\"], \"y\": [121.0, 122.73170731707317, 118.48780487804878, 123.32926829268293, 123.90243902439025, 118.46341463414635], \"name\": \"Efficiency\", \"marker\": {\"color\": \"purple\"}}, {\"type\": \"bar\", \"x\": [\"2017\", \"2016\", \"2015\", \"2014\", \"2013\", \"2012\"], \"y\": [35.4, 37.5, 36.4, 37.6, 35.199999999999996, 35.8], \"name\": \"3 Point Percentage Made\", \"marker\": {\"color\": \"blue\"}}], {\"title\": \"Efficiency VS 3 Point Percentage Made for LAC\", \"xaxis\": {\"title\": \"Season\"}}, {\"showLink\": true, \"linkText\": \"Export to plot.ly\"})});</script>"
      ]
     },
     "metadata": {},
     "output_type": "display_data"
    },
    {
     "data": {
      "application/vnd.plotly.v1+json": {
       "data": [
        {
         "marker": {
          "color": "purple"
         },
         "name": "Efficiency",
         "type": "bar",
         "x": [
          "2017",
          "2016",
          "2015",
          "2014",
          "2013",
          "2012"
         ],
         "y": [
          120.52439024390245,
          112.3780487804878,
          100.82926829268293,
          107.03658536585365,
          113.96341463414635,
          113.92682926829268
         ]
        },
        {
         "marker": {
          "color": "blue"
         },
         "name": "3 Point Percentage Made",
         "type": "bar",
         "x": [
          "2017",
          "2016",
          "2015",
          "2014",
          "2013",
          "2012"
         ],
         "y": [
          34.5,
          34.599999999999994,
          31.7,
          34.4,
          38.1,
          35.5
         ]
        }
       ],
       "layout": {
        "title": "Efficiency VS 3 Point Percentage Made for LAL",
        "xaxis": {
         "title": "Season"
        }
       }
      },
      "text/html": [
       "<div id=\"4fd29c1f-19fc-4c84-9603-d928069678bf\" style=\"height: 525px; width: 100%;\" class=\"plotly-graph-div\"></div><script type=\"text/javascript\">require([\"plotly\"], function(Plotly) { window.PLOTLYENV=window.PLOTLYENV || {};window.PLOTLYENV.BASE_URL=\"https://plot.ly\";Plotly.newPlot(\"4fd29c1f-19fc-4c84-9603-d928069678bf\", [{\"type\": \"bar\", \"x\": [\"2017\", \"2016\", \"2015\", \"2014\", \"2013\", \"2012\"], \"y\": [120.52439024390245, 112.3780487804878, 100.82926829268293, 107.03658536585365, 113.96341463414635, 113.92682926829268], \"name\": \"Efficiency\", \"marker\": {\"color\": \"purple\"}}, {\"type\": \"bar\", \"x\": [\"2017\", \"2016\", \"2015\", \"2014\", \"2013\", \"2012\"], \"y\": [34.5, 34.599999999999994, 31.7, 34.4, 38.1, 35.5], \"name\": \"3 Point Percentage Made\", \"marker\": {\"color\": \"blue\"}}], {\"title\": \"Efficiency VS 3 Point Percentage Made for LAL\", \"xaxis\": {\"title\": \"Season\"}}, {\"showLink\": true, \"linkText\": \"Export to plot.ly\"})});</script>"
      ],
      "text/vnd.plotly.v1+html": [
       "<div id=\"4fd29c1f-19fc-4c84-9603-d928069678bf\" style=\"height: 525px; width: 100%;\" class=\"plotly-graph-div\"></div><script type=\"text/javascript\">require([\"plotly\"], function(Plotly) { window.PLOTLYENV=window.PLOTLYENV || {};window.PLOTLYENV.BASE_URL=\"https://plot.ly\";Plotly.newPlot(\"4fd29c1f-19fc-4c84-9603-d928069678bf\", [{\"type\": \"bar\", \"x\": [\"2017\", \"2016\", \"2015\", \"2014\", \"2013\", \"2012\"], \"y\": [120.52439024390245, 112.3780487804878, 100.82926829268293, 107.03658536585365, 113.96341463414635, 113.92682926829268], \"name\": \"Efficiency\", \"marker\": {\"color\": \"purple\"}}, {\"type\": \"bar\", \"x\": [\"2017\", \"2016\", \"2015\", \"2014\", \"2013\", \"2012\"], \"y\": [34.5, 34.599999999999994, 31.7, 34.4, 38.1, 35.5], \"name\": \"3 Point Percentage Made\", \"marker\": {\"color\": \"blue\"}}], {\"title\": \"Efficiency VS 3 Point Percentage Made for LAL\", \"xaxis\": {\"title\": \"Season\"}}, {\"showLink\": true, \"linkText\": \"Export to plot.ly\"})});</script>"
      ]
     },
     "metadata": {},
     "output_type": "display_data"
    },
    {
     "data": {
      "application/vnd.plotly.v1+json": {
       "data": [
        {
         "marker": {
          "color": "purple"
         },
         "name": "Efficiency",
         "type": "bar",
         "x": [
          "2017",
          "2016",
          "2015",
          "2014",
          "2013",
          "2012"
         ],
         "y": [
          108.1829268292683,
          111.51219512195122,
          109.02439024390245,
          112.09756097560975,
          109.78048780487805,
          106.84146341463415
         ]
        },
        {
         "marker": {
          "color": "blue"
         },
         "name": "3 Point Percentage Made",
         "type": "bar",
         "x": [
          "2017",
          "2016",
          "2015",
          "2014",
          "2013",
          "2012"
         ],
         "y": [
          35.199999999999996,
          35.4,
          33.1,
          33.900000000000006,
          35.3,
          34.5
         ]
        }
       ],
       "layout": {
        "title": "Efficiency VS 3 Point Percentage Made for MEM",
        "xaxis": {
         "title": "Season"
        }
       }
      },
      "text/html": [
       "<div id=\"96d3d194-ff4f-42f0-933e-4df7f9d1c5d9\" style=\"height: 525px; width: 100%;\" class=\"plotly-graph-div\"></div><script type=\"text/javascript\">require([\"plotly\"], function(Plotly) { window.PLOTLYENV=window.PLOTLYENV || {};window.PLOTLYENV.BASE_URL=\"https://plot.ly\";Plotly.newPlot(\"96d3d194-ff4f-42f0-933e-4df7f9d1c5d9\", [{\"type\": \"bar\", \"x\": [\"2017\", \"2016\", \"2015\", \"2014\", \"2013\", \"2012\"], \"y\": [108.1829268292683, 111.51219512195122, 109.02439024390245, 112.09756097560975, 109.78048780487805, 106.84146341463415], \"name\": \"Efficiency\", \"marker\": {\"color\": \"purple\"}}, {\"type\": \"bar\", \"x\": [\"2017\", \"2016\", \"2015\", \"2014\", \"2013\", \"2012\"], \"y\": [35.199999999999996, 35.4, 33.1, 33.900000000000006, 35.3, 34.5], \"name\": \"3 Point Percentage Made\", \"marker\": {\"color\": \"blue\"}}], {\"title\": \"Efficiency VS 3 Point Percentage Made for MEM\", \"xaxis\": {\"title\": \"Season\"}}, {\"showLink\": true, \"linkText\": \"Export to plot.ly\"})});</script>"
      ],
      "text/vnd.plotly.v1+html": [
       "<div id=\"96d3d194-ff4f-42f0-933e-4df7f9d1c5d9\" style=\"height: 525px; width: 100%;\" class=\"plotly-graph-div\"></div><script type=\"text/javascript\">require([\"plotly\"], function(Plotly) { window.PLOTLYENV=window.PLOTLYENV || {};window.PLOTLYENV.BASE_URL=\"https://plot.ly\";Plotly.newPlot(\"96d3d194-ff4f-42f0-933e-4df7f9d1c5d9\", [{\"type\": \"bar\", \"x\": [\"2017\", \"2016\", \"2015\", \"2014\", \"2013\", \"2012\"], \"y\": [108.1829268292683, 111.51219512195122, 109.02439024390245, 112.09756097560975, 109.78048780487805, 106.84146341463415], \"name\": \"Efficiency\", \"marker\": {\"color\": \"purple\"}}, {\"type\": \"bar\", \"x\": [\"2017\", \"2016\", \"2015\", \"2014\", \"2013\", \"2012\"], \"y\": [35.199999999999996, 35.4, 33.1, 33.900000000000006, 35.3, 34.5], \"name\": \"3 Point Percentage Made\", \"marker\": {\"color\": \"blue\"}}], {\"title\": \"Efficiency VS 3 Point Percentage Made for MEM\", \"xaxis\": {\"title\": \"Season\"}}, {\"showLink\": true, \"linkText\": \"Export to plot.ly\"})});</script>"
      ]
     },
     "metadata": {},
     "output_type": "display_data"
    },
    {
     "data": {
      "application/vnd.plotly.v1+json": {
       "data": [
        {
         "marker": {
          "color": "purple"
         },
         "name": "Efficiency",
         "type": "bar",
         "x": [
          "2017",
          "2016",
          "2015",
          "2014",
          "2013",
          "2012"
         ],
         "y": [
          116.8170731707317,
          114.3780487804878,
          115,
          103.0609756097561,
          116.52439024390245,
          119.95121951219512
         ]
        },
        {
         "marker": {
          "color": "blue"
         },
         "name": "3 Point Percentage Made",
         "type": "bar",
         "x": [
          "2017",
          "2016",
          "2015",
          "2014",
          "2013",
          "2012"
         ],
         "y": [
          36,
          36.5,
          33.6,
          33.5,
          36.4,
          39.6
         ]
        }
       ],
       "layout": {
        "title": "Efficiency VS 3 Point Percentage Made for MIA",
        "xaxis": {
         "title": "Season"
        }
       }
      },
      "text/html": [
       "<div id=\"b5a174dd-6c46-4936-b66e-39a3130806c5\" style=\"height: 525px; width: 100%;\" class=\"plotly-graph-div\"></div><script type=\"text/javascript\">require([\"plotly\"], function(Plotly) { window.PLOTLYENV=window.PLOTLYENV || {};window.PLOTLYENV.BASE_URL=\"https://plot.ly\";Plotly.newPlot(\"b5a174dd-6c46-4936-b66e-39a3130806c5\", [{\"type\": \"bar\", \"x\": [\"2017\", \"2016\", \"2015\", \"2014\", \"2013\", \"2012\"], \"y\": [116.8170731707317, 114.3780487804878, 115.0, 103.0609756097561, 116.52439024390245, 119.95121951219512], \"name\": \"Efficiency\", \"marker\": {\"color\": \"purple\"}}, {\"type\": \"bar\", \"x\": [\"2017\", \"2016\", \"2015\", \"2014\", \"2013\", \"2012\"], \"y\": [36.0, 36.5, 33.6, 33.5, 36.4, 39.6], \"name\": \"3 Point Percentage Made\", \"marker\": {\"color\": \"blue\"}}], {\"title\": \"Efficiency VS 3 Point Percentage Made for MIA\", \"xaxis\": {\"title\": \"Season\"}}, {\"showLink\": true, \"linkText\": \"Export to plot.ly\"})});</script>"
      ],
      "text/vnd.plotly.v1+html": [
       "<div id=\"b5a174dd-6c46-4936-b66e-39a3130806c5\" style=\"height: 525px; width: 100%;\" class=\"plotly-graph-div\"></div><script type=\"text/javascript\">require([\"plotly\"], function(Plotly) { window.PLOTLYENV=window.PLOTLYENV || {};window.PLOTLYENV.BASE_URL=\"https://plot.ly\";Plotly.newPlot(\"b5a174dd-6c46-4936-b66e-39a3130806c5\", [{\"type\": \"bar\", \"x\": [\"2017\", \"2016\", \"2015\", \"2014\", \"2013\", \"2012\"], \"y\": [116.8170731707317, 114.3780487804878, 115.0, 103.0609756097561, 116.52439024390245, 119.95121951219512], \"name\": \"Efficiency\", \"marker\": {\"color\": \"purple\"}}, {\"type\": \"bar\", \"x\": [\"2017\", \"2016\", \"2015\", \"2014\", \"2013\", \"2012\"], \"y\": [36.0, 36.5, 33.6, 33.5, 36.4, 39.6], \"name\": \"3 Point Percentage Made\", \"marker\": {\"color\": \"blue\"}}], {\"title\": \"Efficiency VS 3 Point Percentage Made for MIA\", \"xaxis\": {\"title\": \"Season\"}}, {\"showLink\": true, \"linkText\": \"Export to plot.ly\"})});</script>"
      ]
     },
     "metadata": {},
     "output_type": "display_data"
    },
    {
     "data": {
      "application/vnd.plotly.v1+json": {
       "data": [
        {
         "marker": {
          "color": "purple"
         },
         "name": "Efficiency",
         "type": "bar",
         "x": [
          "2017",
          "2016",
          "2015",
          "2014",
          "2013",
          "2012"
         ],
         "y": [
          121.54878048780488,
          119.40243902439025,
          113.02439024390245,
          111.7439024390244,
          102.60975609756098,
          111.58536585365853
         ]
        },
        {
         "marker": {
          "color": "blue"
         },
         "name": "3 Point Percentage Made",
         "type": "bar",
         "x": [
          "2017",
          "2016",
          "2015",
          "2014",
          "2013",
          "2012"
         ],
         "y": [
          35.5,
          37,
          34.5,
          36.3,
          35.3,
          36
         ]
        }
       ],
       "layout": {
        "title": "Efficiency VS 3 Point Percentage Made for MIL",
        "xaxis": {
         "title": "Season"
        }
       }
      },
      "text/html": [
       "<div id=\"c0defc30-6076-41a4-8b0b-5b6ed576565d\" style=\"height: 525px; width: 100%;\" class=\"plotly-graph-div\"></div><script type=\"text/javascript\">require([\"plotly\"], function(Plotly) { window.PLOTLYENV=window.PLOTLYENV || {};window.PLOTLYENV.BASE_URL=\"https://plot.ly\";Plotly.newPlot(\"c0defc30-6076-41a4-8b0b-5b6ed576565d\", [{\"type\": \"bar\", \"x\": [\"2017\", \"2016\", \"2015\", \"2014\", \"2013\", \"2012\"], \"y\": [121.54878048780488, 119.40243902439025, 113.02439024390245, 111.7439024390244, 102.60975609756098, 111.58536585365853], \"name\": \"Efficiency\", \"marker\": {\"color\": \"purple\"}}, {\"type\": \"bar\", \"x\": [\"2017\", \"2016\", \"2015\", \"2014\", \"2013\", \"2012\"], \"y\": [35.5, 37.0, 34.5, 36.3, 35.3, 36.0], \"name\": \"3 Point Percentage Made\", \"marker\": {\"color\": \"blue\"}}], {\"title\": \"Efficiency VS 3 Point Percentage Made for MIL\", \"xaxis\": {\"title\": \"Season\"}}, {\"showLink\": true, \"linkText\": \"Export to plot.ly\"})});</script>"
      ],
      "text/vnd.plotly.v1+html": [
       "<div id=\"c0defc30-6076-41a4-8b0b-5b6ed576565d\" style=\"height: 525px; width: 100%;\" class=\"plotly-graph-div\"></div><script type=\"text/javascript\">require([\"plotly\"], function(Plotly) { window.PLOTLYENV=window.PLOTLYENV || {};window.PLOTLYENV.BASE_URL=\"https://plot.ly\";Plotly.newPlot(\"c0defc30-6076-41a4-8b0b-5b6ed576565d\", [{\"type\": \"bar\", \"x\": [\"2017\", \"2016\", \"2015\", \"2014\", \"2013\", \"2012\"], \"y\": [121.54878048780488, 119.40243902439025, 113.02439024390245, 111.7439024390244, 102.60975609756098, 111.58536585365853], \"name\": \"Efficiency\", \"marker\": {\"color\": \"purple\"}}, {\"type\": \"bar\", \"x\": [\"2017\", \"2016\", \"2015\", \"2014\", \"2013\", \"2012\"], \"y\": [35.5, 37.0, 34.5, 36.3, 35.3, 36.0], \"name\": \"3 Point Percentage Made\", \"marker\": {\"color\": \"blue\"}}], {\"title\": \"Efficiency VS 3 Point Percentage Made for MIL\", \"xaxis\": {\"title\": \"Season\"}}, {\"showLink\": true, \"linkText\": \"Export to plot.ly\"})});</script>"
      ]
     },
     "metadata": {},
     "output_type": "display_data"
    },
    {
     "data": {
      "application/vnd.plotly.v1+json": {
       "data": [
        {
         "marker": {
          "color": "purple"
         },
         "name": "Efficiency",
         "type": "bar",
         "x": [
          "2017",
          "2016",
          "2015",
          "2014",
          "2013",
          "2012"
         ],
         "y": [
          124.48780487804878,
          120.26829268292683,
          115.71951219512195,
          104.8780487804878,
          119.20731707317073,
          106.34146341463415
         ]
        },
        {
         "marker": {
          "color": "blue"
         },
         "name": "3 Point Percentage Made",
         "type": "bar",
         "x": [
          "2017",
          "2016",
          "2015",
          "2014",
          "2013",
          "2012"
         ],
         "y": [
          35.699999999999996,
          34.9,
          33.800000000000004,
          33.2,
          34.1,
          30.5
         ]
        }
       ],
       "layout": {
        "title": "Efficiency VS 3 Point Percentage Made for MIN",
        "xaxis": {
         "title": "Season"
        }
       }
      },
      "text/html": [
       "<div id=\"382cc8a7-460e-417a-955d-dd49330e51ab\" style=\"height: 525px; width: 100%;\" class=\"plotly-graph-div\"></div><script type=\"text/javascript\">require([\"plotly\"], function(Plotly) { window.PLOTLYENV=window.PLOTLYENV || {};window.PLOTLYENV.BASE_URL=\"https://plot.ly\";Plotly.newPlot(\"382cc8a7-460e-417a-955d-dd49330e51ab\", [{\"type\": \"bar\", \"x\": [\"2017\", \"2016\", \"2015\", \"2014\", \"2013\", \"2012\"], \"y\": [124.48780487804878, 120.26829268292683, 115.71951219512195, 104.8780487804878, 119.20731707317073, 106.34146341463415], \"name\": \"Efficiency\", \"marker\": {\"color\": \"purple\"}}, {\"type\": \"bar\", \"x\": [\"2017\", \"2016\", \"2015\", \"2014\", \"2013\", \"2012\"], \"y\": [35.699999999999996, 34.9, 33.800000000000004, 33.2, 34.1, 30.5], \"name\": \"3 Point Percentage Made\", \"marker\": {\"color\": \"blue\"}}], {\"title\": \"Efficiency VS 3 Point Percentage Made for MIN\", \"xaxis\": {\"title\": \"Season\"}}, {\"showLink\": true, \"linkText\": \"Export to plot.ly\"})});</script>"
      ],
      "text/vnd.plotly.v1+html": [
       "<div id=\"382cc8a7-460e-417a-955d-dd49330e51ab\" style=\"height: 525px; width: 100%;\" class=\"plotly-graph-div\"></div><script type=\"text/javascript\">require([\"plotly\"], function(Plotly) { window.PLOTLYENV=window.PLOTLYENV || {};window.PLOTLYENV.BASE_URL=\"https://plot.ly\";Plotly.newPlot(\"382cc8a7-460e-417a-955d-dd49330e51ab\", [{\"type\": \"bar\", \"x\": [\"2017\", \"2016\", \"2015\", \"2014\", \"2013\", \"2012\"], \"y\": [124.48780487804878, 120.26829268292683, 115.71951219512195, 104.8780487804878, 119.20731707317073, 106.34146341463415], \"name\": \"Efficiency\", \"marker\": {\"color\": \"purple\"}}, {\"type\": \"bar\", \"x\": [\"2017\", \"2016\", \"2015\", \"2014\", \"2013\", \"2012\"], \"y\": [35.699999999999996, 34.9, 33.800000000000004, 33.2, 34.1, 30.5], \"name\": \"3 Point Percentage Made\", \"marker\": {\"color\": \"blue\"}}], {\"title\": \"Efficiency VS 3 Point Percentage Made for MIN\", \"xaxis\": {\"title\": \"Season\"}}, {\"showLink\": true, \"linkText\": \"Export to plot.ly\"})});</script>"
      ]
     },
     "metadata": {},
     "output_type": "display_data"
    },
    {
     "data": {
      "application/vnd.plotly.v1+json": {
       "data": [
        {
         "marker": {
          "color": "purple"
         },
         "name": "Efficiency",
         "type": "bar",
         "x": [
          "2017",
          "2016",
          "2015",
          "2014",
          "2013",
          "2012"
         ],
         "y": [
          131.4390243902439,
          117.89024390243902,
          113.57317073170732,
          114.14634146341463,
          113.10975609756098,
          105.0609756097561
         ]
        },
        {
         "marker": {
          "color": "blue"
         },
         "name": "3 Point Percentage Made",
         "type": "bar",
         "x": [
          "2017",
          "2016",
          "2015",
          "2014",
          "2013",
          "2012"
         ],
         "y": [
          36.199999999999996,
          35,
          36,
          37,
          37.3,
          36.3
         ]
        }
       ],
       "layout": {
        "title": "Efficiency VS 3 Point Percentage Made for NOP",
        "xaxis": {
         "title": "Season"
        }
       }
      },
      "text/html": [
       "<div id=\"8c30f175-281d-45fa-a04c-c7f0507259d8\" style=\"height: 525px; width: 100%;\" class=\"plotly-graph-div\"></div><script type=\"text/javascript\">require([\"plotly\"], function(Plotly) { window.PLOTLYENV=window.PLOTLYENV || {};window.PLOTLYENV.BASE_URL=\"https://plot.ly\";Plotly.newPlot(\"8c30f175-281d-45fa-a04c-c7f0507259d8\", [{\"type\": \"bar\", \"x\": [\"2017\", \"2016\", \"2015\", \"2014\", \"2013\", \"2012\"], \"y\": [131.4390243902439, 117.89024390243902, 113.57317073170732, 114.14634146341463, 113.10975609756098, 105.0609756097561], \"name\": \"Efficiency\", \"marker\": {\"color\": \"purple\"}}, {\"type\": \"bar\", \"x\": [\"2017\", \"2016\", \"2015\", \"2014\", \"2013\", \"2012\"], \"y\": [36.199999999999996, 35.0, 36.0, 37.0, 37.3, 36.3], \"name\": \"3 Point Percentage Made\", \"marker\": {\"color\": \"blue\"}}], {\"title\": \"Efficiency VS 3 Point Percentage Made for NOP\", \"xaxis\": {\"title\": \"Season\"}}, {\"showLink\": true, \"linkText\": \"Export to plot.ly\"})});</script>"
      ],
      "text/vnd.plotly.v1+html": [
       "<div id=\"8c30f175-281d-45fa-a04c-c7f0507259d8\" style=\"height: 525px; width: 100%;\" class=\"plotly-graph-div\"></div><script type=\"text/javascript\">require([\"plotly\"], function(Plotly) { window.PLOTLYENV=window.PLOTLYENV || {};window.PLOTLYENV.BASE_URL=\"https://plot.ly\";Plotly.newPlot(\"8c30f175-281d-45fa-a04c-c7f0507259d8\", [{\"type\": \"bar\", \"x\": [\"2017\", \"2016\", \"2015\", \"2014\", \"2013\", \"2012\"], \"y\": [131.4390243902439, 117.89024390243902, 113.57317073170732, 114.14634146341463, 113.10975609756098, 105.0609756097561], \"name\": \"Efficiency\", \"marker\": {\"color\": \"purple\"}}, {\"type\": \"bar\", \"x\": [\"2017\", \"2016\", \"2015\", \"2014\", \"2013\", \"2012\"], \"y\": [36.199999999999996, 35.0, 36.0, 37.0, 37.3, 36.3], \"name\": \"3 Point Percentage Made\", \"marker\": {\"color\": \"blue\"}}], {\"title\": \"Efficiency VS 3 Point Percentage Made for NOP\", \"xaxis\": {\"title\": \"Season\"}}, {\"showLink\": true, \"linkText\": \"Export to plot.ly\"})});</script>"
      ]
     },
     "metadata": {},
     "output_type": "display_data"
    },
    {
     "data": {
      "application/vnd.plotly.v1+json": {
       "data": [
        {
         "marker": {
          "color": "purple"
         },
         "name": "Efficiency",
         "type": "bar",
         "x": [
          "2017",
          "2016",
          "2015",
          "2014",
          "2013",
          "2012"
         ],
         "y": [
          117.84146341463415,
          116.65853658536585,
          109.91463414634147,
          99.1951219512195,
          108,
          109.39024390243902
         ]
        },
        {
         "marker": {
          "color": "blue"
         },
         "name": "3 Point Percentage Made",
         "type": "bar",
         "x": [
          "2017",
          "2016",
          "2015",
          "2014",
          "2013",
          "2012"
         ],
         "y": [
          35.199999999999996,
          34.8,
          34.599999999999994,
          34.699999999999996,
          37.2,
          37.6
         ]
        }
       ],
       "layout": {
        "title": "Efficiency VS 3 Point Percentage Made for NYK",
        "xaxis": {
         "title": "Season"
        }
       }
      },
      "text/html": [
       "<div id=\"10445286-66db-4f54-87f7-68c502d06bf5\" style=\"height: 525px; width: 100%;\" class=\"plotly-graph-div\"></div><script type=\"text/javascript\">require([\"plotly\"], function(Plotly) { window.PLOTLYENV=window.PLOTLYENV || {};window.PLOTLYENV.BASE_URL=\"https://plot.ly\";Plotly.newPlot(\"10445286-66db-4f54-87f7-68c502d06bf5\", [{\"type\": \"bar\", \"x\": [\"2017\", \"2016\", \"2015\", \"2014\", \"2013\", \"2012\"], \"y\": [117.84146341463415, 116.65853658536585, 109.91463414634147, 99.1951219512195, 108.0, 109.39024390243902], \"name\": \"Efficiency\", \"marker\": {\"color\": \"purple\"}}, {\"type\": \"bar\", \"x\": [\"2017\", \"2016\", \"2015\", \"2014\", \"2013\", \"2012\"], \"y\": [35.199999999999996, 34.8, 34.599999999999994, 34.699999999999996, 37.2, 37.6], \"name\": \"3 Point Percentage Made\", \"marker\": {\"color\": \"blue\"}}], {\"title\": \"Efficiency VS 3 Point Percentage Made for NYK\", \"xaxis\": {\"title\": \"Season\"}}, {\"showLink\": true, \"linkText\": \"Export to plot.ly\"})});</script>"
      ],
      "text/vnd.plotly.v1+html": [
       "<div id=\"10445286-66db-4f54-87f7-68c502d06bf5\" style=\"height: 525px; width: 100%;\" class=\"plotly-graph-div\"></div><script type=\"text/javascript\">require([\"plotly\"], function(Plotly) { window.PLOTLYENV=window.PLOTLYENV || {};window.PLOTLYENV.BASE_URL=\"https://plot.ly\";Plotly.newPlot(\"10445286-66db-4f54-87f7-68c502d06bf5\", [{\"type\": \"bar\", \"x\": [\"2017\", \"2016\", \"2015\", \"2014\", \"2013\", \"2012\"], \"y\": [117.84146341463415, 116.65853658536585, 109.91463414634147, 99.1951219512195, 108.0, 109.39024390243902], \"name\": \"Efficiency\", \"marker\": {\"color\": \"purple\"}}, {\"type\": \"bar\", \"x\": [\"2017\", \"2016\", \"2015\", \"2014\", \"2013\", \"2012\"], \"y\": [35.199999999999996, 34.8, 34.599999999999994, 34.699999999999996, 37.2, 37.6], \"name\": \"3 Point Percentage Made\", \"marker\": {\"color\": \"blue\"}}], {\"title\": \"Efficiency VS 3 Point Percentage Made for NYK\", \"xaxis\": {\"title\": \"Season\"}}, {\"showLink\": true, \"linkText\": \"Export to plot.ly\"})});</script>"
      ]
     },
     "metadata": {},
     "output_type": "display_data"
    },
    {
     "data": {
      "application/vnd.plotly.v1+json": {
       "data": [
        {
         "marker": {
          "color": "purple"
         },
         "name": "Efficiency",
         "type": "bar",
         "x": [
          "2017",
          "2016",
          "2015",
          "2014",
          "2013",
          "2012"
         ],
         "y": [
          119.29268292682927,
          117.57317073170732,
          128.4390243902439,
          116.0609756097561,
          123.20731707317073,
          125.5609756097561
         ]
        },
        {
         "marker": {
          "color": "blue"
         },
         "name": "3 Point Percentage Made",
         "type": "bar",
         "x": [
          "2017",
          "2016",
          "2015",
          "2014",
          "2013",
          "2012"
         ],
         "y": [
          35.4,
          32.7,
          34.9,
          33.900000000000006,
          36.1,
          37.7
         ]
        }
       ],
       "layout": {
        "title": "Efficiency VS 3 Point Percentage Made for OKC",
        "xaxis": {
         "title": "Season"
        }
       }
      },
      "text/html": [
       "<div id=\"e09cb26d-d80f-426c-86b0-4f6a2bb52e4c\" style=\"height: 525px; width: 100%;\" class=\"plotly-graph-div\"></div><script type=\"text/javascript\">require([\"plotly\"], function(Plotly) { window.PLOTLYENV=window.PLOTLYENV || {};window.PLOTLYENV.BASE_URL=\"https://plot.ly\";Plotly.newPlot(\"e09cb26d-d80f-426c-86b0-4f6a2bb52e4c\", [{\"type\": \"bar\", \"x\": [\"2017\", \"2016\", \"2015\", \"2014\", \"2013\", \"2012\"], \"y\": [119.29268292682927, 117.57317073170732, 128.4390243902439, 116.0609756097561, 123.20731707317073, 125.5609756097561], \"name\": \"Efficiency\", \"marker\": {\"color\": \"purple\"}}, {\"type\": \"bar\", \"x\": [\"2017\", \"2016\", \"2015\", \"2014\", \"2013\", \"2012\"], \"y\": [35.4, 32.7, 34.9, 33.900000000000006, 36.1, 37.7], \"name\": \"3 Point Percentage Made\", \"marker\": {\"color\": \"blue\"}}], {\"title\": \"Efficiency VS 3 Point Percentage Made for OKC\", \"xaxis\": {\"title\": \"Season\"}}, {\"showLink\": true, \"linkText\": \"Export to plot.ly\"})});</script>"
      ],
      "text/vnd.plotly.v1+html": [
       "<div id=\"e09cb26d-d80f-426c-86b0-4f6a2bb52e4c\" style=\"height: 525px; width: 100%;\" class=\"plotly-graph-div\"></div><script type=\"text/javascript\">require([\"plotly\"], function(Plotly) { window.PLOTLYENV=window.PLOTLYENV || {};window.PLOTLYENV.BASE_URL=\"https://plot.ly\";Plotly.newPlot(\"e09cb26d-d80f-426c-86b0-4f6a2bb52e4c\", [{\"type\": \"bar\", \"x\": [\"2017\", \"2016\", \"2015\", \"2014\", \"2013\", \"2012\"], \"y\": [119.29268292682927, 117.57317073170732, 128.4390243902439, 116.0609756097561, 123.20731707317073, 125.5609756097561], \"name\": \"Efficiency\", \"marker\": {\"color\": \"purple\"}}, {\"type\": \"bar\", \"x\": [\"2017\", \"2016\", \"2015\", \"2014\", \"2013\", \"2012\"], \"y\": [35.4, 32.7, 34.9, 33.900000000000006, 36.1, 37.7], \"name\": \"3 Point Percentage Made\", \"marker\": {\"color\": \"blue\"}}], {\"title\": \"Efficiency VS 3 Point Percentage Made for OKC\", \"xaxis\": {\"title\": \"Season\"}}, {\"showLink\": true, \"linkText\": \"Export to plot.ly\"})});</script>"
      ]
     },
     "metadata": {},
     "output_type": "display_data"
    },
    {
     "data": {
      "application/vnd.plotly.v1+json": {
       "data": [
        {
         "marker": {
          "color": "purple"
         },
         "name": "Efficiency",
         "type": "bar",
         "x": [
          "2017",
          "2016",
          "2015",
          "2014",
          "2013",
          "2012"
         ],
         "y": [
          114.35365853658537,
          110.92682926829268,
          115.98780487804878,
          104.48780487804878,
          105.8170731707317,
          105.39024390243902
         ]
        },
        {
         "marker": {
          "color": "blue"
         },
         "name": "3 Point Percentage Made",
         "type": "bar",
         "x": [
          "2017",
          "2016",
          "2015",
          "2014",
          "2013",
          "2012"
         ],
         "y": [
          35.099999999999994,
          32.800000000000004,
          35,
          34.699999999999996,
          35.3,
          32.9
         ]
        }
       ],
       "layout": {
        "title": "Efficiency VS 3 Point Percentage Made for ORL",
        "xaxis": {
         "title": "Season"
        }
       }
      },
      "text/html": [
       "<div id=\"3745b689-ebf9-46cb-bbed-c5541c69a30d\" style=\"height: 525px; width: 100%;\" class=\"plotly-graph-div\"></div><script type=\"text/javascript\">require([\"plotly\"], function(Plotly) { window.PLOTLYENV=window.PLOTLYENV || {};window.PLOTLYENV.BASE_URL=\"https://plot.ly\";Plotly.newPlot(\"3745b689-ebf9-46cb-bbed-c5541c69a30d\", [{\"type\": \"bar\", \"x\": [\"2017\", \"2016\", \"2015\", \"2014\", \"2013\", \"2012\"], \"y\": [114.35365853658537, 110.92682926829268, 115.98780487804878, 104.48780487804878, 105.8170731707317, 105.39024390243902], \"name\": \"Efficiency\", \"marker\": {\"color\": \"purple\"}}, {\"type\": \"bar\", \"x\": [\"2017\", \"2016\", \"2015\", \"2014\", \"2013\", \"2012\"], \"y\": [35.099999999999994, 32.800000000000004, 35.0, 34.699999999999996, 35.3, 32.9], \"name\": \"3 Point Percentage Made\", \"marker\": {\"color\": \"blue\"}}], {\"title\": \"Efficiency VS 3 Point Percentage Made for ORL\", \"xaxis\": {\"title\": \"Season\"}}, {\"showLink\": true, \"linkText\": \"Export to plot.ly\"})});</script>"
      ],
      "text/vnd.plotly.v1+html": [
       "<div id=\"3745b689-ebf9-46cb-bbed-c5541c69a30d\" style=\"height: 525px; width: 100%;\" class=\"plotly-graph-div\"></div><script type=\"text/javascript\">require([\"plotly\"], function(Plotly) { window.PLOTLYENV=window.PLOTLYENV || {};window.PLOTLYENV.BASE_URL=\"https://plot.ly\";Plotly.newPlot(\"3745b689-ebf9-46cb-bbed-c5541c69a30d\", [{\"type\": \"bar\", \"x\": [\"2017\", \"2016\", \"2015\", \"2014\", \"2013\", \"2012\"], \"y\": [114.35365853658537, 110.92682926829268, 115.98780487804878, 104.48780487804878, 105.8170731707317, 105.39024390243902], \"name\": \"Efficiency\", \"marker\": {\"color\": \"purple\"}}, {\"type\": \"bar\", \"x\": [\"2017\", \"2016\", \"2015\", \"2014\", \"2013\", \"2012\"], \"y\": [35.099999999999994, 32.800000000000004, 35.0, 34.699999999999996, 35.3, 32.9], \"name\": \"3 Point Percentage Made\", \"marker\": {\"color\": \"blue\"}}], {\"title\": \"Efficiency VS 3 Point Percentage Made for ORL\", \"xaxis\": {\"title\": \"Season\"}}, {\"showLink\": true, \"linkText\": \"Export to plot.ly\"})});</script>"
      ]
     },
     "metadata": {},
     "output_type": "display_data"
    },
    {
     "data": {
      "application/vnd.plotly.v1+json": {
       "data": [
        {
         "marker": {
          "color": "purple"
         },
         "name": "Efficiency",
         "type": "bar",
         "x": [
          "2017",
          "2016",
          "2015",
          "2014",
          "2013",
          "2012"
         ],
         "y": [
          129.890243902439,
          113.3048780487805,
          103.46341463414635,
          96.54878048780488,
          104.4390243902439,
          105
         ]
        },
        {
         "marker": {
          "color": "blue"
         },
         "name": "3 Point Percentage Made",
         "type": "bar",
         "x": [
          "2017",
          "2016",
          "2015",
          "2014",
          "2013",
          "2012"
         ],
         "y": [
          36.9,
          34,
          33.900000000000006,
          32,
          31.2,
          36
         ]
        }
       ],
       "layout": {
        "title": "Efficiency VS 3 Point Percentage Made for PHI",
        "xaxis": {
         "title": "Season"
        }
       }
      },
      "text/html": [
       "<div id=\"0a8bfb21-bf09-4274-8d9e-357484dcbd03\" style=\"height: 525px; width: 100%;\" class=\"plotly-graph-div\"></div><script type=\"text/javascript\">require([\"plotly\"], function(Plotly) { window.PLOTLYENV=window.PLOTLYENV || {};window.PLOTLYENV.BASE_URL=\"https://plot.ly\";Plotly.newPlot(\"0a8bfb21-bf09-4274-8d9e-357484dcbd03\", [{\"type\": \"bar\", \"x\": [\"2017\", \"2016\", \"2015\", \"2014\", \"2013\", \"2012\"], \"y\": [129.890243902439, 113.3048780487805, 103.46341463414635, 96.54878048780488, 104.4390243902439, 105.0], \"name\": \"Efficiency\", \"marker\": {\"color\": \"purple\"}}, {\"type\": \"bar\", \"x\": [\"2017\", \"2016\", \"2015\", \"2014\", \"2013\", \"2012\"], \"y\": [36.9, 34.0, 33.900000000000006, 32.0, 31.2, 36.0], \"name\": \"3 Point Percentage Made\", \"marker\": {\"color\": \"blue\"}}], {\"title\": \"Efficiency VS 3 Point Percentage Made for PHI\", \"xaxis\": {\"title\": \"Season\"}}, {\"showLink\": true, \"linkText\": \"Export to plot.ly\"})});</script>"
      ],
      "text/vnd.plotly.v1+html": [
       "<div id=\"0a8bfb21-bf09-4274-8d9e-357484dcbd03\" style=\"height: 525px; width: 100%;\" class=\"plotly-graph-div\"></div><script type=\"text/javascript\">require([\"plotly\"], function(Plotly) { window.PLOTLYENV=window.PLOTLYENV || {};window.PLOTLYENV.BASE_URL=\"https://plot.ly\";Plotly.newPlot(\"0a8bfb21-bf09-4274-8d9e-357484dcbd03\", [{\"type\": \"bar\", \"x\": [\"2017\", \"2016\", \"2015\", \"2014\", \"2013\", \"2012\"], \"y\": [129.890243902439, 113.3048780487805, 103.46341463414635, 96.54878048780488, 104.4390243902439, 105.0], \"name\": \"Efficiency\", \"marker\": {\"color\": \"purple\"}}, {\"type\": \"bar\", \"x\": [\"2017\", \"2016\", \"2015\", \"2014\", \"2013\", \"2012\"], \"y\": [36.9, 34.0, 33.900000000000006, 32.0, 31.2, 36.0], \"name\": \"3 Point Percentage Made\", \"marker\": {\"color\": \"blue\"}}], {\"title\": \"Efficiency VS 3 Point Percentage Made for PHI\", \"xaxis\": {\"title\": \"Season\"}}, {\"showLink\": true, \"linkText\": \"Export to plot.ly\"})});</script>"
      ]
     },
     "metadata": {},
     "output_type": "display_data"
    },
    {
     "data": {
      "application/vnd.plotly.v1+json": {
       "data": [
        {
         "marker": {
          "color": "purple"
         },
         "name": "Efficiency",
         "type": "bar",
         "x": [
          "2017",
          "2016",
          "2015",
          "2014",
          "2013",
          "2012"
         ],
         "y": [
          110.1829268292683,
          115.32926829268293,
          106.60975609756098,
          111.6829268292683,
          114.2439024390244,
          105.08536585365853
         ]
        },
        {
         "marker": {
          "color": "blue"
         },
         "name": "3 Point Percentage Made",
         "type": "bar",
         "x": [
          "2017",
          "2016",
          "2015",
          "2014",
          "2013",
          "2012"
         ],
         "y": [
          33.4,
          33.2,
          34.8,
          34.1,
          37.2,
          33
         ]
        }
       ],
       "layout": {
        "title": "Efficiency VS 3 Point Percentage Made for PHO",
        "xaxis": {
         "title": "Season"
        }
       }
      },
      "text/html": [
       "<div id=\"f0acda72-e59d-45f5-97ad-25d6bd7aa929\" style=\"height: 525px; width: 100%;\" class=\"plotly-graph-div\"></div><script type=\"text/javascript\">require([\"plotly\"], function(Plotly) { window.PLOTLYENV=window.PLOTLYENV || {};window.PLOTLYENV.BASE_URL=\"https://plot.ly\";Plotly.newPlot(\"f0acda72-e59d-45f5-97ad-25d6bd7aa929\", [{\"type\": \"bar\", \"x\": [\"2017\", \"2016\", \"2015\", \"2014\", \"2013\", \"2012\"], \"y\": [110.1829268292683, 115.32926829268293, 106.60975609756098, 111.6829268292683, 114.2439024390244, 105.08536585365853], \"name\": \"Efficiency\", \"marker\": {\"color\": \"purple\"}}, {\"type\": \"bar\", \"x\": [\"2017\", \"2016\", \"2015\", \"2014\", \"2013\", \"2012\"], \"y\": [33.4, 33.2, 34.8, 34.1, 37.2, 33.0], \"name\": \"3 Point Percentage Made\", \"marker\": {\"color\": \"blue\"}}], {\"title\": \"Efficiency VS 3 Point Percentage Made for PHO\", \"xaxis\": {\"title\": \"Season\"}}, {\"showLink\": true, \"linkText\": \"Export to plot.ly\"})});</script>"
      ],
      "text/vnd.plotly.v1+html": [
       "<div id=\"f0acda72-e59d-45f5-97ad-25d6bd7aa929\" style=\"height: 525px; width: 100%;\" class=\"plotly-graph-div\"></div><script type=\"text/javascript\">require([\"plotly\"], function(Plotly) { window.PLOTLYENV=window.PLOTLYENV || {};window.PLOTLYENV.BASE_URL=\"https://plot.ly\";Plotly.newPlot(\"f0acda72-e59d-45f5-97ad-25d6bd7aa929\", [{\"type\": \"bar\", \"x\": [\"2017\", \"2016\", \"2015\", \"2014\", \"2013\", \"2012\"], \"y\": [110.1829268292683, 115.32926829268293, 106.60975609756098, 111.6829268292683, 114.2439024390244, 105.08536585365853], \"name\": \"Efficiency\", \"marker\": {\"color\": \"purple\"}}, {\"type\": \"bar\", \"x\": [\"2017\", \"2016\", \"2015\", \"2014\", \"2013\", \"2012\"], \"y\": [33.4, 33.2, 34.8, 34.1, 37.2, 33.0], \"name\": \"3 Point Percentage Made\", \"marker\": {\"color\": \"blue\"}}], {\"title\": \"Efficiency VS 3 Point Percentage Made for PHO\", \"xaxis\": {\"title\": \"Season\"}}, {\"showLink\": true, \"linkText\": \"Export to plot.ly\"})});</script>"
      ]
     },
     "metadata": {},
     "output_type": "display_data"
    },
    {
     "data": {
      "application/vnd.plotly.v1+json": {
       "data": [
        {
         "marker": {
          "color": "purple"
         },
         "name": "Efficiency",
         "type": "bar",
         "x": [
          "2017",
          "2016",
          "2015",
          "2014",
          "2013",
          "2012"
         ],
         "y": [
          117.34146341463415,
          119.23170731707317,
          115.90243902439025,
          116.79268292682927,
          120.6951219512195,
          106.5
         ]
        },
        {
         "marker": {
          "color": "blue"
         },
         "name": "3 Point Percentage Made",
         "type": "bar",
         "x": [
          "2017",
          "2016",
          "2015",
          "2014",
          "2013",
          "2012"
         ],
         "y": [
          36.6,
          37.5,
          37,
          36.199999999999996,
          37.2,
          35.3
         ]
        }
       ],
       "layout": {
        "title": "Efficiency VS 3 Point Percentage Made for POR",
        "xaxis": {
         "title": "Season"
        }
       }
      },
      "text/html": [
       "<div id=\"424245da-0448-4c69-be66-a77c9a4457d4\" style=\"height: 525px; width: 100%;\" class=\"plotly-graph-div\"></div><script type=\"text/javascript\">require([\"plotly\"], function(Plotly) { window.PLOTLYENV=window.PLOTLYENV || {};window.PLOTLYENV.BASE_URL=\"https://plot.ly\";Plotly.newPlot(\"424245da-0448-4c69-be66-a77c9a4457d4\", [{\"type\": \"bar\", \"x\": [\"2017\", \"2016\", \"2015\", \"2014\", \"2013\", \"2012\"], \"y\": [117.34146341463415, 119.23170731707317, 115.90243902439025, 116.79268292682927, 120.6951219512195, 106.5], \"name\": \"Efficiency\", \"marker\": {\"color\": \"purple\"}}, {\"type\": \"bar\", \"x\": [\"2017\", \"2016\", \"2015\", \"2014\", \"2013\", \"2012\"], \"y\": [36.6, 37.5, 37.0, 36.199999999999996, 37.2, 35.3], \"name\": \"3 Point Percentage Made\", \"marker\": {\"color\": \"blue\"}}], {\"title\": \"Efficiency VS 3 Point Percentage Made for POR\", \"xaxis\": {\"title\": \"Season\"}}, {\"showLink\": true, \"linkText\": \"Export to plot.ly\"})});</script>"
      ],
      "text/vnd.plotly.v1+html": [
       "<div id=\"424245da-0448-4c69-be66-a77c9a4457d4\" style=\"height: 525px; width: 100%;\" class=\"plotly-graph-div\"></div><script type=\"text/javascript\">require([\"plotly\"], function(Plotly) { window.PLOTLYENV=window.PLOTLYENV || {};window.PLOTLYENV.BASE_URL=\"https://plot.ly\";Plotly.newPlot(\"424245da-0448-4c69-be66-a77c9a4457d4\", [{\"type\": \"bar\", \"x\": [\"2017\", \"2016\", \"2015\", \"2014\", \"2013\", \"2012\"], \"y\": [117.34146341463415, 119.23170731707317, 115.90243902439025, 116.79268292682927, 120.6951219512195, 106.5], \"name\": \"Efficiency\", \"marker\": {\"color\": \"purple\"}}, {\"type\": \"bar\", \"x\": [\"2017\", \"2016\", \"2015\", \"2014\", \"2013\", \"2012\"], \"y\": [36.6, 37.5, 37.0, 36.199999999999996, 37.2, 35.3], \"name\": \"3 Point Percentage Made\", \"marker\": {\"color\": \"blue\"}}], {\"title\": \"Efficiency VS 3 Point Percentage Made for POR\", \"xaxis\": {\"title\": \"Season\"}}, {\"showLink\": true, \"linkText\": \"Export to plot.ly\"})});</script>"
      ]
     },
     "metadata": {},
     "output_type": "display_data"
    },
    {
     "data": {
      "application/vnd.plotly.v1+json": {
       "data": [
        {
         "marker": {
          "color": "purple"
         },
         "name": "Efficiency",
         "type": "bar",
         "x": [
          "2017",
          "2016",
          "2015",
          "2014",
          "2013",
          "2012"
         ],
         "y": [
          107.79268292682927,
          113.8048780487805,
          119.23170731707317,
          109.3048780487805,
          107.45121951219512,
          107.54878048780488
         ]
        },
        {
         "marker": {
          "color": "blue"
         },
         "name": "3 Point Percentage Made",
         "type": "bar",
         "x": [
          "2017",
          "2016",
          "2015",
          "2014",
          "2013",
          "2012"
         ],
         "y": [
          37.5,
          37.6,
          35.9,
          34.1,
          33.300000000000004,
          36.3
         ]
        }
       ],
       "layout": {
        "title": "Efficiency VS 3 Point Percentage Made for SAC",
        "xaxis": {
         "title": "Season"
        }
       }
      },
      "text/html": [
       "<div id=\"865be912-b801-43df-998c-f3c7cbf365fb\" style=\"height: 525px; width: 100%;\" class=\"plotly-graph-div\"></div><script type=\"text/javascript\">require([\"plotly\"], function(Plotly) { window.PLOTLYENV=window.PLOTLYENV || {};window.PLOTLYENV.BASE_URL=\"https://plot.ly\";Plotly.newPlot(\"865be912-b801-43df-998c-f3c7cbf365fb\", [{\"type\": \"bar\", \"x\": [\"2017\", \"2016\", \"2015\", \"2014\", \"2013\", \"2012\"], \"y\": [107.79268292682927, 113.8048780487805, 119.23170731707317, 109.3048780487805, 107.45121951219512, 107.54878048780488], \"name\": \"Efficiency\", \"marker\": {\"color\": \"purple\"}}, {\"type\": \"bar\", \"x\": [\"2017\", \"2016\", \"2015\", \"2014\", \"2013\", \"2012\"], \"y\": [37.5, 37.6, 35.9, 34.1, 33.300000000000004, 36.3], \"name\": \"3 Point Percentage Made\", \"marker\": {\"color\": \"blue\"}}], {\"title\": \"Efficiency VS 3 Point Percentage Made for SAC\", \"xaxis\": {\"title\": \"Season\"}}, {\"showLink\": true, \"linkText\": \"Export to plot.ly\"})});</script>"
      ],
      "text/vnd.plotly.v1+html": [
       "<div id=\"865be912-b801-43df-998c-f3c7cbf365fb\" style=\"height: 525px; width: 100%;\" class=\"plotly-graph-div\"></div><script type=\"text/javascript\">require([\"plotly\"], function(Plotly) { window.PLOTLYENV=window.PLOTLYENV || {};window.PLOTLYENV.BASE_URL=\"https://plot.ly\";Plotly.newPlot(\"865be912-b801-43df-998c-f3c7cbf365fb\", [{\"type\": \"bar\", \"x\": [\"2017\", \"2016\", \"2015\", \"2014\", \"2013\", \"2012\"], \"y\": [107.79268292682927, 113.8048780487805, 119.23170731707317, 109.3048780487805, 107.45121951219512, 107.54878048780488], \"name\": \"Efficiency\", \"marker\": {\"color\": \"purple\"}}, {\"type\": \"bar\", \"x\": [\"2017\", \"2016\", \"2015\", \"2014\", \"2013\", \"2012\"], \"y\": [37.5, 37.6, 35.9, 34.1, 33.300000000000004, 36.3], \"name\": \"3 Point Percentage Made\", \"marker\": {\"color\": \"blue\"}}], {\"title\": \"Efficiency VS 3 Point Percentage Made for SAC\", \"xaxis\": {\"title\": \"Season\"}}, {\"showLink\": true, \"linkText\": \"Export to plot.ly\"})});</script>"
      ]
     },
     "metadata": {},
     "output_type": "display_data"
    },
    {
     "data": {
      "application/vnd.plotly.v1+json": {
       "data": [
        {
         "marker": {
          "color": "purple"
         },
         "name": "Efficiency",
         "type": "bar",
         "x": [
          "2017",
          "2016",
          "2015",
          "2014",
          "2013",
          "2012"
         ],
         "y": [
          118.78048780487805,
          124.6219512195122,
          126.26829268292683,
          121.48780487804878,
          124.6829268292683,
          121.98780487804878
         ]
        },
        {
         "marker": {
          "color": "blue"
         },
         "name": "3 Point Percentage Made",
         "type": "bar",
         "x": [
          "2017",
          "2016",
          "2015",
          "2014",
          "2013",
          "2012"
         ],
         "y": [
          35.199999999999996,
          39.1,
          37.5,
          36.7,
          39.7,
          37.6
         ]
        }
       ],
       "layout": {
        "title": "Efficiency VS 3 Point Percentage Made for SAS",
        "xaxis": {
         "title": "Season"
        }
       }
      },
      "text/html": [
       "<div id=\"a406bfcb-2154-467d-8cc8-2b141fe4e96d\" style=\"height: 525px; width: 100%;\" class=\"plotly-graph-div\"></div><script type=\"text/javascript\">require([\"plotly\"], function(Plotly) { window.PLOTLYENV=window.PLOTLYENV || {};window.PLOTLYENV.BASE_URL=\"https://plot.ly\";Plotly.newPlot(\"a406bfcb-2154-467d-8cc8-2b141fe4e96d\", [{\"type\": \"bar\", \"x\": [\"2017\", \"2016\", \"2015\", \"2014\", \"2013\", \"2012\"], \"y\": [118.78048780487805, 124.6219512195122, 126.26829268292683, 121.48780487804878, 124.6829268292683, 121.98780487804878], \"name\": \"Efficiency\", \"marker\": {\"color\": \"purple\"}}, {\"type\": \"bar\", \"x\": [\"2017\", \"2016\", \"2015\", \"2014\", \"2013\", \"2012\"], \"y\": [35.199999999999996, 39.1, 37.5, 36.7, 39.7, 37.6], \"name\": \"3 Point Percentage Made\", \"marker\": {\"color\": \"blue\"}}], {\"title\": \"Efficiency VS 3 Point Percentage Made for SAS\", \"xaxis\": {\"title\": \"Season\"}}, {\"showLink\": true, \"linkText\": \"Export to plot.ly\"})});</script>"
      ],
      "text/vnd.plotly.v1+html": [
       "<div id=\"a406bfcb-2154-467d-8cc8-2b141fe4e96d\" style=\"height: 525px; width: 100%;\" class=\"plotly-graph-div\"></div><script type=\"text/javascript\">require([\"plotly\"], function(Plotly) { window.PLOTLYENV=window.PLOTLYENV || {};window.PLOTLYENV.BASE_URL=\"https://plot.ly\";Plotly.newPlot(\"a406bfcb-2154-467d-8cc8-2b141fe4e96d\", [{\"type\": \"bar\", \"x\": [\"2017\", \"2016\", \"2015\", \"2014\", \"2013\", \"2012\"], \"y\": [118.78048780487805, 124.6219512195122, 126.26829268292683, 121.48780487804878, 124.6829268292683, 121.98780487804878], \"name\": \"Efficiency\", \"marker\": {\"color\": \"purple\"}}, {\"type\": \"bar\", \"x\": [\"2017\", \"2016\", \"2015\", \"2014\", \"2013\", \"2012\"], \"y\": [35.199999999999996, 39.1, 37.5, 36.7, 39.7, 37.6], \"name\": \"3 Point Percentage Made\", \"marker\": {\"color\": \"blue\"}}], {\"title\": \"Efficiency VS 3 Point Percentage Made for SAS\", \"xaxis\": {\"title\": \"Season\"}}, {\"showLink\": true, \"linkText\": \"Export to plot.ly\"})});</script>"
      ]
     },
     "metadata": {},
     "output_type": "display_data"
    },
    {
     "data": {
      "application/vnd.plotly.v1+json": {
       "data": [
        {
         "marker": {
          "color": "purple"
         },
         "name": "Efficiency",
         "type": "bar",
         "x": [
          "2017",
          "2016",
          "2015",
          "2014",
          "2013",
          "2012"
         ],
         "y": [
          129.6951219512195,
          118.8048780487805,
          114.3780487804878,
          114.63414634146342,
          111.1829268292683,
          107.32926829268293
         ]
        },
        {
         "marker": {
          "color": "blue"
         },
         "name": "3 Point Percentage Made",
         "type": "bar",
         "x": [
          "2017",
          "2016",
          "2015",
          "2014",
          "2013",
          "2012"
         ],
         "y": [
          35.8,
          36.3,
          37,
          35.199999999999996,
          37.2,
          34.300000000000004
         ]
        }
       ],
       "layout": {
        "title": "Efficiency VS 3 Point Percentage Made for TOR",
        "xaxis": {
         "title": "Season"
        }
       }
      },
      "text/html": [
       "<div id=\"916931a7-e2b3-4628-9585-f8e1cc70b542\" style=\"height: 525px; width: 100%;\" class=\"plotly-graph-div\"></div><script type=\"text/javascript\">require([\"plotly\"], function(Plotly) { window.PLOTLYENV=window.PLOTLYENV || {};window.PLOTLYENV.BASE_URL=\"https://plot.ly\";Plotly.newPlot(\"916931a7-e2b3-4628-9585-f8e1cc70b542\", [{\"type\": \"bar\", \"x\": [\"2017\", \"2016\", \"2015\", \"2014\", \"2013\", \"2012\"], \"y\": [129.6951219512195, 118.8048780487805, 114.3780487804878, 114.63414634146342, 111.1829268292683, 107.32926829268293], \"name\": \"Efficiency\", \"marker\": {\"color\": \"purple\"}}, {\"type\": \"bar\", \"x\": [\"2017\", \"2016\", \"2015\", \"2014\", \"2013\", \"2012\"], \"y\": [35.8, 36.3, 37.0, 35.199999999999996, 37.2, 34.300000000000004], \"name\": \"3 Point Percentage Made\", \"marker\": {\"color\": \"blue\"}}], {\"title\": \"Efficiency VS 3 Point Percentage Made for TOR\", \"xaxis\": {\"title\": \"Season\"}}, {\"showLink\": true, \"linkText\": \"Export to plot.ly\"})});</script>"
      ],
      "text/vnd.plotly.v1+html": [
       "<div id=\"916931a7-e2b3-4628-9585-f8e1cc70b542\" style=\"height: 525px; width: 100%;\" class=\"plotly-graph-div\"></div><script type=\"text/javascript\">require([\"plotly\"], function(Plotly) { window.PLOTLYENV=window.PLOTLYENV || {};window.PLOTLYENV.BASE_URL=\"https://plot.ly\";Plotly.newPlot(\"916931a7-e2b3-4628-9585-f8e1cc70b542\", [{\"type\": \"bar\", \"x\": [\"2017\", \"2016\", \"2015\", \"2014\", \"2013\", \"2012\"], \"y\": [129.6951219512195, 118.8048780487805, 114.3780487804878, 114.63414634146342, 111.1829268292683, 107.32926829268293], \"name\": \"Efficiency\", \"marker\": {\"color\": \"purple\"}}, {\"type\": \"bar\", \"x\": [\"2017\", \"2016\", \"2015\", \"2014\", \"2013\", \"2012\"], \"y\": [35.8, 36.3, 37.0, 35.199999999999996, 37.2, 34.300000000000004], \"name\": \"3 Point Percentage Made\", \"marker\": {\"color\": \"blue\"}}], {\"title\": \"Efficiency VS 3 Point Percentage Made for TOR\", \"xaxis\": {\"title\": \"Season\"}}, {\"showLink\": true, \"linkText\": \"Export to plot.ly\"})});</script>"
      ]
     },
     "metadata": {},
     "output_type": "display_data"
    },
    {
     "data": {
      "application/vnd.plotly.v1+json": {
       "data": [
        {
         "marker": {
          "color": "purple"
         },
         "name": "Efficiency",
         "type": "bar",
         "x": [
          "2017",
          "2016",
          "2015",
          "2014",
          "2013",
          "2012"
         ],
         "y": [
          119.51219512195122,
          113.90243902439025,
          107.59756097560975,
          106.8780487804878,
          102.60975609756098,
          112.5609756097561
         ]
        },
        {
         "marker": {
          "color": "blue"
         },
         "name": "3 Point Percentage Made",
         "type": "bar",
         "x": [
          "2017",
          "2016",
          "2015",
          "2014",
          "2013",
          "2012"
         ],
         "y": [
          36.6,
          37.2,
          35.5,
          34.300000000000004,
          34.4,
          36.6
         ]
        }
       ],
       "layout": {
        "title": "Efficiency VS 3 Point Percentage Made for UTA",
        "xaxis": {
         "title": "Season"
        }
       }
      },
      "text/html": [
       "<div id=\"d3a2ba65-8ade-4c98-8c79-b87235e89c89\" style=\"height: 525px; width: 100%;\" class=\"plotly-graph-div\"></div><script type=\"text/javascript\">require([\"plotly\"], function(Plotly) { window.PLOTLYENV=window.PLOTLYENV || {};window.PLOTLYENV.BASE_URL=\"https://plot.ly\";Plotly.newPlot(\"d3a2ba65-8ade-4c98-8c79-b87235e89c89\", [{\"type\": \"bar\", \"x\": [\"2017\", \"2016\", \"2015\", \"2014\", \"2013\", \"2012\"], \"y\": [119.51219512195122, 113.90243902439025, 107.59756097560975, 106.8780487804878, 102.60975609756098, 112.5609756097561], \"name\": \"Efficiency\", \"marker\": {\"color\": \"purple\"}}, {\"type\": \"bar\", \"x\": [\"2017\", \"2016\", \"2015\", \"2014\", \"2013\", \"2012\"], \"y\": [36.6, 37.2, 35.5, 34.300000000000004, 34.4, 36.6], \"name\": \"3 Point Percentage Made\", \"marker\": {\"color\": \"blue\"}}], {\"title\": \"Efficiency VS 3 Point Percentage Made for UTA\", \"xaxis\": {\"title\": \"Season\"}}, {\"showLink\": true, \"linkText\": \"Export to plot.ly\"})});</script>"
      ],
      "text/vnd.plotly.v1+html": [
       "<div id=\"d3a2ba65-8ade-4c98-8c79-b87235e89c89\" style=\"height: 525px; width: 100%;\" class=\"plotly-graph-div\"></div><script type=\"text/javascript\">require([\"plotly\"], function(Plotly) { window.PLOTLYENV=window.PLOTLYENV || {};window.PLOTLYENV.BASE_URL=\"https://plot.ly\";Plotly.newPlot(\"d3a2ba65-8ade-4c98-8c79-b87235e89c89\", [{\"type\": \"bar\", \"x\": [\"2017\", \"2016\", \"2015\", \"2014\", \"2013\", \"2012\"], \"y\": [119.51219512195122, 113.90243902439025, 107.59756097560975, 106.8780487804878, 102.60975609756098, 112.5609756097561], \"name\": \"Efficiency\", \"marker\": {\"color\": \"purple\"}}, {\"type\": \"bar\", \"x\": [\"2017\", \"2016\", \"2015\", \"2014\", \"2013\", \"2012\"], \"y\": [36.6, 37.2, 35.5, 34.300000000000004, 34.4, 36.6], \"name\": \"3 Point Percentage Made\", \"marker\": {\"color\": \"blue\"}}], {\"title\": \"Efficiency VS 3 Point Percentage Made for UTA\", \"xaxis\": {\"title\": \"Season\"}}, {\"showLink\": true, \"linkText\": \"Export to plot.ly\"})});</script>"
      ]
     },
     "metadata": {},
     "output_type": "display_data"
    },
    {
     "data": {
      "application/vnd.plotly.v1+json": {
       "data": [
        {
         "marker": {
          "color": "purple"
         },
         "name": "Efficiency",
         "type": "bar",
         "x": [
          "2017",
          "2016",
          "2015",
          "2014",
          "2013",
          "2012"
         ],
         "y": [
          121.89024390243902,
          123.78048780487805,
          116.09756097560975,
          114.07317073170732,
          112.90243902439025,
          102.97560975609755
         ]
        },
        {
         "marker": {
          "color": "blue"
         },
         "name": "3 Point Percentage Made",
         "type": "bar",
         "x": [
          "2017",
          "2016",
          "2015",
          "2014",
          "2013",
          "2012"
         ],
         "y": [
          37.5,
          37.2,
          35.8,
          36,
          38,
          36.5
         ]
        }
       ],
       "layout": {
        "title": "Efficiency VS 3 Point Percentage Made for WAS",
        "xaxis": {
         "title": "Season"
        }
       }
      },
      "text/html": [
       "<div id=\"56b9fa4c-5c87-461c-9226-797485da98a3\" style=\"height: 525px; width: 100%;\" class=\"plotly-graph-div\"></div><script type=\"text/javascript\">require([\"plotly\"], function(Plotly) { window.PLOTLYENV=window.PLOTLYENV || {};window.PLOTLYENV.BASE_URL=\"https://plot.ly\";Plotly.newPlot(\"56b9fa4c-5c87-461c-9226-797485da98a3\", [{\"type\": \"bar\", \"x\": [\"2017\", \"2016\", \"2015\", \"2014\", \"2013\", \"2012\"], \"y\": [121.89024390243902, 123.78048780487805, 116.09756097560975, 114.07317073170732, 112.90243902439025, 102.97560975609755], \"name\": \"Efficiency\", \"marker\": {\"color\": \"purple\"}}, {\"type\": \"bar\", \"x\": [\"2017\", \"2016\", \"2015\", \"2014\", \"2013\", \"2012\"], \"y\": [37.5, 37.2, 35.8, 36.0, 38.0, 36.5], \"name\": \"3 Point Percentage Made\", \"marker\": {\"color\": \"blue\"}}], {\"title\": \"Efficiency VS 3 Point Percentage Made for WAS\", \"xaxis\": {\"title\": \"Season\"}}, {\"showLink\": true, \"linkText\": \"Export to plot.ly\"})});</script>"
      ],
      "text/vnd.plotly.v1+html": [
       "<div id=\"56b9fa4c-5c87-461c-9226-797485da98a3\" style=\"height: 525px; width: 100%;\" class=\"plotly-graph-div\"></div><script type=\"text/javascript\">require([\"plotly\"], function(Plotly) { window.PLOTLYENV=window.PLOTLYENV || {};window.PLOTLYENV.BASE_URL=\"https://plot.ly\";Plotly.newPlot(\"56b9fa4c-5c87-461c-9226-797485da98a3\", [{\"type\": \"bar\", \"x\": [\"2017\", \"2016\", \"2015\", \"2014\", \"2013\", \"2012\"], \"y\": [121.89024390243902, 123.78048780487805, 116.09756097560975, 114.07317073170732, 112.90243902439025, 102.97560975609755], \"name\": \"Efficiency\", \"marker\": {\"color\": \"purple\"}}, {\"type\": \"bar\", \"x\": [\"2017\", \"2016\", \"2015\", \"2014\", \"2013\", \"2012\"], \"y\": [37.5, 37.2, 35.8, 36.0, 38.0, 36.5], \"name\": \"3 Point Percentage Made\", \"marker\": {\"color\": \"blue\"}}], {\"title\": \"Efficiency VS 3 Point Percentage Made for WAS\", \"xaxis\": {\"title\": \"Season\"}}, {\"showLink\": true, \"linkText\": \"Export to plot.ly\"})});</script>"
      ]
     },
     "metadata": {},
     "output_type": "display_data"
    }
   ],
   "source": [
    "for df in teamstats:\n",
    "    data = []\n",
    "    data.append(go.Bar(\n",
    "        x = df['Season'],\n",
    "        y = df['Efficiency'],\n",
    "        name = 'Efficiency',\n",
    "        marker = dict(\n",
    "            color = \"purple\")\n",
    "        \n",
    "        ))\n",
    "    data.append(go.Bar(\n",
    "        x = df['Season'],\n",
    "        y = df['3P%'],\n",
    "        name = '3 Point Percentage Made',\n",
    "        marker = dict(\n",
    "            color = \"blue\")\n",
    "    ))\n",
    "    layout = dict(title= 'Efficiency VS 3 Point Percentage Made for '+ df['Tm'][0],xaxis = dict(title = 'Season')) \n",
    "    fig = dict(data=data, layout=layout)\n",
    "    iplot(fig, filename='basic-line')"
   ]
  },
  {
   "cell_type": "markdown",
   "metadata": {},
   "source": [
    "In theory, if the 3 point shot was accurate enough the efficiency should increase greatly with an increased amount of shots. The function of efficiency is based off of points and missed FG, a three pointer inherently increases the amount of points you make, and if it is accurate enough, the lack of efficiency of having a missed FG should be made up by the number of points. However, it seems that when Houston increased their 3 point attempted shooting from 46% to 50% we actually saw a decrease in efficiency. The Houston Rockets hit their peak efficiency at 46% 3P FG attempted. For very few teams do we see a peak efficiency correlated with a peak 3 point field game attempted. The lack of correlation made me think actually how important is efficiency with how much a team wins."
   ]
  },
  {
   "cell_type": "code",
   "execution_count": 278,
   "metadata": {},
   "outputs": [
    {
     "data": {
      "application/vnd.plotly.v1+json": {
       "data": [
        {
         "marker": {
          "color": "purple"
         },
         "name": "Efficiency",
         "type": "bar",
         "x": [
          "2017",
          "2016",
          "2015",
          "2014",
          "2013",
          "2012"
         ],
         "y": [
          113.73170731707317,
          115.32926829268293,
          120.48780487804878,
          119.98780487804878,
          113.89024390243902,
          111.98780487804878
         ]
        },
        {
         "marker": {
          "color": "green"
         },
         "name": "Win Loss Percentage",
         "type": "bar",
         "x": [
          "2017",
          "2016",
          "2015",
          "2014",
          "2013",
          "2012"
         ],
         "y": [
          29.268292682926827,
          52.4390243902439,
          58.536585365853654,
          73.17073170731707,
          46.34146341463415,
          53.65853658536586
         ]
        }
       ],
       "layout": {
        "title": "Efficiency VS Win/Loss For ATL",
        "xaxis": {
         "title": "Season"
        }
       }
      },
      "text/html": [
       "<div id=\"5eeff98c-3aee-4ed3-b9b0-ccad4b6d11f6\" style=\"height: 525px; width: 100%;\" class=\"plotly-graph-div\"></div><script type=\"text/javascript\">require([\"plotly\"], function(Plotly) { window.PLOTLYENV=window.PLOTLYENV || {};window.PLOTLYENV.BASE_URL=\"https://plot.ly\";Plotly.newPlot(\"5eeff98c-3aee-4ed3-b9b0-ccad4b6d11f6\", [{\"type\": \"bar\", \"x\": [\"2017\", \"2016\", \"2015\", \"2014\", \"2013\", \"2012\"], \"y\": [113.73170731707317, 115.32926829268293, 120.48780487804878, 119.98780487804878, 113.89024390243902, 111.98780487804878], \"name\": \"Efficiency\", \"marker\": {\"color\": \"purple\"}}, {\"type\": \"bar\", \"x\": [\"2017\", \"2016\", \"2015\", \"2014\", \"2013\", \"2012\"], \"y\": [29.268292682926827, 52.4390243902439, 58.536585365853654, 73.17073170731707, 46.34146341463415, 53.65853658536586], \"name\": \"Win Loss Percentage\", \"marker\": {\"color\": \"green\"}}], {\"title\": \"Efficiency VS Win/Loss For ATL\", \"xaxis\": {\"title\": \"Season\"}}, {\"showLink\": true, \"linkText\": \"Export to plot.ly\"})});</script>"
      ],
      "text/vnd.plotly.v1+html": [
       "<div id=\"5eeff98c-3aee-4ed3-b9b0-ccad4b6d11f6\" style=\"height: 525px; width: 100%;\" class=\"plotly-graph-div\"></div><script type=\"text/javascript\">require([\"plotly\"], function(Plotly) { window.PLOTLYENV=window.PLOTLYENV || {};window.PLOTLYENV.BASE_URL=\"https://plot.ly\";Plotly.newPlot(\"5eeff98c-3aee-4ed3-b9b0-ccad4b6d11f6\", [{\"type\": \"bar\", \"x\": [\"2017\", \"2016\", \"2015\", \"2014\", \"2013\", \"2012\"], \"y\": [113.73170731707317, 115.32926829268293, 120.48780487804878, 119.98780487804878, 113.89024390243902, 111.98780487804878], \"name\": \"Efficiency\", \"marker\": {\"color\": \"purple\"}}, {\"type\": \"bar\", \"x\": [\"2017\", \"2016\", \"2015\", \"2014\", \"2013\", \"2012\"], \"y\": [29.268292682926827, 52.4390243902439, 58.536585365853654, 73.17073170731707, 46.34146341463415, 53.65853658536586], \"name\": \"Win Loss Percentage\", \"marker\": {\"color\": \"green\"}}], {\"title\": \"Efficiency VS Win/Loss For ATL\", \"xaxis\": {\"title\": \"Season\"}}, {\"showLink\": true, \"linkText\": \"Export to plot.ly\"})});</script>"
      ]
     },
     "metadata": {},
     "output_type": "display_data"
    },
    {
     "data": {
      "application/vnd.plotly.v1+json": {
       "data": [
        {
         "marker": {
          "color": "purple"
         },
         "name": "Efficiency",
         "type": "bar",
         "x": [
          "2017",
          "2016",
          "2015",
          "2014",
          "2013",
          "2012"
         ],
         "y": [
          116.86585365853658,
          113.90243902439025,
          109.08536585365853,
          107.52439024390245,
          107.21951219512195,
          107.01219512195122
         ]
        },
        {
         "marker": {
          "color": "green"
         },
         "name": "Win Loss Percentage",
         "type": "bar",
         "x": [
          "2017",
          "2016",
          "2015",
          "2014",
          "2013",
          "2012"
         ],
         "y": [
          34.146341463414636,
          24.390243902439025,
          25.609756097560975,
          46.34146341463415,
          53.65853658536586,
          59.756097560975604
         ]
        }
       ],
       "layout": {
        "title": "Efficiency VS Win/Loss For BRK",
        "xaxis": {
         "title": "Season"
        }
       }
      },
      "text/html": [
       "<div id=\"02a72a3c-8b88-463b-87b4-87d34deb8a72\" style=\"height: 525px; width: 100%;\" class=\"plotly-graph-div\"></div><script type=\"text/javascript\">require([\"plotly\"], function(Plotly) { window.PLOTLYENV=window.PLOTLYENV || {};window.PLOTLYENV.BASE_URL=\"https://plot.ly\";Plotly.newPlot(\"02a72a3c-8b88-463b-87b4-87d34deb8a72\", [{\"type\": \"bar\", \"x\": [\"2017\", \"2016\", \"2015\", \"2014\", \"2013\", \"2012\"], \"y\": [116.86585365853658, 113.90243902439025, 109.08536585365853, 107.52439024390245, 107.21951219512195, 107.01219512195122], \"name\": \"Efficiency\", \"marker\": {\"color\": \"purple\"}}, {\"type\": \"bar\", \"x\": [\"2017\", \"2016\", \"2015\", \"2014\", \"2013\", \"2012\"], \"y\": [34.146341463414636, 24.390243902439025, 25.609756097560975, 46.34146341463415, 53.65853658536586, 59.756097560975604], \"name\": \"Win Loss Percentage\", \"marker\": {\"color\": \"green\"}}], {\"title\": \"Efficiency VS Win/Loss For BRK\", \"xaxis\": {\"title\": \"Season\"}}, {\"showLink\": true, \"linkText\": \"Export to plot.ly\"})});</script>"
      ],
      "text/vnd.plotly.v1+html": [
       "<div id=\"02a72a3c-8b88-463b-87b4-87d34deb8a72\" style=\"height: 525px; width: 100%;\" class=\"plotly-graph-div\"></div><script type=\"text/javascript\">require([\"plotly\"], function(Plotly) { window.PLOTLYENV=window.PLOTLYENV || {};window.PLOTLYENV.BASE_URL=\"https://plot.ly\";Plotly.newPlot(\"02a72a3c-8b88-463b-87b4-87d34deb8a72\", [{\"type\": \"bar\", \"x\": [\"2017\", \"2016\", \"2015\", \"2014\", \"2013\", \"2012\"], \"y\": [116.86585365853658, 113.90243902439025, 109.08536585365853, 107.52439024390245, 107.21951219512195, 107.01219512195122], \"name\": \"Efficiency\", \"marker\": {\"color\": \"purple\"}}, {\"type\": \"bar\", \"x\": [\"2017\", \"2016\", \"2015\", \"2014\", \"2013\", \"2012\"], \"y\": [34.146341463414636, 24.390243902439025, 25.609756097560975, 46.34146341463415, 53.65853658536586, 59.756097560975604], \"name\": \"Win Loss Percentage\", \"marker\": {\"color\": \"green\"}}], {\"title\": \"Efficiency VS Win/Loss For BRK\", \"xaxis\": {\"title\": \"Season\"}}, {\"showLink\": true, \"linkText\": \"Export to plot.ly\"})});</script>"
      ]
     },
     "metadata": {},
     "output_type": "display_data"
    },
    {
     "data": {
      "application/vnd.plotly.v1+json": {
       "data": [
        {
         "marker": {
          "color": "purple"
         },
         "name": "Efficiency",
         "type": "bar",
         "x": [
          "2017",
          "2016",
          "2015",
          "2014",
          "2013",
          "2012"
         ],
         "y": [
          117.34146341463415,
          122.6829268292683,
          119.45121951219512,
          113.67073170731707,
          103.67073170731707,
          108.0609756097561
         ]
        },
        {
         "marker": {
          "color": "green"
         },
         "name": "Win Loss Percentage",
         "type": "bar",
         "x": [
          "2017",
          "2016",
          "2015",
          "2014",
          "2013",
          "2012"
         ],
         "y": [
          67.07317073170732,
          64.63414634146342,
          58.536585365853654,
          48.78048780487805,
          30.48780487804878,
          50.617283950617285
         ]
        }
       ],
       "layout": {
        "title": "Efficiency VS Win/Loss For BOS",
        "xaxis": {
         "title": "Season"
        }
       }
      },
      "text/html": [
       "<div id=\"647fab06-e4d2-494c-84bc-f1e192fb243f\" style=\"height: 525px; width: 100%;\" class=\"plotly-graph-div\"></div><script type=\"text/javascript\">require([\"plotly\"], function(Plotly) { window.PLOTLYENV=window.PLOTLYENV || {};window.PLOTLYENV.BASE_URL=\"https://plot.ly\";Plotly.newPlot(\"647fab06-e4d2-494c-84bc-f1e192fb243f\", [{\"type\": \"bar\", \"x\": [\"2017\", \"2016\", \"2015\", \"2014\", \"2013\", \"2012\"], \"y\": [117.34146341463415, 122.6829268292683, 119.45121951219512, 113.67073170731707, 103.67073170731707, 108.0609756097561], \"name\": \"Efficiency\", \"marker\": {\"color\": \"purple\"}}, {\"type\": \"bar\", \"x\": [\"2017\", \"2016\", \"2015\", \"2014\", \"2013\", \"2012\"], \"y\": [67.07317073170732, 64.63414634146342, 58.536585365853654, 48.78048780487805, 30.48780487804878, 50.617283950617285], \"name\": \"Win Loss Percentage\", \"marker\": {\"color\": \"green\"}}], {\"title\": \"Efficiency VS Win/Loss For BOS\", \"xaxis\": {\"title\": \"Season\"}}, {\"showLink\": true, \"linkText\": \"Export to plot.ly\"})});</script>"
      ],
      "text/vnd.plotly.v1+html": [
       "<div id=\"647fab06-e4d2-494c-84bc-f1e192fb243f\" style=\"height: 525px; width: 100%;\" class=\"plotly-graph-div\"></div><script type=\"text/javascript\">require([\"plotly\"], function(Plotly) { window.PLOTLYENV=window.PLOTLYENV || {};window.PLOTLYENV.BASE_URL=\"https://plot.ly\";Plotly.newPlot(\"647fab06-e4d2-494c-84bc-f1e192fb243f\", [{\"type\": \"bar\", \"x\": [\"2017\", \"2016\", \"2015\", \"2014\", \"2013\", \"2012\"], \"y\": [117.34146341463415, 122.6829268292683, 119.45121951219512, 113.67073170731707, 103.67073170731707, 108.0609756097561], \"name\": \"Efficiency\", \"marker\": {\"color\": \"purple\"}}, {\"type\": \"bar\", \"x\": [\"2017\", \"2016\", \"2015\", \"2014\", \"2013\", \"2012\"], \"y\": [67.07317073170732, 64.63414634146342, 58.536585365853654, 48.78048780487805, 30.48780487804878, 50.617283950617285], \"name\": \"Win Loss Percentage\", \"marker\": {\"color\": \"green\"}}], {\"title\": \"Efficiency VS Win/Loss For BOS\", \"xaxis\": {\"title\": \"Season\"}}, {\"showLink\": true, \"linkText\": \"Export to plot.ly\"})});</script>"
      ]
     },
     "metadata": {},
     "output_type": "display_data"
    },
    {
     "data": {
      "application/vnd.plotly.v1+json": {
       "data": [
        {
         "marker": {
          "color": "purple"
         },
         "name": "Efficiency",
         "type": "bar",
         "x": [
          "2017",
          "2016",
          "2015",
          "2014",
          "2013",
          "2012"
         ],
         "y": [
          119.42682926829268,
          119.70731707317073,
          116.70731707317073,
          103.29268292682927,
          107.92682926829268,
          99.15853658536585
         ]
        },
        {
         "marker": {
          "color": "green"
         },
         "name": "Win Loss Percentage",
         "type": "bar",
         "x": [
          "2017",
          "2016",
          "2015",
          "2014",
          "2013",
          "2012"
         ],
         "y": [
          43.90243902439025,
          43.90243902439025,
          58.536585365853654,
          40.243902439024396,
          52.4390243902439,
          25.609756097560975
         ]
        }
       ],
       "layout": {
        "title": "Efficiency VS Win/Loss For CHO",
        "xaxis": {
         "title": "Season"
        }
       }
      },
      "text/html": [
       "<div id=\"217a9b4c-0b88-4bf8-8c89-5855e995fac9\" style=\"height: 525px; width: 100%;\" class=\"plotly-graph-div\"></div><script type=\"text/javascript\">require([\"plotly\"], function(Plotly) { window.PLOTLYENV=window.PLOTLYENV || {};window.PLOTLYENV.BASE_URL=\"https://plot.ly\";Plotly.newPlot(\"217a9b4c-0b88-4bf8-8c89-5855e995fac9\", [{\"type\": \"bar\", \"x\": [\"2017\", \"2016\", \"2015\", \"2014\", \"2013\", \"2012\"], \"y\": [119.42682926829268, 119.70731707317073, 116.70731707317073, 103.29268292682927, 107.92682926829268, 99.15853658536585], \"name\": \"Efficiency\", \"marker\": {\"color\": \"purple\"}}, {\"type\": \"bar\", \"x\": [\"2017\", \"2016\", \"2015\", \"2014\", \"2013\", \"2012\"], \"y\": [43.90243902439025, 43.90243902439025, 58.536585365853654, 40.243902439024396, 52.4390243902439, 25.609756097560975], \"name\": \"Win Loss Percentage\", \"marker\": {\"color\": \"green\"}}], {\"title\": \"Efficiency VS Win/Loss For CHO\", \"xaxis\": {\"title\": \"Season\"}}, {\"showLink\": true, \"linkText\": \"Export to plot.ly\"})});</script>"
      ],
      "text/vnd.plotly.v1+html": [
       "<div id=\"217a9b4c-0b88-4bf8-8c89-5855e995fac9\" style=\"height: 525px; width: 100%;\" class=\"plotly-graph-div\"></div><script type=\"text/javascript\">require([\"plotly\"], function(Plotly) { window.PLOTLYENV=window.PLOTLYENV || {};window.PLOTLYENV.BASE_URL=\"https://plot.ly\";Plotly.newPlot(\"217a9b4c-0b88-4bf8-8c89-5855e995fac9\", [{\"type\": \"bar\", \"x\": [\"2017\", \"2016\", \"2015\", \"2014\", \"2013\", \"2012\"], \"y\": [119.42682926829268, 119.70731707317073, 116.70731707317073, 103.29268292682927, 107.92682926829268, 99.15853658536585], \"name\": \"Efficiency\", \"marker\": {\"color\": \"purple\"}}, {\"type\": \"bar\", \"x\": [\"2017\", \"2016\", \"2015\", \"2014\", \"2013\", \"2012\"], \"y\": [43.90243902439025, 43.90243902439025, 58.536585365853654, 40.243902439024396, 52.4390243902439, 25.609756097560975], \"name\": \"Win Loss Percentage\", \"marker\": {\"color\": \"green\"}}], {\"title\": \"Efficiency VS Win/Loss For CHO\", \"xaxis\": {\"title\": \"Season\"}}, {\"showLink\": true, \"linkText\": \"Export to plot.ly\"})});</script>"
      ]
     },
     "metadata": {},
     "output_type": "display_data"
    },
    {
     "data": {
      "application/vnd.plotly.v1+json": {
       "data": [
        {
         "marker": {
          "color": "purple"
         },
         "name": "Efficiency",
         "type": "bar",
         "x": [
          "2017",
          "2016",
          "2015",
          "2014",
          "2013",
          "2012"
         ],
         "y": [
          113.36585365853658,
          117.8048780487805,
          115.29268292682927,
          114.59756097560975,
          107.3048780487805,
          106.51219512195122
         ]
        },
        {
         "marker": {
          "color": "green"
         },
         "name": "Win Loss Percentage",
         "type": "bar",
         "x": [
          "2017",
          "2016",
          "2015",
          "2014",
          "2013",
          "2012"
         ],
         "y": [
          32.926829268292686,
          50,
          51.21951219512195,
          60.97560975609756,
          58.536585365853654,
          54.87804878048781
         ]
        }
       ],
       "layout": {
        "title": "Efficiency VS Win/Loss For CHI",
        "xaxis": {
         "title": "Season"
        }
       }
      },
      "text/html": [
       "<div id=\"712b6dda-0f1c-4dd6-b57e-114a94c3e9b5\" style=\"height: 525px; width: 100%;\" class=\"plotly-graph-div\"></div><script type=\"text/javascript\">require([\"plotly\"], function(Plotly) { window.PLOTLYENV=window.PLOTLYENV || {};window.PLOTLYENV.BASE_URL=\"https://plot.ly\";Plotly.newPlot(\"712b6dda-0f1c-4dd6-b57e-114a94c3e9b5\", [{\"type\": \"bar\", \"x\": [\"2017\", \"2016\", \"2015\", \"2014\", \"2013\", \"2012\"], \"y\": [113.36585365853658, 117.8048780487805, 115.29268292682927, 114.59756097560975, 107.3048780487805, 106.51219512195122], \"name\": \"Efficiency\", \"marker\": {\"color\": \"purple\"}}, {\"type\": \"bar\", \"x\": [\"2017\", \"2016\", \"2015\", \"2014\", \"2013\", \"2012\"], \"y\": [32.926829268292686, 50.0, 51.21951219512195, 60.97560975609756, 58.536585365853654, 54.87804878048781], \"name\": \"Win Loss Percentage\", \"marker\": {\"color\": \"green\"}}], {\"title\": \"Efficiency VS Win/Loss For CHI\", \"xaxis\": {\"title\": \"Season\"}}, {\"showLink\": true, \"linkText\": \"Export to plot.ly\"})});</script>"
      ],
      "text/vnd.plotly.v1+html": [
       "<div id=\"712b6dda-0f1c-4dd6-b57e-114a94c3e9b5\" style=\"height: 525px; width: 100%;\" class=\"plotly-graph-div\"></div><script type=\"text/javascript\">require([\"plotly\"], function(Plotly) { window.PLOTLYENV=window.PLOTLYENV || {};window.PLOTLYENV.BASE_URL=\"https://plot.ly\";Plotly.newPlot(\"712b6dda-0f1c-4dd6-b57e-114a94c3e9b5\", [{\"type\": \"bar\", \"x\": [\"2017\", \"2016\", \"2015\", \"2014\", \"2013\", \"2012\"], \"y\": [113.36585365853658, 117.8048780487805, 115.29268292682927, 114.59756097560975, 107.3048780487805, 106.51219512195122], \"name\": \"Efficiency\", \"marker\": {\"color\": \"purple\"}}, {\"type\": \"bar\", \"x\": [\"2017\", \"2016\", \"2015\", \"2014\", \"2013\", \"2012\"], \"y\": [32.926829268292686, 50.0, 51.21951219512195, 60.97560975609756, 58.536585365853654, 54.87804878048781], \"name\": \"Win Loss Percentage\", \"marker\": {\"color\": \"green\"}}], {\"title\": \"Efficiency VS Win/Loss For CHI\", \"xaxis\": {\"title\": \"Season\"}}, {\"showLink\": true, \"linkText\": \"Export to plot.ly\"})});</script>"
      ]
     },
     "metadata": {},
     "output_type": "display_data"
    },
    {
     "data": {
      "application/vnd.plotly.v1+json": {
       "data": [
        {
         "marker": {
          "color": "purple"
         },
         "name": "Efficiency",
         "type": "bar",
         "x": [
          "2017",
          "2016",
          "2015",
          "2014",
          "2013",
          "2012"
         ],
         "y": [
          124.02439024390245,
          122.78048780487805,
          117.71951219512195,
          115.0609756097561,
          106.6829268292683,
          103.02439024390245
         ]
        },
        {
         "marker": {
          "color": "green"
         },
         "name": "Win Loss Percentage",
         "type": "bar",
         "x": [
          "2017",
          "2016",
          "2015",
          "2014",
          "2013",
          "2012"
         ],
         "y": [
          60.97560975609756,
          62.19512195121951,
          69.51219512195121,
          64.63414634146342,
          40.243902439024396,
          29.268292682926827
         ]
        }
       ],
       "layout": {
        "title": "Efficiency VS Win/Loss For CLE",
        "xaxis": {
         "title": "Season"
        }
       }
      },
      "text/html": [
       "<div id=\"b597396c-bc8f-4fe6-a318-0afaf4ad46f5\" style=\"height: 525px; width: 100%;\" class=\"plotly-graph-div\"></div><script type=\"text/javascript\">require([\"plotly\"], function(Plotly) { window.PLOTLYENV=window.PLOTLYENV || {};window.PLOTLYENV.BASE_URL=\"https://plot.ly\";Plotly.newPlot(\"b597396c-bc8f-4fe6-a318-0afaf4ad46f5\", [{\"type\": \"bar\", \"x\": [\"2017\", \"2016\", \"2015\", \"2014\", \"2013\", \"2012\"], \"y\": [124.02439024390245, 122.78048780487805, 117.71951219512195, 115.0609756097561, 106.6829268292683, 103.02439024390245], \"name\": \"Efficiency\", \"marker\": {\"color\": \"purple\"}}, {\"type\": \"bar\", \"x\": [\"2017\", \"2016\", \"2015\", \"2014\", \"2013\", \"2012\"], \"y\": [60.97560975609756, 62.19512195121951, 69.51219512195121, 64.63414634146342, 40.243902439024396, 29.268292682926827], \"name\": \"Win Loss Percentage\", \"marker\": {\"color\": \"green\"}}], {\"title\": \"Efficiency VS Win/Loss For CLE\", \"xaxis\": {\"title\": \"Season\"}}, {\"showLink\": true, \"linkText\": \"Export to plot.ly\"})});</script>"
      ],
      "text/vnd.plotly.v1+html": [
       "<div id=\"b597396c-bc8f-4fe6-a318-0afaf4ad46f5\" style=\"height: 525px; width: 100%;\" class=\"plotly-graph-div\"></div><script type=\"text/javascript\">require([\"plotly\"], function(Plotly) { window.PLOTLYENV=window.PLOTLYENV || {};window.PLOTLYENV.BASE_URL=\"https://plot.ly\";Plotly.newPlot(\"b597396c-bc8f-4fe6-a318-0afaf4ad46f5\", [{\"type\": \"bar\", \"x\": [\"2017\", \"2016\", \"2015\", \"2014\", \"2013\", \"2012\"], \"y\": [124.02439024390245, 122.78048780487805, 117.71951219512195, 115.0609756097561, 106.6829268292683, 103.02439024390245], \"name\": \"Efficiency\", \"marker\": {\"color\": \"purple\"}}, {\"type\": \"bar\", \"x\": [\"2017\", \"2016\", \"2015\", \"2014\", \"2013\", \"2012\"], \"y\": [60.97560975609756, 62.19512195121951, 69.51219512195121, 64.63414634146342, 40.243902439024396, 29.268292682926827], \"name\": \"Win Loss Percentage\", \"marker\": {\"color\": \"green\"}}], {\"title\": \"Efficiency VS Win/Loss For CLE\", \"xaxis\": {\"title\": \"Season\"}}, {\"showLink\": true, \"linkText\": \"Export to plot.ly\"})});</script>"
      ]
     },
     "metadata": {},
     "output_type": "display_data"
    },
    {
     "data": {
      "application/vnd.plotly.v1+json": {
       "data": [
        {
         "marker": {
          "color": "purple"
         },
         "name": "Efficiency",
         "type": "bar",
         "x": [
          "2017",
          "2016",
          "2015",
          "2014",
          "2013",
          "2012"
         ],
         "y": [
          112.6219512195122,
          106.86585365853658,
          113.89024390243902,
          117.97560975609755,
          120.39024390243902,
          116.3170731707317
         ]
        },
        {
         "marker": {
          "color": "green"
         },
         "name": "Win Loss Percentage",
         "type": "bar",
         "x": [
          "2017",
          "2016",
          "2015",
          "2014",
          "2013",
          "2012"
         ],
         "y": [
          29.268292682926827,
          40.243902439024396,
          51.21951219512195,
          60.97560975609756,
          59.756097560975604,
          50
         ]
        }
       ],
       "layout": {
        "title": "Efficiency VS Win/Loss For DAL",
        "xaxis": {
         "title": "Season"
        }
       }
      },
      "text/html": [
       "<div id=\"89eeb8c1-6ec2-44ea-94bd-0f8629d8d84d\" style=\"height: 525px; width: 100%;\" class=\"plotly-graph-div\"></div><script type=\"text/javascript\">require([\"plotly\"], function(Plotly) { window.PLOTLYENV=window.PLOTLYENV || {};window.PLOTLYENV.BASE_URL=\"https://plot.ly\";Plotly.newPlot(\"89eeb8c1-6ec2-44ea-94bd-0f8629d8d84d\", [{\"type\": \"bar\", \"x\": [\"2017\", \"2016\", \"2015\", \"2014\", \"2013\", \"2012\"], \"y\": [112.6219512195122, 106.86585365853658, 113.89024390243902, 117.97560975609755, 120.39024390243902, 116.3170731707317], \"name\": \"Efficiency\", \"marker\": {\"color\": \"purple\"}}, {\"type\": \"bar\", \"x\": [\"2017\", \"2016\", \"2015\", \"2014\", \"2013\", \"2012\"], \"y\": [29.268292682926827, 40.243902439024396, 51.21951219512195, 60.97560975609756, 59.756097560975604, 50.0], \"name\": \"Win Loss Percentage\", \"marker\": {\"color\": \"green\"}}], {\"title\": \"Efficiency VS Win/Loss For DAL\", \"xaxis\": {\"title\": \"Season\"}}, {\"showLink\": true, \"linkText\": \"Export to plot.ly\"})});</script>"
      ],
      "text/vnd.plotly.v1+html": [
       "<div id=\"89eeb8c1-6ec2-44ea-94bd-0f8629d8d84d\" style=\"height: 525px; width: 100%;\" class=\"plotly-graph-div\"></div><script type=\"text/javascript\">require([\"plotly\"], function(Plotly) { window.PLOTLYENV=window.PLOTLYENV || {};window.PLOTLYENV.BASE_URL=\"https://plot.ly\";Plotly.newPlot(\"89eeb8c1-6ec2-44ea-94bd-0f8629d8d84d\", [{\"type\": \"bar\", \"x\": [\"2017\", \"2016\", \"2015\", \"2014\", \"2013\", \"2012\"], \"y\": [112.6219512195122, 106.86585365853658, 113.89024390243902, 117.97560975609755, 120.39024390243902, 116.3170731707317], \"name\": \"Efficiency\", \"marker\": {\"color\": \"purple\"}}, {\"type\": \"bar\", \"x\": [\"2017\", \"2016\", \"2015\", \"2014\", \"2013\", \"2012\"], \"y\": [29.268292682926827, 40.243902439024396, 51.21951219512195, 60.97560975609756, 59.756097560975604, 50.0], \"name\": \"Win Loss Percentage\", \"marker\": {\"color\": \"green\"}}], {\"title\": \"Efficiency VS Win/Loss For DAL\", \"xaxis\": {\"title\": \"Season\"}}, {\"showLink\": true, \"linkText\": \"Export to plot.ly\"})});</script>"
      ]
     },
     "metadata": {},
     "output_type": "display_data"
    },
    {
     "data": {
      "application/vnd.plotly.v1+json": {
       "data": [
        {
         "marker": {
          "color": "purple"
         },
         "name": "Efficiency",
         "type": "bar",
         "x": [
          "2017",
          "2016",
          "2015",
          "2014",
          "2013",
          "2012"
         ],
         "y": [
          126.08536585365853,
          127.3170731707317,
          113.45121951219512,
          110.08536585365853,
          114.70731707317073,
          123.82926829268293
         ]
        },
        {
         "marker": {
          "color": "green"
         },
         "name": "Win Loss Percentage",
         "type": "bar",
         "x": [
          "2017",
          "2016",
          "2015",
          "2014",
          "2013",
          "2012"
         ],
         "y": [
          56.09756097560976,
          48.78048780487805,
          40.243902439024396,
          36.58536585365854,
          43.90243902439025,
          69.51219512195121
         ]
        }
       ],
       "layout": {
        "title": "Efficiency VS Win/Loss For DEN",
        "xaxis": {
         "title": "Season"
        }
       }
      },
      "text/html": [
       "<div id=\"2e4e85fe-e6b9-4a50-b040-6e40688ad359\" style=\"height: 525px; width: 100%;\" class=\"plotly-graph-div\"></div><script type=\"text/javascript\">require([\"plotly\"], function(Plotly) { window.PLOTLYENV=window.PLOTLYENV || {};window.PLOTLYENV.BASE_URL=\"https://plot.ly\";Plotly.newPlot(\"2e4e85fe-e6b9-4a50-b040-6e40688ad359\", [{\"type\": \"bar\", \"x\": [\"2017\", \"2016\", \"2015\", \"2014\", \"2013\", \"2012\"], \"y\": [126.08536585365853, 127.3170731707317, 113.45121951219512, 110.08536585365853, 114.70731707317073, 123.82926829268293], \"name\": \"Efficiency\", \"marker\": {\"color\": \"purple\"}}, {\"type\": \"bar\", \"x\": [\"2017\", \"2016\", \"2015\", \"2014\", \"2013\", \"2012\"], \"y\": [56.09756097560976, 48.78048780487805, 40.243902439024396, 36.58536585365854, 43.90243902439025, 69.51219512195121], \"name\": \"Win Loss Percentage\", \"marker\": {\"color\": \"green\"}}], {\"title\": \"Efficiency VS Win/Loss For DEN\", \"xaxis\": {\"title\": \"Season\"}}, {\"showLink\": true, \"linkText\": \"Export to plot.ly\"})});</script>"
      ],
      "text/vnd.plotly.v1+html": [
       "<div id=\"2e4e85fe-e6b9-4a50-b040-6e40688ad359\" style=\"height: 525px; width: 100%;\" class=\"plotly-graph-div\"></div><script type=\"text/javascript\">require([\"plotly\"], function(Plotly) { window.PLOTLYENV=window.PLOTLYENV || {};window.PLOTLYENV.BASE_URL=\"https://plot.ly\";Plotly.newPlot(\"2e4e85fe-e6b9-4a50-b040-6e40688ad359\", [{\"type\": \"bar\", \"x\": [\"2017\", \"2016\", \"2015\", \"2014\", \"2013\", \"2012\"], \"y\": [126.08536585365853, 127.3170731707317, 113.45121951219512, 110.08536585365853, 114.70731707317073, 123.82926829268293], \"name\": \"Efficiency\", \"marker\": {\"color\": \"purple\"}}, {\"type\": \"bar\", \"x\": [\"2017\", \"2016\", \"2015\", \"2014\", \"2013\", \"2012\"], \"y\": [56.09756097560976, 48.78048780487805, 40.243902439024396, 36.58536585365854, 43.90243902439025, 69.51219512195121], \"name\": \"Win Loss Percentage\", \"marker\": {\"color\": \"green\"}}], {\"title\": \"Efficiency VS Win/Loss For DEN\", \"xaxis\": {\"title\": \"Season\"}}, {\"showLink\": true, \"linkText\": \"Export to plot.ly\"})});</script>"
      ]
     },
     "metadata": {},
     "output_type": "display_data"
    },
    {
     "data": {
      "application/vnd.plotly.v1+json": {
       "data": [
        {
         "marker": {
          "color": "purple"
         },
         "name": "Efficiency",
         "type": "bar",
         "x": [
          "2017",
          "2016",
          "2015",
          "2014",
          "2013",
          "2012"
         ],
         "y": [
          115.48780487804878,
          112.67073170731707,
          107.90243902439025,
          108.45121951219512,
          109.41463414634147,
          103.47560975609755
         ]
        },
        {
         "marker": {
          "color": "green"
         },
         "name": "Win Loss Percentage",
         "type": "bar",
         "x": [
          "2017",
          "2016",
          "2015",
          "2014",
          "2013",
          "2012"
         ],
         "y": [
          47.5609756097561,
          45.1219512195122,
          53.65853658536586,
          39.02439024390244,
          35.36585365853659,
          35.36585365853659
         ]
        }
       ],
       "layout": {
        "title": "Efficiency VS Win/Loss For DET",
        "xaxis": {
         "title": "Season"
        }
       }
      },
      "text/html": [
       "<div id=\"9b0544e4-86ef-4a55-b367-bb5a675dc6a8\" style=\"height: 525px; width: 100%;\" class=\"plotly-graph-div\"></div><script type=\"text/javascript\">require([\"plotly\"], function(Plotly) { window.PLOTLYENV=window.PLOTLYENV || {};window.PLOTLYENV.BASE_URL=\"https://plot.ly\";Plotly.newPlot(\"9b0544e4-86ef-4a55-b367-bb5a675dc6a8\", [{\"type\": \"bar\", \"x\": [\"2017\", \"2016\", \"2015\", \"2014\", \"2013\", \"2012\"], \"y\": [115.48780487804878, 112.67073170731707, 107.90243902439025, 108.45121951219512, 109.41463414634147, 103.47560975609755], \"name\": \"Efficiency\", \"marker\": {\"color\": \"purple\"}}, {\"type\": \"bar\", \"x\": [\"2017\", \"2016\", \"2015\", \"2014\", \"2013\", \"2012\"], \"y\": [47.5609756097561, 45.1219512195122, 53.65853658536586, 39.02439024390244, 35.36585365853659, 35.36585365853659], \"name\": \"Win Loss Percentage\", \"marker\": {\"color\": \"green\"}}], {\"title\": \"Efficiency VS Win/Loss For DET\", \"xaxis\": {\"title\": \"Season\"}}, {\"showLink\": true, \"linkText\": \"Export to plot.ly\"})});</script>"
      ],
      "text/vnd.plotly.v1+html": [
       "<div id=\"9b0544e4-86ef-4a55-b367-bb5a675dc6a8\" style=\"height: 525px; width: 100%;\" class=\"plotly-graph-div\"></div><script type=\"text/javascript\">require([\"plotly\"], function(Plotly) { window.PLOTLYENV=window.PLOTLYENV || {};window.PLOTLYENV.BASE_URL=\"https://plot.ly\";Plotly.newPlot(\"9b0544e4-86ef-4a55-b367-bb5a675dc6a8\", [{\"type\": \"bar\", \"x\": [\"2017\", \"2016\", \"2015\", \"2014\", \"2013\", \"2012\"], \"y\": [115.48780487804878, 112.67073170731707, 107.90243902439025, 108.45121951219512, 109.41463414634147, 103.47560975609755], \"name\": \"Efficiency\", \"marker\": {\"color\": \"purple\"}}, {\"type\": \"bar\", \"x\": [\"2017\", \"2016\", \"2015\", \"2014\", \"2013\", \"2012\"], \"y\": [47.5609756097561, 45.1219512195122, 53.65853658536586, 39.02439024390244, 35.36585365853659, 35.36585365853659], \"name\": \"Win Loss Percentage\", \"marker\": {\"color\": \"green\"}}], {\"title\": \"Efficiency VS Win/Loss For DET\", \"xaxis\": {\"title\": \"Season\"}}, {\"showLink\": true, \"linkText\": \"Export to plot.ly\"})});</script>"
      ]
     },
     "metadata": {},
     "output_type": "display_data"
    },
    {
     "data": {
      "application/vnd.plotly.v1+json": {
       "data": [
        {
         "marker": {
          "color": "purple"
         },
         "name": "Efficiency",
         "type": "bar",
         "x": [
          "2017",
          "2016",
          "2015",
          "2014",
          "2013",
          "2012"
         ],
         "y": [
          140.1951219512195,
          143.47560975609755,
          139.390243902439,
          132.6951219512195,
          119.28048780487805,
          114.97560975609755
         ]
        },
        {
         "marker": {
          "color": "green"
         },
         "name": "Win Loss Percentage",
         "type": "bar",
         "x": [
          "2017",
          "2016",
          "2015",
          "2014",
          "2013",
          "2012"
         ],
         "y": [
          70.73170731707317,
          81.70731707317073,
          89.02439024390245,
          81.70731707317073,
          62.19512195121951,
          57.3170731707317
         ]
        }
       ],
       "layout": {
        "title": "Efficiency VS Win/Loss For GSW",
        "xaxis": {
         "title": "Season"
        }
       }
      },
      "text/html": [
       "<div id=\"321634d7-9992-4efb-96ae-bb3d86dd9207\" style=\"height: 525px; width: 100%;\" class=\"plotly-graph-div\"></div><script type=\"text/javascript\">require([\"plotly\"], function(Plotly) { window.PLOTLYENV=window.PLOTLYENV || {};window.PLOTLYENV.BASE_URL=\"https://plot.ly\";Plotly.newPlot(\"321634d7-9992-4efb-96ae-bb3d86dd9207\", [{\"type\": \"bar\", \"x\": [\"2017\", \"2016\", \"2015\", \"2014\", \"2013\", \"2012\"], \"y\": [140.1951219512195, 143.47560975609755, 139.390243902439, 132.6951219512195, 119.28048780487805, 114.97560975609755], \"name\": \"Efficiency\", \"marker\": {\"color\": \"purple\"}}, {\"type\": \"bar\", \"x\": [\"2017\", \"2016\", \"2015\", \"2014\", \"2013\", \"2012\"], \"y\": [70.73170731707317, 81.70731707317073, 89.02439024390245, 81.70731707317073, 62.19512195121951, 57.3170731707317], \"name\": \"Win Loss Percentage\", \"marker\": {\"color\": \"green\"}}], {\"title\": \"Efficiency VS Win/Loss For GSW\", \"xaxis\": {\"title\": \"Season\"}}, {\"showLink\": true, \"linkText\": \"Export to plot.ly\"})});</script>"
      ],
      "text/vnd.plotly.v1+html": [
       "<div id=\"321634d7-9992-4efb-96ae-bb3d86dd9207\" style=\"height: 525px; width: 100%;\" class=\"plotly-graph-div\"></div><script type=\"text/javascript\">require([\"plotly\"], function(Plotly) { window.PLOTLYENV=window.PLOTLYENV || {};window.PLOTLYENV.BASE_URL=\"https://plot.ly\";Plotly.newPlot(\"321634d7-9992-4efb-96ae-bb3d86dd9207\", [{\"type\": \"bar\", \"x\": [\"2017\", \"2016\", \"2015\", \"2014\", \"2013\", \"2012\"], \"y\": [140.1951219512195, 143.47560975609755, 139.390243902439, 132.6951219512195, 119.28048780487805, 114.97560975609755], \"name\": \"Efficiency\", \"marker\": {\"color\": \"purple\"}}, {\"type\": \"bar\", \"x\": [\"2017\", \"2016\", \"2015\", \"2014\", \"2013\", \"2012\"], \"y\": [70.73170731707317, 81.70731707317073, 89.02439024390245, 81.70731707317073, 62.19512195121951, 57.3170731707317], \"name\": \"Win Loss Percentage\", \"marker\": {\"color\": \"green\"}}], {\"title\": \"Efficiency VS Win/Loss For GSW\", \"xaxis\": {\"title\": \"Season\"}}, {\"showLink\": true, \"linkText\": \"Export to plot.ly\"})});</script>"
      ]
     },
     "metadata": {},
     "output_type": "display_data"
    },
    {
     "data": {
      "application/vnd.plotly.v1+json": {
       "data": [
        {
         "marker": {
          "color": "purple"
         },
         "name": "Efficiency",
         "type": "bar",
         "x": [
          "2017",
          "2016",
          "2015",
          "2014",
          "2013",
          "2012"
         ],
         "y": [
          125.8048780487805,
          129.15853658536585,
          116.39024390243902,
          113.82926829268293,
          120,
          117.91463414634147
         ]
        },
        {
         "marker": {
          "color": "green"
         },
         "name": "Win Loss Percentage",
         "type": "bar",
         "x": [
          "2017",
          "2016",
          "2015",
          "2014",
          "2013",
          "2012"
         ],
         "y": [
          79.26829268292683,
          67.07317073170732,
          50,
          68.29268292682927,
          65.85365853658537,
          54.87804878048781
         ]
        }
       ],
       "layout": {
        "title": "Efficiency VS Win/Loss For HOU",
        "xaxis": {
         "title": "Season"
        }
       }
      },
      "text/html": [
       "<div id=\"1ea48afd-06ca-42e7-b10e-44233eb6a71c\" style=\"height: 525px; width: 100%;\" class=\"plotly-graph-div\"></div><script type=\"text/javascript\">require([\"plotly\"], function(Plotly) { window.PLOTLYENV=window.PLOTLYENV || {};window.PLOTLYENV.BASE_URL=\"https://plot.ly\";Plotly.newPlot(\"1ea48afd-06ca-42e7-b10e-44233eb6a71c\", [{\"type\": \"bar\", \"x\": [\"2017\", \"2016\", \"2015\", \"2014\", \"2013\", \"2012\"], \"y\": [125.8048780487805, 129.15853658536585, 116.39024390243902, 113.82926829268293, 120.0, 117.91463414634147], \"name\": \"Efficiency\", \"marker\": {\"color\": \"purple\"}}, {\"type\": \"bar\", \"x\": [\"2017\", \"2016\", \"2015\", \"2014\", \"2013\", \"2012\"], \"y\": [79.26829268292683, 67.07317073170732, 50.0, 68.29268292682927, 65.85365853658537, 54.87804878048781], \"name\": \"Win Loss Percentage\", \"marker\": {\"color\": \"green\"}}], {\"title\": \"Efficiency VS Win/Loss For HOU\", \"xaxis\": {\"title\": \"Season\"}}, {\"showLink\": true, \"linkText\": \"Export to plot.ly\"})});</script>"
      ],
      "text/vnd.plotly.v1+html": [
       "<div id=\"1ea48afd-06ca-42e7-b10e-44233eb6a71c\" style=\"height: 525px; width: 100%;\" class=\"plotly-graph-div\"></div><script type=\"text/javascript\">require([\"plotly\"], function(Plotly) { window.PLOTLYENV=window.PLOTLYENV || {};window.PLOTLYENV.BASE_URL=\"https://plot.ly\";Plotly.newPlot(\"1ea48afd-06ca-42e7-b10e-44233eb6a71c\", [{\"type\": \"bar\", \"x\": [\"2017\", \"2016\", \"2015\", \"2014\", \"2013\", \"2012\"], \"y\": [125.8048780487805, 129.15853658536585, 116.39024390243902, 113.82926829268293, 120.0, 117.91463414634147], \"name\": \"Efficiency\", \"marker\": {\"color\": \"purple\"}}, {\"type\": \"bar\", \"x\": [\"2017\", \"2016\", \"2015\", \"2014\", \"2013\", \"2012\"], \"y\": [79.26829268292683, 67.07317073170732, 50.0, 68.29268292682927, 65.85365853658537, 54.87804878048781], \"name\": \"Win Loss Percentage\", \"marker\": {\"color\": \"green\"}}], {\"title\": \"Efficiency VS Win/Loss For HOU\", \"xaxis\": {\"title\": \"Season\"}}, {\"showLink\": true, \"linkText\": \"Export to plot.ly\"})});</script>"
      ]
     },
     "metadata": {},
     "output_type": "display_data"
    },
    {
     "data": {
      "application/vnd.plotly.v1+json": {
       "data": [
        {
         "marker": {
          "color": "purple"
         },
         "name": "Efficiency",
         "type": "bar",
         "x": [
          "2017",
          "2016",
          "2015",
          "2014",
          "2013",
          "2012"
         ],
         "y": [
          119.91463414634147,
          119.51219512195122,
          114.3048780487805,
          108.28048780487805,
          109.29268292682927,
          106.5
         ]
        },
        {
         "marker": {
          "color": "green"
         },
         "name": "Win Loss Percentage",
         "type": "bar",
         "x": [
          "2017",
          "2016",
          "2015",
          "2014",
          "2013",
          "2012"
         ],
         "y": [
          58.536585365853654,
          51.21951219512195,
          54.87804878048781,
          46.34146341463415,
          68.29268292682927,
          60.49382716049383
         ]
        }
       ],
       "layout": {
        "title": "Efficiency VS Win/Loss For IND",
        "xaxis": {
         "title": "Season"
        }
       }
      },
      "text/html": [
       "<div id=\"cd574957-7a8b-4b94-9eb2-b37c4a0bf7f8\" style=\"height: 525px; width: 100%;\" class=\"plotly-graph-div\"></div><script type=\"text/javascript\">require([\"plotly\"], function(Plotly) { window.PLOTLYENV=window.PLOTLYENV || {};window.PLOTLYENV.BASE_URL=\"https://plot.ly\";Plotly.newPlot(\"cd574957-7a8b-4b94-9eb2-b37c4a0bf7f8\", [{\"type\": \"bar\", \"x\": [\"2017\", \"2016\", \"2015\", \"2014\", \"2013\", \"2012\"], \"y\": [119.91463414634147, 119.51219512195122, 114.3048780487805, 108.28048780487805, 109.29268292682927, 106.5], \"name\": \"Efficiency\", \"marker\": {\"color\": \"purple\"}}, {\"type\": \"bar\", \"x\": [\"2017\", \"2016\", \"2015\", \"2014\", \"2013\", \"2012\"], \"y\": [58.536585365853654, 51.21951219512195, 54.87804878048781, 46.34146341463415, 68.29268292682927, 60.49382716049383], \"name\": \"Win Loss Percentage\", \"marker\": {\"color\": \"green\"}}], {\"title\": \"Efficiency VS Win/Loss For IND\", \"xaxis\": {\"title\": \"Season\"}}, {\"showLink\": true, \"linkText\": \"Export to plot.ly\"})});</script>"
      ],
      "text/vnd.plotly.v1+html": [
       "<div id=\"cd574957-7a8b-4b94-9eb2-b37c4a0bf7f8\" style=\"height: 525px; width: 100%;\" class=\"plotly-graph-div\"></div><script type=\"text/javascript\">require([\"plotly\"], function(Plotly) { window.PLOTLYENV=window.PLOTLYENV || {};window.PLOTLYENV.BASE_URL=\"https://plot.ly\";Plotly.newPlot(\"cd574957-7a8b-4b94-9eb2-b37c4a0bf7f8\", [{\"type\": \"bar\", \"x\": [\"2017\", \"2016\", \"2015\", \"2014\", \"2013\", \"2012\"], \"y\": [119.91463414634147, 119.51219512195122, 114.3048780487805, 108.28048780487805, 109.29268292682927, 106.5], \"name\": \"Efficiency\", \"marker\": {\"color\": \"purple\"}}, {\"type\": \"bar\", \"x\": [\"2017\", \"2016\", \"2015\", \"2014\", \"2013\", \"2012\"], \"y\": [58.536585365853654, 51.21951219512195, 54.87804878048781, 46.34146341463415, 68.29268292682927, 60.49382716049383], \"name\": \"Win Loss Percentage\", \"marker\": {\"color\": \"green\"}}], {\"title\": \"Efficiency VS Win/Loss For IND\", \"xaxis\": {\"title\": \"Season\"}}, {\"showLink\": true, \"linkText\": \"Export to plot.ly\"})});</script>"
      ]
     },
     "metadata": {},
     "output_type": "display_data"
    },
    {
     "data": {
      "application/vnd.plotly.v1+json": {
       "data": [
        {
         "marker": {
          "color": "purple"
         },
         "name": "Efficiency",
         "type": "bar",
         "x": [
          "2017",
          "2016",
          "2015",
          "2014",
          "2013",
          "2012"
         ],
         "y": [
          121,
          122.73170731707317,
          118.48780487804878,
          123.32926829268293,
          123.90243902439025,
          118.46341463414635
         ]
        },
        {
         "marker": {
          "color": "green"
         },
         "name": "Win Loss Percentage",
         "type": "bar",
         "x": [
          "2017",
          "2016",
          "2015",
          "2014",
          "2013",
          "2012"
         ],
         "y": [
          51.21951219512195,
          62.19512195121951,
          64.63414634146342,
          68.29268292682927,
          69.51219512195121,
          68.29268292682927
         ]
        }
       ],
       "layout": {
        "title": "Efficiency VS Win/Loss For LAC",
        "xaxis": {
         "title": "Season"
        }
       }
      },
      "text/html": [
       "<div id=\"be7ba46c-43a5-450d-a5f8-c18dbece5795\" style=\"height: 525px; width: 100%;\" class=\"plotly-graph-div\"></div><script type=\"text/javascript\">require([\"plotly\"], function(Plotly) { window.PLOTLYENV=window.PLOTLYENV || {};window.PLOTLYENV.BASE_URL=\"https://plot.ly\";Plotly.newPlot(\"be7ba46c-43a5-450d-a5f8-c18dbece5795\", [{\"type\": \"bar\", \"x\": [\"2017\", \"2016\", \"2015\", \"2014\", \"2013\", \"2012\"], \"y\": [121.0, 122.73170731707317, 118.48780487804878, 123.32926829268293, 123.90243902439025, 118.46341463414635], \"name\": \"Efficiency\", \"marker\": {\"color\": \"purple\"}}, {\"type\": \"bar\", \"x\": [\"2017\", \"2016\", \"2015\", \"2014\", \"2013\", \"2012\"], \"y\": [51.21951219512195, 62.19512195121951, 64.63414634146342, 68.29268292682927, 69.51219512195121, 68.29268292682927], \"name\": \"Win Loss Percentage\", \"marker\": {\"color\": \"green\"}}], {\"title\": \"Efficiency VS Win/Loss For LAC\", \"xaxis\": {\"title\": \"Season\"}}, {\"showLink\": true, \"linkText\": \"Export to plot.ly\"})});</script>"
      ],
      "text/vnd.plotly.v1+html": [
       "<div id=\"be7ba46c-43a5-450d-a5f8-c18dbece5795\" style=\"height: 525px; width: 100%;\" class=\"plotly-graph-div\"></div><script type=\"text/javascript\">require([\"plotly\"], function(Plotly) { window.PLOTLYENV=window.PLOTLYENV || {};window.PLOTLYENV.BASE_URL=\"https://plot.ly\";Plotly.newPlot(\"be7ba46c-43a5-450d-a5f8-c18dbece5795\", [{\"type\": \"bar\", \"x\": [\"2017\", \"2016\", \"2015\", \"2014\", \"2013\", \"2012\"], \"y\": [121.0, 122.73170731707317, 118.48780487804878, 123.32926829268293, 123.90243902439025, 118.46341463414635], \"name\": \"Efficiency\", \"marker\": {\"color\": \"purple\"}}, {\"type\": \"bar\", \"x\": [\"2017\", \"2016\", \"2015\", \"2014\", \"2013\", \"2012\"], \"y\": [51.21951219512195, 62.19512195121951, 64.63414634146342, 68.29268292682927, 69.51219512195121, 68.29268292682927], \"name\": \"Win Loss Percentage\", \"marker\": {\"color\": \"green\"}}], {\"title\": \"Efficiency VS Win/Loss For LAC\", \"xaxis\": {\"title\": \"Season\"}}, {\"showLink\": true, \"linkText\": \"Export to plot.ly\"})});</script>"
      ]
     },
     "metadata": {},
     "output_type": "display_data"
    },
    {
     "data": {
      "application/vnd.plotly.v1+json": {
       "data": [
        {
         "marker": {
          "color": "purple"
         },
         "name": "Efficiency",
         "type": "bar",
         "x": [
          "2017",
          "2016",
          "2015",
          "2014",
          "2013",
          "2012"
         ],
         "y": [
          120.52439024390245,
          112.3780487804878,
          100.82926829268293,
          107.03658536585365,
          113.96341463414635,
          113.92682926829268
         ]
        },
        {
         "marker": {
          "color": "green"
         },
         "name": "Win Loss Percentage",
         "type": "bar",
         "x": [
          "2017",
          "2016",
          "2015",
          "2014",
          "2013",
          "2012"
         ],
         "y": [
          42.68292682926829,
          31.70731707317073,
          20.73170731707317,
          25.609756097560975,
          32.926829268292686,
          54.87804878048781
         ]
        }
       ],
       "layout": {
        "title": "Efficiency VS Win/Loss For LAL",
        "xaxis": {
         "title": "Season"
        }
       }
      },
      "text/html": [
       "<div id=\"161f1169-59ca-44bc-b961-251168ff9893\" style=\"height: 525px; width: 100%;\" class=\"plotly-graph-div\"></div><script type=\"text/javascript\">require([\"plotly\"], function(Plotly) { window.PLOTLYENV=window.PLOTLYENV || {};window.PLOTLYENV.BASE_URL=\"https://plot.ly\";Plotly.newPlot(\"161f1169-59ca-44bc-b961-251168ff9893\", [{\"type\": \"bar\", \"x\": [\"2017\", \"2016\", \"2015\", \"2014\", \"2013\", \"2012\"], \"y\": [120.52439024390245, 112.3780487804878, 100.82926829268293, 107.03658536585365, 113.96341463414635, 113.92682926829268], \"name\": \"Efficiency\", \"marker\": {\"color\": \"purple\"}}, {\"type\": \"bar\", \"x\": [\"2017\", \"2016\", \"2015\", \"2014\", \"2013\", \"2012\"], \"y\": [42.68292682926829, 31.70731707317073, 20.73170731707317, 25.609756097560975, 32.926829268292686, 54.87804878048781], \"name\": \"Win Loss Percentage\", \"marker\": {\"color\": \"green\"}}], {\"title\": \"Efficiency VS Win/Loss For LAL\", \"xaxis\": {\"title\": \"Season\"}}, {\"showLink\": true, \"linkText\": \"Export to plot.ly\"})});</script>"
      ],
      "text/vnd.plotly.v1+html": [
       "<div id=\"161f1169-59ca-44bc-b961-251168ff9893\" style=\"height: 525px; width: 100%;\" class=\"plotly-graph-div\"></div><script type=\"text/javascript\">require([\"plotly\"], function(Plotly) { window.PLOTLYENV=window.PLOTLYENV || {};window.PLOTLYENV.BASE_URL=\"https://plot.ly\";Plotly.newPlot(\"161f1169-59ca-44bc-b961-251168ff9893\", [{\"type\": \"bar\", \"x\": [\"2017\", \"2016\", \"2015\", \"2014\", \"2013\", \"2012\"], \"y\": [120.52439024390245, 112.3780487804878, 100.82926829268293, 107.03658536585365, 113.96341463414635, 113.92682926829268], \"name\": \"Efficiency\", \"marker\": {\"color\": \"purple\"}}, {\"type\": \"bar\", \"x\": [\"2017\", \"2016\", \"2015\", \"2014\", \"2013\", \"2012\"], \"y\": [42.68292682926829, 31.70731707317073, 20.73170731707317, 25.609756097560975, 32.926829268292686, 54.87804878048781], \"name\": \"Win Loss Percentage\", \"marker\": {\"color\": \"green\"}}], {\"title\": \"Efficiency VS Win/Loss For LAL\", \"xaxis\": {\"title\": \"Season\"}}, {\"showLink\": true, \"linkText\": \"Export to plot.ly\"})});</script>"
      ]
     },
     "metadata": {},
     "output_type": "display_data"
    },
    {
     "data": {
      "application/vnd.plotly.v1+json": {
       "data": [
        {
         "marker": {
          "color": "purple"
         },
         "name": "Efficiency",
         "type": "bar",
         "x": [
          "2017",
          "2016",
          "2015",
          "2014",
          "2013",
          "2012"
         ],
         "y": [
          108.1829268292683,
          111.51219512195122,
          109.02439024390245,
          112.09756097560975,
          109.78048780487805,
          106.84146341463415
         ]
        },
        {
         "marker": {
          "color": "green"
         },
         "name": "Win Loss Percentage",
         "type": "bar",
         "x": [
          "2017",
          "2016",
          "2015",
          "2014",
          "2013",
          "2012"
         ],
         "y": [
          26.82926829268293,
          52.4390243902439,
          51.21951219512195,
          67.07317073170732,
          60.97560975609756,
          68.29268292682927
         ]
        }
       ],
       "layout": {
        "title": "Efficiency VS Win/Loss For MEM",
        "xaxis": {
         "title": "Season"
        }
       }
      },
      "text/html": [
       "<div id=\"debdaf6b-6f06-4eb1-ae64-f6e4474583b5\" style=\"height: 525px; width: 100%;\" class=\"plotly-graph-div\"></div><script type=\"text/javascript\">require([\"plotly\"], function(Plotly) { window.PLOTLYENV=window.PLOTLYENV || {};window.PLOTLYENV.BASE_URL=\"https://plot.ly\";Plotly.newPlot(\"debdaf6b-6f06-4eb1-ae64-f6e4474583b5\", [{\"type\": \"bar\", \"x\": [\"2017\", \"2016\", \"2015\", \"2014\", \"2013\", \"2012\"], \"y\": [108.1829268292683, 111.51219512195122, 109.02439024390245, 112.09756097560975, 109.78048780487805, 106.84146341463415], \"name\": \"Efficiency\", \"marker\": {\"color\": \"purple\"}}, {\"type\": \"bar\", \"x\": [\"2017\", \"2016\", \"2015\", \"2014\", \"2013\", \"2012\"], \"y\": [26.82926829268293, 52.4390243902439, 51.21951219512195, 67.07317073170732, 60.97560975609756, 68.29268292682927], \"name\": \"Win Loss Percentage\", \"marker\": {\"color\": \"green\"}}], {\"title\": \"Efficiency VS Win/Loss For MEM\", \"xaxis\": {\"title\": \"Season\"}}, {\"showLink\": true, \"linkText\": \"Export to plot.ly\"})});</script>"
      ],
      "text/vnd.plotly.v1+html": [
       "<div id=\"debdaf6b-6f06-4eb1-ae64-f6e4474583b5\" style=\"height: 525px; width: 100%;\" class=\"plotly-graph-div\"></div><script type=\"text/javascript\">require([\"plotly\"], function(Plotly) { window.PLOTLYENV=window.PLOTLYENV || {};window.PLOTLYENV.BASE_URL=\"https://plot.ly\";Plotly.newPlot(\"debdaf6b-6f06-4eb1-ae64-f6e4474583b5\", [{\"type\": \"bar\", \"x\": [\"2017\", \"2016\", \"2015\", \"2014\", \"2013\", \"2012\"], \"y\": [108.1829268292683, 111.51219512195122, 109.02439024390245, 112.09756097560975, 109.78048780487805, 106.84146341463415], \"name\": \"Efficiency\", \"marker\": {\"color\": \"purple\"}}, {\"type\": \"bar\", \"x\": [\"2017\", \"2016\", \"2015\", \"2014\", \"2013\", \"2012\"], \"y\": [26.82926829268293, 52.4390243902439, 51.21951219512195, 67.07317073170732, 60.97560975609756, 68.29268292682927], \"name\": \"Win Loss Percentage\", \"marker\": {\"color\": \"green\"}}], {\"title\": \"Efficiency VS Win/Loss For MEM\", \"xaxis\": {\"title\": \"Season\"}}, {\"showLink\": true, \"linkText\": \"Export to plot.ly\"})});</script>"
      ]
     },
     "metadata": {},
     "output_type": "display_data"
    },
    {
     "data": {
      "application/vnd.plotly.v1+json": {
       "data": [
        {
         "marker": {
          "color": "purple"
         },
         "name": "Efficiency",
         "type": "bar",
         "x": [
          "2017",
          "2016",
          "2015",
          "2014",
          "2013",
          "2012"
         ],
         "y": [
          116.8170731707317,
          114.3780487804878,
          115,
          103.0609756097561,
          116.52439024390245,
          119.95121951219512
         ]
        },
        {
         "marker": {
          "color": "green"
         },
         "name": "Win Loss Percentage",
         "type": "bar",
         "x": [
          "2017",
          "2016",
          "2015",
          "2014",
          "2013",
          "2012"
         ],
         "y": [
          53.65853658536586,
          50,
          58.536585365853654,
          45.1219512195122,
          65.85365853658537,
          80.48780487804879
         ]
        }
       ],
       "layout": {
        "title": "Efficiency VS Win/Loss For MIA",
        "xaxis": {
         "title": "Season"
        }
       }
      },
      "text/html": [
       "<div id=\"e42eb744-147b-4b71-aca7-3dfd6f58db67\" style=\"height: 525px; width: 100%;\" class=\"plotly-graph-div\"></div><script type=\"text/javascript\">require([\"plotly\"], function(Plotly) { window.PLOTLYENV=window.PLOTLYENV || {};window.PLOTLYENV.BASE_URL=\"https://plot.ly\";Plotly.newPlot(\"e42eb744-147b-4b71-aca7-3dfd6f58db67\", [{\"type\": \"bar\", \"x\": [\"2017\", \"2016\", \"2015\", \"2014\", \"2013\", \"2012\"], \"y\": [116.8170731707317, 114.3780487804878, 115.0, 103.0609756097561, 116.52439024390245, 119.95121951219512], \"name\": \"Efficiency\", \"marker\": {\"color\": \"purple\"}}, {\"type\": \"bar\", \"x\": [\"2017\", \"2016\", \"2015\", \"2014\", \"2013\", \"2012\"], \"y\": [53.65853658536586, 50.0, 58.536585365853654, 45.1219512195122, 65.85365853658537, 80.48780487804879], \"name\": \"Win Loss Percentage\", \"marker\": {\"color\": \"green\"}}], {\"title\": \"Efficiency VS Win/Loss For MIA\", \"xaxis\": {\"title\": \"Season\"}}, {\"showLink\": true, \"linkText\": \"Export to plot.ly\"})});</script>"
      ],
      "text/vnd.plotly.v1+html": [
       "<div id=\"e42eb744-147b-4b71-aca7-3dfd6f58db67\" style=\"height: 525px; width: 100%;\" class=\"plotly-graph-div\"></div><script type=\"text/javascript\">require([\"plotly\"], function(Plotly) { window.PLOTLYENV=window.PLOTLYENV || {};window.PLOTLYENV.BASE_URL=\"https://plot.ly\";Plotly.newPlot(\"e42eb744-147b-4b71-aca7-3dfd6f58db67\", [{\"type\": \"bar\", \"x\": [\"2017\", \"2016\", \"2015\", \"2014\", \"2013\", \"2012\"], \"y\": [116.8170731707317, 114.3780487804878, 115.0, 103.0609756097561, 116.52439024390245, 119.95121951219512], \"name\": \"Efficiency\", \"marker\": {\"color\": \"purple\"}}, {\"type\": \"bar\", \"x\": [\"2017\", \"2016\", \"2015\", \"2014\", \"2013\", \"2012\"], \"y\": [53.65853658536586, 50.0, 58.536585365853654, 45.1219512195122, 65.85365853658537, 80.48780487804879], \"name\": \"Win Loss Percentage\", \"marker\": {\"color\": \"green\"}}], {\"title\": \"Efficiency VS Win/Loss For MIA\", \"xaxis\": {\"title\": \"Season\"}}, {\"showLink\": true, \"linkText\": \"Export to plot.ly\"})});</script>"
      ]
     },
     "metadata": {},
     "output_type": "display_data"
    },
    {
     "data": {
      "application/vnd.plotly.v1+json": {
       "data": [
        {
         "marker": {
          "color": "purple"
         },
         "name": "Efficiency",
         "type": "bar",
         "x": [
          "2017",
          "2016",
          "2015",
          "2014",
          "2013",
          "2012"
         ],
         "y": [
          121.54878048780488,
          119.40243902439025,
          113.02439024390245,
          111.7439024390244,
          102.60975609756098,
          111.58536585365853
         ]
        },
        {
         "marker": {
          "color": "green"
         },
         "name": "Win Loss Percentage",
         "type": "bar",
         "x": [
          "2017",
          "2016",
          "2015",
          "2014",
          "2013",
          "2012"
         ],
         "y": [
          53.65853658536586,
          51.21951219512195,
          40.243902439024396,
          50,
          18.29268292682927,
          46.34146341463415
         ]
        }
       ],
       "layout": {
        "title": "Efficiency VS Win/Loss For MIL",
        "xaxis": {
         "title": "Season"
        }
       }
      },
      "text/html": [
       "<div id=\"38c21f5b-687d-4a69-bd4c-92c11308d9e7\" style=\"height: 525px; width: 100%;\" class=\"plotly-graph-div\"></div><script type=\"text/javascript\">require([\"plotly\"], function(Plotly) { window.PLOTLYENV=window.PLOTLYENV || {};window.PLOTLYENV.BASE_URL=\"https://plot.ly\";Plotly.newPlot(\"38c21f5b-687d-4a69-bd4c-92c11308d9e7\", [{\"type\": \"bar\", \"x\": [\"2017\", \"2016\", \"2015\", \"2014\", \"2013\", \"2012\"], \"y\": [121.54878048780488, 119.40243902439025, 113.02439024390245, 111.7439024390244, 102.60975609756098, 111.58536585365853], \"name\": \"Efficiency\", \"marker\": {\"color\": \"purple\"}}, {\"type\": \"bar\", \"x\": [\"2017\", \"2016\", \"2015\", \"2014\", \"2013\", \"2012\"], \"y\": [53.65853658536586, 51.21951219512195, 40.243902439024396, 50.0, 18.29268292682927, 46.34146341463415], \"name\": \"Win Loss Percentage\", \"marker\": {\"color\": \"green\"}}], {\"title\": \"Efficiency VS Win/Loss For MIL\", \"xaxis\": {\"title\": \"Season\"}}, {\"showLink\": true, \"linkText\": \"Export to plot.ly\"})});</script>"
      ],
      "text/vnd.plotly.v1+html": [
       "<div id=\"38c21f5b-687d-4a69-bd4c-92c11308d9e7\" style=\"height: 525px; width: 100%;\" class=\"plotly-graph-div\"></div><script type=\"text/javascript\">require([\"plotly\"], function(Plotly) { window.PLOTLYENV=window.PLOTLYENV || {};window.PLOTLYENV.BASE_URL=\"https://plot.ly\";Plotly.newPlot(\"38c21f5b-687d-4a69-bd4c-92c11308d9e7\", [{\"type\": \"bar\", \"x\": [\"2017\", \"2016\", \"2015\", \"2014\", \"2013\", \"2012\"], \"y\": [121.54878048780488, 119.40243902439025, 113.02439024390245, 111.7439024390244, 102.60975609756098, 111.58536585365853], \"name\": \"Efficiency\", \"marker\": {\"color\": \"purple\"}}, {\"type\": \"bar\", \"x\": [\"2017\", \"2016\", \"2015\", \"2014\", \"2013\", \"2012\"], \"y\": [53.65853658536586, 51.21951219512195, 40.243902439024396, 50.0, 18.29268292682927, 46.34146341463415], \"name\": \"Win Loss Percentage\", \"marker\": {\"color\": \"green\"}}], {\"title\": \"Efficiency VS Win/Loss For MIL\", \"xaxis\": {\"title\": \"Season\"}}, {\"showLink\": true, \"linkText\": \"Export to plot.ly\"})});</script>"
      ]
     },
     "metadata": {},
     "output_type": "display_data"
    },
    {
     "data": {
      "application/vnd.plotly.v1+json": {
       "data": [
        {
         "marker": {
          "color": "purple"
         },
         "name": "Efficiency",
         "type": "bar",
         "x": [
          "2017",
          "2016",
          "2015",
          "2014",
          "2013",
          "2012"
         ],
         "y": [
          124.48780487804878,
          120.26829268292683,
          115.71951219512195,
          104.8780487804878,
          119.20731707317073,
          106.34146341463415
         ]
        },
        {
         "marker": {
          "color": "green"
         },
         "name": "Win Loss Percentage",
         "type": "bar",
         "x": [
          "2017",
          "2016",
          "2015",
          "2014",
          "2013",
          "2012"
         ],
         "y": [
          57.3170731707317,
          37.80487804878049,
          35.36585365853659,
          19.51219512195122,
          48.78048780487805,
          37.80487804878049
         ]
        }
       ],
       "layout": {
        "title": "Efficiency VS Win/Loss For MIN",
        "xaxis": {
         "title": "Season"
        }
       }
      },
      "text/html": [
       "<div id=\"b817682d-f45c-47ce-a771-027c198a57af\" style=\"height: 525px; width: 100%;\" class=\"plotly-graph-div\"></div><script type=\"text/javascript\">require([\"plotly\"], function(Plotly) { window.PLOTLYENV=window.PLOTLYENV || {};window.PLOTLYENV.BASE_URL=\"https://plot.ly\";Plotly.newPlot(\"b817682d-f45c-47ce-a771-027c198a57af\", [{\"type\": \"bar\", \"x\": [\"2017\", \"2016\", \"2015\", \"2014\", \"2013\", \"2012\"], \"y\": [124.48780487804878, 120.26829268292683, 115.71951219512195, 104.8780487804878, 119.20731707317073, 106.34146341463415], \"name\": \"Efficiency\", \"marker\": {\"color\": \"purple\"}}, {\"type\": \"bar\", \"x\": [\"2017\", \"2016\", \"2015\", \"2014\", \"2013\", \"2012\"], \"y\": [57.3170731707317, 37.80487804878049, 35.36585365853659, 19.51219512195122, 48.78048780487805, 37.80487804878049], \"name\": \"Win Loss Percentage\", \"marker\": {\"color\": \"green\"}}], {\"title\": \"Efficiency VS Win/Loss For MIN\", \"xaxis\": {\"title\": \"Season\"}}, {\"showLink\": true, \"linkText\": \"Export to plot.ly\"})});</script>"
      ],
      "text/vnd.plotly.v1+html": [
       "<div id=\"b817682d-f45c-47ce-a771-027c198a57af\" style=\"height: 525px; width: 100%;\" class=\"plotly-graph-div\"></div><script type=\"text/javascript\">require([\"plotly\"], function(Plotly) { window.PLOTLYENV=window.PLOTLYENV || {};window.PLOTLYENV.BASE_URL=\"https://plot.ly\";Plotly.newPlot(\"b817682d-f45c-47ce-a771-027c198a57af\", [{\"type\": \"bar\", \"x\": [\"2017\", \"2016\", \"2015\", \"2014\", \"2013\", \"2012\"], \"y\": [124.48780487804878, 120.26829268292683, 115.71951219512195, 104.8780487804878, 119.20731707317073, 106.34146341463415], \"name\": \"Efficiency\", \"marker\": {\"color\": \"purple\"}}, {\"type\": \"bar\", \"x\": [\"2017\", \"2016\", \"2015\", \"2014\", \"2013\", \"2012\"], \"y\": [57.3170731707317, 37.80487804878049, 35.36585365853659, 19.51219512195122, 48.78048780487805, 37.80487804878049], \"name\": \"Win Loss Percentage\", \"marker\": {\"color\": \"green\"}}], {\"title\": \"Efficiency VS Win/Loss For MIN\", \"xaxis\": {\"title\": \"Season\"}}, {\"showLink\": true, \"linkText\": \"Export to plot.ly\"})});</script>"
      ]
     },
     "metadata": {},
     "output_type": "display_data"
    },
    {
     "data": {
      "application/vnd.plotly.v1+json": {
       "data": [
        {
         "marker": {
          "color": "purple"
         },
         "name": "Efficiency",
         "type": "bar",
         "x": [
          "2017",
          "2016",
          "2015",
          "2014",
          "2013",
          "2012"
         ],
         "y": [
          131.4390243902439,
          117.89024390243902,
          113.57317073170732,
          114.14634146341463,
          113.10975609756098,
          105.0609756097561
         ]
        },
        {
         "marker": {
          "color": "green"
         },
         "name": "Win Loss Percentage",
         "type": "bar",
         "x": [
          "2017",
          "2016",
          "2015",
          "2014",
          "2013",
          "2012"
         ],
         "y": [
          58.536585365853654,
          41.46341463414634,
          36.58536585365854,
          54.87804878048781,
          41.46341463414634,
          32.926829268292686
         ]
        }
       ],
       "layout": {
        "title": "Efficiency VS Win/Loss For NOP",
        "xaxis": {
         "title": "Season"
        }
       }
      },
      "text/html": [
       "<div id=\"8ddb394e-1d53-41d6-bc76-260d8c04d87f\" style=\"height: 525px; width: 100%;\" class=\"plotly-graph-div\"></div><script type=\"text/javascript\">require([\"plotly\"], function(Plotly) { window.PLOTLYENV=window.PLOTLYENV || {};window.PLOTLYENV.BASE_URL=\"https://plot.ly\";Plotly.newPlot(\"8ddb394e-1d53-41d6-bc76-260d8c04d87f\", [{\"type\": \"bar\", \"x\": [\"2017\", \"2016\", \"2015\", \"2014\", \"2013\", \"2012\"], \"y\": [131.4390243902439, 117.89024390243902, 113.57317073170732, 114.14634146341463, 113.10975609756098, 105.0609756097561], \"name\": \"Efficiency\", \"marker\": {\"color\": \"purple\"}}, {\"type\": \"bar\", \"x\": [\"2017\", \"2016\", \"2015\", \"2014\", \"2013\", \"2012\"], \"y\": [58.536585365853654, 41.46341463414634, 36.58536585365854, 54.87804878048781, 41.46341463414634, 32.926829268292686], \"name\": \"Win Loss Percentage\", \"marker\": {\"color\": \"green\"}}], {\"title\": \"Efficiency VS Win/Loss For NOP\", \"xaxis\": {\"title\": \"Season\"}}, {\"showLink\": true, \"linkText\": \"Export to plot.ly\"})});</script>"
      ],
      "text/vnd.plotly.v1+html": [
       "<div id=\"8ddb394e-1d53-41d6-bc76-260d8c04d87f\" style=\"height: 525px; width: 100%;\" class=\"plotly-graph-div\"></div><script type=\"text/javascript\">require([\"plotly\"], function(Plotly) { window.PLOTLYENV=window.PLOTLYENV || {};window.PLOTLYENV.BASE_URL=\"https://plot.ly\";Plotly.newPlot(\"8ddb394e-1d53-41d6-bc76-260d8c04d87f\", [{\"type\": \"bar\", \"x\": [\"2017\", \"2016\", \"2015\", \"2014\", \"2013\", \"2012\"], \"y\": [131.4390243902439, 117.89024390243902, 113.57317073170732, 114.14634146341463, 113.10975609756098, 105.0609756097561], \"name\": \"Efficiency\", \"marker\": {\"color\": \"purple\"}}, {\"type\": \"bar\", \"x\": [\"2017\", \"2016\", \"2015\", \"2014\", \"2013\", \"2012\"], \"y\": [58.536585365853654, 41.46341463414634, 36.58536585365854, 54.87804878048781, 41.46341463414634, 32.926829268292686], \"name\": \"Win Loss Percentage\", \"marker\": {\"color\": \"green\"}}], {\"title\": \"Efficiency VS Win/Loss For NOP\", \"xaxis\": {\"title\": \"Season\"}}, {\"showLink\": true, \"linkText\": \"Export to plot.ly\"})});</script>"
      ]
     },
     "metadata": {},
     "output_type": "display_data"
    },
    {
     "data": {
      "application/vnd.plotly.v1+json": {
       "data": [
        {
         "marker": {
          "color": "purple"
         },
         "name": "Efficiency",
         "type": "bar",
         "x": [
          "2017",
          "2016",
          "2015",
          "2014",
          "2013",
          "2012"
         ],
         "y": [
          117.84146341463415,
          116.65853658536585,
          109.91463414634147,
          99.1951219512195,
          108,
          109.39024390243902
         ]
        },
        {
         "marker": {
          "color": "green"
         },
         "name": "Win Loss Percentage",
         "type": "bar",
         "x": [
          "2017",
          "2016",
          "2015",
          "2014",
          "2013",
          "2012"
         ],
         "y": [
          35.36585365853659,
          37.80487804878049,
          39.02439024390244,
          20.73170731707317,
          45.1219512195122,
          65.85365853658537
         ]
        }
       ],
       "layout": {
        "title": "Efficiency VS Win/Loss For NYK",
        "xaxis": {
         "title": "Season"
        }
       }
      },
      "text/html": [
       "<div id=\"431dbb75-0d9a-45ef-ad9a-233eaf5eefb5\" style=\"height: 525px; width: 100%;\" class=\"plotly-graph-div\"></div><script type=\"text/javascript\">require([\"plotly\"], function(Plotly) { window.PLOTLYENV=window.PLOTLYENV || {};window.PLOTLYENV.BASE_URL=\"https://plot.ly\";Plotly.newPlot(\"431dbb75-0d9a-45ef-ad9a-233eaf5eefb5\", [{\"type\": \"bar\", \"x\": [\"2017\", \"2016\", \"2015\", \"2014\", \"2013\", \"2012\"], \"y\": [117.84146341463415, 116.65853658536585, 109.91463414634147, 99.1951219512195, 108.0, 109.39024390243902], \"name\": \"Efficiency\", \"marker\": {\"color\": \"purple\"}}, {\"type\": \"bar\", \"x\": [\"2017\", \"2016\", \"2015\", \"2014\", \"2013\", \"2012\"], \"y\": [35.36585365853659, 37.80487804878049, 39.02439024390244, 20.73170731707317, 45.1219512195122, 65.85365853658537], \"name\": \"Win Loss Percentage\", \"marker\": {\"color\": \"green\"}}], {\"title\": \"Efficiency VS Win/Loss For NYK\", \"xaxis\": {\"title\": \"Season\"}}, {\"showLink\": true, \"linkText\": \"Export to plot.ly\"})});</script>"
      ],
      "text/vnd.plotly.v1+html": [
       "<div id=\"431dbb75-0d9a-45ef-ad9a-233eaf5eefb5\" style=\"height: 525px; width: 100%;\" class=\"plotly-graph-div\"></div><script type=\"text/javascript\">require([\"plotly\"], function(Plotly) { window.PLOTLYENV=window.PLOTLYENV || {};window.PLOTLYENV.BASE_URL=\"https://plot.ly\";Plotly.newPlot(\"431dbb75-0d9a-45ef-ad9a-233eaf5eefb5\", [{\"type\": \"bar\", \"x\": [\"2017\", \"2016\", \"2015\", \"2014\", \"2013\", \"2012\"], \"y\": [117.84146341463415, 116.65853658536585, 109.91463414634147, 99.1951219512195, 108.0, 109.39024390243902], \"name\": \"Efficiency\", \"marker\": {\"color\": \"purple\"}}, {\"type\": \"bar\", \"x\": [\"2017\", \"2016\", \"2015\", \"2014\", \"2013\", \"2012\"], \"y\": [35.36585365853659, 37.80487804878049, 39.02439024390244, 20.73170731707317, 45.1219512195122, 65.85365853658537], \"name\": \"Win Loss Percentage\", \"marker\": {\"color\": \"green\"}}], {\"title\": \"Efficiency VS Win/Loss For NYK\", \"xaxis\": {\"title\": \"Season\"}}, {\"showLink\": true, \"linkText\": \"Export to plot.ly\"})});</script>"
      ]
     },
     "metadata": {},
     "output_type": "display_data"
    },
    {
     "data": {
      "application/vnd.plotly.v1+json": {
       "data": [
        {
         "marker": {
          "color": "purple"
         },
         "name": "Efficiency",
         "type": "bar",
         "x": [
          "2017",
          "2016",
          "2015",
          "2014",
          "2013",
          "2012"
         ],
         "y": [
          119.29268292682927,
          117.57317073170732,
          128.4390243902439,
          116.0609756097561,
          123.20731707317073,
          125.5609756097561
         ]
        },
        {
         "marker": {
          "color": "green"
         },
         "name": "Win Loss Percentage",
         "type": "bar",
         "x": [
          "2017",
          "2016",
          "2015",
          "2014",
          "2013",
          "2012"
         ],
         "y": [
          58.536585365853654,
          57.3170731707317,
          67.07317073170732,
          54.87804878048781,
          71.95121951219512,
          73.17073170731707
         ]
        }
       ],
       "layout": {
        "title": "Efficiency VS Win/Loss For OKC",
        "xaxis": {
         "title": "Season"
        }
       }
      },
      "text/html": [
       "<div id=\"6601697b-d49c-4924-919e-fadc13fae53f\" style=\"height: 525px; width: 100%;\" class=\"plotly-graph-div\"></div><script type=\"text/javascript\">require([\"plotly\"], function(Plotly) { window.PLOTLYENV=window.PLOTLYENV || {};window.PLOTLYENV.BASE_URL=\"https://plot.ly\";Plotly.newPlot(\"6601697b-d49c-4924-919e-fadc13fae53f\", [{\"type\": \"bar\", \"x\": [\"2017\", \"2016\", \"2015\", \"2014\", \"2013\", \"2012\"], \"y\": [119.29268292682927, 117.57317073170732, 128.4390243902439, 116.0609756097561, 123.20731707317073, 125.5609756097561], \"name\": \"Efficiency\", \"marker\": {\"color\": \"purple\"}}, {\"type\": \"bar\", \"x\": [\"2017\", \"2016\", \"2015\", \"2014\", \"2013\", \"2012\"], \"y\": [58.536585365853654, 57.3170731707317, 67.07317073170732, 54.87804878048781, 71.95121951219512, 73.17073170731707], \"name\": \"Win Loss Percentage\", \"marker\": {\"color\": \"green\"}}], {\"title\": \"Efficiency VS Win/Loss For OKC\", \"xaxis\": {\"title\": \"Season\"}}, {\"showLink\": true, \"linkText\": \"Export to plot.ly\"})});</script>"
      ],
      "text/vnd.plotly.v1+html": [
       "<div id=\"6601697b-d49c-4924-919e-fadc13fae53f\" style=\"height: 525px; width: 100%;\" class=\"plotly-graph-div\"></div><script type=\"text/javascript\">require([\"plotly\"], function(Plotly) { window.PLOTLYENV=window.PLOTLYENV || {};window.PLOTLYENV.BASE_URL=\"https://plot.ly\";Plotly.newPlot(\"6601697b-d49c-4924-919e-fadc13fae53f\", [{\"type\": \"bar\", \"x\": [\"2017\", \"2016\", \"2015\", \"2014\", \"2013\", \"2012\"], \"y\": [119.29268292682927, 117.57317073170732, 128.4390243902439, 116.0609756097561, 123.20731707317073, 125.5609756097561], \"name\": \"Efficiency\", \"marker\": {\"color\": \"purple\"}}, {\"type\": \"bar\", \"x\": [\"2017\", \"2016\", \"2015\", \"2014\", \"2013\", \"2012\"], \"y\": [58.536585365853654, 57.3170731707317, 67.07317073170732, 54.87804878048781, 71.95121951219512, 73.17073170731707], \"name\": \"Win Loss Percentage\", \"marker\": {\"color\": \"green\"}}], {\"title\": \"Efficiency VS Win/Loss For OKC\", \"xaxis\": {\"title\": \"Season\"}}, {\"showLink\": true, \"linkText\": \"Export to plot.ly\"})});</script>"
      ]
     },
     "metadata": {},
     "output_type": "display_data"
    },
    {
     "data": {
      "application/vnd.plotly.v1+json": {
       "data": [
        {
         "marker": {
          "color": "purple"
         },
         "name": "Efficiency",
         "type": "bar",
         "x": [
          "2017",
          "2016",
          "2015",
          "2014",
          "2013",
          "2012"
         ],
         "y": [
          114.35365853658537,
          110.92682926829268,
          115.98780487804878,
          104.48780487804878,
          105.8170731707317,
          105.39024390243902
         ]
        },
        {
         "marker": {
          "color": "green"
         },
         "name": "Win Loss Percentage",
         "type": "bar",
         "x": [
          "2017",
          "2016",
          "2015",
          "2014",
          "2013",
          "2012"
         ],
         "y": [
          30.48780487804878,
          35.36585365853659,
          42.68292682926829,
          30.48780487804878,
          28.04878048780488,
          24.390243902439025
         ]
        }
       ],
       "layout": {
        "title": "Efficiency VS Win/Loss For ORL",
        "xaxis": {
         "title": "Season"
        }
       }
      },
      "text/html": [
       "<div id=\"e8f220e9-820d-4f0e-9488-6f2a1736a377\" style=\"height: 525px; width: 100%;\" class=\"plotly-graph-div\"></div><script type=\"text/javascript\">require([\"plotly\"], function(Plotly) { window.PLOTLYENV=window.PLOTLYENV || {};window.PLOTLYENV.BASE_URL=\"https://plot.ly\";Plotly.newPlot(\"e8f220e9-820d-4f0e-9488-6f2a1736a377\", [{\"type\": \"bar\", \"x\": [\"2017\", \"2016\", \"2015\", \"2014\", \"2013\", \"2012\"], \"y\": [114.35365853658537, 110.92682926829268, 115.98780487804878, 104.48780487804878, 105.8170731707317, 105.39024390243902], \"name\": \"Efficiency\", \"marker\": {\"color\": \"purple\"}}, {\"type\": \"bar\", \"x\": [\"2017\", \"2016\", \"2015\", \"2014\", \"2013\", \"2012\"], \"y\": [30.48780487804878, 35.36585365853659, 42.68292682926829, 30.48780487804878, 28.04878048780488, 24.390243902439025], \"name\": \"Win Loss Percentage\", \"marker\": {\"color\": \"green\"}}], {\"title\": \"Efficiency VS Win/Loss For ORL\", \"xaxis\": {\"title\": \"Season\"}}, {\"showLink\": true, \"linkText\": \"Export to plot.ly\"})});</script>"
      ],
      "text/vnd.plotly.v1+html": [
       "<div id=\"e8f220e9-820d-4f0e-9488-6f2a1736a377\" style=\"height: 525px; width: 100%;\" class=\"plotly-graph-div\"></div><script type=\"text/javascript\">require([\"plotly\"], function(Plotly) { window.PLOTLYENV=window.PLOTLYENV || {};window.PLOTLYENV.BASE_URL=\"https://plot.ly\";Plotly.newPlot(\"e8f220e9-820d-4f0e-9488-6f2a1736a377\", [{\"type\": \"bar\", \"x\": [\"2017\", \"2016\", \"2015\", \"2014\", \"2013\", \"2012\"], \"y\": [114.35365853658537, 110.92682926829268, 115.98780487804878, 104.48780487804878, 105.8170731707317, 105.39024390243902], \"name\": \"Efficiency\", \"marker\": {\"color\": \"purple\"}}, {\"type\": \"bar\", \"x\": [\"2017\", \"2016\", \"2015\", \"2014\", \"2013\", \"2012\"], \"y\": [30.48780487804878, 35.36585365853659, 42.68292682926829, 30.48780487804878, 28.04878048780488, 24.390243902439025], \"name\": \"Win Loss Percentage\", \"marker\": {\"color\": \"green\"}}], {\"title\": \"Efficiency VS Win/Loss For ORL\", \"xaxis\": {\"title\": \"Season\"}}, {\"showLink\": true, \"linkText\": \"Export to plot.ly\"})});</script>"
      ]
     },
     "metadata": {},
     "output_type": "display_data"
    },
    {
     "data": {
      "application/vnd.plotly.v1+json": {
       "data": [
        {
         "marker": {
          "color": "purple"
         },
         "name": "Efficiency",
         "type": "bar",
         "x": [
          "2017",
          "2016",
          "2015",
          "2014",
          "2013",
          "2012"
         ],
         "y": [
          129.890243902439,
          113.3048780487805,
          103.46341463414635,
          96.54878048780488,
          104.4390243902439,
          105
         ]
        },
        {
         "marker": {
          "color": "green"
         },
         "name": "Win Loss Percentage",
         "type": "bar",
         "x": [
          "2017",
          "2016",
          "2015",
          "2014",
          "2013",
          "2012"
         ],
         "y": [
          63.41463414634146,
          34.146341463414636,
          12.195121951219512,
          21.951219512195124,
          23.170731707317074,
          41.46341463414634
         ]
        }
       ],
       "layout": {
        "title": "Efficiency VS Win/Loss For PHI",
        "xaxis": {
         "title": "Season"
        }
       }
      },
      "text/html": [
       "<div id=\"2e4bf28c-d13d-4770-a59d-fae931c49d2d\" style=\"height: 525px; width: 100%;\" class=\"plotly-graph-div\"></div><script type=\"text/javascript\">require([\"plotly\"], function(Plotly) { window.PLOTLYENV=window.PLOTLYENV || {};window.PLOTLYENV.BASE_URL=\"https://plot.ly\";Plotly.newPlot(\"2e4bf28c-d13d-4770-a59d-fae931c49d2d\", [{\"type\": \"bar\", \"x\": [\"2017\", \"2016\", \"2015\", \"2014\", \"2013\", \"2012\"], \"y\": [129.890243902439, 113.3048780487805, 103.46341463414635, 96.54878048780488, 104.4390243902439, 105.0], \"name\": \"Efficiency\", \"marker\": {\"color\": \"purple\"}}, {\"type\": \"bar\", \"x\": [\"2017\", \"2016\", \"2015\", \"2014\", \"2013\", \"2012\"], \"y\": [63.41463414634146, 34.146341463414636, 12.195121951219512, 21.951219512195124, 23.170731707317074, 41.46341463414634], \"name\": \"Win Loss Percentage\", \"marker\": {\"color\": \"green\"}}], {\"title\": \"Efficiency VS Win/Loss For PHI\", \"xaxis\": {\"title\": \"Season\"}}, {\"showLink\": true, \"linkText\": \"Export to plot.ly\"})});</script>"
      ],
      "text/vnd.plotly.v1+html": [
       "<div id=\"2e4bf28c-d13d-4770-a59d-fae931c49d2d\" style=\"height: 525px; width: 100%;\" class=\"plotly-graph-div\"></div><script type=\"text/javascript\">require([\"plotly\"], function(Plotly) { window.PLOTLYENV=window.PLOTLYENV || {};window.PLOTLYENV.BASE_URL=\"https://plot.ly\";Plotly.newPlot(\"2e4bf28c-d13d-4770-a59d-fae931c49d2d\", [{\"type\": \"bar\", \"x\": [\"2017\", \"2016\", \"2015\", \"2014\", \"2013\", \"2012\"], \"y\": [129.890243902439, 113.3048780487805, 103.46341463414635, 96.54878048780488, 104.4390243902439, 105.0], \"name\": \"Efficiency\", \"marker\": {\"color\": \"purple\"}}, {\"type\": \"bar\", \"x\": [\"2017\", \"2016\", \"2015\", \"2014\", \"2013\", \"2012\"], \"y\": [63.41463414634146, 34.146341463414636, 12.195121951219512, 21.951219512195124, 23.170731707317074, 41.46341463414634], \"name\": \"Win Loss Percentage\", \"marker\": {\"color\": \"green\"}}], {\"title\": \"Efficiency VS Win/Loss For PHI\", \"xaxis\": {\"title\": \"Season\"}}, {\"showLink\": true, \"linkText\": \"Export to plot.ly\"})});</script>"
      ]
     },
     "metadata": {},
     "output_type": "display_data"
    },
    {
     "data": {
      "application/vnd.plotly.v1+json": {
       "data": [
        {
         "marker": {
          "color": "purple"
         },
         "name": "Efficiency",
         "type": "bar",
         "x": [
          "2017",
          "2016",
          "2015",
          "2014",
          "2013",
          "2012"
         ],
         "y": [
          110.1829268292683,
          115.32926829268293,
          106.60975609756098,
          111.6829268292683,
          114.2439024390244,
          105.08536585365853
         ]
        },
        {
         "marker": {
          "color": "green"
         },
         "name": "Win Loss Percentage",
         "type": "bar",
         "x": [
          "2017",
          "2016",
          "2015",
          "2014",
          "2013",
          "2012"
         ],
         "y": [
          25.609756097560975,
          29.268292682926827,
          28.04878048780488,
          47.5609756097561,
          58.536585365853654,
          30.48780487804878
         ]
        }
       ],
       "layout": {
        "title": "Efficiency VS Win/Loss For PHO",
        "xaxis": {
         "title": "Season"
        }
       }
      },
      "text/html": [
       "<div id=\"b766f4f7-5899-4c7c-bb70-b79f2365dd2c\" style=\"height: 525px; width: 100%;\" class=\"plotly-graph-div\"></div><script type=\"text/javascript\">require([\"plotly\"], function(Plotly) { window.PLOTLYENV=window.PLOTLYENV || {};window.PLOTLYENV.BASE_URL=\"https://plot.ly\";Plotly.newPlot(\"b766f4f7-5899-4c7c-bb70-b79f2365dd2c\", [{\"type\": \"bar\", \"x\": [\"2017\", \"2016\", \"2015\", \"2014\", \"2013\", \"2012\"], \"y\": [110.1829268292683, 115.32926829268293, 106.60975609756098, 111.6829268292683, 114.2439024390244, 105.08536585365853], \"name\": \"Efficiency\", \"marker\": {\"color\": \"purple\"}}, {\"type\": \"bar\", \"x\": [\"2017\", \"2016\", \"2015\", \"2014\", \"2013\", \"2012\"], \"y\": [25.609756097560975, 29.268292682926827, 28.04878048780488, 47.5609756097561, 58.536585365853654, 30.48780487804878], \"name\": \"Win Loss Percentage\", \"marker\": {\"color\": \"green\"}}], {\"title\": \"Efficiency VS Win/Loss For PHO\", \"xaxis\": {\"title\": \"Season\"}}, {\"showLink\": true, \"linkText\": \"Export to plot.ly\"})});</script>"
      ],
      "text/vnd.plotly.v1+html": [
       "<div id=\"b766f4f7-5899-4c7c-bb70-b79f2365dd2c\" style=\"height: 525px; width: 100%;\" class=\"plotly-graph-div\"></div><script type=\"text/javascript\">require([\"plotly\"], function(Plotly) { window.PLOTLYENV=window.PLOTLYENV || {};window.PLOTLYENV.BASE_URL=\"https://plot.ly\";Plotly.newPlot(\"b766f4f7-5899-4c7c-bb70-b79f2365dd2c\", [{\"type\": \"bar\", \"x\": [\"2017\", \"2016\", \"2015\", \"2014\", \"2013\", \"2012\"], \"y\": [110.1829268292683, 115.32926829268293, 106.60975609756098, 111.6829268292683, 114.2439024390244, 105.08536585365853], \"name\": \"Efficiency\", \"marker\": {\"color\": \"purple\"}}, {\"type\": \"bar\", \"x\": [\"2017\", \"2016\", \"2015\", \"2014\", \"2013\", \"2012\"], \"y\": [25.609756097560975, 29.268292682926827, 28.04878048780488, 47.5609756097561, 58.536585365853654, 30.48780487804878], \"name\": \"Win Loss Percentage\", \"marker\": {\"color\": \"green\"}}], {\"title\": \"Efficiency VS Win/Loss For PHO\", \"xaxis\": {\"title\": \"Season\"}}, {\"showLink\": true, \"linkText\": \"Export to plot.ly\"})});</script>"
      ]
     },
     "metadata": {},
     "output_type": "display_data"
    },
    {
     "data": {
      "application/vnd.plotly.v1+json": {
       "data": [
        {
         "marker": {
          "color": "purple"
         },
         "name": "Efficiency",
         "type": "bar",
         "x": [
          "2017",
          "2016",
          "2015",
          "2014",
          "2013",
          "2012"
         ],
         "y": [
          117.34146341463415,
          119.23170731707317,
          115.90243902439025,
          116.79268292682927,
          120.6951219512195,
          106.5
         ]
        },
        {
         "marker": {
          "color": "green"
         },
         "name": "Win Loss Percentage",
         "type": "bar",
         "x": [
          "2017",
          "2016",
          "2015",
          "2014",
          "2013",
          "2012"
         ],
         "y": [
          59.756097560975604,
          50,
          53.65853658536586,
          62.19512195121951,
          65.85365853658537,
          40.243902439024396
         ]
        }
       ],
       "layout": {
        "title": "Efficiency VS Win/Loss For POR",
        "xaxis": {
         "title": "Season"
        }
       }
      },
      "text/html": [
       "<div id=\"65e23ef2-856d-4db2-bb1a-23e3b58bc845\" style=\"height: 525px; width: 100%;\" class=\"plotly-graph-div\"></div><script type=\"text/javascript\">require([\"plotly\"], function(Plotly) { window.PLOTLYENV=window.PLOTLYENV || {};window.PLOTLYENV.BASE_URL=\"https://plot.ly\";Plotly.newPlot(\"65e23ef2-856d-4db2-bb1a-23e3b58bc845\", [{\"type\": \"bar\", \"x\": [\"2017\", \"2016\", \"2015\", \"2014\", \"2013\", \"2012\"], \"y\": [117.34146341463415, 119.23170731707317, 115.90243902439025, 116.79268292682927, 120.6951219512195, 106.5], \"name\": \"Efficiency\", \"marker\": {\"color\": \"purple\"}}, {\"type\": \"bar\", \"x\": [\"2017\", \"2016\", \"2015\", \"2014\", \"2013\", \"2012\"], \"y\": [59.756097560975604, 50.0, 53.65853658536586, 62.19512195121951, 65.85365853658537, 40.243902439024396], \"name\": \"Win Loss Percentage\", \"marker\": {\"color\": \"green\"}}], {\"title\": \"Efficiency VS Win/Loss For POR\", \"xaxis\": {\"title\": \"Season\"}}, {\"showLink\": true, \"linkText\": \"Export to plot.ly\"})});</script>"
      ],
      "text/vnd.plotly.v1+html": [
       "<div id=\"65e23ef2-856d-4db2-bb1a-23e3b58bc845\" style=\"height: 525px; width: 100%;\" class=\"plotly-graph-div\"></div><script type=\"text/javascript\">require([\"plotly\"], function(Plotly) { window.PLOTLYENV=window.PLOTLYENV || {};window.PLOTLYENV.BASE_URL=\"https://plot.ly\";Plotly.newPlot(\"65e23ef2-856d-4db2-bb1a-23e3b58bc845\", [{\"type\": \"bar\", \"x\": [\"2017\", \"2016\", \"2015\", \"2014\", \"2013\", \"2012\"], \"y\": [117.34146341463415, 119.23170731707317, 115.90243902439025, 116.79268292682927, 120.6951219512195, 106.5], \"name\": \"Efficiency\", \"marker\": {\"color\": \"purple\"}}, {\"type\": \"bar\", \"x\": [\"2017\", \"2016\", \"2015\", \"2014\", \"2013\", \"2012\"], \"y\": [59.756097560975604, 50.0, 53.65853658536586, 62.19512195121951, 65.85365853658537, 40.243902439024396], \"name\": \"Win Loss Percentage\", \"marker\": {\"color\": \"green\"}}], {\"title\": \"Efficiency VS Win/Loss For POR\", \"xaxis\": {\"title\": \"Season\"}}, {\"showLink\": true, \"linkText\": \"Export to plot.ly\"})});</script>"
      ]
     },
     "metadata": {},
     "output_type": "display_data"
    },
    {
     "data": {
      "application/vnd.plotly.v1+json": {
       "data": [
        {
         "marker": {
          "color": "purple"
         },
         "name": "Efficiency",
         "type": "bar",
         "x": [
          "2017",
          "2016",
          "2015",
          "2014",
          "2013",
          "2012"
         ],
         "y": [
          107.79268292682927,
          113.8048780487805,
          119.23170731707317,
          109.3048780487805,
          107.45121951219512,
          107.54878048780488
         ]
        },
        {
         "marker": {
          "color": "green"
         },
         "name": "Win Loss Percentage",
         "type": "bar",
         "x": [
          "2017",
          "2016",
          "2015",
          "2014",
          "2013",
          "2012"
         ],
         "y": [
          32.926829268292686,
          39.02439024390244,
          40.243902439024396,
          35.36585365853659,
          34.146341463414636,
          34.146341463414636
         ]
        }
       ],
       "layout": {
        "title": "Efficiency VS Win/Loss For SAC",
        "xaxis": {
         "title": "Season"
        }
       }
      },
      "text/html": [
       "<div id=\"7844a027-4b89-4d4c-a9e0-6b0dafea422b\" style=\"height: 525px; width: 100%;\" class=\"plotly-graph-div\"></div><script type=\"text/javascript\">require([\"plotly\"], function(Plotly) { window.PLOTLYENV=window.PLOTLYENV || {};window.PLOTLYENV.BASE_URL=\"https://plot.ly\";Plotly.newPlot(\"7844a027-4b89-4d4c-a9e0-6b0dafea422b\", [{\"type\": \"bar\", \"x\": [\"2017\", \"2016\", \"2015\", \"2014\", \"2013\", \"2012\"], \"y\": [107.79268292682927, 113.8048780487805, 119.23170731707317, 109.3048780487805, 107.45121951219512, 107.54878048780488], \"name\": \"Efficiency\", \"marker\": {\"color\": \"purple\"}}, {\"type\": \"bar\", \"x\": [\"2017\", \"2016\", \"2015\", \"2014\", \"2013\", \"2012\"], \"y\": [32.926829268292686, 39.02439024390244, 40.243902439024396, 35.36585365853659, 34.146341463414636, 34.146341463414636], \"name\": \"Win Loss Percentage\", \"marker\": {\"color\": \"green\"}}], {\"title\": \"Efficiency VS Win/Loss For SAC\", \"xaxis\": {\"title\": \"Season\"}}, {\"showLink\": true, \"linkText\": \"Export to plot.ly\"})});</script>"
      ],
      "text/vnd.plotly.v1+html": [
       "<div id=\"7844a027-4b89-4d4c-a9e0-6b0dafea422b\" style=\"height: 525px; width: 100%;\" class=\"plotly-graph-div\"></div><script type=\"text/javascript\">require([\"plotly\"], function(Plotly) { window.PLOTLYENV=window.PLOTLYENV || {};window.PLOTLYENV.BASE_URL=\"https://plot.ly\";Plotly.newPlot(\"7844a027-4b89-4d4c-a9e0-6b0dafea422b\", [{\"type\": \"bar\", \"x\": [\"2017\", \"2016\", \"2015\", \"2014\", \"2013\", \"2012\"], \"y\": [107.79268292682927, 113.8048780487805, 119.23170731707317, 109.3048780487805, 107.45121951219512, 107.54878048780488], \"name\": \"Efficiency\", \"marker\": {\"color\": \"purple\"}}, {\"type\": \"bar\", \"x\": [\"2017\", \"2016\", \"2015\", \"2014\", \"2013\", \"2012\"], \"y\": [32.926829268292686, 39.02439024390244, 40.243902439024396, 35.36585365853659, 34.146341463414636, 34.146341463414636], \"name\": \"Win Loss Percentage\", \"marker\": {\"color\": \"green\"}}], {\"title\": \"Efficiency VS Win/Loss For SAC\", \"xaxis\": {\"title\": \"Season\"}}, {\"showLink\": true, \"linkText\": \"Export to plot.ly\"})});</script>"
      ]
     },
     "metadata": {},
     "output_type": "display_data"
    },
    {
     "data": {
      "application/vnd.plotly.v1+json": {
       "data": [
        {
         "marker": {
          "color": "purple"
         },
         "name": "Efficiency",
         "type": "bar",
         "x": [
          "2017",
          "2016",
          "2015",
          "2014",
          "2013",
          "2012"
         ],
         "y": [
          118.78048780487805,
          124.6219512195122,
          126.26829268292683,
          121.48780487804878,
          124.6829268292683,
          121.98780487804878
         ]
        },
        {
         "marker": {
          "color": "green"
         },
         "name": "Win Loss Percentage",
         "type": "bar",
         "x": [
          "2017",
          "2016",
          "2015",
          "2014",
          "2013",
          "2012"
         ],
         "y": [
          57.3170731707317,
          74.39024390243902,
          81.70731707317073,
          67.07317073170732,
          75.60975609756098,
          70.73170731707317
         ]
        }
       ],
       "layout": {
        "title": "Efficiency VS Win/Loss For SAS",
        "xaxis": {
         "title": "Season"
        }
       }
      },
      "text/html": [
       "<div id=\"c56ecbfb-c0ab-42de-ab59-549ce11fddc3\" style=\"height: 525px; width: 100%;\" class=\"plotly-graph-div\"></div><script type=\"text/javascript\">require([\"plotly\"], function(Plotly) { window.PLOTLYENV=window.PLOTLYENV || {};window.PLOTLYENV.BASE_URL=\"https://plot.ly\";Plotly.newPlot(\"c56ecbfb-c0ab-42de-ab59-549ce11fddc3\", [{\"type\": \"bar\", \"x\": [\"2017\", \"2016\", \"2015\", \"2014\", \"2013\", \"2012\"], \"y\": [118.78048780487805, 124.6219512195122, 126.26829268292683, 121.48780487804878, 124.6829268292683, 121.98780487804878], \"name\": \"Efficiency\", \"marker\": {\"color\": \"purple\"}}, {\"type\": \"bar\", \"x\": [\"2017\", \"2016\", \"2015\", \"2014\", \"2013\", \"2012\"], \"y\": [57.3170731707317, 74.39024390243902, 81.70731707317073, 67.07317073170732, 75.60975609756098, 70.73170731707317], \"name\": \"Win Loss Percentage\", \"marker\": {\"color\": \"green\"}}], {\"title\": \"Efficiency VS Win/Loss For SAS\", \"xaxis\": {\"title\": \"Season\"}}, {\"showLink\": true, \"linkText\": \"Export to plot.ly\"})});</script>"
      ],
      "text/vnd.plotly.v1+html": [
       "<div id=\"c56ecbfb-c0ab-42de-ab59-549ce11fddc3\" style=\"height: 525px; width: 100%;\" class=\"plotly-graph-div\"></div><script type=\"text/javascript\">require([\"plotly\"], function(Plotly) { window.PLOTLYENV=window.PLOTLYENV || {};window.PLOTLYENV.BASE_URL=\"https://plot.ly\";Plotly.newPlot(\"c56ecbfb-c0ab-42de-ab59-549ce11fddc3\", [{\"type\": \"bar\", \"x\": [\"2017\", \"2016\", \"2015\", \"2014\", \"2013\", \"2012\"], \"y\": [118.78048780487805, 124.6219512195122, 126.26829268292683, 121.48780487804878, 124.6829268292683, 121.98780487804878], \"name\": \"Efficiency\", \"marker\": {\"color\": \"purple\"}}, {\"type\": \"bar\", \"x\": [\"2017\", \"2016\", \"2015\", \"2014\", \"2013\", \"2012\"], \"y\": [57.3170731707317, 74.39024390243902, 81.70731707317073, 67.07317073170732, 75.60975609756098, 70.73170731707317], \"name\": \"Win Loss Percentage\", \"marker\": {\"color\": \"green\"}}], {\"title\": \"Efficiency VS Win/Loss For SAS\", \"xaxis\": {\"title\": \"Season\"}}, {\"showLink\": true, \"linkText\": \"Export to plot.ly\"})});</script>"
      ]
     },
     "metadata": {},
     "output_type": "display_data"
    },
    {
     "data": {
      "application/vnd.plotly.v1+json": {
       "data": [
        {
         "marker": {
          "color": "purple"
         },
         "name": "Efficiency",
         "type": "bar",
         "x": [
          "2017",
          "2016",
          "2015",
          "2014",
          "2013",
          "2012"
         ],
         "y": [
          129.6951219512195,
          118.8048780487805,
          114.3780487804878,
          114.63414634146342,
          111.1829268292683,
          107.32926829268293
         ]
        },
        {
         "marker": {
          "color": "green"
         },
         "name": "Win Loss Percentage",
         "type": "bar",
         "x": [
          "2017",
          "2016",
          "2015",
          "2014",
          "2013",
          "2012"
         ],
         "y": [
          71.95121951219512,
          62.19512195121951,
          68.29268292682927,
          59.756097560975604,
          58.536585365853654,
          41.46341463414634
         ]
        }
       ],
       "layout": {
        "title": "Efficiency VS Win/Loss For TOR",
        "xaxis": {
         "title": "Season"
        }
       }
      },
      "text/html": [
       "<div id=\"d9c6fdf5-8dd4-49aa-9bdb-aa81e19ba281\" style=\"height: 525px; width: 100%;\" class=\"plotly-graph-div\"></div><script type=\"text/javascript\">require([\"plotly\"], function(Plotly) { window.PLOTLYENV=window.PLOTLYENV || {};window.PLOTLYENV.BASE_URL=\"https://plot.ly\";Plotly.newPlot(\"d9c6fdf5-8dd4-49aa-9bdb-aa81e19ba281\", [{\"type\": \"bar\", \"x\": [\"2017\", \"2016\", \"2015\", \"2014\", \"2013\", \"2012\"], \"y\": [129.6951219512195, 118.8048780487805, 114.3780487804878, 114.63414634146342, 111.1829268292683, 107.32926829268293], \"name\": \"Efficiency\", \"marker\": {\"color\": \"purple\"}}, {\"type\": \"bar\", \"x\": [\"2017\", \"2016\", \"2015\", \"2014\", \"2013\", \"2012\"], \"y\": [71.95121951219512, 62.19512195121951, 68.29268292682927, 59.756097560975604, 58.536585365853654, 41.46341463414634], \"name\": \"Win Loss Percentage\", \"marker\": {\"color\": \"green\"}}], {\"title\": \"Efficiency VS Win/Loss For TOR\", \"xaxis\": {\"title\": \"Season\"}}, {\"showLink\": true, \"linkText\": \"Export to plot.ly\"})});</script>"
      ],
      "text/vnd.plotly.v1+html": [
       "<div id=\"d9c6fdf5-8dd4-49aa-9bdb-aa81e19ba281\" style=\"height: 525px; width: 100%;\" class=\"plotly-graph-div\"></div><script type=\"text/javascript\">require([\"plotly\"], function(Plotly) { window.PLOTLYENV=window.PLOTLYENV || {};window.PLOTLYENV.BASE_URL=\"https://plot.ly\";Plotly.newPlot(\"d9c6fdf5-8dd4-49aa-9bdb-aa81e19ba281\", [{\"type\": \"bar\", \"x\": [\"2017\", \"2016\", \"2015\", \"2014\", \"2013\", \"2012\"], \"y\": [129.6951219512195, 118.8048780487805, 114.3780487804878, 114.63414634146342, 111.1829268292683, 107.32926829268293], \"name\": \"Efficiency\", \"marker\": {\"color\": \"purple\"}}, {\"type\": \"bar\", \"x\": [\"2017\", \"2016\", \"2015\", \"2014\", \"2013\", \"2012\"], \"y\": [71.95121951219512, 62.19512195121951, 68.29268292682927, 59.756097560975604, 58.536585365853654, 41.46341463414634], \"name\": \"Win Loss Percentage\", \"marker\": {\"color\": \"green\"}}], {\"title\": \"Efficiency VS Win/Loss For TOR\", \"xaxis\": {\"title\": \"Season\"}}, {\"showLink\": true, \"linkText\": \"Export to plot.ly\"})});</script>"
      ]
     },
     "metadata": {},
     "output_type": "display_data"
    },
    {
     "data": {
      "application/vnd.plotly.v1+json": {
       "data": [
        {
         "marker": {
          "color": "purple"
         },
         "name": "Efficiency",
         "type": "bar",
         "x": [
          "2017",
          "2016",
          "2015",
          "2014",
          "2013",
          "2012"
         ],
         "y": [
          119.51219512195122,
          113.90243902439025,
          107.59756097560975,
          106.8780487804878,
          102.60975609756098,
          112.5609756097561
         ]
        },
        {
         "marker": {
          "color": "green"
         },
         "name": "Win Loss Percentage",
         "type": "bar",
         "x": [
          "2017",
          "2016",
          "2015",
          "2014",
          "2013",
          "2012"
         ],
         "y": [
          58.536585365853654,
          62.19512195121951,
          48.78048780487805,
          46.34146341463415,
          30.48780487804878,
          52.4390243902439
         ]
        }
       ],
       "layout": {
        "title": "Efficiency VS Win/Loss For UTA",
        "xaxis": {
         "title": "Season"
        }
       }
      },
      "text/html": [
       "<div id=\"c15bc4df-4bbb-4da2-a4a7-2b833f0596dd\" style=\"height: 525px; width: 100%;\" class=\"plotly-graph-div\"></div><script type=\"text/javascript\">require([\"plotly\"], function(Plotly) { window.PLOTLYENV=window.PLOTLYENV || {};window.PLOTLYENV.BASE_URL=\"https://plot.ly\";Plotly.newPlot(\"c15bc4df-4bbb-4da2-a4a7-2b833f0596dd\", [{\"type\": \"bar\", \"x\": [\"2017\", \"2016\", \"2015\", \"2014\", \"2013\", \"2012\"], \"y\": [119.51219512195122, 113.90243902439025, 107.59756097560975, 106.8780487804878, 102.60975609756098, 112.5609756097561], \"name\": \"Efficiency\", \"marker\": {\"color\": \"purple\"}}, {\"type\": \"bar\", \"x\": [\"2017\", \"2016\", \"2015\", \"2014\", \"2013\", \"2012\"], \"y\": [58.536585365853654, 62.19512195121951, 48.78048780487805, 46.34146341463415, 30.48780487804878, 52.4390243902439], \"name\": \"Win Loss Percentage\", \"marker\": {\"color\": \"green\"}}], {\"title\": \"Efficiency VS Win/Loss For UTA\", \"xaxis\": {\"title\": \"Season\"}}, {\"showLink\": true, \"linkText\": \"Export to plot.ly\"})});</script>"
      ],
      "text/vnd.plotly.v1+html": [
       "<div id=\"c15bc4df-4bbb-4da2-a4a7-2b833f0596dd\" style=\"height: 525px; width: 100%;\" class=\"plotly-graph-div\"></div><script type=\"text/javascript\">require([\"plotly\"], function(Plotly) { window.PLOTLYENV=window.PLOTLYENV || {};window.PLOTLYENV.BASE_URL=\"https://plot.ly\";Plotly.newPlot(\"c15bc4df-4bbb-4da2-a4a7-2b833f0596dd\", [{\"type\": \"bar\", \"x\": [\"2017\", \"2016\", \"2015\", \"2014\", \"2013\", \"2012\"], \"y\": [119.51219512195122, 113.90243902439025, 107.59756097560975, 106.8780487804878, 102.60975609756098, 112.5609756097561], \"name\": \"Efficiency\", \"marker\": {\"color\": \"purple\"}}, {\"type\": \"bar\", \"x\": [\"2017\", \"2016\", \"2015\", \"2014\", \"2013\", \"2012\"], \"y\": [58.536585365853654, 62.19512195121951, 48.78048780487805, 46.34146341463415, 30.48780487804878, 52.4390243902439], \"name\": \"Win Loss Percentage\", \"marker\": {\"color\": \"green\"}}], {\"title\": \"Efficiency VS Win/Loss For UTA\", \"xaxis\": {\"title\": \"Season\"}}, {\"showLink\": true, \"linkText\": \"Export to plot.ly\"})});</script>"
      ]
     },
     "metadata": {},
     "output_type": "display_data"
    },
    {
     "data": {
      "application/vnd.plotly.v1+json": {
       "data": [
        {
         "marker": {
          "color": "purple"
         },
         "name": "Efficiency",
         "type": "bar",
         "x": [
          "2017",
          "2016",
          "2015",
          "2014",
          "2013",
          "2012"
         ],
         "y": [
          121.89024390243902,
          123.78048780487805,
          116.09756097560975,
          114.07317073170732,
          112.90243902439025,
          102.97560975609755
         ]
        },
        {
         "marker": {
          "color": "green"
         },
         "name": "Win Loss Percentage",
         "type": "bar",
         "x": [
          "2017",
          "2016",
          "2015",
          "2014",
          "2013",
          "2012"
         ],
         "y": [
          52.4390243902439,
          59.756097560975604,
          50,
          56.09756097560976,
          53.65853658536586,
          35.36585365853659
         ]
        }
       ],
       "layout": {
        "title": "Efficiency VS Win/Loss For WAS",
        "xaxis": {
         "title": "Season"
        }
       }
      },
      "text/html": [
       "<div id=\"949ea364-e02a-4eda-8d80-00001b7f1db5\" style=\"height: 525px; width: 100%;\" class=\"plotly-graph-div\"></div><script type=\"text/javascript\">require([\"plotly\"], function(Plotly) { window.PLOTLYENV=window.PLOTLYENV || {};window.PLOTLYENV.BASE_URL=\"https://plot.ly\";Plotly.newPlot(\"949ea364-e02a-4eda-8d80-00001b7f1db5\", [{\"type\": \"bar\", \"x\": [\"2017\", \"2016\", \"2015\", \"2014\", \"2013\", \"2012\"], \"y\": [121.89024390243902, 123.78048780487805, 116.09756097560975, 114.07317073170732, 112.90243902439025, 102.97560975609755], \"name\": \"Efficiency\", \"marker\": {\"color\": \"purple\"}}, {\"type\": \"bar\", \"x\": [\"2017\", \"2016\", \"2015\", \"2014\", \"2013\", \"2012\"], \"y\": [52.4390243902439, 59.756097560975604, 50.0, 56.09756097560976, 53.65853658536586, 35.36585365853659], \"name\": \"Win Loss Percentage\", \"marker\": {\"color\": \"green\"}}], {\"title\": \"Efficiency VS Win/Loss For WAS\", \"xaxis\": {\"title\": \"Season\"}}, {\"showLink\": true, \"linkText\": \"Export to plot.ly\"})});</script>"
      ],
      "text/vnd.plotly.v1+html": [
       "<div id=\"949ea364-e02a-4eda-8d80-00001b7f1db5\" style=\"height: 525px; width: 100%;\" class=\"plotly-graph-div\"></div><script type=\"text/javascript\">require([\"plotly\"], function(Plotly) { window.PLOTLYENV=window.PLOTLYENV || {};window.PLOTLYENV.BASE_URL=\"https://plot.ly\";Plotly.newPlot(\"949ea364-e02a-4eda-8d80-00001b7f1db5\", [{\"type\": \"bar\", \"x\": [\"2017\", \"2016\", \"2015\", \"2014\", \"2013\", \"2012\"], \"y\": [121.89024390243902, 123.78048780487805, 116.09756097560975, 114.07317073170732, 112.90243902439025, 102.97560975609755], \"name\": \"Efficiency\", \"marker\": {\"color\": \"purple\"}}, {\"type\": \"bar\", \"x\": [\"2017\", \"2016\", \"2015\", \"2014\", \"2013\", \"2012\"], \"y\": [52.4390243902439, 59.756097560975604, 50.0, 56.09756097560976, 53.65853658536586, 35.36585365853659], \"name\": \"Win Loss Percentage\", \"marker\": {\"color\": \"green\"}}], {\"title\": \"Efficiency VS Win/Loss For WAS\", \"xaxis\": {\"title\": \"Season\"}}, {\"showLink\": true, \"linkText\": \"Export to plot.ly\"})});</script>"
      ]
     },
     "metadata": {},
     "output_type": "display_data"
    }
   ],
   "source": [
    "for df in teamstats:\n",
    "    data = []\n",
    "    data.append(go.Bar(\n",
    "        x = df['Season'],\n",
    "        y = df['Efficiency'],\n",
    "        name= 'Efficiency',\n",
    "        marker = dict(\n",
    "            color = \"purple\")\n",
    "    ))\n",
    "    data.append(go.Bar(\n",
    "        x = df['Season'],\n",
    "        y = df['Win/Loss'],\n",
    "        name= 'Win Loss Percentage',\n",
    "        marker = dict(\n",
    "            color = \"green\")\n",
    "    ))\n",
    "    layout = dict(title= 'Efficiency VS Win/Loss For '+ df['Tm'][0],xaxis = dict(title = 'Season')) \n",
    "    fig = dict(data=data, layout=layout)\n",
    "    iplot(fig, filename='basic-line')"
   ]
  },
  {
   "cell_type": "markdown",
   "metadata": {},
   "source": [
    "Once again, there seems to be a lack of teams that have their season of highest efficiency as the same season as their highest win loss percentage. This makes me think that efficiency isn't necessarily the best way to determine how good a team is, but it is very possible for efficiency to be a good metric as to important a player is to a team."
   ]
  },
  {
   "cell_type": "markdown",
   "metadata": {
    "collapsed": true
   },
   "source": [
    "Now let's see how % of 3 points attempted, and % of 3 points made affected the efficiency of a player, for the sake of simplicity I only wanted to target the big names on certain teams, so for this part, I will only be looking at the stats for players Stephen Curry, James Harden, LeBron James, and Kevin Durant."
   ]
  },
  {
   "cell_type": "code",
   "execution_count": 118,
   "metadata": {
    "collapsed": true
   },
   "outputs": [],
   "source": [
    "nba = pd.read_csv('Seasons_Stats.csv')\n",
    "nba_sorted = nba[[\"Year\",\"Player\",\"Age\",\"G\",\"PTS\",\"FG\",\"FGA\",\"3P\",\"3PA\",\"2P\",\"2PA\",\"FT\",\"FTA\",\"TRB\",\"AST\",\"STL\",\"BLK\",\"TOV\"]]"
   ]
  },
  {
   "cell_type": "code",
   "execution_count": 129,
   "metadata": {
    "scrolled": true
   },
   "outputs": [],
   "source": [
    "nba_sorted.set_index(\"Year\", inplace = True)"
   ]
  },
  {
   "cell_type": "code",
   "execution_count": 134,
   "metadata": {},
   "outputs": [],
   "source": [
    "nba_sorted = nba_sorted.drop([\"1950.0\",\"1951.0\",\"1952.0\",\"1953.0\",\"1954.0\",\"1955.0\",\"1956.0\",\"1957.0\",\"1958.0\",\"1959.0\",\"1960.0\",\"1961.0\",\"1962.0\",\"1963.0\",\"1964.0\",\"1965.0\",\"1966.0\",\"1967.0\",\"1968.0\",\"1969.0\",\"1970.0\",\"1971.0\",\"1972.0\",\"1973.0\",\"1974.0\",\"1975.0\",\"1976.0\",\"1977.0\",\"1978.0\",\"1979.0\",\"1980.0\",\"1981.0\",\"1982.0\",\"1983.0\",\"1984.0\",\"1985.0\",\"1986.0\",\"1987.0\",\"1988.0\",\"1989.0\",\"1990.0\",\"1991.0\",\"1992.0\",\"1993.0\",\"1994.0\",\"1995.0\",\"1996.0\",\"1997.0\",\"1998.0\",\"1999.0\",\"2000.0\",\"2001.0\",\"2002.0\",\"2003.0\",\"2004.0\",\"2005.0\",\"2006.0\",\"2007.0\",\"2008.0\",\"2009.0\",\"2010.0\",\"2011.0\",\"nan\"])"
   ]
  },
  {
   "cell_type": "code",
   "execution_count": 136,
   "metadata": {},
   "outputs": [],
   "source": [
    "nba_sorted_player = nba_sorted.set_index(\"Player\")"
   ]
  },
  {
   "cell_type": "code",
   "execution_count": 186,
   "metadata": {},
   "outputs": [],
   "source": [
    "steph_curry = nba_sorted_player.loc[\"Stephen Curry\"]\n",
    "lj = nba_sorted_player.loc[\"LeBron James\"]\n",
    "jh = nba_sorted_player.loc[\"James Harden\"]\n",
    "kd = nba_sorted_player.loc[\"Kevin Durant\"]"
   ]
  },
  {
   "cell_type": "code",
   "execution_count": 143,
   "metadata": {},
   "outputs": [
    {
     "data": {
      "text/plain": [
       "pandas.core.frame.DataFrame"
      ]
     },
     "execution_count": 143,
     "metadata": {},
     "output_type": "execute_result"
    }
   ],
   "source": [
    "type(steph_curry)"
   ]
  },
  {
   "cell_type": "code",
   "execution_count": 144,
   "metadata": {},
   "outputs": [
    {
     "data": {
      "text/html": [
       "<div>\n",
       "<style scoped>\n",
       "    .dataframe tbody tr th:only-of-type {\n",
       "        vertical-align: middle;\n",
       "    }\n",
       "\n",
       "    .dataframe tbody tr th {\n",
       "        vertical-align: top;\n",
       "    }\n",
       "\n",
       "    .dataframe thead th {\n",
       "        text-align: right;\n",
       "    }\n",
       "</style>\n",
       "<table border=\"1\" class=\"dataframe\">\n",
       "  <thead>\n",
       "    <tr style=\"text-align: right;\">\n",
       "      <th></th>\n",
       "      <th>Age</th>\n",
       "      <th>G</th>\n",
       "      <th>PTS</th>\n",
       "      <th>FG</th>\n",
       "      <th>FGA</th>\n",
       "      <th>3P</th>\n",
       "      <th>3PA</th>\n",
       "      <th>2P</th>\n",
       "      <th>2PA</th>\n",
       "      <th>FT</th>\n",
       "      <th>FTA</th>\n",
       "      <th>TRB</th>\n",
       "      <th>AST</th>\n",
       "      <th>STL</th>\n",
       "      <th>BLK</th>\n",
       "      <th>TOV</th>\n",
       "    </tr>\n",
       "    <tr>\n",
       "      <th>Player</th>\n",
       "      <th></th>\n",
       "      <th></th>\n",
       "      <th></th>\n",
       "      <th></th>\n",
       "      <th></th>\n",
       "      <th></th>\n",
       "      <th></th>\n",
       "      <th></th>\n",
       "      <th></th>\n",
       "      <th></th>\n",
       "      <th></th>\n",
       "      <th></th>\n",
       "      <th></th>\n",
       "      <th></th>\n",
       "      <th></th>\n",
       "      <th></th>\n",
       "    </tr>\n",
       "  </thead>\n",
       "  <tbody>\n",
       "    <tr>\n",
       "      <th>Stephen Curry</th>\n",
       "      <td>23.0</td>\n",
       "      <td>26.0</td>\n",
       "      <td>383.0</td>\n",
       "      <td>145.0</td>\n",
       "      <td>296.0</td>\n",
       "      <td>55.0</td>\n",
       "      <td>121.0</td>\n",
       "      <td>90.0</td>\n",
       "      <td>175.0</td>\n",
       "      <td>38.0</td>\n",
       "      <td>47.0</td>\n",
       "      <td>88.0</td>\n",
       "      <td>138.0</td>\n",
       "      <td>39.0</td>\n",
       "      <td>8.0</td>\n",
       "      <td>65.0</td>\n",
       "    </tr>\n",
       "    <tr>\n",
       "      <th>Stephen Curry</th>\n",
       "      <td>24.0</td>\n",
       "      <td>78.0</td>\n",
       "      <td>1786.0</td>\n",
       "      <td>626.0</td>\n",
       "      <td>1388.0</td>\n",
       "      <td>272.0</td>\n",
       "      <td>600.0</td>\n",
       "      <td>354.0</td>\n",
       "      <td>788.0</td>\n",
       "      <td>262.0</td>\n",
       "      <td>291.0</td>\n",
       "      <td>314.0</td>\n",
       "      <td>539.0</td>\n",
       "      <td>126.0</td>\n",
       "      <td>12.0</td>\n",
       "      <td>240.0</td>\n",
       "    </tr>\n",
       "    <tr>\n",
       "      <th>Stephen Curry</th>\n",
       "      <td>25.0</td>\n",
       "      <td>78.0</td>\n",
       "      <td>1873.0</td>\n",
       "      <td>652.0</td>\n",
       "      <td>1383.0</td>\n",
       "      <td>261.0</td>\n",
       "      <td>615.0</td>\n",
       "      <td>391.0</td>\n",
       "      <td>768.0</td>\n",
       "      <td>308.0</td>\n",
       "      <td>348.0</td>\n",
       "      <td>334.0</td>\n",
       "      <td>666.0</td>\n",
       "      <td>128.0</td>\n",
       "      <td>14.0</td>\n",
       "      <td>294.0</td>\n",
       "    </tr>\n",
       "    <tr>\n",
       "      <th>Stephen Curry</th>\n",
       "      <td>26.0</td>\n",
       "      <td>80.0</td>\n",
       "      <td>1900.0</td>\n",
       "      <td>653.0</td>\n",
       "      <td>1341.0</td>\n",
       "      <td>286.0</td>\n",
       "      <td>646.0</td>\n",
       "      <td>367.0</td>\n",
       "      <td>695.0</td>\n",
       "      <td>308.0</td>\n",
       "      <td>337.0</td>\n",
       "      <td>341.0</td>\n",
       "      <td>619.0</td>\n",
       "      <td>163.0</td>\n",
       "      <td>16.0</td>\n",
       "      <td>249.0</td>\n",
       "    </tr>\n",
       "    <tr>\n",
       "      <th>Stephen Curry</th>\n",
       "      <td>27.0</td>\n",
       "      <td>79.0</td>\n",
       "      <td>2375.0</td>\n",
       "      <td>805.0</td>\n",
       "      <td>1598.0</td>\n",
       "      <td>402.0</td>\n",
       "      <td>886.0</td>\n",
       "      <td>403.0</td>\n",
       "      <td>712.0</td>\n",
       "      <td>363.0</td>\n",
       "      <td>400.0</td>\n",
       "      <td>430.0</td>\n",
       "      <td>527.0</td>\n",
       "      <td>169.0</td>\n",
       "      <td>15.0</td>\n",
       "      <td>262.0</td>\n",
       "    </tr>\n",
       "    <tr>\n",
       "      <th>Stephen Curry</th>\n",
       "      <td>28.0</td>\n",
       "      <td>79.0</td>\n",
       "      <td>1999.0</td>\n",
       "      <td>675.0</td>\n",
       "      <td>1443.0</td>\n",
       "      <td>324.0</td>\n",
       "      <td>789.0</td>\n",
       "      <td>351.0</td>\n",
       "      <td>654.0</td>\n",
       "      <td>325.0</td>\n",
       "      <td>362.0</td>\n",
       "      <td>353.0</td>\n",
       "      <td>523.0</td>\n",
       "      <td>143.0</td>\n",
       "      <td>17.0</td>\n",
       "      <td>239.0</td>\n",
       "    </tr>\n",
       "  </tbody>\n",
       "</table>\n",
       "</div>"
      ],
      "text/plain": [
       "                Age     G     PTS     FG     FGA     3P    3PA     2P    2PA  \\\n",
       "Player                                                                         \n",
       "Stephen Curry  23.0  26.0   383.0  145.0   296.0   55.0  121.0   90.0  175.0   \n",
       "Stephen Curry  24.0  78.0  1786.0  626.0  1388.0  272.0  600.0  354.0  788.0   \n",
       "Stephen Curry  25.0  78.0  1873.0  652.0  1383.0  261.0  615.0  391.0  768.0   \n",
       "Stephen Curry  26.0  80.0  1900.0  653.0  1341.0  286.0  646.0  367.0  695.0   \n",
       "Stephen Curry  27.0  79.0  2375.0  805.0  1598.0  402.0  886.0  403.0  712.0   \n",
       "Stephen Curry  28.0  79.0  1999.0  675.0  1443.0  324.0  789.0  351.0  654.0   \n",
       "\n",
       "                  FT    FTA    TRB    AST    STL   BLK    TOV  \n",
       "Player                                                         \n",
       "Stephen Curry   38.0   47.0   88.0  138.0   39.0   8.0   65.0  \n",
       "Stephen Curry  262.0  291.0  314.0  539.0  126.0  12.0  240.0  \n",
       "Stephen Curry  308.0  348.0  334.0  666.0  128.0  14.0  294.0  \n",
       "Stephen Curry  308.0  337.0  341.0  619.0  163.0  16.0  249.0  \n",
       "Stephen Curry  363.0  400.0  430.0  527.0  169.0  15.0  262.0  \n",
       "Stephen Curry  325.0  362.0  353.0  523.0  143.0  17.0  239.0  "
      ]
     },
     "execution_count": 144,
     "metadata": {},
     "output_type": "execute_result"
    }
   ],
   "source": [
    "steph_curry"
   ]
  },
  {
   "cell_type": "code",
   "execution_count": 257,
   "metadata": {},
   "outputs": [],
   "source": [
    "steph_curry[\"Missed FT\"] = steph_curry[\"FTA\"] - steph_curry[\"FT\"]\n",
    "steph_curry[\"3PA%\"] = steph_curry[\"3PA\"] / steph_curry[\"FGA\"]\n",
    "steph_curry[\"3PM%\"] = steph_curry[\"3P\"] / steph_curry[\"3PA\"]\n",
    "steph_curry[\"Missed FG\"] = steph_curry[\"FGA\"] - steph_curry[\"FG\"]\n",
    "steph_curry['Efficiency'] = (steph_curry['PTS'] + steph_curry[\"TRB\"] + steph_curry[\"AST\"] + steph_curry[\"STL\"] + steph_curry['BLK'] - steph_curry[\"Missed FG\"] - steph_curry[\"Missed FT\"] - steph_curry[\"TOV\"])/steph_curry[\"G\"]\n"
   ]
  },
  {
   "cell_type": "code",
   "execution_count": 258,
   "metadata": {},
   "outputs": [
    {
     "data": {
      "text/html": [
       "<div>\n",
       "<style scoped>\n",
       "    .dataframe tbody tr th:only-of-type {\n",
       "        vertical-align: middle;\n",
       "    }\n",
       "\n",
       "    .dataframe tbody tr th {\n",
       "        vertical-align: top;\n",
       "    }\n",
       "\n",
       "    .dataframe thead th {\n",
       "        text-align: right;\n",
       "    }\n",
       "</style>\n",
       "<table border=\"1\" class=\"dataframe\">\n",
       "  <thead>\n",
       "    <tr style=\"text-align: right;\">\n",
       "      <th></th>\n",
       "      <th>Age</th>\n",
       "      <th>G</th>\n",
       "      <th>PTS</th>\n",
       "      <th>FG</th>\n",
       "      <th>FGA</th>\n",
       "      <th>3P</th>\n",
       "      <th>3PA</th>\n",
       "      <th>2P</th>\n",
       "      <th>2PA</th>\n",
       "      <th>FT</th>\n",
       "      <th>...</th>\n",
       "      <th>TRB</th>\n",
       "      <th>AST</th>\n",
       "      <th>STL</th>\n",
       "      <th>BLK</th>\n",
       "      <th>TOV</th>\n",
       "      <th>Missed FT</th>\n",
       "      <th>Missed FG</th>\n",
       "      <th>Efficiency</th>\n",
       "      <th>3PM%</th>\n",
       "      <th>3PA%</th>\n",
       "    </tr>\n",
       "    <tr>\n",
       "      <th>3PA%</th>\n",
       "      <th></th>\n",
       "      <th></th>\n",
       "      <th></th>\n",
       "      <th></th>\n",
       "      <th></th>\n",
       "      <th></th>\n",
       "      <th></th>\n",
       "      <th></th>\n",
       "      <th></th>\n",
       "      <th></th>\n",
       "      <th></th>\n",
       "      <th></th>\n",
       "      <th></th>\n",
       "      <th></th>\n",
       "      <th></th>\n",
       "      <th></th>\n",
       "      <th></th>\n",
       "      <th></th>\n",
       "      <th></th>\n",
       "      <th></th>\n",
       "      <th></th>\n",
       "    </tr>\n",
       "  </thead>\n",
       "  <tbody>\n",
       "    <tr>\n",
       "      <th>0.4088</th>\n",
       "      <td>23.0</td>\n",
       "      <td>26.0</td>\n",
       "      <td>383.0</td>\n",
       "      <td>145.0</td>\n",
       "      <td>296.0</td>\n",
       "      <td>55.0</td>\n",
       "      <td>121.0</td>\n",
       "      <td>90.0</td>\n",
       "      <td>175.0</td>\n",
       "      <td>38.0</td>\n",
       "      <td>...</td>\n",
       "      <td>88.0</td>\n",
       "      <td>138.0</td>\n",
       "      <td>39.0</td>\n",
       "      <td>8.0</td>\n",
       "      <td>65.0</td>\n",
       "      <td>9.0</td>\n",
       "      <td>151.0</td>\n",
       "      <td>16.5769</td>\n",
       "      <td>0.4545</td>\n",
       "      <td>0.4088</td>\n",
       "    </tr>\n",
       "    <tr>\n",
       "      <th>0.4323</th>\n",
       "      <td>24.0</td>\n",
       "      <td>78.0</td>\n",
       "      <td>1786.0</td>\n",
       "      <td>626.0</td>\n",
       "      <td>1388.0</td>\n",
       "      <td>272.0</td>\n",
       "      <td>600.0</td>\n",
       "      <td>354.0</td>\n",
       "      <td>788.0</td>\n",
       "      <td>262.0</td>\n",
       "      <td>...</td>\n",
       "      <td>314.0</td>\n",
       "      <td>539.0</td>\n",
       "      <td>126.0</td>\n",
       "      <td>12.0</td>\n",
       "      <td>240.0</td>\n",
       "      <td>29.0</td>\n",
       "      <td>762.0</td>\n",
       "      <td>22.3846</td>\n",
       "      <td>0.4533</td>\n",
       "      <td>0.4323</td>\n",
       "    </tr>\n",
       "    <tr>\n",
       "      <th>0.4447</th>\n",
       "      <td>25.0</td>\n",
       "      <td>78.0</td>\n",
       "      <td>1873.0</td>\n",
       "      <td>652.0</td>\n",
       "      <td>1383.0</td>\n",
       "      <td>261.0</td>\n",
       "      <td>615.0</td>\n",
       "      <td>391.0</td>\n",
       "      <td>768.0</td>\n",
       "      <td>308.0</td>\n",
       "      <td>...</td>\n",
       "      <td>334.0</td>\n",
       "      <td>666.0</td>\n",
       "      <td>128.0</td>\n",
       "      <td>14.0</td>\n",
       "      <td>294.0</td>\n",
       "      <td>40.0</td>\n",
       "      <td>731.0</td>\n",
       "      <td>25.0000</td>\n",
       "      <td>0.4244</td>\n",
       "      <td>0.4447</td>\n",
       "    </tr>\n",
       "    <tr>\n",
       "      <th>0.4817</th>\n",
       "      <td>26.0</td>\n",
       "      <td>80.0</td>\n",
       "      <td>1900.0</td>\n",
       "      <td>653.0</td>\n",
       "      <td>1341.0</td>\n",
       "      <td>286.0</td>\n",
       "      <td>646.0</td>\n",
       "      <td>367.0</td>\n",
       "      <td>695.0</td>\n",
       "      <td>308.0</td>\n",
       "      <td>...</td>\n",
       "      <td>341.0</td>\n",
       "      <td>619.0</td>\n",
       "      <td>163.0</td>\n",
       "      <td>16.0</td>\n",
       "      <td>249.0</td>\n",
       "      <td>29.0</td>\n",
       "      <td>688.0</td>\n",
       "      <td>25.9125</td>\n",
       "      <td>0.4427</td>\n",
       "      <td>0.4817</td>\n",
       "    </tr>\n",
       "    <tr>\n",
       "      <th>0.5468</th>\n",
       "      <td>28.0</td>\n",
       "      <td>79.0</td>\n",
       "      <td>1999.0</td>\n",
       "      <td>675.0</td>\n",
       "      <td>1443.0</td>\n",
       "      <td>324.0</td>\n",
       "      <td>789.0</td>\n",
       "      <td>351.0</td>\n",
       "      <td>654.0</td>\n",
       "      <td>325.0</td>\n",
       "      <td>...</td>\n",
       "      <td>353.0</td>\n",
       "      <td>523.0</td>\n",
       "      <td>143.0</td>\n",
       "      <td>17.0</td>\n",
       "      <td>239.0</td>\n",
       "      <td>37.0</td>\n",
       "      <td>768.0</td>\n",
       "      <td>25.2025</td>\n",
       "      <td>0.4106</td>\n",
       "      <td>0.5468</td>\n",
       "    </tr>\n",
       "    <tr>\n",
       "      <th>0.5544</th>\n",
       "      <td>27.0</td>\n",
       "      <td>79.0</td>\n",
       "      <td>2375.0</td>\n",
       "      <td>805.0</td>\n",
       "      <td>1598.0</td>\n",
       "      <td>402.0</td>\n",
       "      <td>886.0</td>\n",
       "      <td>403.0</td>\n",
       "      <td>712.0</td>\n",
       "      <td>363.0</td>\n",
       "      <td>...</td>\n",
       "      <td>430.0</td>\n",
       "      <td>527.0</td>\n",
       "      <td>169.0</td>\n",
       "      <td>15.0</td>\n",
       "      <td>262.0</td>\n",
       "      <td>37.0</td>\n",
       "      <td>793.0</td>\n",
       "      <td>30.6835</td>\n",
       "      <td>0.4537</td>\n",
       "      <td>0.5544</td>\n",
       "    </tr>\n",
       "  </tbody>\n",
       "</table>\n",
       "<p>6 rows × 21 columns</p>\n",
       "</div>"
      ],
      "text/plain": [
       "         Age     G     PTS     FG     FGA     3P    3PA     2P    2PA     FT  \\\n",
       "3PA%                                                                           \n",
       "0.4088  23.0  26.0   383.0  145.0   296.0   55.0  121.0   90.0  175.0   38.0   \n",
       "0.4323  24.0  78.0  1786.0  626.0  1388.0  272.0  600.0  354.0  788.0  262.0   \n",
       "0.4447  25.0  78.0  1873.0  652.0  1383.0  261.0  615.0  391.0  768.0  308.0   \n",
       "0.4817  26.0  80.0  1900.0  653.0  1341.0  286.0  646.0  367.0  695.0  308.0   \n",
       "0.5468  28.0  79.0  1999.0  675.0  1443.0  324.0  789.0  351.0  654.0  325.0   \n",
       "0.5544  27.0  79.0  2375.0  805.0  1598.0  402.0  886.0  403.0  712.0  363.0   \n",
       "\n",
       "         ...      TRB    AST    STL   BLK    TOV  Missed FT  Missed FG  \\\n",
       "3PA%     ...                                                             \n",
       "0.4088   ...     88.0  138.0   39.0   8.0   65.0        9.0      151.0   \n",
       "0.4323   ...    314.0  539.0  126.0  12.0  240.0       29.0      762.0   \n",
       "0.4447   ...    334.0  666.0  128.0  14.0  294.0       40.0      731.0   \n",
       "0.4817   ...    341.0  619.0  163.0  16.0  249.0       29.0      688.0   \n",
       "0.5468   ...    353.0  523.0  143.0  17.0  239.0       37.0      768.0   \n",
       "0.5544   ...    430.0  527.0  169.0  15.0  262.0       37.0      793.0   \n",
       "\n",
       "        Efficiency    3PM%    3PA%  \n",
       "3PA%                                \n",
       "0.4088     16.5769  0.4545  0.4088  \n",
       "0.4323     22.3846  0.4533  0.4323  \n",
       "0.4447     25.0000  0.4244  0.4447  \n",
       "0.4817     25.9125  0.4427  0.4817  \n",
       "0.5468     25.2025  0.4106  0.5468  \n",
       "0.5544     30.6835  0.4537  0.5544  \n",
       "\n",
       "[6 rows x 21 columns]"
      ]
     },
     "execution_count": 258,
     "metadata": {},
     "output_type": "execute_result"
    }
   ],
   "source": [
    "steph_curry = steph_curry.round(4)\n",
    "steph_curry"
   ]
  },
  {
   "cell_type": "code",
   "execution_count": 260,
   "metadata": {},
   "outputs": [
    {
     "data": {
      "image/png": "[encoded data removed]",
      "text/plain": [
       "<matplotlib.figure.Figure at 0x1a0b362cf8>"
      ]
     },
     "metadata": {},
     "output_type": "display_data"
    }
   ],
   "source": [
    "fig, ax = plt.subplots(figsize=(13,7))\n",
    "steph_curry = steph_curry.sort_values(by=\"3PA%\", ascending = True)\n",
    "steph_curry.set_index(\"3PA%\", inplace = True)\n",
    "steph_curry.index,steph_curry[\"Efficiency\"].plot(kind = \"bar\", alpha = 1.0)\n",
    "ax.set_xlabel(\"3PA%\")\n",
    "ax.set_ylabel(\"Efficiency\")\n",
    "ax.set_ylim(10,35)\n",
    "fig.suptitle(\"Stephen Curry's Efficiency VS Percentage of 3 Point Attempts\",fontsize = 24, fontweight = \"bold\")\n",
    "plt.show()"
   ]
  },
  {
   "cell_type": "code",
   "execution_count": 261,
   "metadata": {},
   "outputs": [
    {
     "data": {
      "image/png": "[encoded data removed]",
      "text/plain": [
       "<matplotlib.figure.Figure at 0x1a0b1cdf28>"
      ]
     },
     "metadata": {},
     "output_type": "display_data"
    }
   ],
   "source": [
    "fig, ax = plt.subplots(figsize=(13,7))\n",
    "steph_curry = steph_curry.sort_values(by=\"3PM%\", ascending = True)\n",
    "steph_curry.set_index(\"3PM%\", inplace = True)\n",
    "steph_curry.index,steph_curry[\"Efficiency\"].plot(kind = \"bar\", alpha = 1.0)\n",
    "ax.set_xlabel(\"3PM%\")\n",
    "ax.set_ylabel(\"Efficiency\")\n",
    "ax.set_ylim(10,35)\n",
    "fig.suptitle(\"Stephen Curry's Efficiency VS Percentage of 3 Point Made\",fontsize = 24, fontweight = \"bold\")\n",
    "plt.show()"
   ]
  },
  {
   "cell_type": "code",
   "execution_count": 262,
   "metadata": {},
   "outputs": [],
   "source": [
    "lj[\"Missed FT\"] = lj[\"FTA\"] - lj[\"FT\"]\n",
    "lj[\"3PA%\"] = lj[\"3PA\"] / lj[\"FGA\"]\n",
    "lj[\"3PM%\"] = lj[\"3P\"] / lj[\"3PA\"]\n",
    "lj[\"Missed FG\"] = lj[\"FGA\"] - lj[\"FG\"]\n",
    "lj['Efficiency'] = (lj['PTS'] + lj[\"TRB\"] + lj[\"AST\"] + lj[\"STL\"] + lj['BLK'] - lj[\"Missed FG\"] - lj[\"Missed FT\"] - lj[\"TOV\"])/lj[\"G\"]\n"
   ]
  },
  {
   "cell_type": "code",
   "execution_count": 263,
   "metadata": {},
   "outputs": [
    {
     "data": {
      "text/html": [
       "<div>\n",
       "<style scoped>\n",
       "    .dataframe tbody tr th:only-of-type {\n",
       "        vertical-align: middle;\n",
       "    }\n",
       "\n",
       "    .dataframe tbody tr th {\n",
       "        vertical-align: top;\n",
       "    }\n",
       "\n",
       "    .dataframe thead th {\n",
       "        text-align: right;\n",
       "    }\n",
       "</style>\n",
       "<table border=\"1\" class=\"dataframe\">\n",
       "  <thead>\n",
       "    <tr style=\"text-align: right;\">\n",
       "      <th></th>\n",
       "      <th>Age</th>\n",
       "      <th>G</th>\n",
       "      <th>PTS</th>\n",
       "      <th>FG</th>\n",
       "      <th>FGA</th>\n",
       "      <th>3P</th>\n",
       "      <th>3PA</th>\n",
       "      <th>2P</th>\n",
       "      <th>2PA</th>\n",
       "      <th>FT</th>\n",
       "      <th>...</th>\n",
       "      <th>TRB</th>\n",
       "      <th>AST</th>\n",
       "      <th>STL</th>\n",
       "      <th>BLK</th>\n",
       "      <th>TOV</th>\n",
       "      <th>Missed FT</th>\n",
       "      <th>Missed FG</th>\n",
       "      <th>Efficiency</th>\n",
       "      <th>3PA%</th>\n",
       "      <th>3PM%</th>\n",
       "    </tr>\n",
       "    <tr>\n",
       "      <th>3PM%</th>\n",
       "      <th></th>\n",
       "      <th></th>\n",
       "      <th></th>\n",
       "      <th></th>\n",
       "      <th></th>\n",
       "      <th></th>\n",
       "      <th></th>\n",
       "      <th></th>\n",
       "      <th></th>\n",
       "      <th></th>\n",
       "      <th></th>\n",
       "      <th></th>\n",
       "      <th></th>\n",
       "      <th></th>\n",
       "      <th></th>\n",
       "      <th></th>\n",
       "      <th></th>\n",
       "      <th></th>\n",
       "      <th></th>\n",
       "      <th></th>\n",
       "      <th></th>\n",
       "    </tr>\n",
       "  </thead>\n",
       "  <tbody>\n",
       "    <tr>\n",
       "      <th>0.3085</th>\n",
       "      <td>31.0</td>\n",
       "      <td>76.0</td>\n",
       "      <td>1920.0</td>\n",
       "      <td>737.0</td>\n",
       "      <td>1416.0</td>\n",
       "      <td>87.0</td>\n",
       "      <td>282.0</td>\n",
       "      <td>650.0</td>\n",
       "      <td>1134.0</td>\n",
       "      <td>359.0</td>\n",
       "      <td>...</td>\n",
       "      <td>565.0</td>\n",
       "      <td>514.0</td>\n",
       "      <td>104.0</td>\n",
       "      <td>49.0</td>\n",
       "      <td>249.0</td>\n",
       "      <td>132.0</td>\n",
       "      <td>679.0</td>\n",
       "      <td>27.5263</td>\n",
       "      <td>0.1992</td>\n",
       "      <td>0.3085</td>\n",
       "    </tr>\n",
       "    <tr>\n",
       "      <th>0.3540</th>\n",
       "      <td>30.0</td>\n",
       "      <td>69.0</td>\n",
       "      <td>1743.0</td>\n",
       "      <td>624.0</td>\n",
       "      <td>1279.0</td>\n",
       "      <td>120.0</td>\n",
       "      <td>339.0</td>\n",
       "      <td>504.0</td>\n",
       "      <td>940.0</td>\n",
       "      <td>375.0</td>\n",
       "      <td>...</td>\n",
       "      <td>416.0</td>\n",
       "      <td>511.0</td>\n",
       "      <td>109.0</td>\n",
       "      <td>49.0</td>\n",
       "      <td>272.0</td>\n",
       "      <td>153.0</td>\n",
       "      <td>655.0</td>\n",
       "      <td>25.3333</td>\n",
       "      <td>0.2651</td>\n",
       "      <td>0.3540</td>\n",
       "    </tr>\n",
       "    <tr>\n",
       "      <th>0.3624</th>\n",
       "      <td>27.0</td>\n",
       "      <td>62.0</td>\n",
       "      <td>1683.0</td>\n",
       "      <td>621.0</td>\n",
       "      <td>1169.0</td>\n",
       "      <td>54.0</td>\n",
       "      <td>149.0</td>\n",
       "      <td>567.0</td>\n",
       "      <td>1020.0</td>\n",
       "      <td>387.0</td>\n",
       "      <td>...</td>\n",
       "      <td>492.0</td>\n",
       "      <td>387.0</td>\n",
       "      <td>115.0</td>\n",
       "      <td>50.0</td>\n",
       "      <td>213.0</td>\n",
       "      <td>115.0</td>\n",
       "      <td>548.0</td>\n",
       "      <td>29.8548</td>\n",
       "      <td>0.1275</td>\n",
       "      <td>0.3624</td>\n",
       "    </tr>\n",
       "    <tr>\n",
       "      <th>0.3626</th>\n",
       "      <td>32.0</td>\n",
       "      <td>74.0</td>\n",
       "      <td>1954.0</td>\n",
       "      <td>736.0</td>\n",
       "      <td>1344.0</td>\n",
       "      <td>124.0</td>\n",
       "      <td>342.0</td>\n",
       "      <td>612.0</td>\n",
       "      <td>1002.0</td>\n",
       "      <td>358.0</td>\n",
       "      <td>...</td>\n",
       "      <td>640.0</td>\n",
       "      <td>646.0</td>\n",
       "      <td>92.0</td>\n",
       "      <td>44.0</td>\n",
       "      <td>303.0</td>\n",
       "      <td>173.0</td>\n",
       "      <td>608.0</td>\n",
       "      <td>30.9730</td>\n",
       "      <td>0.2545</td>\n",
       "      <td>0.3626</td>\n",
       "    </tr>\n",
       "    <tr>\n",
       "      <th>0.3791</th>\n",
       "      <td>29.0</td>\n",
       "      <td>77.0</td>\n",
       "      <td>2089.0</td>\n",
       "      <td>767.0</td>\n",
       "      <td>1353.0</td>\n",
       "      <td>116.0</td>\n",
       "      <td>306.0</td>\n",
       "      <td>651.0</td>\n",
       "      <td>1047.0</td>\n",
       "      <td>439.0</td>\n",
       "      <td>...</td>\n",
       "      <td>533.0</td>\n",
       "      <td>488.0</td>\n",
       "      <td>121.0</td>\n",
       "      <td>26.0</td>\n",
       "      <td>270.0</td>\n",
       "      <td>146.0</td>\n",
       "      <td>586.0</td>\n",
       "      <td>29.2857</td>\n",
       "      <td>0.2262</td>\n",
       "      <td>0.3791</td>\n",
       "    </tr>\n",
       "    <tr>\n",
       "      <th>0.4055</th>\n",
       "      <td>28.0</td>\n",
       "      <td>76.0</td>\n",
       "      <td>2036.0</td>\n",
       "      <td>765.0</td>\n",
       "      <td>1354.0</td>\n",
       "      <td>103.0</td>\n",
       "      <td>254.0</td>\n",
       "      <td>662.0</td>\n",
       "      <td>1100.0</td>\n",
       "      <td>403.0</td>\n",
       "      <td>...</td>\n",
       "      <td>610.0</td>\n",
       "      <td>551.0</td>\n",
       "      <td>129.0</td>\n",
       "      <td>67.0</td>\n",
       "      <td>226.0</td>\n",
       "      <td>132.0</td>\n",
       "      <td>589.0</td>\n",
       "      <td>32.1842</td>\n",
       "      <td>0.1876</td>\n",
       "      <td>0.4055</td>\n",
       "    </tr>\n",
       "  </tbody>\n",
       "</table>\n",
       "<p>6 rows × 21 columns</p>\n",
       "</div>"
      ],
      "text/plain": [
       "         Age     G     PTS     FG     FGA     3P    3PA     2P     2PA     FT  \\\n",
       "3PM%                                                                            \n",
       "0.3085  31.0  76.0  1920.0  737.0  1416.0   87.0  282.0  650.0  1134.0  359.0   \n",
       "0.3540  30.0  69.0  1743.0  624.0  1279.0  120.0  339.0  504.0   940.0  375.0   \n",
       "0.3624  27.0  62.0  1683.0  621.0  1169.0   54.0  149.0  567.0  1020.0  387.0   \n",
       "0.3626  32.0  74.0  1954.0  736.0  1344.0  124.0  342.0  612.0  1002.0  358.0   \n",
       "0.3791  29.0  77.0  2089.0  767.0  1353.0  116.0  306.0  651.0  1047.0  439.0   \n",
       "0.4055  28.0  76.0  2036.0  765.0  1354.0  103.0  254.0  662.0  1100.0  403.0   \n",
       "\n",
       "         ...      TRB    AST    STL   BLK    TOV  Missed FT  Missed FG  \\\n",
       "3PM%     ...                                                             \n",
       "0.3085   ...    565.0  514.0  104.0  49.0  249.0      132.0      679.0   \n",
       "0.3540   ...    416.0  511.0  109.0  49.0  272.0      153.0      655.0   \n",
       "0.3624   ...    492.0  387.0  115.0  50.0  213.0      115.0      548.0   \n",
       "0.3626   ...    640.0  646.0   92.0  44.0  303.0      173.0      608.0   \n",
       "0.3791   ...    533.0  488.0  121.0  26.0  270.0      146.0      586.0   \n",
       "0.4055   ...    610.0  551.0  129.0  67.0  226.0      132.0      589.0   \n",
       "\n",
       "        Efficiency    3PA%    3PM%  \n",
       "3PM%                                \n",
       "0.3085     27.5263  0.1992  0.3085  \n",
       "0.3540     25.3333  0.2651  0.3540  \n",
       "0.3624     29.8548  0.1275  0.3624  \n",
       "0.3626     30.9730  0.2545  0.3626  \n",
       "0.3791     29.2857  0.2262  0.3791  \n",
       "0.4055     32.1842  0.1876  0.4055  \n",
       "\n",
       "[6 rows x 21 columns]"
      ]
     },
     "execution_count": 263,
     "metadata": {},
     "output_type": "execute_result"
    }
   ],
   "source": [
    "lj = lj.round(4)\n",
    "lj"
   ]
  },
  {
   "cell_type": "code",
   "execution_count": 264,
   "metadata": {},
   "outputs": [
    {
     "data": {
      "image/png": "[encoded data removed]",
      "text/plain": [
       "<matplotlib.figure.Figure at 0x1a0d397c50>"
      ]
     },
     "metadata": {},
     "output_type": "display_data"
    }
   ],
   "source": [
    "fig, ax = plt.subplots(figsize=(13,7))\n",
    "lj = lj.sort_values(by=\"3PA%\", ascending = True)\n",
    "lj.set_index(\"3PA%\", inplace = True)\n",
    "lj.index,lj[\"Efficiency\"].plot(kind = \"bar\", alpha = 1.0)\n",
    "ax.set_xlabel(\"3PA%\")\n",
    "ax.set_ylabel(\"Efficiency\")\n",
    "ax.set_ylim(10,35)\n",
    "fig.suptitle(\"LeBron James's Efficiency VS Percentage of 3 Point Attempts\",fontsize = 24, fontweight = \"bold\")\n",
    "plt.show()"
   ]
  },
  {
   "cell_type": "code",
   "execution_count": 265,
   "metadata": {},
   "outputs": [
    {
     "data": {
      "image/png": "[encoded data removed]",
      "text/plain": [
       "<matplotlib.figure.Figure at 0x1a0ebe6358>"
      ]
     },
     "metadata": {},
     "output_type": "display_data"
    }
   ],
   "source": [
    "fig, ax = plt.subplots(figsize=(13,7))\n",
    "lj = lj.sort_values(by=\"3PM%\", ascending = True)\n",
    "lj.set_index(\"3PM%\", inplace = True)\n",
    "lj.index,lj[\"Efficiency\"].plot(kind = \"bar\", alpha = 1.0)\n",
    "ax.set_xlabel(\"3PM%\")\n",
    "ax.set_ylabel(\"Efficiency\")\n",
    "ax.set_ylim(10,35)\n",
    "fig.suptitle(\"Lebron James's Efficiency VS Percentage of 3 Point Made\",fontsize = 24, fontweight = \"bold\")\n",
    "plt.show()"
   ]
  },
  {
   "cell_type": "code",
   "execution_count": 266,
   "metadata": {},
   "outputs": [],
   "source": [
    "jh[\"Missed FT\"] = jh[\"FTA\"] - jh[\"FT\"]\n",
    "jh[\"3PA%\"] = jh[\"3PA\"] / jh[\"FGA\"]\n",
    "jh[\"3PM%\"] = jh[\"3P\"] / jh[\"3PA\"]\n",
    "jh[\"Missed FG\"] = jh[\"FGA\"] - jh[\"FG\"]\n",
    "jh['Efficiency'] = (jh['PTS'] + jh[\"TRB\"] + jh[\"AST\"] + jh[\"STL\"] + jh['BLK'] - jh[\"Missed FG\"] - jh[\"Missed FT\"] - jh[\"TOV\"])/jh[\"G\"]\n",
    "jh = jh.round(4)"
   ]
  },
  {
   "cell_type": "code",
   "execution_count": 267,
   "metadata": {},
   "outputs": [
    {
     "data": {
      "text/html": [
       "<div>\n",
       "<style scoped>\n",
       "    .dataframe tbody tr th:only-of-type {\n",
       "        vertical-align: middle;\n",
       "    }\n",
       "\n",
       "    .dataframe tbody tr th {\n",
       "        vertical-align: top;\n",
       "    }\n",
       "\n",
       "    .dataframe thead th {\n",
       "        text-align: right;\n",
       "    }\n",
       "</style>\n",
       "<table border=\"1\" class=\"dataframe\">\n",
       "  <thead>\n",
       "    <tr style=\"text-align: right;\">\n",
       "      <th></th>\n",
       "      <th>Age</th>\n",
       "      <th>G</th>\n",
       "      <th>PTS</th>\n",
       "      <th>FG</th>\n",
       "      <th>FGA</th>\n",
       "      <th>3P</th>\n",
       "      <th>3PA</th>\n",
       "      <th>2P</th>\n",
       "      <th>2PA</th>\n",
       "      <th>FT</th>\n",
       "      <th>...</th>\n",
       "      <th>TRB</th>\n",
       "      <th>AST</th>\n",
       "      <th>STL</th>\n",
       "      <th>BLK</th>\n",
       "      <th>TOV</th>\n",
       "      <th>Missed FT</th>\n",
       "      <th>Missed FG</th>\n",
       "      <th>Efficiency</th>\n",
       "      <th>3PA%</th>\n",
       "      <th>3PM%</th>\n",
       "    </tr>\n",
       "    <tr>\n",
       "      <th>3PM%</th>\n",
       "      <th></th>\n",
       "      <th></th>\n",
       "      <th></th>\n",
       "      <th></th>\n",
       "      <th></th>\n",
       "      <th></th>\n",
       "      <th></th>\n",
       "      <th></th>\n",
       "      <th></th>\n",
       "      <th></th>\n",
       "      <th></th>\n",
       "      <th></th>\n",
       "      <th></th>\n",
       "      <th></th>\n",
       "      <th></th>\n",
       "      <th></th>\n",
       "      <th></th>\n",
       "      <th></th>\n",
       "      <th></th>\n",
       "      <th></th>\n",
       "      <th></th>\n",
       "    </tr>\n",
       "  </thead>\n",
       "  <tbody>\n",
       "    <tr>\n",
       "      <th>0.3466</th>\n",
       "      <td>27.0</td>\n",
       "      <td>81.0</td>\n",
       "      <td>2356.0</td>\n",
       "      <td>674.0</td>\n",
       "      <td>1533.0</td>\n",
       "      <td>262.0</td>\n",
       "      <td>756.0</td>\n",
       "      <td>412.0</td>\n",
       "      <td>777.0</td>\n",
       "      <td>746.0</td>\n",
       "      <td>...</td>\n",
       "      <td>659.0</td>\n",
       "      <td>906.0</td>\n",
       "      <td>120.0</td>\n",
       "      <td>37.0</td>\n",
       "      <td>464.0</td>\n",
       "      <td>135.0</td>\n",
       "      <td>859.0</td>\n",
       "      <td>32.3457</td>\n",
       "      <td>0.4932</td>\n",
       "      <td>0.3466</td>\n",
       "    </tr>\n",
       "    <tr>\n",
       "      <th>0.3592</th>\n",
       "      <td>26.0</td>\n",
       "      <td>82.0</td>\n",
       "      <td>2376.0</td>\n",
       "      <td>710.0</td>\n",
       "      <td>1617.0</td>\n",
       "      <td>236.0</td>\n",
       "      <td>657.0</td>\n",
       "      <td>474.0</td>\n",
       "      <td>960.0</td>\n",
       "      <td>720.0</td>\n",
       "      <td>...</td>\n",
       "      <td>501.0</td>\n",
       "      <td>612.0</td>\n",
       "      <td>139.0</td>\n",
       "      <td>51.0</td>\n",
       "      <td>374.0</td>\n",
       "      <td>117.0</td>\n",
       "      <td>907.0</td>\n",
       "      <td>27.8171</td>\n",
       "      <td>0.4063</td>\n",
       "      <td>0.3592</td>\n",
       "    </tr>\n",
       "    <tr>\n",
       "      <th>0.3665</th>\n",
       "      <td>24.0</td>\n",
       "      <td>73.0</td>\n",
       "      <td>1851.0</td>\n",
       "      <td>549.0</td>\n",
       "      <td>1205.0</td>\n",
       "      <td>177.0</td>\n",
       "      <td>483.0</td>\n",
       "      <td>372.0</td>\n",
       "      <td>722.0</td>\n",
       "      <td>576.0</td>\n",
       "      <td>...</td>\n",
       "      <td>344.0</td>\n",
       "      <td>446.0</td>\n",
       "      <td>115.0</td>\n",
       "      <td>29.0</td>\n",
       "      <td>265.0</td>\n",
       "      <td>89.0</td>\n",
       "      <td>656.0</td>\n",
       "      <td>24.3151</td>\n",
       "      <td>0.4008</td>\n",
       "      <td>0.3665</td>\n",
       "    </tr>\n",
       "    <tr>\n",
       "      <th>0.3683</th>\n",
       "      <td>23.0</td>\n",
       "      <td>78.0</td>\n",
       "      <td>2023.0</td>\n",
       "      <td>585.0</td>\n",
       "      <td>1337.0</td>\n",
       "      <td>179.0</td>\n",
       "      <td>486.0</td>\n",
       "      <td>406.0</td>\n",
       "      <td>851.0</td>\n",
       "      <td>674.0</td>\n",
       "      <td>...</td>\n",
       "      <td>379.0</td>\n",
       "      <td>455.0</td>\n",
       "      <td>142.0</td>\n",
       "      <td>38.0</td>\n",
       "      <td>295.0</td>\n",
       "      <td>118.0</td>\n",
       "      <td>752.0</td>\n",
       "      <td>24.0000</td>\n",
       "      <td>0.3635</td>\n",
       "      <td>0.3683</td>\n",
       "    </tr>\n",
       "    <tr>\n",
       "      <th>0.3748</th>\n",
       "      <td>25.0</td>\n",
       "      <td>81.0</td>\n",
       "      <td>2217.0</td>\n",
       "      <td>647.0</td>\n",
       "      <td>1470.0</td>\n",
       "      <td>208.0</td>\n",
       "      <td>555.0</td>\n",
       "      <td>439.0</td>\n",
       "      <td>915.0</td>\n",
       "      <td>715.0</td>\n",
       "      <td>...</td>\n",
       "      <td>459.0</td>\n",
       "      <td>565.0</td>\n",
       "      <td>154.0</td>\n",
       "      <td>60.0</td>\n",
       "      <td>321.0</td>\n",
       "      <td>109.0</td>\n",
       "      <td>823.0</td>\n",
       "      <td>27.1852</td>\n",
       "      <td>0.3776</td>\n",
       "      <td>0.3748</td>\n",
       "    </tr>\n",
       "    <tr>\n",
       "      <th>0.3904</th>\n",
       "      <td>22.0</td>\n",
       "      <td>62.0</td>\n",
       "      <td>1044.0</td>\n",
       "      <td>309.0</td>\n",
       "      <td>629.0</td>\n",
       "      <td>114.0</td>\n",
       "      <td>292.0</td>\n",
       "      <td>195.0</td>\n",
       "      <td>337.0</td>\n",
       "      <td>312.0</td>\n",
       "      <td>...</td>\n",
       "      <td>252.0</td>\n",
       "      <td>229.0</td>\n",
       "      <td>62.0</td>\n",
       "      <td>15.0</td>\n",
       "      <td>137.0</td>\n",
       "      <td>57.0</td>\n",
       "      <td>320.0</td>\n",
       "      <td>17.5484</td>\n",
       "      <td>0.4642</td>\n",
       "      <td>0.3904</td>\n",
       "    </tr>\n",
       "  </tbody>\n",
       "</table>\n",
       "<p>6 rows × 21 columns</p>\n",
       "</div>"
      ],
      "text/plain": [
       "         Age     G     PTS     FG     FGA     3P    3PA     2P    2PA     FT  \\\n",
       "3PM%                                                                           \n",
       "0.3466  27.0  81.0  2356.0  674.0  1533.0  262.0  756.0  412.0  777.0  746.0   \n",
       "0.3592  26.0  82.0  2376.0  710.0  1617.0  236.0  657.0  474.0  960.0  720.0   \n",
       "0.3665  24.0  73.0  1851.0  549.0  1205.0  177.0  483.0  372.0  722.0  576.0   \n",
       "0.3683  23.0  78.0  2023.0  585.0  1337.0  179.0  486.0  406.0  851.0  674.0   \n",
       "0.3748  25.0  81.0  2217.0  647.0  1470.0  208.0  555.0  439.0  915.0  715.0   \n",
       "0.3904  22.0  62.0  1044.0  309.0   629.0  114.0  292.0  195.0  337.0  312.0   \n",
       "\n",
       "         ...      TRB    AST    STL   BLK    TOV  Missed FT  Missed FG  \\\n",
       "3PM%     ...                                                             \n",
       "0.3466   ...    659.0  906.0  120.0  37.0  464.0      135.0      859.0   \n",
       "0.3592   ...    501.0  612.0  139.0  51.0  374.0      117.0      907.0   \n",
       "0.3665   ...    344.0  446.0  115.0  29.0  265.0       89.0      656.0   \n",
       "0.3683   ...    379.0  455.0  142.0  38.0  295.0      118.0      752.0   \n",
       "0.3748   ...    459.0  565.0  154.0  60.0  321.0      109.0      823.0   \n",
       "0.3904   ...    252.0  229.0   62.0  15.0  137.0       57.0      320.0   \n",
       "\n",
       "        Efficiency    3PA%    3PM%  \n",
       "3PM%                                \n",
       "0.3466     32.3457  0.4932  0.3466  \n",
       "0.3592     27.8171  0.4063  0.3592  \n",
       "0.3665     24.3151  0.4008  0.3665  \n",
       "0.3683     24.0000  0.3635  0.3683  \n",
       "0.3748     27.1852  0.3776  0.3748  \n",
       "0.3904     17.5484  0.4642  0.3904  \n",
       "\n",
       "[6 rows x 21 columns]"
      ]
     },
     "execution_count": 267,
     "metadata": {},
     "output_type": "execute_result"
    }
   ],
   "source": [
    "jh"
   ]
  },
  {
   "cell_type": "code",
   "execution_count": 268,
   "metadata": {},
   "outputs": [
    {
     "data": {
      "image/png": "[encoded data removed]",
      "text/plain": [
       "<matplotlib.figure.Figure at 0x1a0accbf60>"
      ]
     },
     "metadata": {},
     "output_type": "display_data"
    }
   ],
   "source": [
    "fig, ax = plt.subplots(figsize=(13,7))\n",
    "jh = jh.sort_values(by=\"3PA%\", ascending = True)\n",
    "jh.set_index(\"3PA%\", inplace = True)\n",
    "jh.index,jh[\"Efficiency\"].plot(kind = \"bar\", alpha = 1.0)\n",
    "ax.set_xlabel(\"3PA%\")\n",
    "ax.set_ylabel(\"Efficiency\")\n",
    "ax.set_ylim(10,35)\n",
    "fig.suptitle(\"James Harden's Efficiency VS Percentage of 3 Point Attempts\",fontsize = 24, fontweight = \"bold\")\n",
    "plt.show()"
   ]
  },
  {
   "cell_type": "code",
   "execution_count": 269,
   "metadata": {},
   "outputs": [
    {
     "data": {
      "image/png": "[encoded data removed]",
      "text/plain": [
       "<matplotlib.figure.Figure at 0x1a09e564e0>"
      ]
     },
     "metadata": {},
     "output_type": "display_data"
    }
   ],
   "source": [
    "fig, ax = plt.subplots(figsize=(13,7))\n",
    "jh = jh.sort_values(by=\"3PM%\", ascending = True)\n",
    "jh.set_index(\"3PM%\", inplace = True)\n",
    "jh.index,jh[\"Efficiency\"].plot(kind = \"bar\", alpha = 1.0)\n",
    "ax.set_xlabel(\"3PM%\")\n",
    "ax.set_ylabel(\"Efficiency\")\n",
    "ax.set_ylim(10,35)\n",
    "fig.suptitle(\"James Harden's Efficiency VS Percentage of 3 Point Made\",fontsize = 24, fontweight = \"bold\")\n",
    "plt.show()"
   ]
  },
  {
   "cell_type": "code",
   "execution_count": 270,
   "metadata": {},
   "outputs": [],
   "source": [
    "kd[\"Missed FT\"] = kd[\"FTA\"] - kd[\"FT\"]\n",
    "kd[\"3PA%\"] = kd[\"3PA\"] / kd[\"FGA\"]\n",
    "kd[\"3PM%\"] = kd[\"3P\"] / kd[\"3PA\"]\n",
    "kd[\"Missed FG\"] = kd[\"FGA\"] - kd[\"FG\"]\n",
    "kd['Efficiency'] = (kd['PTS'] + kd[\"TRB\"] + kd[\"AST\"] + kd[\"STL\"] + kd['BLK'] - kd[\"Missed FG\"] - kd[\"Missed FT\"] - kd[\"TOV\"])/kd[\"G\"]\n",
    "kd = kd.round(4)"
   ]
  },
  {
   "cell_type": "code",
   "execution_count": 271,
   "metadata": {},
   "outputs": [
    {
     "data": {
      "text/html": [
       "<div>\n",
       "<style scoped>\n",
       "    .dataframe tbody tr th:only-of-type {\n",
       "        vertical-align: middle;\n",
       "    }\n",
       "\n",
       "    .dataframe tbody tr th {\n",
       "        vertical-align: top;\n",
       "    }\n",
       "\n",
       "    .dataframe thead th {\n",
       "        text-align: right;\n",
       "    }\n",
       "</style>\n",
       "<table border=\"1\" class=\"dataframe\">\n",
       "  <thead>\n",
       "    <tr style=\"text-align: right;\">\n",
       "      <th></th>\n",
       "      <th>Age</th>\n",
       "      <th>G</th>\n",
       "      <th>PTS</th>\n",
       "      <th>FG</th>\n",
       "      <th>FGA</th>\n",
       "      <th>3P</th>\n",
       "      <th>3PA</th>\n",
       "      <th>2P</th>\n",
       "      <th>2PA</th>\n",
       "      <th>FT</th>\n",
       "      <th>...</th>\n",
       "      <th>TRB</th>\n",
       "      <th>AST</th>\n",
       "      <th>STL</th>\n",
       "      <th>BLK</th>\n",
       "      <th>TOV</th>\n",
       "      <th>Missed FT</th>\n",
       "      <th>Missed FG</th>\n",
       "      <th>Efficiency</th>\n",
       "      <th>3PA%</th>\n",
       "      <th>3PM%</th>\n",
       "    </tr>\n",
       "    <tr>\n",
       "      <th>3PM%</th>\n",
       "      <th></th>\n",
       "      <th></th>\n",
       "      <th></th>\n",
       "      <th></th>\n",
       "      <th></th>\n",
       "      <th></th>\n",
       "      <th></th>\n",
       "      <th></th>\n",
       "      <th></th>\n",
       "      <th></th>\n",
       "      <th></th>\n",
       "      <th></th>\n",
       "      <th></th>\n",
       "      <th></th>\n",
       "      <th></th>\n",
       "      <th></th>\n",
       "      <th></th>\n",
       "      <th></th>\n",
       "      <th></th>\n",
       "      <th></th>\n",
       "      <th></th>\n",
       "    </tr>\n",
       "  </thead>\n",
       "  <tbody>\n",
       "    <tr>\n",
       "      <th>0.3750</th>\n",
       "      <td>28.0</td>\n",
       "      <td>62.0</td>\n",
       "      <td>1555.0</td>\n",
       "      <td>551.0</td>\n",
       "      <td>1026.0</td>\n",
       "      <td>117.0</td>\n",
       "      <td>312.0</td>\n",
       "      <td>434.0</td>\n",
       "      <td>714.0</td>\n",
       "      <td>336.0</td>\n",
       "      <td>...</td>\n",
       "      <td>513.0</td>\n",
       "      <td>300.0</td>\n",
       "      <td>66.0</td>\n",
       "      <td>99.0</td>\n",
       "      <td>138.0</td>\n",
       "      <td>48.0</td>\n",
       "      <td>475.0</td>\n",
       "      <td>30.1935</td>\n",
       "      <td>0.3041</td>\n",
       "      <td>0.3750</td>\n",
       "    </tr>\n",
       "    <tr>\n",
       "      <th>0.3866</th>\n",
       "      <td>23.0</td>\n",
       "      <td>66.0</td>\n",
       "      <td>1850.0</td>\n",
       "      <td>643.0</td>\n",
       "      <td>1297.0</td>\n",
       "      <td>133.0</td>\n",
       "      <td>344.0</td>\n",
       "      <td>510.0</td>\n",
       "      <td>953.0</td>\n",
       "      <td>431.0</td>\n",
       "      <td>...</td>\n",
       "      <td>527.0</td>\n",
       "      <td>231.0</td>\n",
       "      <td>88.0</td>\n",
       "      <td>77.0</td>\n",
       "      <td>248.0</td>\n",
       "      <td>70.0</td>\n",
       "      <td>654.0</td>\n",
       "      <td>27.2879</td>\n",
       "      <td>0.2652</td>\n",
       "      <td>0.3866</td>\n",
       "    </tr>\n",
       "    <tr>\n",
       "      <th>0.3867</th>\n",
       "      <td>27.0</td>\n",
       "      <td>72.0</td>\n",
       "      <td>2029.0</td>\n",
       "      <td>698.0</td>\n",
       "      <td>1381.0</td>\n",
       "      <td>186.0</td>\n",
       "      <td>481.0</td>\n",
       "      <td>512.0</td>\n",
       "      <td>900.0</td>\n",
       "      <td>447.0</td>\n",
       "      <td>...</td>\n",
       "      <td>589.0</td>\n",
       "      <td>361.0</td>\n",
       "      <td>69.0</td>\n",
       "      <td>85.0</td>\n",
       "      <td>250.0</td>\n",
       "      <td>51.0</td>\n",
       "      <td>683.0</td>\n",
       "      <td>29.8472</td>\n",
       "      <td>0.3483</td>\n",
       "      <td>0.3867</td>\n",
       "    </tr>\n",
       "    <tr>\n",
       "      <th>0.3910</th>\n",
       "      <td>25.0</td>\n",
       "      <td>81.0</td>\n",
       "      <td>2593.0</td>\n",
       "      <td>849.0</td>\n",
       "      <td>1688.0</td>\n",
       "      <td>192.0</td>\n",
       "      <td>491.0</td>\n",
       "      <td>657.0</td>\n",
       "      <td>1197.0</td>\n",
       "      <td>703.0</td>\n",
       "      <td>...</td>\n",
       "      <td>598.0</td>\n",
       "      <td>445.0</td>\n",
       "      <td>103.0</td>\n",
       "      <td>59.0</td>\n",
       "      <td>285.0</td>\n",
       "      <td>102.0</td>\n",
       "      <td>839.0</td>\n",
       "      <td>31.7531</td>\n",
       "      <td>0.2909</td>\n",
       "      <td>0.3910</td>\n",
       "    </tr>\n",
       "    <tr>\n",
       "      <th>0.4025</th>\n",
       "      <td>26.0</td>\n",
       "      <td>27.0</td>\n",
       "      <td>686.0</td>\n",
       "      <td>238.0</td>\n",
       "      <td>467.0</td>\n",
       "      <td>64.0</td>\n",
       "      <td>159.0</td>\n",
       "      <td>174.0</td>\n",
       "      <td>308.0</td>\n",
       "      <td>146.0</td>\n",
       "      <td>...</td>\n",
       "      <td>178.0</td>\n",
       "      <td>110.0</td>\n",
       "      <td>24.0</td>\n",
       "      <td>25.0</td>\n",
       "      <td>74.0</td>\n",
       "      <td>25.0</td>\n",
       "      <td>229.0</td>\n",
       "      <td>25.7407</td>\n",
       "      <td>0.3405</td>\n",
       "      <td>0.4025</td>\n",
       "    </tr>\n",
       "    <tr>\n",
       "      <th>0.4162</th>\n",
       "      <td>24.0</td>\n",
       "      <td>81.0</td>\n",
       "      <td>2280.0</td>\n",
       "      <td>731.0</td>\n",
       "      <td>1433.0</td>\n",
       "      <td>139.0</td>\n",
       "      <td>334.0</td>\n",
       "      <td>592.0</td>\n",
       "      <td>1099.0</td>\n",
       "      <td>679.0</td>\n",
       "      <td>...</td>\n",
       "      <td>640.0</td>\n",
       "      <td>374.0</td>\n",
       "      <td>116.0</td>\n",
       "      <td>105.0</td>\n",
       "      <td>280.0</td>\n",
       "      <td>71.0</td>\n",
       "      <td>702.0</td>\n",
       "      <td>30.3951</td>\n",
       "      <td>0.2331</td>\n",
       "      <td>0.4162</td>\n",
       "    </tr>\n",
       "  </tbody>\n",
       "</table>\n",
       "<p>6 rows × 21 columns</p>\n",
       "</div>"
      ],
      "text/plain": [
       "         Age     G     PTS     FG     FGA     3P    3PA     2P     2PA     FT  \\\n",
       "3PM%                                                                            \n",
       "0.3750  28.0  62.0  1555.0  551.0  1026.0  117.0  312.0  434.0   714.0  336.0   \n",
       "0.3866  23.0  66.0  1850.0  643.0  1297.0  133.0  344.0  510.0   953.0  431.0   \n",
       "0.3867  27.0  72.0  2029.0  698.0  1381.0  186.0  481.0  512.0   900.0  447.0   \n",
       "0.3910  25.0  81.0  2593.0  849.0  1688.0  192.0  491.0  657.0  1197.0  703.0   \n",
       "0.4025  26.0  27.0   686.0  238.0   467.0   64.0  159.0  174.0   308.0  146.0   \n",
       "0.4162  24.0  81.0  2280.0  731.0  1433.0  139.0  334.0  592.0  1099.0  679.0   \n",
       "\n",
       "         ...      TRB    AST    STL    BLK    TOV  Missed FT  Missed FG  \\\n",
       "3PM%     ...                                                              \n",
       "0.3750   ...    513.0  300.0   66.0   99.0  138.0       48.0      475.0   \n",
       "0.3866   ...    527.0  231.0   88.0   77.0  248.0       70.0      654.0   \n",
       "0.3867   ...    589.0  361.0   69.0   85.0  250.0       51.0      683.0   \n",
       "0.3910   ...    598.0  445.0  103.0   59.0  285.0      102.0      839.0   \n",
       "0.4025   ...    178.0  110.0   24.0   25.0   74.0       25.0      229.0   \n",
       "0.4162   ...    640.0  374.0  116.0  105.0  280.0       71.0      702.0   \n",
       "\n",
       "        Efficiency    3PA%    3PM%  \n",
       "3PM%                                \n",
       "0.3750     30.1935  0.3041  0.3750  \n",
       "0.3866     27.2879  0.2652  0.3866  \n",
       "0.3867     29.8472  0.3483  0.3867  \n",
       "0.3910     31.7531  0.2909  0.3910  \n",
       "0.4025     25.7407  0.3405  0.4025  \n",
       "0.4162     30.3951  0.2331  0.4162  \n",
       "\n",
       "[6 rows x 21 columns]"
      ]
     },
     "execution_count": 271,
     "metadata": {},
     "output_type": "execute_result"
    }
   ],
   "source": [
    "kd"
   ]
  },
  {
   "cell_type": "code",
   "execution_count": 273,
   "metadata": {},
   "outputs": [
    {
     "data": {
      "image/png": "[encoded data removed]",
      "text/plain": [
       "<matplotlib.figure.Figure at 0x1a0b786cc0>"
      ]
     },
     "metadata": {},
     "output_type": "display_data"
    }
   ],
   "source": [
    "fig, ax = plt.subplots(figsize=(13,7))\n",
    "kd = kd.sort_values(by=\"3PA%\", ascending = True)\n",
    "kd.set_index(\"3PA%\", inplace = True)\n",
    "kd.index, kd[\"Efficiency\"].plot(kind = \"bar\", alpha = 1.0)\n",
    "ax.set_xlabel(\"3PA%\")\n",
    "ax.set_ylabel(\"Efficiency\")\n",
    "ax.set_ylim(10,35)\n",
    "fig.suptitle(\"Kevin Durant's Efficiency VS Percentage of 3 Point Attempts\",fontsize = 24, fontweight = \"bold\")\n",
    "plt.show()"
   ]
  },
  {
   "cell_type": "code",
   "execution_count": 274,
   "metadata": {},
   "outputs": [
    {
     "data": {
      "image/png": "[encoded data removed]",
      "text/plain": [
       "<matplotlib.figure.Figure at 0x1a0dde0cc0>"
      ]
     },
     "metadata": {},
     "output_type": "display_data"
    }
   ],
   "source": [
    "fig, ax = plt.subplots(figsize=(13,7))\n",
    "kd = kd.sort_values(by=\"3PM%\", ascending = True)\n",
    "kd.set_index(\"3PM%\", inplace = True)\n",
    "kd.index,kd[\"Efficiency\"].plot(kind = \"bar\", alpha = 1.0)\n",
    "ax.set_xlabel(\"3PM%\")\n",
    "ax.set_ylabel(\"Efficiency\")\n",
    "ax.set_ylim(10,35)\n",
    "fig.suptitle(\"Kevin Durant's Efficiency VS Percentage of 3 Point Made\",fontsize = 24, fontweight = \"bold\")\n",
    "plt.show()"
   ]
  },
  {
   "cell_type": "markdown",
   "metadata": {},
   "source": [
    "Both Stephen Curry and James Harden saw their peak efficiency when they attempted the most 3 pointers, but for LeBron James his peak efficiency was when he made the highest percentage of three pointers. Kevin Durant's efficiency was all over the place, and it seemed that the three pointer had absolutely nothing to do with how efficient he was. For players like Stephen Curry and James Harden the reason why their efficiency is highest when attempting the most threes is because that's what their game relies on. They are both known in the league for being two of the best, if not the two best shooters. Whereas LeBron James is known for being an athletic monster, it is important for him to just be consistent and make the threes that he shoots, and to stick to his game, just like Kevin Durant. This is why we don't see the same high efficiency at the same high 3 points attempted. All this data shows that players who are used to shooting the three should keep shooting the three, and players who don't shoot the three shouldn't deviate from their current style of play, and instead stick to what they know and keep playing the game the way they have been."
   ]
  },
  {
   "cell_type": "markdown",
   "metadata": {},
   "source": [
    "## Conclusion"
   ]
  },
  {
   "cell_type": "markdown",
   "metadata": {},
   "source": [
    "It's hard to say how likely a team can win just based on stats, and much more goes into basketball than statistics. There are many factors that cannot be described with statistics. Despite the notion that many people right now think that the three point line is making the game unfair, or that the three point line should be even further, most of the data points to the fact that the three point line hasn't been changing how much a team has been winning. Instead the three point line has allowed for players that aren't known for their athleticism to shine in another way, and players who are athletic can and should stick to playing through their athleticism because that's what allows them to be the most efficient, and brings the win to their team most often. After looking through all this data, it is important for players and teams to stay true to their identity and realize that every player and every team has certain parts of the game that they are good at, and instead of trying to adapt to the cool new thing to stick to what they know and excel at it."
   ]
  },
  {
   "cell_type": "code",
   "execution_count": null,
   "metadata": {
    "collapsed": true
   },
   "outputs": [],
   "source": []
  }
 ],
 "metadata": {
  "kernelspec": {
   "display_name": "Python 3",
   "language": "python",
   "name": "python3"
  },
  "language_info": {
   "codemirror_mode": {
    "name": "ipython",
    "version": 3
   },
   "file_extension": ".py",
   "mimetype": "text/x-python",
   "name": "python",
   "nbconvert_exporter": "python",
   "pygments_lexer": "ipython3",
   "version": "3.6.3"
  }
 },
 "nbformat": 4,
 "nbformat_minor": 2
}
